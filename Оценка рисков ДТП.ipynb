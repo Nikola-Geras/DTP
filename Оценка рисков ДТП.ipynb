{
 "cells": [
  {
   "cell_type": "markdown",
   "id": "810069d3",
   "metadata": {},
   "source": [
    "- Заказчик: Каршеринговая компания.\n",
    "    \n",
    "- Постановка задачи: Разработать систему, которая может оценить риск ДТП по выбранному маршруту движения для водителей, которые арендуют автомобили.\n",
    "    \n",
    "- Описание задачи:  Система должна предсказывать вероятность возникновения ДТП с любым повреждением транспортного средства. При выборе маршрута и совершении бронирования автомобиля, водителю будет предоставляться оценка уровня риска. В случае высокого уровня риска, водитель получит предупреждение и рекомендации по выбору безопасного маршрута.\n",
    "    \n",
    "- Оценка результата: Качество системы будет оцениваться на основе точности предсказаний.\n",
    "    \n",
    "- Описание данных: Исторические данные, предоставленные заказчиком, включают информацию о маршрутах движения, участниках ДТП, условиях происшествия, состоянии дороги и факте о виновности водителя в происшествии. "
   ]
  },
  {
   "cell_type": "markdown",
   "id": "7ace4c4d",
   "metadata": {},
   "source": [
    "# Загрузка библиотек"
   ]
  },
  {
   "cell_type": "code",
   "execution_count": 1,
   "id": "b6148ac2",
   "metadata": {},
   "outputs": [],
   "source": [
    "%%capture\n",
    "\n",
    "!pip install phik\n",
    "!pip install optuna\n",
    "import phik\n",
    "from phik import phik_matrix\n",
    "!pip install optuna\n",
    "from phik.report import plot_correlation_matrix\n",
    "from phik import report\n",
    "!pip install optuna\n",
    "!pip install skorch\n",
    "!pip install shap\n",
    "!pip install category_encoders\n",
    "\n",
    "import pandas as pd\n",
    "import numpy as np\n",
    "import matplotlib.pyplot as plt\n",
    "import seaborn as sns\n",
    "\n",
    "import phik\n",
    "import psycopg2\n",
    "import sqlalchemy\n",
    "from sqlalchemy import create_engine\n",
    "\n",
    "from sklearn.model_selection import train_test_split\n",
    "from sklearn.compose import ColumnTransformer, make_column_transformer\n",
    "from sklearn.preprocessing import StandardScaler, OneHotEncoder\n",
    "from category_encoders import OrdinalEncoder\n",
    "from sklearn.metrics import classification_report\n",
    "\n",
    "from sklearn.ensemble import RandomForestClassifier\n",
    "from sklearn.linear_model import LogisticRegression\n",
    "from sklearn.pipeline import Pipeline\n",
    "from sklearn.model_selection import GridSearchCV, StratifiedKFold\n",
    "from sklearn.compose import make_column_transformer\n",
    "from sklearn.impute import SimpleImputer\n",
    "from sklearn.compose import make_column_selector\n",
    "from sklearn.pipeline import make_pipeline\n",
    "\n",
    "from catboost import CatBoostClassifier, Pool, cv\n",
    "from sklearn.model_selection import cross_validate\n",
    "from sklearn.metrics import make_scorer, accuracy_score, precision_score, recall_score\n",
    "import optuna\n",
    "from sklearn.model_selection import KFold\n",
    "\n",
    "import torch\n",
    "import torch.nn as nn\n",
    "import torch.optim as optim\n",
    "from torch.utils.data import Dataset\n",
    "from torch.utils.data import DataLoader\n",
    "from skorch.classifier import NeuralNetClassifier\n",
    "from skorch.dataset import ValidSplit\n",
    "from skorch.callbacks import EpochScoring, EarlyStopping\n",
    "from sklearn.model_selection import cross_val_score\n",
    "\n",
    "import shap\n",
    "from sklearn.metrics import confusion_matrix\n",
    "\n",
    "# константы\n",
    "RANDOM_SEED = 42\n",
    "SPLITS = 4\n",
    "\n",
    "# настройки блокнота\n",
    "torch.manual_seed(RANDOM_SEED)\n",
    "np.random.seed(RANDOM_SEED)"
   ]
  },
  {
   "cell_type": "markdown",
   "id": "4e19f383",
   "metadata": {
    "ExecuteTime": {
     "end_time": "2022-05-05T04:58:05.692448Z",
     "start_time": "2022-05-05T04:58:05.688565Z"
    }
   },
   "source": [
    "## Подключение к базе. Загрузка таблицы sql"
   ]
  },
  {
   "cell_type": "code",
   "execution_count": 2,
   "id": "3f849e74",
   "metadata": {},
   "outputs": [],
   "source": [
    "db_config = {\n",
    "'user': 'praktikum_student',\n",
    "'pwd': 'Sdf4$2;d-d30pp',\n",
    "'host': 'rc1b-wcoijxj3yxfsf3fs.mdb.yandexcloud.net',\n",
    "'port': 6432, \n",
    "'db': 'data-science-vehicle-db'\n",
    "}\n",
    "\n",
    "# создание подключения к базе данных\n",
    "connection = psycopg2.connect(\n",
    "    user=db_config['user'],\n",
    "    password=db_config['pwd'],\n",
    "    host=db_config['host'],\n",
    "    port=db_config['port'],\n",
    "    database=db_config['db']\n",
    ")\n",
    "\n",
    "# создаем курсора для выполнения запросов\n",
    "cursor = connection.cursor()"
   ]
  },
  {
   "cell_type": "markdown",
   "id": "3043d2c1",
   "metadata": {},
   "source": [
    "## функция для выполнения запросов"
   ]
  },
  {
   "cell_type": "code",
   "execution_count": 3,
   "id": "e9e5ccb8",
   "metadata": {},
   "outputs": [],
   "source": [
    "# функция для выполнения запросов\n",
    "def request(query):\n",
    "    try:\n",
    "        cursor.execute(query)\n",
    "        result = cursor.fetchall()\n",
    "        result_df = pd.DataFrame(result, columns=[desc[0] for desc in cursor.description])\n",
    "        return result_df\n",
    "    except Exception as e:\n",
    "        print(f'Error: {e}')\n",
    "        connection.rollback()  # откат транзакции, для избежания блокировки"
   ]
  },
  {
   "cell_type": "code",
   "execution_count": 4,
   "id": "b6c3419d",
   "metadata": {},
   "outputs": [
    {
     "data": {
      "text/html": [
       "<div>\n",
       "<style scoped>\n",
       "    .dataframe tbody tr th:only-of-type {\n",
       "        vertical-align: middle;\n",
       "    }\n",
       "\n",
       "    .dataframe tbody tr th {\n",
       "        vertical-align: top;\n",
       "    }\n",
       "\n",
       "    .dataframe thead th {\n",
       "        text-align: right;\n",
       "    }\n",
       "</style>\n",
       "<table border=\"1\" class=\"dataframe\">\n",
       "  <thead>\n",
       "    <tr style=\"text-align: right;\">\n",
       "      <th></th>\n",
       "      <th>case_id</th>\n",
       "      <th>county_city_location</th>\n",
       "      <th>county_location</th>\n",
       "      <th>distance</th>\n",
       "      <th>direction</th>\n",
       "    </tr>\n",
       "  </thead>\n",
       "  <tbody>\n",
       "    <tr>\n",
       "      <th>0</th>\n",
       "      <td>4083072</td>\n",
       "      <td>1942</td>\n",
       "      <td>los angeles</td>\n",
       "      <td>528.0</td>\n",
       "      <td>north</td>\n",
       "    </tr>\n",
       "  </tbody>\n",
       "</table>\n",
       "</div>"
      ],
      "text/plain": [
       "   case_id county_city_location county_location  distance direction\n",
       "0  4083072                 1942     los angeles     528.0     north"
      ]
     },
     "metadata": {},
     "output_type": "display_data"
    }
   ],
   "source": [
    "# тестовый запрос\n",
    "query = '''\n",
    "SELECT case_id, county_city_location, county_location, distance, direction\n",
    "FROM collisions\n",
    "LIMIT 1;\n",
    "'''\n",
    "display(request(query))"
   ]
  },
  {
   "cell_type": "markdown",
   "id": "a9eed7aa",
   "metadata": {},
   "source": [
    "- Подключение к базе данных успешно установлено.\n",
    "- Функция для выполнения запросов работает корректно.\n",
    "    "
   ]
  },
  {
   "cell_type": "markdown",
   "id": "c9c8bd60",
   "metadata": {},
   "source": [
    "## Проведите первичное исследование таблиц"
   ]
  },
  {
   "cell_type": "markdown",
   "id": "7afd6ecf",
   "metadata": {},
   "source": [
    "- Проверим все ли таблицы имеют набор данных;\n",
    "- Посмотрим количество таблиц;\n",
    "- Имеется ли общий ключ для связи таблиц."
   ]
  },
  {
   "cell_type": "code",
   "execution_count": 5,
   "id": "833abfda",
   "metadata": {},
   "outputs": [],
   "source": [
    "# создание engine для подключения к базе данных\n",
    "engine = sqlalchemy.create_engine(\n",
    "    f\"postgresql://{db_config['user']}:{db_config['pwd']}@{db_config['host']}:{db_config['port']}/{db_config['db']}\"\n",
    ")\n",
    "# получение метаданных таблицы\n",
    "metadata = sqlalchemy.MetaData()\n",
    "metadata.reflect(bind=engine)"
   ]
  },
  {
   "cell_type": "markdown",
   "id": "88ff12d9",
   "metadata": {},
   "source": [
    "Общая информация о таблицах"
   ]
  },
  {
   "cell_type": "code",
   "execution_count": 6,
   "id": "7d213317",
   "metadata": {
    "scrolled": true
   },
   "outputs": [
    {
     "name": "stdout",
     "output_type": "stream",
     "text": [
      "\n",
      "Таблица: collisions;\n",
      "Количество записей: 1400000;\n",
      "Признаки: ['case_id', 'county_city_location', 'county_location', 'distance', 'direction', 'intersection', 'weather_1', 'location_type', 'collision_damage', 'party_count', 'primary_collision_factor', 'pcf_violation_category', 'type_of_collision', 'motor_vehicle_involved_with', 'road_surface', 'road_condition_1', 'lighting', 'control_device', 'collision_date', 'collision_time'];\n",
      "Первичный ключ: Отсутствует     \n",
      "           \n",
      "\n",
      "Таблица: case_ids;\n",
      "Количество записей: 1400000;\n",
      "Признаки: ['case_id', 'db_year'];\n",
      "Первичный ключ: Отсутствует     \n",
      "           \n",
      "\n",
      "Таблица: parties;\n",
      "Количество записей: 2752408;\n",
      "Признаки: ['id', 'case_id', 'party_number', 'party_type', 'at_fault', 'insurance_premium', 'party_sobriety', 'party_drug_physical', 'cellphone_in_use'];\n",
      "Первичный ключ: Отсутствует     \n",
      "           \n",
      "\n",
      "Таблица: vehicles;\n",
      "Количество записей: 1021234;\n",
      "Признаки: ['id', 'case_id', 'party_number', 'vehicle_type', 'vehicle_transmission', 'vehicle_age'];\n",
      "Первичный ключ: Отсутствует     \n",
      "           \n"
     ]
    }
   ],
   "source": [
    "for table_name, table in metadata.tables.items():\n",
    "    query = f'SELECT COUNT(*) FROM {table_name};'\n",
    "    print(f'''\n",
    "Таблица: {table_name};\n",
    "Количество записей: {request(query).iloc[0][0]};\n",
    "Признаки: {table.columns.keys()};\n",
    "Первичный ключ: {table.primary_key.columns.keys() if table.primary_key else 'Отсутствует'}     \n",
    "           ''')"
   ]
  },
  {
   "cell_type": "markdown",
   "id": "1690d8ef",
   "metadata": {},
   "source": [
    "- В базе данных есть три основные таблицы, c наборами данных, но без явно указанных первичных ключей.\n",
    "\n",
    "- Таблица __'collisions'__ — общая информация о ДТП:\n",
    "    - Из описания данных известно, имеет уникальный `case_id`, который является уникальным идентификатором для каждого зарегистрированного происшествия;\n",
    "    - Эта таблица содержит общую информацию о происшествии, включая место, дату и время его происхождения, погодные условия, серьезность происшествия и другие характеристики.\n",
    "    \n",
    "- Таблица __'parties'__ — информация об участниках ДТП:\n",
    "    - Имеет неуникальный `case_id`, который связан с соответствующим ДТП в таблице 'collisions'.\n",
    "    - Каждая строка в этой таблице описывает одну из сторон, участвующих в ДТП. Например, если в ДТП участвуют две машины, то в этой таблице будет две строки с совпадающим `case_id`.\n",
    "    - Для создания уникального идентификатора участника можно использовать комбинацию `case_id` и `party_number`.\n",
    "\n",
    "- Таблица __'vehicles'__ — информация о пострадавших машинах:\n",
    "    - Имеет неуникальные `case_id` и неуникальные `party_number`, которые связаны с таблицами 'collisions' и 'parties'.\n",
    "    - Данная таблица содержит информацию о пострадавших машинах, и каждая строка описывает одно транспортное средство.\n",
    "    - Для создания уникального идентификатора машины можно использовать комбинацию `case_id` и `party_number`."
   ]
  },
  {
   "cell_type": "markdown",
   "id": "6f21befc",
   "metadata": {},
   "source": [
    "# Анализ факторов ДТП"
   ]
  },
  {
   "cell_type": "markdown",
   "id": "852f2f9c",
   "metadata": {},
   "source": [
    "## Проверка доступных временных промежутков базы данных"
   ]
  },
  {
   "cell_type": "code",
   "execution_count": 7,
   "id": "9d7e23c1",
   "metadata": {},
   "outputs": [
    {
     "data": {
      "text/html": [
       "<div>\n",
       "<style scoped>\n",
       "    .dataframe tbody tr th:only-of-type {\n",
       "        vertical-align: middle;\n",
       "    }\n",
       "\n",
       "    .dataframe tbody tr th {\n",
       "        vertical-align: top;\n",
       "    }\n",
       "\n",
       "    .dataframe thead th {\n",
       "        text-align: right;\n",
       "    }\n",
       "</style>\n",
       "<table border=\"1\" class=\"dataframe\">\n",
       "  <thead>\n",
       "    <tr style=\"text-align: right;\">\n",
       "      <th></th>\n",
       "      <th>min</th>\n",
       "      <th>max</th>\n",
       "    </tr>\n",
       "  </thead>\n",
       "  <tbody>\n",
       "    <tr>\n",
       "      <th>0</th>\n",
       "      <td>2009-01-01</td>\n",
       "      <td>2020-07-26</td>\n",
       "    </tr>\n",
       "  </tbody>\n",
       "</table>\n",
       "</div>"
      ],
      "text/plain": [
       "          min         max\n",
       "0  2009-01-01  2020-07-26"
      ]
     },
     "metadata": {},
     "output_type": "display_data"
    }
   ],
   "source": [
    "# sql запрос\n",
    "query = '''\n",
    "SELECT min(COLLISION_DATE),\n",
    "       max(COLLISION_DATE)\n",
    "FROM collisions\n",
    ";\n",
    "'''\n",
    "\n",
    "df = request(query)\n",
    "display(df)"
   ]
  },
  {
   "cell_type": "markdown",
   "id": "213b2751",
   "metadata": {},
   "source": [
    "В базе денных, записи ограничены июлем, за 2020 год, соответственно, запросы, стоит ограничить 2019 годом включительно, для отражения более точной спатистики."
   ]
  },
  {
   "cell_type": "markdown",
   "id": "bc66a92c",
   "metadata": {},
   "source": [
    "## Зависимость количества аварий от месяца"
   ]
  },
  {
   "cell_type": "code",
   "execution_count": 8,
   "id": "eed9386a",
   "metadata": {},
   "outputs": [
    {
     "data": {
      "text/html": [
       "<div>\n",
       "<style scoped>\n",
       "    .dataframe tbody tr th:only-of-type {\n",
       "        vertical-align: middle;\n",
       "    }\n",
       "\n",
       "    .dataframe tbody tr th {\n",
       "        vertical-align: top;\n",
       "    }\n",
       "\n",
       "    .dataframe thead th {\n",
       "        text-align: right;\n",
       "    }\n",
       "</style>\n",
       "<table border=\"1\" class=\"dataframe\">\n",
       "  <thead>\n",
       "    <tr style=\"text-align: right;\">\n",
       "      <th></th>\n",
       "      <th>month_num</th>\n",
       "      <th>month</th>\n",
       "      <th>collision_count</th>\n",
       "    </tr>\n",
       "  </thead>\n",
       "  <tbody>\n",
       "    <tr>\n",
       "      <th>0</th>\n",
       "      <td>1</td>\n",
       "      <td>January</td>\n",
       "      <td>132044</td>\n",
       "    </tr>\n",
       "    <tr>\n",
       "      <th>1</th>\n",
       "      <td>2</td>\n",
       "      <td>February</td>\n",
       "      <td>128858</td>\n",
       "    </tr>\n",
       "    <tr>\n",
       "      <th>2</th>\n",
       "      <td>3</td>\n",
       "      <td>March</td>\n",
       "      <td>139580</td>\n",
       "    </tr>\n",
       "    <tr>\n",
       "      <th>3</th>\n",
       "      <td>4</td>\n",
       "      <td>April</td>\n",
       "      <td>130180</td>\n",
       "    </tr>\n",
       "    <tr>\n",
       "      <th>4</th>\n",
       "      <td>5</td>\n",
       "      <td>May</td>\n",
       "      <td>130316</td>\n",
       "    </tr>\n",
       "    <tr>\n",
       "      <th>5</th>\n",
       "      <td>6</td>\n",
       "      <td>June</td>\n",
       "      <td>102594</td>\n",
       "    </tr>\n",
       "    <tr>\n",
       "      <th>6</th>\n",
       "      <td>7</td>\n",
       "      <td>July</td>\n",
       "      <td>102226</td>\n",
       "    </tr>\n",
       "    <tr>\n",
       "      <th>7</th>\n",
       "      <td>8</td>\n",
       "      <td>August</td>\n",
       "      <td>104089</td>\n",
       "    </tr>\n",
       "    <tr>\n",
       "      <th>8</th>\n",
       "      <td>9</td>\n",
       "      <td>September</td>\n",
       "      <td>105159</td>\n",
       "    </tr>\n",
       "    <tr>\n",
       "      <th>9</th>\n",
       "      <td>10</td>\n",
       "      <td>October</td>\n",
       "      <td>112237</td>\n",
       "    </tr>\n",
       "    <tr>\n",
       "      <th>10</th>\n",
       "      <td>11</td>\n",
       "      <td>November</td>\n",
       "      <td>104770</td>\n",
       "    </tr>\n",
       "    <tr>\n",
       "      <th>11</th>\n",
       "      <td>12</td>\n",
       "      <td>December</td>\n",
       "      <td>107945</td>\n",
       "    </tr>\n",
       "  </tbody>\n",
       "</table>\n",
       "</div>"
      ],
      "text/plain": [
       "    month_num      month  collision_count\n",
       "0           1  January             132044\n",
       "1           2  February            128858\n",
       "2           3  March               139580\n",
       "3           4  April               130180\n",
       "4           5  May                 130316\n",
       "5           6  June                102594\n",
       "6           7  July                102226\n",
       "7           8  August              104089\n",
       "8           9  September           105159\n",
       "9          10  October             112237\n",
       "10         11  November            104770\n",
       "11         12  December            107945"
      ]
     },
     "metadata": {},
     "output_type": "display_data"
    }
   ],
   "source": [
    "# sql запрос\n",
    "query = '''\n",
    "SELECT CAST(EXTRACT(MONTH FROM COLLISION_DATE) AS INTEGER) AS month_num,\n",
    "       TO_CHAR(COLLISION_DATE, 'Month') AS month,\n",
    "       COUNT(*) AS collision_count\n",
    "FROM collisions\n",
    "WHERE EXTRACT(YEAR FROM COLLISION_DATE)<2020\n",
    "GROUP BY month, month_num\n",
    "ORDER BY month_num;\n",
    "'''\n",
    "\n",
    "df = request(query)\n",
    "display(df)"
   ]
  },
  {
   "cell_type": "code",
   "execution_count": 9,
   "id": "ab7eedce",
   "metadata": {
    "scrolled": false
   },
   "outputs": [
    {
     "data": {
      "image/png": "[encoded data removed]",
      "text/plain": [
       "<Figure size 720x288 with 1 Axes>"
      ]
     },
     "metadata": {
      "needs_background": "light"
     },
     "output_type": "display_data"
    }
   ],
   "source": [
    "# визуолизация результатов\n",
    "plt.figure(figsize=(10, 4))\n",
    "plt.bar(df['month'], df['collision_count'], color='teal')\n",
    "plt.xlabel('Месяц')\n",
    "plt.ylabel('Количество аварий')\n",
    "plt.title('Количество аварий по месяцам')\n",
    "plt.xticks(rotation=45, ha='right')\n",
    "plt.show()"
   ]
  },
  {
   "cell_type": "markdown",
   "id": "6753fc11",
   "metadata": {},
   "source": [
    "- Видно, что количество аварий имеет явные сезонные колебания в течение года.\n",
    "- Наибольшее количество аварий обычно происходит в марте и октябре, что может быть связано с изменениями погоды и дорожных условий в эти месяцы.\n",
    "- Наименьшее количество аварий зафиксировано в июне и июле, возможно, из-за летнего сезона и лучших дорожных условий.\n",
    "- Аварийное количество кажется стабильным в период с августа по декаб"
   ]
  },
  {
   "cell_type": "code",
   "execution_count": 10,
   "id": "41e95f32",
   "metadata": {},
   "outputs": [
    {
     "name": "stdout",
     "output_type": "stream",
     "text": [
      "month_num          0\n",
      "month              0\n",
      "collision_count    0\n",
      "dtype: int64\n"
     ]
    }
   ],
   "source": [
    "missing_values = df.isnull().sum()\n",
    "print(missing_values)"
   ]
  },
  {
   "cell_type": "markdown",
   "id": "6a3af4b9",
   "metadata": {},
   "source": [
    "## Аналитические задачи\n",
    "\n",
    "Эти задачи позволят лучше понять данные и провести дополнительный анализ для определения факторов, влияющих на возникновение ДТП, а также выявить потенциальные меры для предотвращения аварий.\n"
   ]
  },
  {
   "cell_type": "markdown",
   "id": "b7a637e3",
   "metadata": {},
   "source": [
    "Задача 1:\n",
    "\n",
    "Анализ серьезности повреждений транспортного средства, исходя из состояния дороги в момент ДТП.\n",
    "\n",
    "- Исследовать связь между состоянием дороги (ROAD_SURFACE) в момент ДТП и серьезностью повреждений транспортного средства (COLLISION_DAMAGE). \n",
    "- Определить, какие состояния дороги преобладают при различных уровнях серьезности повреждений, и сделайте выводы о влиянии состояния дороги на серьезность ДТП.\n",
    "\n",
    "Задача 2:\n",
    "\n",
    "Анализ частых причин ДТП.\n",
    "\n",
    "- Используя таблицу \"parties\", определить самые частые причины ДТП (PCF_VIOLATION_CATEGORY). \n",
    "- Выстроить рейтинг причин в порядке убывания частоты аварий. \n",
    "- Определить рекомендации на основе этого анализа, чтобы предотвратить наиболее распространенные типы ДТП.\n",
    "\n",
    "Задача 3:\n",
    "\n",
    "Анализ влияния уровня освещения на вероятность возникновения ДТП.\n",
    "\n",
    "- Сравнить количество ДТП в зависимости от уровня освещения (LIGHTING). \n",
    "- Определить, в какое время суток и в каких условиях освещения ДТП происходят наиболее часто. \n",
    "- Проанализировать, как уровень освещения влияет на вероятность возникновения ДТП.\n",
    "\n",
    "Задача 4:\n",
    "\n",
    "Анализ распределения количества участников в ДТП.\n",
    "\n",
    "- Изучить количество участников (PARTY_COUNT) в каждом ДТП и определите распределение этой величины. \n",
    "- Определить, как часто происходят ДТП с большим количеством участников и сравните это с количеством ДТП с небольшим числом участников.\n",
    "\n",
    "Задача 5:\n",
    "\n",
    "Анализ зависимости вероятности возникновения ДТП от погодных условий.\n",
    "\n",
    "- Изучить влияние погодных условий (WEATHER_1) на вероятность возникновения ДТП. \n",
    "- Сравнить количество ДТП в различных погодных условиях и определите, какие погодные условия сопровождаются наибольшим риском возникновения аварий.\n",
    "\n",
    "Задача 6:\n",
    "\n",
    "Анализ влияния уровня опьянения участников на тяжесть ДТП.\n",
    "\n",
    "- Исследовать связь между уровнем опьянения участников ДТП (PARTY_SOBRIETY) и серьезностью аварий (COLLISION_DAMAGE). \n",
    "- Определить, какие уровни опьянения преобладают при различных уровнях серьезности повреждений транспортного средства. \n",
    "- Сравнить количество аварий для каждого уровня опьянения и выявите, насколько опьянение участников влияет на тяжесть ДТП.\n",
    "\n",
    "Задача 7:\n",
    "\n",
    "Анализ частоты ДТП в зависимости от времени суток и сотоянии дороги.\n",
    "\n",
    "- Объединить таблицы \"collisions\" и \"vehicles\" по общему ключу \"case_id\".\n",
    "- Используя полученные данные для вычисления количества ДТП для каждого времени суток (утро, день, вечер, ночь) и типа дороги (городская, загородная, автострада).\n",
    "\n",
    "Задача 8:\n",
    "\n",
    "Анализ влияния возраста автомобиля на тип аварий\n",
    "\n",
    "- Объединить таблицы \"collisions\" и \" vehicles\" по общему ключу \"case_id\" и получить данные о типах ДТП и возрасте автомобилей.\n",
    "- Используя полученные данные, проанализируйте селичество и тип ДТП и связь их и возрастом автомобилей."
   ]
  },
  {
   "cell_type": "markdown",
   "id": "de6d3f68",
   "metadata": {},
   "source": [
    "### Анализ частых причин ДТП."
   ]
  },
  {
   "cell_type": "markdown",
   "id": "39526419",
   "metadata": {},
   "source": [
    "Данный анализ поможет сосредоточить внимание на наиболее значимых проблемах и разработать эффективные стратегии для снижения аварийности и повышения безопасности на дорогах."
   ]
  },
  {
   "cell_type": "code",
   "execution_count": 11,
   "id": "a94f7bb5",
   "metadata": {},
   "outputs": [
    {
     "data": {
      "text/html": [
       "<div>\n",
       "<style scoped>\n",
       "    .dataframe tbody tr th:only-of-type {\n",
       "        vertical-align: middle;\n",
       "    }\n",
       "\n",
       "    .dataframe tbody tr th {\n",
       "        vertical-align: top;\n",
       "    }\n",
       "\n",
       "    .dataframe thead th {\n",
       "        text-align: right;\n",
       "    }\n",
       "</style>\n",
       "<table border=\"1\" class=\"dataframe\">\n",
       "  <thead>\n",
       "    <tr style=\"text-align: right;\">\n",
       "      <th></th>\n",
       "      <th>pcf_violation_category</th>\n",
       "      <th>collision_count</th>\n",
       "    </tr>\n",
       "  </thead>\n",
       "  <tbody>\n",
       "    <tr>\n",
       "      <th>0</th>\n",
       "      <td>speeding</td>\n",
       "      <td>438437</td>\n",
       "    </tr>\n",
       "    <tr>\n",
       "      <th>1</th>\n",
       "      <td>improper turning</td>\n",
       "      <td>238987</td>\n",
       "    </tr>\n",
       "    <tr>\n",
       "      <th>2</th>\n",
       "      <td>automobile right of way</td>\n",
       "      <td>158291</td>\n",
       "    </tr>\n",
       "    <tr>\n",
       "      <th>3</th>\n",
       "      <td>dui</td>\n",
       "      <td>110476</td>\n",
       "    </tr>\n",
       "    <tr>\n",
       "      <th>4</th>\n",
       "      <td>unsafe lane change</td>\n",
       "      <td>93962</td>\n",
       "    </tr>\n",
       "    <tr>\n",
       "      <th>5</th>\n",
       "      <td>traffic signals and signs</td>\n",
       "      <td>72751</td>\n",
       "    </tr>\n",
       "    <tr>\n",
       "      <th>6</th>\n",
       "      <td>unsafe starting or backing</td>\n",
       "      <td>55674</td>\n",
       "    </tr>\n",
       "    <tr>\n",
       "      <th>7</th>\n",
       "      <td>unknown</td>\n",
       "      <td>39558</td>\n",
       "    </tr>\n",
       "    <tr>\n",
       "      <th>8</th>\n",
       "      <td>wrong side of road</td>\n",
       "      <td>33631</td>\n",
       "    </tr>\n",
       "    <tr>\n",
       "      <th>9</th>\n",
       "      <td>following too closely</td>\n",
       "      <td>30033</td>\n",
       "    </tr>\n",
       "  </tbody>\n",
       "</table>\n",
       "</div>"
      ],
      "text/plain": [
       "       pcf_violation_category  collision_count\n",
       "0                    speeding           438437\n",
       "1            improper turning           238987\n",
       "2     automobile right of way           158291\n",
       "3                         dui           110476\n",
       "4          unsafe lane change            93962\n",
       "5   traffic signals and signs            72751\n",
       "6  unsafe starting or backing            55674\n",
       "7                     unknown            39558\n",
       "8          wrong side of road            33631\n",
       "9       following too closely            30033"
      ]
     },
     "metadata": {},
     "output_type": "display_data"
    }
   ],
   "source": [
    "# sql запрос\n",
    "query = '''\n",
    "SELECT PCF_VIOLATION_CATEGORY, \n",
    "       COUNT(*) AS collision_count\n",
    "FROM collisions\n",
    "WHERE EXTRACT(YEAR FROM COLLISION_DATE)<2020\n",
    "GROUP BY PCF_VIOLATION_CATEGORY\n",
    "ORDER BY collision_count DESC\n",
    "LIMIT 10;\n",
    "'''\n",
    "\n",
    "df = request(query)\n",
    "display(df)"
   ]
  },
  {
   "cell_type": "code",
   "execution_count": 12,
   "id": "e862fe21",
   "metadata": {},
   "outputs": [
    {
     "data": {
      "image/png": "[encoded data removed]",
      "text/plain": [
       "<Figure size 648x288 with 1 Axes>"
      ]
     },
     "metadata": {
      "needs_background": "light"
     },
     "output_type": "display_data"
    }
   ],
   "source": [
    "# визуолизация результатов\n",
    "plt.figure(figsize=(9, 4))\n",
    "sns.barplot(x='collision_count', y='pcf_violation_category', data=df, color='teal')\n",
    "plt.xlabel('Количество аварий')\n",
    "plt.ylabel('Причина ДТП')\n",
    "plt.title('Рейтинг причин ДТП')\n",
    "plt.show()"
   ]
  },
  {
   "cell_type": "markdown",
   "id": "8ee9a390",
   "metadata": {},
   "source": [
    "Из результатов запроса видно, что самыми частыми причинами ДТП в данной базе данных являются:\n",
    "\n",
    "- Превышение скорости (Speeding) - 438,439 аварий.\n",
    "- Неправильный поворот (Improper Turning) - 238,987 аварий.\n",
    "- Автомобильное право проезда (Automobile Right of Way) - 158,291 аварий.\n",
    "- Вождение или езда на велосипеде в состоянии алкогольного или наркотического опьянения (DUI - Driving Under the Influence) - 110,476 аварий.\n",
    "\n",
    "Основываясь на этом анализе, можно предложить следующие рекомендации для предотвращения наиболее распространенных типов ДТП:__\n",
    "\n",
    "- Повышать осведомленность и образованность водителей: Продвигать информационные кампании, обучающие водителей о безопасных практиках вождения, в том числе о соблюдении ограничений скорости и правильном повороте.\n",
    "- Развивать системы контроля скорости: Внедрение автоматических систем контроля скорости на дорогах может снизить количество ДТП, связанных с превышением скорости.\n",
    "- Расширить сеть камер наблюдения на дорогах: Установка камер на опасных участках дорог поможет отслеживать нарушения и устранять их.\n",
    "- Поддерживать безопасные дорожные условия: Проводить регулярный мониторинг дорожного покрытия и инфраструктуры, чтобы обеспечить безопасное движение.\n",
    "- Установить технологию, которая интегрирует алко-тест в систему зажигания автомобиля. Это поможет предотвращать аварии, связанные с вождением в состоянии алкогольного опьянения."
   ]
  },
  {
   "cell_type": "markdown",
   "id": "aa801cdf",
   "metadata": {},
   "source": [
    "### Анализ зависимости вероятности возникновения ДТП от погодных условий."
   ]
  },
  {
   "cell_type": "code",
   "execution_count": 13,
   "id": "a9c0e254",
   "metadata": {},
   "outputs": [
    {
     "data": {
      "text/html": [
       "<div>\n",
       "<style scoped>\n",
       "    .dataframe tbody tr th:only-of-type {\n",
       "        vertical-align: middle;\n",
       "    }\n",
       "\n",
       "    .dataframe tbody tr th {\n",
       "        vertical-align: top;\n",
       "    }\n",
       "\n",
       "    .dataframe thead th {\n",
       "        text-align: right;\n",
       "    }\n",
       "</style>\n",
       "<table border=\"1\" class=\"dataframe\">\n",
       "  <thead>\n",
       "    <tr style=\"text-align: right;\">\n",
       "      <th></th>\n",
       "      <th>weather_1</th>\n",
       "      <th>collision_count</th>\n",
       "    </tr>\n",
       "  </thead>\n",
       "  <tbody>\n",
       "    <tr>\n",
       "      <th>0</th>\n",
       "      <td>clear</td>\n",
       "      <td>1121047</td>\n",
       "    </tr>\n",
       "    <tr>\n",
       "      <th>1</th>\n",
       "      <td>cloudy</td>\n",
       "      <td>203029</td>\n",
       "    </tr>\n",
       "    <tr>\n",
       "      <th>2</th>\n",
       "      <td>raining</td>\n",
       "      <td>57976</td>\n",
       "    </tr>\n",
       "    <tr>\n",
       "      <th>3</th>\n",
       "      <td>None</td>\n",
       "      <td>7259</td>\n",
       "    </tr>\n",
       "    <tr>\n",
       "      <th>4</th>\n",
       "      <td>fog</td>\n",
       "      <td>6156</td>\n",
       "    </tr>\n",
       "    <tr>\n",
       "      <th>5</th>\n",
       "      <td>snowing</td>\n",
       "      <td>2571</td>\n",
       "    </tr>\n",
       "    <tr>\n",
       "      <th>6</th>\n",
       "      <td>other</td>\n",
       "      <td>1516</td>\n",
       "    </tr>\n",
       "    <tr>\n",
       "      <th>7</th>\n",
       "      <td>wind</td>\n",
       "      <td>444</td>\n",
       "    </tr>\n",
       "  </tbody>\n",
       "</table>\n",
       "</div>"
      ],
      "text/plain": [
       "  weather_1  collision_count\n",
       "0     clear          1121047\n",
       "1    cloudy           203029\n",
       "2   raining            57976\n",
       "3      None             7259\n",
       "4       fog             6156\n",
       "5   snowing             2571\n",
       "6     other             1516\n",
       "7      wind              444"
      ]
     },
     "metadata": {},
     "output_type": "display_data"
    }
   ],
   "source": [
    "# sql запрос\n",
    "query = '''\n",
    "SELECT WEATHER_1,\n",
    "       COUNT(*) AS collision_count\n",
    "FROM collisions\n",
    "WHERE EXTRACT(YEAR FROM COLLISION_DATE)<2020\n",
    "GROUP BY WEATHER_1\n",
    "ORDER BY collision_count DESC;\n",
    "'''\n",
    "\n",
    "df = request(query)\n",
    "display(df)"
   ]
  },
  {
   "cell_type": "code",
   "execution_count": 14,
   "id": "f4344164",
   "metadata": {
    "scrolled": true
   },
   "outputs": [
    {
     "data": {
      "image/png": "[encoded data removed]",
      "text/plain": [
       "<Figure size 648x216 with 1 Axes>"
      ]
     },
     "metadata": {
      "needs_background": "light"
     },
     "output_type": "display_data"
    }
   ],
   "source": [
    "# визуолизация результатов\n",
    "plt.figure(figsize=(9, 3))\n",
    "sns.barplot(x='collision_count', y='weather_1', data=df, color='teal')\n",
    "plt.xlabel('Количество аварий')\n",
    "plt.ylabel('Погодные условия')\n",
    "plt.title('Анализ зависимости ДТП от погодных условий')\n",
    "plt.ticklabel_format(style='plain', axis='x')\n",
    "\n",
    "plt.show()"
   ]
  },
  {
   "cell_type": "markdown",
   "id": "94f14b70",
   "metadata": {},
   "source": [
    "На основе результатов анализа зависимости вероятности возникновения ДТП от погодных условий, получены следующие данные:\n",
    "- В ясную погоду (clear) зарегистрировано наибольшее количество аварий - 1,121,048 случаев.\n",
    "- За ясной погодой следует облачная погода (cloudy) с 203,030 авариями.\n",
    "- Дождливая погода (raining) оказывается третьей по частоте причиной ДТП с 57,976 авариями.\n",
    "- В условиях без указания погоды (None) произошло 7,259 аварий.\n",
    "- Туман (fog) сопровождается 6,156 авариями.\n",
    "- В снежную погоду (snowing) попало 2,571 аварий.\n",
    "- Другие погодные условия (other) были отмечены в 1,516 случаев.\n",
    "- Ветрено (wind) связано с 444 авариями.\n",
    "\n",
    "На основе этих результатов можно сделать следующие выводы рекомендации:\n",
    "- В ясную погоду произошли большинство оварий, что говорит, о там, что другие факторы могут оказать большее влияние на риск аварии.\n",
    "- При вождении в облачную погоду и дождь также необходимо соблюдать повышенную осторожность и соблюдать дистанцию.\n",
    "- В условиях тумана и снегопада водителям следует снизить скорость движения, использовать фары и габариты, чтобы быть видимыми другим участникам дорожного движения.\n"
   ]
  },
  {
   "cell_type": "markdown",
   "id": "eeb4e50a",
   "metadata": {},
   "source": [
    "### Анализ влияния возраста автомобиля на тип аварий"
   ]
  },
  {
   "cell_type": "markdown",
   "id": "1e6e6d04",
   "metadata": {},
   "source": [
    "Для более удобного анализа, автомобили были разделены на две категории: \"Новые\" - автомобили возрастом менее или равно 5 лет, и \"Старые\" - автомобили старше 5 лет."
   ]
  },
  {
   "cell_type": "code",
   "execution_count": 15,
   "id": "f24370f8",
   "metadata": {},
   "outputs": [
    {
     "data": {
      "text/html": [
       "<div>\n",
       "<style scoped>\n",
       "    .dataframe tbody tr th:only-of-type {\n",
       "        vertical-align: middle;\n",
       "    }\n",
       "\n",
       "    .dataframe tbody tr th {\n",
       "        vertical-align: top;\n",
       "    }\n",
       "\n",
       "    .dataframe thead th {\n",
       "        text-align: right;\n",
       "    }\n",
       "</style>\n",
       "<table border=\"1\" class=\"dataframe\">\n",
       "  <thead>\n",
       "    <tr style=\"text-align: right;\">\n",
       "      <th></th>\n",
       "      <th>vehicle_category</th>\n",
       "      <th>type_of_collision</th>\n",
       "      <th>collision_count</th>\n",
       "    </tr>\n",
       "  </thead>\n",
       "  <tbody>\n",
       "    <tr>\n",
       "      <th>0</th>\n",
       "      <td>Новые автомобили</td>\n",
       "      <td>rear end</td>\n",
       "      <td>210736</td>\n",
       "    </tr>\n",
       "    <tr>\n",
       "      <th>1</th>\n",
       "      <td>Новые автомобили</td>\n",
       "      <td>broadside</td>\n",
       "      <td>143999</td>\n",
       "    </tr>\n",
       "    <tr>\n",
       "      <th>2</th>\n",
       "      <td>Новые автомобили</td>\n",
       "      <td>sideswipe</td>\n",
       "      <td>75521</td>\n",
       "    </tr>\n",
       "    <tr>\n",
       "      <th>3</th>\n",
       "      <td>Новые автомобили</td>\n",
       "      <td>hit object</td>\n",
       "      <td>72027</td>\n",
       "    </tr>\n",
       "    <tr>\n",
       "      <th>4</th>\n",
       "      <td>Новые автомобили</td>\n",
       "      <td>other</td>\n",
       "      <td>41445</td>\n",
       "    </tr>\n",
       "    <tr>\n",
       "      <th>5</th>\n",
       "      <td>Новые автомобили</td>\n",
       "      <td>head-on</td>\n",
       "      <td>30937</td>\n",
       "    </tr>\n",
       "    <tr>\n",
       "      <th>6</th>\n",
       "      <td>Новые автомобили</td>\n",
       "      <td>overturned</td>\n",
       "      <td>18089</td>\n",
       "    </tr>\n",
       "    <tr>\n",
       "      <th>7</th>\n",
       "      <td>Старые автомобили</td>\n",
       "      <td>rear end</td>\n",
       "      <td>151661</td>\n",
       "    </tr>\n",
       "    <tr>\n",
       "      <th>8</th>\n",
       "      <td>Старые автомобили</td>\n",
       "      <td>broadside</td>\n",
       "      <td>98836</td>\n",
       "    </tr>\n",
       "    <tr>\n",
       "      <th>9</th>\n",
       "      <td>Старые автомобили</td>\n",
       "      <td>sideswipe</td>\n",
       "      <td>48290</td>\n",
       "    </tr>\n",
       "    <tr>\n",
       "      <th>10</th>\n",
       "      <td>Старые автомобили</td>\n",
       "      <td>hit object</td>\n",
       "      <td>35385</td>\n",
       "    </tr>\n",
       "    <tr>\n",
       "      <th>11</th>\n",
       "      <td>Старые автомобили</td>\n",
       "      <td>other</td>\n",
       "      <td>28733</td>\n",
       "    </tr>\n",
       "    <tr>\n",
       "      <th>12</th>\n",
       "      <td>Старые автомобили</td>\n",
       "      <td>head-on</td>\n",
       "      <td>21573</td>\n",
       "    </tr>\n",
       "    <tr>\n",
       "      <th>13</th>\n",
       "      <td>Старые автомобили</td>\n",
       "      <td>overturned</td>\n",
       "      <td>12149</td>\n",
       "    </tr>\n",
       "  </tbody>\n",
       "</table>\n",
       "</div>"
      ],
      "text/plain": [
       "     vehicle_category type_of_collision  collision_count\n",
       "0    Новые автомобили          rear end           210736\n",
       "1    Новые автомобили         broadside           143999\n",
       "2    Новые автомобили         sideswipe            75521\n",
       "3    Новые автомобили        hit object            72027\n",
       "4    Новые автомобили             other            41445\n",
       "5    Новые автомобили           head-on            30937\n",
       "6    Новые автомобили        overturned            18089\n",
       "7   Старые автомобили          rear end           151661\n",
       "8   Старые автомобили         broadside            98836\n",
       "9   Старые автомобили         sideswipe            48290\n",
       "10  Старые автомобили        hit object            35385\n",
       "11  Старые автомобили             other            28733\n",
       "12  Старые автомобили           head-on            21573\n",
       "13  Старые автомобили        overturned            12149"
      ]
     },
     "metadata": {},
     "output_type": "display_data"
    }
   ],
   "source": [
    "# sql запрос\n",
    "query = '''\n",
    "SELECT \n",
    "    CASE\n",
    "        WHEN VEHICLE_AGE > 5 THEN 'Старые автомобили'\n",
    "        ELSE 'Новые автомобили'\n",
    "    END AS vehicle_category,\n",
    "    TYPE_OF_COLLISION,\n",
    "    COUNT(*) AS collision_count\n",
    "FROM collisions c\n",
    "     JOIN vehicles v ON c.CASE_ID = v.CASE_ID\n",
    "WHERE VEHICLE_AGE IS NOT NULL AND\n",
    "      TYPE_OF_COLLISION IS NOT NULL AND\n",
    "      EXTRACT(YEAR FROM COLLISION_DATE)<2020\n",
    "GROUP BY vehicle_category, TYPE_OF_COLLISION\n",
    "ORDER BY vehicle_category, collision_count DESC;\n",
    "'''\n",
    "\n",
    "df = request(query)\n",
    "display(df)"
   ]
  },
  {
   "cell_type": "code",
   "execution_count": 16,
   "id": "4132e866",
   "metadata": {},
   "outputs": [
    {
     "data": {
      "image/png": "[encoded data removed]",
      "text/plain": [
       "<Figure size 720x432 with 1 Axes>"
      ]
     },
     "metadata": {
      "needs_background": "light"
     },
     "output_type": "display_data"
    }
   ],
   "source": [
    "# визуолизация результатов\n",
    "plt.figure(figsize=(10, 6))\n",
    "sns.barplot(x='type_of_collision', y='collision_count', hue='vehicle_category', data=df)\n",
    "plt.xlabel('Тип аварии')\n",
    "plt.ylabel('Количество аварий')\n",
    "plt.title('Распределение типов аварий в зависимости от возраста автомобиля')\n",
    "plt.legend(title='Категория автомобиля', loc='upper right')\n",
    "plt.xticks(rotation=45, ha='right')\n",
    "plt.show()"
   ]
  },
  {
   "cell_type": "markdown",
   "id": "59d377cf",
   "metadata": {},
   "source": [
    "- Проведенный анализ показывает, что независимо от возрастной категории автомобилей, самыми частыми типами аварий являются \"rear end\" (столкновение сзади) и \"broadside\" (боковое столкновение). При этом количество столкновений в категории \"Старые автомобили\" ниже, чем в категории \"Новые автомобили\". Однако, это можно объяснить общим количеством старых автомобилей, которые могут быть менее представлены на дорогах по сравнению с новыми автомобилями.\n",
    "\n",
    "- Важно обратить внимание, что типы аварий остаются стабильными независимо от возраста автомобилей, что подчеркивает необходимость предоставления дополнительного внимания на профилактику  по предотвращению столкновений сзади и боковых столкновений, так как они являются наиболее распространенными.\n"
   ]
  },
  {
   "cell_type": "markdown",
   "id": "d6b67db6",
   "metadata": {},
   "source": [
    "### Анализ частоты ДТП в зависимости от времени суток и состояния дороги.¶"
   ]
  },
  {
   "cell_type": "code",
   "execution_count": 17,
   "id": "218a6b72",
   "metadata": {},
   "outputs": [
    {
     "data": {
      "text/html": [
       "<div>\n",
       "<style scoped>\n",
       "    .dataframe tbody tr th:only-of-type {\n",
       "        vertical-align: middle;\n",
       "    }\n",
       "\n",
       "    .dataframe tbody tr th {\n",
       "        vertical-align: top;\n",
       "    }\n",
       "\n",
       "    .dataframe thead th {\n",
       "        text-align: right;\n",
       "    }\n",
       "</style>\n",
       "<table border=\"1\" class=\"dataframe\">\n",
       "  <thead>\n",
       "    <tr style=\"text-align: right;\">\n",
       "      <th></th>\n",
       "      <th>time_of_day</th>\n",
       "      <th>road_surface</th>\n",
       "      <th>collision_count</th>\n",
       "    </tr>\n",
       "  </thead>\n",
       "  <tbody>\n",
       "    <tr>\n",
       "      <th>0</th>\n",
       "      <td>Вечер</td>\n",
       "      <td>dry</td>\n",
       "      <td>212148</td>\n",
       "    </tr>\n",
       "    <tr>\n",
       "      <th>1</th>\n",
       "      <td>Вечер</td>\n",
       "      <td>wet</td>\n",
       "      <td>20743</td>\n",
       "    </tr>\n",
       "    <tr>\n",
       "      <th>2</th>\n",
       "      <td>Вечер</td>\n",
       "      <td>snowy</td>\n",
       "      <td>941</td>\n",
       "    </tr>\n",
       "    <tr>\n",
       "      <th>3</th>\n",
       "      <td>Вечер</td>\n",
       "      <td>slippery</td>\n",
       "      <td>179</td>\n",
       "    </tr>\n",
       "    <tr>\n",
       "      <th>4</th>\n",
       "      <td>День</td>\n",
       "      <td>dry</td>\n",
       "      <td>415081</td>\n",
       "    </tr>\n",
       "    <tr>\n",
       "      <th>5</th>\n",
       "      <td>День</td>\n",
       "      <td>wet</td>\n",
       "      <td>33386</td>\n",
       "    </tr>\n",
       "    <tr>\n",
       "      <th>6</th>\n",
       "      <td>День</td>\n",
       "      <td>snowy</td>\n",
       "      <td>1708</td>\n",
       "    </tr>\n",
       "    <tr>\n",
       "      <th>7</th>\n",
       "      <td>День</td>\n",
       "      <td>slippery</td>\n",
       "      <td>330</td>\n",
       "    </tr>\n",
       "    <tr>\n",
       "      <th>8</th>\n",
       "      <td>Ночь</td>\n",
       "      <td>dry</td>\n",
       "      <td>63079</td>\n",
       "    </tr>\n",
       "    <tr>\n",
       "      <th>9</th>\n",
       "      <td>Ночь</td>\n",
       "      <td>wet</td>\n",
       "      <td>8966</td>\n",
       "    </tr>\n",
       "    <tr>\n",
       "      <th>10</th>\n",
       "      <td>Ночь</td>\n",
       "      <td>snowy</td>\n",
       "      <td>423</td>\n",
       "    </tr>\n",
       "    <tr>\n",
       "      <th>11</th>\n",
       "      <td>Ночь</td>\n",
       "      <td>slippery</td>\n",
       "      <td>114</td>\n",
       "    </tr>\n",
       "    <tr>\n",
       "      <th>12</th>\n",
       "      <td>Утро</td>\n",
       "      <td>dry</td>\n",
       "      <td>225446</td>\n",
       "    </tr>\n",
       "    <tr>\n",
       "      <th>13</th>\n",
       "      <td>Утро</td>\n",
       "      <td>wet</td>\n",
       "      <td>26775</td>\n",
       "    </tr>\n",
       "    <tr>\n",
       "      <th>14</th>\n",
       "      <td>Утро</td>\n",
       "      <td>snowy</td>\n",
       "      <td>1890</td>\n",
       "    </tr>\n",
       "    <tr>\n",
       "      <th>15</th>\n",
       "      <td>Утро</td>\n",
       "      <td>slippery</td>\n",
       "      <td>275</td>\n",
       "    </tr>\n",
       "  </tbody>\n",
       "</table>\n",
       "</div>"
      ],
      "text/plain": [
       "   time_of_day road_surface  collision_count\n",
       "0        Вечер          dry           212148\n",
       "1        Вечер          wet            20743\n",
       "2        Вечер        snowy              941\n",
       "3        Вечер     slippery              179\n",
       "4         День          dry           415081\n",
       "5         День          wet            33386\n",
       "6         День        snowy             1708\n",
       "7         День     slippery              330\n",
       "8         Ночь          dry            63079\n",
       "9         Ночь          wet             8966\n",
       "10        Ночь        snowy              423\n",
       "11        Ночь     slippery              114\n",
       "12        Утро          dry           225446\n",
       "13        Утро          wet            26775\n",
       "14        Утро        snowy             1890\n",
       "15        Утро     slippery              275"
      ]
     },
     "metadata": {},
     "output_type": "display_data"
    }
   ],
   "source": [
    "# sql запрос\n",
    "query = '''\n",
    "SELECT \n",
    "    CASE \n",
    "        WHEN EXTRACT(HOUR FROM collision_time) >= 0 AND EXTRACT(HOUR FROM collision_time) < 6 THEN 'Ночь'\n",
    "        WHEN EXTRACT(HOUR FROM collision_time) >= 6 AND EXTRACT(HOUR FROM collision_time) < 12 THEN 'Утро'\n",
    "        WHEN EXTRACT(HOUR FROM collision_time) >= 12 AND EXTRACT(HOUR FROM collision_time) < 18 THEN 'День'\n",
    "        WHEN EXTRACT(HOUR FROM collision_time) >= 18 AND EXTRACT(HOUR FROM collision_time) < 24 THEN 'Вечер'\n",
    "    END AS time_of_day,\n",
    "    road_surface,\n",
    "    COUNT(*) AS collision_count\n",
    "FROM collisions c\n",
    "     JOIN vehicles v ON c.case_id = v.case_id\n",
    "WHERE road_surface IS NOT NULL AND \n",
    "      collision_time IS NOT NULL AND\n",
    "      EXTRACT(YEAR FROM COLLISION_DATE)<2020\n",
    "GROUP BY time_of_day, road_surface\n",
    "ORDER BY time_of_day, collision_count DESC;\n",
    "'''\n",
    "\n",
    "df = request(query)\n",
    "display(df)"
   ]
  },
  {
   "cell_type": "code",
   "execution_count": 18,
   "id": "4c6f53df",
   "metadata": {},
   "outputs": [
    {
     "data": {
      "image/png": "[encoded data removed]",
      "text/plain": [
       "<Figure size 864x576 with 4 Axes>"
      ]
     },
     "metadata": {
      "needs_background": "light"
     },
     "output_type": "display_data"
    }
   ],
   "source": [
    "# визуолизация результатов\n",
    "fig, axes = plt.subplots(2, 2, figsize=(12, 8))\n",
    "fig.suptitle('Анализ частоты ДТП в зависимости от времени суток и состояния дороги')\n",
    "\n",
    "sns.barplot(x='time_of_day',\n",
    "            y='collision_count',\n",
    "            data=df[df['road_surface'] == 'dry'],\n",
    "            ax=axes[0, 0],\n",
    "            palette='Blues')\n",
    "axes[0, 0].set_title('Сухая дорога')\n",
    "axes[0, 0].set_xlabel('Время суток')\n",
    "axes[0, 0].set_ylabel('Количество аварий')\n",
    "\n",
    "sns.barplot(x='time_of_day',\n",
    "            y='collision_count',\n",
    "            data=df[df['road_surface'] == 'wet'],\n",
    "            ax=axes[0, 1],\n",
    "            palette='Greens')\n",
    "axes[0, 1].set_title('Мокрая дорога')\n",
    "axes[0, 1].set_xlabel('Время суток')\n",
    "axes[0, 1].set_ylabel('Количество аварий')\n",
    "\n",
    "sns.barplot(x='time_of_day', \n",
    "            y='collision_count', \n",
    "            data=df[df['road_surface'] == 'snowy'], \n",
    "            ax=axes[1, 0], \n",
    "            palette='Oranges')\n",
    "axes[1, 0].set_title('Снежная дорога')\n",
    "axes[1, 0].set_xlabel('Время суток')\n",
    "axes[1, 0].set_ylabel('Количество аварий')\n",
    "\n",
    "sns.barplot(x='time_of_day', \n",
    "            y='collision_count', \n",
    "            data=df[df['road_surface'] == 'slippery'], \n",
    "            ax=axes[1, 1], \n",
    "            palette='Reds')\n",
    "axes[1, 1].set_title('Скользкая дорога')\n",
    "axes[1, 1].set_xlabel('Время суток')\n",
    "axes[1, 1].set_ylabel('Количество аварий')\n",
    "\n",
    "plt.tight_layout()\n",
    "plt.show()"
   ]
  },
  {
   "cell_type": "markdown",
   "id": "e7cc190e",
   "metadata": {},
   "source": [
    "Анализ частоты ДТП в зависимости от времени суток и состояния дороги позволил выявить интересные тенденции и сделать следующие выводы:\n",
    "\n",
    "- Наибольшее количество ДТП происходит на сухой дороге, что можно объяснить тем, что сухая дорога обеспечивает лучшее сцепление между шинами автомобиля и дорожным покрытием. Это может приводить к повышенной скорости движения, большей агрессивному вождению и возможному несоблюдению правил дорожного движения, так как водители чувствуют себя более уверенно на сухой дороге. Также, наличие сухого дорожного покрытия способствует более свободному движению автомобилей, что может привести к увеличению числа ДТП.\n",
    "\n",
    "- С другой стороны, наличие дождя, снега или скользкого дорожного покрытия создает более опасные условия для движения, что заставляет водителей быть более осторожными, снизить скорость и быть более внимательными к дорожной обстановке или совсем отказаться от использования автомобиля. Это может приводить к снижению количества ДТП в условиях плохой погоды.\n",
    "\n",
    "- Вне зависимости от состояния дороги (сухой, мокрый, снежный или скользкий), большинство ДТП происходят утром и днем. Это может быть связано с увеличенным движением транспорта в этот период.\n",
    "\n",
    "- В случае, когда дорога заснежена (снежное состояние), наибольшее количество ДТП происходит именно утром. Это может быть связано с тем, что утром снег еще не успели полностью очистить, и дороги оказываются скользкими и опасными для движения.\n",
    "\n",
    "- Таким образом, данные результаты могут помочь сфокусироваться на участках дорог, которые являются наиболее опасными в зависимости от времени суток и состояния дороги. Это может быть полезной информацией для дальнейшего анализа и разработки модели."
   ]
  },
  {
   "cell_type": "markdown",
   "id": "9651559e",
   "metadata": {},
   "source": [
    "# Подготовка данных к построению моделей"
   ]
  },
  {
   "cell_type": "markdown",
   "id": "af64db92",
   "metadata": {},
   "source": [
    "Подготовим набор данных на основе первичного предположения заказчика:\n",
    "\n",
    "Выберем только те случаи, где виновником является автомобиль (car).\n",
    "Учтем случаи, когда происшествие привело к значительным повреждениям автомобиля у любого из участников, за исключением типа SCRATCH (царапина).\n",
    "Для построения модели мы ограничимся данными только за 2012 год, поскольку они являются наиболее актуальными."
   ]
  },
  {
   "cell_type": "code",
   "execution_count": 19,
   "id": "109694f5",
   "metadata": {},
   "outputs": [],
   "source": [
    "#sql запрос\n",
    "# query = '''\n",
    "# SELECT *\n",
    "# FROM parties p INNER JOIN\n",
    "#  #    vehicles v ON p.case_id = v.case_id AND p.party_number = v.party_number LEFT JOIN\n",
    "#   #   collisions c ON p.case_id = c.case_id\n",
    "# #WHERE p.case_id IN (SELECT case_id\n",
    "#  #                   FROM parties\n",
    "#   #                  WHERE PARTY_TYPE = 'car' AND\n",
    "#    #                       AT_FAULT = 1) AND\n",
    "#     #  c.COLLISION_DAMAGE NOT IN ('SCRATCH') AND\n",
    "#      # EXTRACT(YEAR FROM c.COLLISION_DATE) = 2012;\n",
    "\n",
    "# #'''\n",
    "\n",
    "# df = request(query)\n",
    "# display(df.head())\n",
    "\n",
    "#  закрываем курсор и соединение\n",
    "# cursor.close()\n",
    "# connection.close()"
   ]
  },
  {
   "cell_type": "code",
   "execution_count": 20,
   "id": "0a448da8",
   "metadata": {},
   "outputs": [
    {
     "data": {
      "text/html": [
       "<div>\n",
       "<style scoped>\n",
       "    .dataframe tbody tr th:only-of-type {\n",
       "        vertical-align: middle;\n",
       "    }\n",
       "\n",
       "    .dataframe tbody tr th {\n",
       "        vertical-align: top;\n",
       "    }\n",
       "\n",
       "    .dataframe thead th {\n",
       "        text-align: right;\n",
       "    }\n",
       "</style>\n",
       "<table border=\"1\" class=\"dataframe\">\n",
       "  <thead>\n",
       "    <tr style=\"text-align: right;\">\n",
       "      <th></th>\n",
       "      <th>id</th>\n",
       "      <th>case_id</th>\n",
       "      <th>party_number</th>\n",
       "      <th>party_type</th>\n",
       "      <th>at_fault</th>\n",
       "      <th>insurance_premium</th>\n",
       "      <th>party_sobriety</th>\n",
       "      <th>party_drug_physical</th>\n",
       "      <th>cellphone_in_use</th>\n",
       "      <th>id</th>\n",
       "      <th>...</th>\n",
       "      <th>primary_collision_factor</th>\n",
       "      <th>pcf_violation_category</th>\n",
       "      <th>type_of_collision</th>\n",
       "      <th>motor_vehicle_involved_with</th>\n",
       "      <th>road_surface</th>\n",
       "      <th>road_condition_1</th>\n",
       "      <th>lighting</th>\n",
       "      <th>control_device</th>\n",
       "      <th>collision_date</th>\n",
       "      <th>collision_time</th>\n",
       "    </tr>\n",
       "  </thead>\n",
       "  <tbody>\n",
       "    <tr>\n",
       "      <th>0</th>\n",
       "      <td>2683371</td>\n",
       "      <td>5614467</td>\n",
       "      <td>2</td>\n",
       "      <td>car</td>\n",
       "      <td>0</td>\n",
       "      <td>43.0</td>\n",
       "      <td>had not been drinking</td>\n",
       "      <td>None</td>\n",
       "      <td>0.0</td>\n",
       "      <td>1477571</td>\n",
       "      <td>...</td>\n",
       "      <td>vehicle code violation</td>\n",
       "      <td>speeding</td>\n",
       "      <td>rear end</td>\n",
       "      <td>other motor vehicle</td>\n",
       "      <td>dry</td>\n",
       "      <td>normal</td>\n",
       "      <td>daylight</td>\n",
       "      <td>none</td>\n",
       "      <td>2012-05-05</td>\n",
       "      <td>13:25:00</td>\n",
       "    </tr>\n",
       "    <tr>\n",
       "      <th>1</th>\n",
       "      <td>2430517</td>\n",
       "      <td>5467768</td>\n",
       "      <td>3</td>\n",
       "      <td>car</td>\n",
       "      <td>0</td>\n",
       "      <td>35.0</td>\n",
       "      <td>had not been drinking</td>\n",
       "      <td>None</td>\n",
       "      <td>0.0</td>\n",
       "      <td>1339376</td>\n",
       "      <td>...</td>\n",
       "      <td>vehicle code violation</td>\n",
       "      <td>speeding</td>\n",
       "      <td>rear end</td>\n",
       "      <td>other motor vehicle</td>\n",
       "      <td>dry</td>\n",
       "      <td>normal</td>\n",
       "      <td>daylight</td>\n",
       "      <td>none</td>\n",
       "      <td>2012-01-11</td>\n",
       "      <td>12:35:00</td>\n",
       "    </tr>\n",
       "    <tr>\n",
       "      <th>2</th>\n",
       "      <td>2459981</td>\n",
       "      <td>5483659</td>\n",
       "      <td>3</td>\n",
       "      <td>car</td>\n",
       "      <td>0</td>\n",
       "      <td>46.0</td>\n",
       "      <td>had not been drinking</td>\n",
       "      <td>None</td>\n",
       "      <td>1.0</td>\n",
       "      <td>1355606</td>\n",
       "      <td>...</td>\n",
       "      <td>vehicle code violation</td>\n",
       "      <td>speeding</td>\n",
       "      <td>rear end</td>\n",
       "      <td>other motor vehicle</td>\n",
       "      <td>dry</td>\n",
       "      <td>normal</td>\n",
       "      <td>daylight</td>\n",
       "      <td>functioning</td>\n",
       "      <td>2012-01-03</td>\n",
       "      <td>12:50:00</td>\n",
       "    </tr>\n",
       "    <tr>\n",
       "      <th>3</th>\n",
       "      <td>2464872</td>\n",
       "      <td>5486254</td>\n",
       "      <td>3</td>\n",
       "      <td>car</td>\n",
       "      <td>0</td>\n",
       "      <td>39.0</td>\n",
       "      <td>had not been drinking</td>\n",
       "      <td>None</td>\n",
       "      <td>0.0</td>\n",
       "      <td>1358405</td>\n",
       "      <td>...</td>\n",
       "      <td>vehicle code violation</td>\n",
       "      <td>dui</td>\n",
       "      <td>broadside</td>\n",
       "      <td>other motor vehicle</td>\n",
       "      <td>dry</td>\n",
       "      <td>normal</td>\n",
       "      <td>dark with street lights</td>\n",
       "      <td>functioning</td>\n",
       "      <td>2012-02-20</td>\n",
       "      <td>20:45:00</td>\n",
       "    </tr>\n",
       "    <tr>\n",
       "      <th>4</th>\n",
       "      <td>2478778</td>\n",
       "      <td>5493650</td>\n",
       "      <td>1</td>\n",
       "      <td>car</td>\n",
       "      <td>1</td>\n",
       "      <td>21.0</td>\n",
       "      <td>had been drinking, under influence</td>\n",
       "      <td>None</td>\n",
       "      <td>0.0</td>\n",
       "      <td>1365508</td>\n",
       "      <td>...</td>\n",
       "      <td>vehicle code violation</td>\n",
       "      <td>dui</td>\n",
       "      <td>sideswipe</td>\n",
       "      <td>other motor vehicle</td>\n",
       "      <td>dry</td>\n",
       "      <td>normal</td>\n",
       "      <td>dark with street lights</td>\n",
       "      <td>none</td>\n",
       "      <td>2012-01-18</td>\n",
       "      <td>22:35:00</td>\n",
       "    </tr>\n",
       "  </tbody>\n",
       "</table>\n",
       "<p>5 rows × 35 columns</p>\n",
       "</div>"
      ],
      "text/plain": [
       "        id  case_id  party_number party_type  at_fault  insurance_premium  \\\n",
       "0  2683371  5614467             2        car         0               43.0   \n",
       "1  2430517  5467768             3        car         0               35.0   \n",
       "2  2459981  5483659             3        car         0               46.0   \n",
       "3  2464872  5486254             3        car         0               39.0   \n",
       "4  2478778  5493650             1        car         1               21.0   \n",
       "\n",
       "                       party_sobriety party_drug_physical  cellphone_in_use  \\\n",
       "0               had not been drinking                None               0.0   \n",
       "1               had not been drinking                None               0.0   \n",
       "2               had not been drinking                None               1.0   \n",
       "3               had not been drinking                None               0.0   \n",
       "4  had been drinking, under influence                None               0.0   \n",
       "\n",
       "        id  ... primary_collision_factor  pcf_violation_category  \\\n",
       "0  1477571  ...   vehicle code violation                speeding   \n",
       "1  1339376  ...   vehicle code violation                speeding   \n",
       "2  1355606  ...   vehicle code violation                speeding   \n",
       "3  1358405  ...   vehicle code violation                     dui   \n",
       "4  1365508  ...   vehicle code violation                     dui   \n",
       "\n",
       "  type_of_collision motor_vehicle_involved_with  road_surface  \\\n",
       "0          rear end         other motor vehicle           dry   \n",
       "1          rear end         other motor vehicle           dry   \n",
       "2          rear end         other motor vehicle           dry   \n",
       "3         broadside         other motor vehicle           dry   \n",
       "4         sideswipe         other motor vehicle           dry   \n",
       "\n",
       "  road_condition_1                 lighting control_device  collision_date  \\\n",
       "0           normal                 daylight           none      2012-05-05   \n",
       "1           normal                 daylight           none      2012-01-11   \n",
       "2           normal                 daylight    functioning      2012-01-03   \n",
       "3           normal  dark with street lights    functioning      2012-02-20   \n",
       "4           normal  dark with street lights           none      2012-01-18   \n",
       "\n",
       "  collision_time  \n",
       "0       13:25:00  \n",
       "1       12:35:00  \n",
       "2       12:50:00  \n",
       "3       20:45:00  \n",
       "4       22:35:00  \n",
       "\n",
       "[5 rows x 35 columns]"
      ]
     },
     "metadata": {},
     "output_type": "display_data"
    }
   ],
   "source": [
    "query = '''\n",
    "SELECT *\n",
    "FROM parties p \n",
    "INNER JOIN vehicles v \n",
    "    ON p.case_id = v.case_id AND p.party_number = v.party_number \n",
    "INNER JOIN collisions c \n",
    "    ON p.case_id = c.case_id\n",
    "WHERE p.case_id IN (\n",
    "        SELECT case_id\n",
    "        FROM parties\n",
    "        WHERE PARTY_TYPE = 'car' AND AT_FAULT = 1\n",
    "    ) \n",
    "    AND c.COLLISION_DAMAGE NOT IN ('SCRATCH') \n",
    "    AND EXTRACT(YEAR FROM c.COLLISION_DATE) = 2012;\n",
    "'''\n",
    "df = request(query)\n",
    "display(df.head())\n",
    "\n",
    " \n",
    "cursor.close()\n",
    "connection.close()"
   ]
  },
  {
   "cell_type": "markdown",
   "id": "4f983d70",
   "metadata": {},
   "source": [
    "## Первичный отбор факторов, необходимых для построения модели\n",
    "\n",
    "Признаки не подходящие для дальнейшего анализа:__\n",
    "\n",
    "- Признаки `id`, `case_id` при необходимости, можно заменить уникальным идентификатором датафрейма.\n",
    "- `party_number` - Номер участника происшествия: не несет информации для анализа, а используется для структурирования базы данных, его так же можно удалить.\n",
    "- `party_type` - Тип участника происшествия: содержит значения: 'car', 'building', 'road signs', 'other', 'road bumper', None. Необходимо оставить записи только с участником 'car', остальные записи не несут дополнительной информации о месте происшествия, тк она будет дублироваться соответствующей записью с машиной. Затем данный признак так же следует удалить.\n",
    "- `county_city_location` - Номер географических районов, где произошло ДТП: содержит много уникальных значений и не будет использовано в построении модели, тк это приведет к уменьшению обобщающей способности.\n",
    "\n",
    "Следующие признаки, так же малозначемы для построения Модели, так как они определяются уже после ДТП и при прогнозировании не доступны:\n",
    "\n",
    "- `party_count` - Количество участников\n",
    "- `primary_collision_factor` - Основной фактор аварии\n",
    "- `pcf_violation_category` - Категория нарушения\n",
    "- `type_of_collision` - Тип аварии\n",
    "- `motor_vehicle_involved_with` - Дополнительные участники ДТП\n",
    "- `intersection` - Является ли место происшествие перекрёстком\n",
    "- `collision_damage` - Серьёзность происшествия\n",
    "\n",
    "\n",
    "Признаки которые могут оказать косвенное влияние:__\n",
    "\n",
    "- `location_type` - Тип дороги\n",
    "- `direction` - Направление движения\n",
    "- `county_location` - Названия географических районов, где произошло ДТП\n",
    "- `vehicle_transmission` - Тип КПП\n",
    "- `vehicle_type` - Тип кузова\n",
    "- `insurance_premium` - Сумма страховки: возможно, при наличии страховки, водитель чувствует излишнюю уверенности и это может повлиять на его манеру вождения, на данный момент этот признак следует оставить.\n",
    "- `distance` - Расстояние от главной дороги (метры)\n",
    "- `cellphone_in_use` Наличие - Телефона в автомобиле (возможности разговаривать по громкой связи)\n",
    "\n",
    "Важные признаки:\n",
    "\n",
    "- `party_sobriety` - Трезвость участника\n",
    "- `party_drug_physical` - Состояние участника\n",
    "- `vehicle_age` - Возраст автомобиля (в годах)\n",
    "- `road_surface` - Состояние дороги\n",
    "- `road_condition_1` - Дорожное состояние\n",
    "- `lighting` - Освещение\n",
    "- `control_device` - Работоспособность устройств управления\n",
    "- `collision_date` - Дата происшествия\n",
    "- `collision_time` - Время происшествия\n",
    "- `weather_1` - Погода\n",
    "\n",
    "- `at_fault` - Виновность участника: является целевым признаком"
   ]
  },
  {
   "cell_type": "markdown",
   "id": "dd9c5030",
   "metadata": {},
   "source": [
    "Первичная подготовкаданных"
   ]
  },
  {
   "cell_type": "code",
   "execution_count": 21,
   "id": "f6678b44",
   "metadata": {},
   "outputs": [],
   "source": [
    "# фильтрайия по типу участника происшествия \n",
    "df = df[df['party_type']=='car']\n",
    "# удаление малозначемых признаков\n",
    "df = df.drop(['id', 'case_id', 'party_number', 'party_type', 'county_city_location', \n",
    "             'party_count', 'primary_collision_factor', 'pcf_violation_category', 'type_of_collision', \n",
    "             'motor_vehicle_involved_with', 'intersection', 'collision_damage'], axis=1)"
   ]
  },
  {
   "cell_type": "markdown",
   "id": "3b35ed69",
   "metadata": {},
   "source": [
    "# Предобработка и исследовательский анализ данных¶"
   ]
  },
  {
   "cell_type": "markdown",
   "id": "183a5db3",
   "metadata": {},
   "source": [
    "## Общая информация"
   ]
  },
  {
   "cell_type": "code",
   "execution_count": 22,
   "id": "988155d5",
   "metadata": {},
   "outputs": [
    {
     "name": "stdout",
     "output_type": "stream",
     "text": [
      "<class 'pandas.core.frame.DataFrame'>\n",
      "Int64Index: 96966 entries, 0 to 102372\n",
      "Data columns (total 19 columns):\n",
      " #   Column                Non-Null Count  Dtype  \n",
      "---  ------                --------------  -----  \n",
      " 0   at_fault              96966 non-null  int64  \n",
      " 1   insurance_premium     96214 non-null  float64\n",
      " 2   party_sobriety        95570 non-null  object \n",
      " 3   party_drug_physical   3942 non-null   object \n",
      " 4   cellphone_in_use      87913 non-null  float64\n",
      " 5   vehicle_type          96966 non-null  object \n",
      " 6   vehicle_transmission  95199 non-null  object \n",
      " 7   vehicle_age           94545 non-null  float64\n",
      " 8   county_location       96966 non-null  object \n",
      " 9   distance              96966 non-null  float64\n",
      " 10  direction             71771 non-null  object \n",
      " 11  weather_1             96725 non-null  object \n",
      " 12  location_type         41203 non-null  object \n",
      " 13  road_surface          96268 non-null  object \n",
      " 14  road_condition_1      96505 non-null  object \n",
      " 15  lighting              96696 non-null  object \n",
      " 16  control_device        96555 non-null  object \n",
      " 17  collision_date        96966 non-null  object \n",
      " 18  collision_time        96860 non-null  object \n",
      "dtypes: float64(4), int64(1), object(14)\n",
      "memory usage: 14.8+ MB\n"
     ]
    },
    {
     "data": {
      "text/plain": [
       "None"
      ]
     },
     "metadata": {},
     "output_type": "display_data"
    }
   ],
   "source": [
    "display(df.info())"
   ]
  },
  {
   "cell_type": "code",
   "execution_count": 23,
   "id": "ae023706",
   "metadata": {},
   "outputs": [],
   "source": [
    "# функция для проверки пропусков\n",
    "def f_isna(x):\n",
    "    print(f\"Количество пропусков в столбце {x}: {df[x].isna().sum()/len(df):.2%}\")\n",
    "    \n",
    "# функция для проверки линейной зависимости с целевым признаком\n",
    "def f_corr(x):\n",
    "    print(f\"Линейная связь с целевым признаком: {df[['at_fault', x]].corr().iloc()[0][1]}\")\n",
    "\n",
    "# функция для проверки нелинейной зависимости phik с целевым признаком\n",
    "def f_phik(x):\n",
    "    phik = df[['at_fault', x]].phik_matrix().iloc()[0][1]\n",
    "    print(f\"Phik: {phik}\")"
   ]
  },
  {
   "cell_type": "markdown",
   "id": "c4400894",
   "metadata": {},
   "source": [
    "### Дубликаты"
   ]
  },
  {
   "cell_type": "code",
   "execution_count": 24,
   "id": "5020a112",
   "metadata": {},
   "outputs": [
    {
     "name": "stdout",
     "output_type": "stream",
     "text": [
      "Количество дубликатов: 27\n"
     ]
    }
   ],
   "source": [
    "# проверка полных дубликатов записей\n",
    "print(f'Количество дубликатов: {df.duplicated().sum()}')"
   ]
  },
  {
   "cell_type": "markdown",
   "id": "68991d4c",
   "metadata": {},
   "source": [
    "Обработка дубликатов"
   ]
  },
  {
   "cell_type": "code",
   "execution_count": 25,
   "id": "04cecf02",
   "metadata": {},
   "outputs": [],
   "source": [
    "df = df.drop_duplicates()"
   ]
  },
  {
   "cell_type": "markdown",
   "id": "37796bcd",
   "metadata": {},
   "source": [
    "- Присутствуют пропуски, обработку которых проведем в следующих шагах, так как нет единой стратегии их заполнения.\n",
    "- Дубликаты обработаны."
   ]
  },
  {
   "cell_type": "markdown",
   "id": "b6f14933",
   "metadata": {},
   "source": [
    "## Анализ и обработка числовых признаков"
   ]
  },
  {
   "cell_type": "code",
   "execution_count": 26,
   "id": "0a38ea95",
   "metadata": {},
   "outputs": [
    {
     "data": {
      "text/html": [
       "<div>\n",
       "<style scoped>\n",
       "    .dataframe tbody tr th:only-of-type {\n",
       "        vertical-align: middle;\n",
       "    }\n",
       "\n",
       "    .dataframe tbody tr th {\n",
       "        vertical-align: top;\n",
       "    }\n",
       "\n",
       "    .dataframe thead th {\n",
       "        text-align: right;\n",
       "    }\n",
       "</style>\n",
       "<table border=\"1\" class=\"dataframe\">\n",
       "  <thead>\n",
       "    <tr style=\"text-align: right;\">\n",
       "      <th></th>\n",
       "      <th>count</th>\n",
       "      <th>mean</th>\n",
       "      <th>std</th>\n",
       "      <th>min</th>\n",
       "      <th>25%</th>\n",
       "      <th>50%</th>\n",
       "      <th>75%</th>\n",
       "      <th>max</th>\n",
       "    </tr>\n",
       "  </thead>\n",
       "  <tbody>\n",
       "    <tr>\n",
       "      <th>at_fault</th>\n",
       "      <td>96939.0</td>\n",
       "      <td>0.475846</td>\n",
       "      <td>0.499419</td>\n",
       "      <td>0.0</td>\n",
       "      <td>0.0</td>\n",
       "      <td>0.0</td>\n",
       "      <td>1.0</td>\n",
       "      <td>1.0</td>\n",
       "    </tr>\n",
       "    <tr>\n",
       "      <th>insurance_premium</th>\n",
       "      <td>96187.0</td>\n",
       "      <td>38.530768</td>\n",
       "      <td>16.249214</td>\n",
       "      <td>0.0</td>\n",
       "      <td>25.0</td>\n",
       "      <td>36.0</td>\n",
       "      <td>50.0</td>\n",
       "      <td>104.0</td>\n",
       "    </tr>\n",
       "    <tr>\n",
       "      <th>cellphone_in_use</th>\n",
       "      <td>87890.0</td>\n",
       "      <td>0.020708</td>\n",
       "      <td>0.142405</td>\n",
       "      <td>0.0</td>\n",
       "      <td>0.0</td>\n",
       "      <td>0.0</td>\n",
       "      <td>0.0</td>\n",
       "      <td>1.0</td>\n",
       "    </tr>\n",
       "    <tr>\n",
       "      <th>vehicle_age</th>\n",
       "      <td>94518.0</td>\n",
       "      <td>5.206098</td>\n",
       "      <td>3.120775</td>\n",
       "      <td>0.0</td>\n",
       "      <td>3.0</td>\n",
       "      <td>5.0</td>\n",
       "      <td>7.0</td>\n",
       "      <td>161.0</td>\n",
       "    </tr>\n",
       "    <tr>\n",
       "      <th>distance</th>\n",
       "      <td>96939.0</td>\n",
       "      <td>701.763126</td>\n",
       "      <td>5669.314040</td>\n",
       "      <td>0.0</td>\n",
       "      <td>0.0</td>\n",
       "      <td>100.0</td>\n",
       "      <td>500.0</td>\n",
       "      <td>1584000.0</td>\n",
       "    </tr>\n",
       "  </tbody>\n",
       "</table>\n",
       "</div>"
      ],
      "text/plain": [
       "                     count        mean          std  min   25%    50%    75%  \\\n",
       "at_fault           96939.0    0.475846     0.499419  0.0   0.0    0.0    1.0   \n",
       "insurance_premium  96187.0   38.530768    16.249214  0.0  25.0   36.0   50.0   \n",
       "cellphone_in_use   87890.0    0.020708     0.142405  0.0   0.0    0.0    0.0   \n",
       "vehicle_age        94518.0    5.206098     3.120775  0.0   3.0    5.0    7.0   \n",
       "distance           96939.0  701.763126  5669.314040  0.0   0.0  100.0  500.0   \n",
       "\n",
       "                         max  \n",
       "at_fault                 1.0  \n",
       "insurance_premium      104.0  \n",
       "cellphone_in_use         1.0  \n",
       "vehicle_age            161.0  \n",
       "distance           1584000.0  "
      ]
     },
     "execution_count": 26,
     "metadata": {},
     "output_type": "execute_result"
    }
   ],
   "source": [
    "df.describe().T"
   ]
  },
  {
   "cell_type": "markdown",
   "id": "f68c6c8c",
   "metadata": {},
   "source": [
    "### at_fault - виновность участника ДТП"
   ]
  },
  {
   "cell_type": "markdown",
   "id": "9c4cb437",
   "metadata": {},
   "source": [
    "Данный признак является целевым."
   ]
  },
  {
   "cell_type": "code",
   "execution_count": 27,
   "id": "65a60bb0",
   "metadata": {},
   "outputs": [
    {
     "name": "stdout",
     "output_type": "stream",
     "text": [
      "Количество пропусков в столбце at_fault: 0.00%\n"
     ]
    }
   ],
   "source": [
    "f_isna('at_fault')"
   ]
  },
  {
   "cell_type": "code",
   "execution_count": 28,
   "id": "3a4b78f6",
   "metadata": {},
   "outputs": [
    {
     "data": {
      "image/png": "[encoded data removed]",
      "text/plain": [
       "<Figure size 432x288 with 1 Axes>"
      ]
     },
     "metadata": {},
     "output_type": "display_data"
    }
   ],
   "source": [
    "# баланс целевого признака\n",
    "data = [df['at_fault'].value_counts()[0], df['at_fault'].value_counts()[1]]\n",
    "labels = ['Пострадавший', 'Виновник']\n",
    "\n",
    "colors = sns.color_palette('pastel')[ 0:5 ]\n",
    "\n",
    "plt.pie(data, labels = labels, colors = colors, autopct='%.0f%%')\n",
    "plt.show()"
   ]
  },
  {
   "cell_type": "markdown",
   "id": "39fb388f",
   "metadata": {},
   "source": [
    "- Пропуски отсутствуют.\n",
    "- Баланс целевого признака хороший, 52% и 48%"
   ]
  },
  {
   "cell_type": "markdown",
   "id": "e10f9c06",
   "metadata": {},
   "source": [
    "### insurance_premium - сумма страховки"
   ]
  },
  {
   "cell_type": "code",
   "execution_count": 29,
   "id": "9fc89860",
   "metadata": {},
   "outputs": [
    {
     "name": "stdout",
     "output_type": "stream",
     "text": [
      "Количество пропусков в столбце insurance_premium: 0.78%\n",
      "Линейная связь с целевым признаком: -0.1266112567296743\n",
      "interval columns not set, guessing: ['at_fault', 'insurance_premium']\n",
      "Phik: 0.266580393844874\n"
     ]
    }
   ],
   "source": [
    "# статистика\n",
    "f_isna('insurance_premium')\n",
    "f_corr('insurance_premium')\n",
    "f_phik('insurance_premium')"
   ]
  },
  {
   "cell_type": "code",
   "execution_count": 30,
   "id": "08a4ec3d",
   "metadata": {},
   "outputs": [
    {
     "name": "stdout",
     "output_type": "stream",
     "text": [
      "Количество пропусков в столбце insurance_premium: 0.78%\n",
      "Линейная связь с целевым признаком: -0.1266112567296743\n",
      "interval columns not set, guessing: ['at_fault', 'insurance_premium']\n",
      "Phik: 0.266580393844874\n"
     ]
    }
   ],
   "source": [
    "# статистика\n",
    "f_isna('insurance_premium')\n",
    "f_corr('insurance_premium')\n",
    "f_phik('insurance_premium')"
   ]
  },
  {
   "cell_type": "code",
   "execution_count": 31,
   "id": "983b64a0",
   "metadata": {},
   "outputs": [
    {
     "data": {
      "image/png": "[encoded data removed]",
      "text/plain": [
       "<Figure size 576x216 with 1 Axes>"
      ]
     },
     "metadata": {
      "needs_background": "light"
     },
     "output_type": "display_data"
    }
   ],
   "source": [
    "# визуализация количества записей относительно суммы страховки\n",
    "plt.figure(figsize=(8,3))\n",
    "plt.hist(df['insurance_premium'], bins=40, color='teal')\n",
    "plt.grid(True)\n",
    "plt.title('Количество записей относительно суммы страховки')\n",
    "plt.xlabel('Сумма страховки', fontsize=12)\n",
    "plt.ylabel('количество записей', fontsize=12)\n",
    "\n",
    "plt.show()"
   ]
  },
  {
   "cell_type": "markdown",
   "id": "c9f992bd",
   "metadata": {},
   "source": [
    "В случае отсутствия данных в данном признаке, мы заменим пропуски на значение 0, поскольку это может указывать на отсутствие страховки у соответствующего участника."
   ]
  },
  {
   "cell_type": "code",
   "execution_count": 32,
   "id": "8bbf73c5",
   "metadata": {},
   "outputs": [],
   "source": [
    "df['insurance_premium'] = df['insurance_premium'].fillna(0)"
   ]
  },
  {
   "cell_type": "code",
   "execution_count": 33,
   "id": "209f9a5b",
   "metadata": {},
   "outputs": [
    {
     "name": "stdout",
     "output_type": "stream",
     "text": [
      "Количество пропусков в столбце insurance_premium: 0.00%\n",
      "Линейная связь с целевым признаком: -0.13426376865804332\n",
      "interval columns not set, guessing: ['at_fault', 'insurance_premium']\n",
      "Phik: 0.2738526428102528\n"
     ]
    }
   ],
   "source": [
    "# обновленная статистика\n",
    "f_isna('insurance_premium')\n",
    "f_corr('insurance_premium')\n",
    "f_phik('insurance_premium')"
   ]
  },
  {
   "cell_type": "markdown",
   "id": "ad34b0ad",
   "metadata": {},
   "source": [
    "- Пропуски заполнены.\n",
    "- После заполнения пропусков, связь данного признака с целевым усилился."
   ]
  },
  {
   "cell_type": "markdown",
   "id": "406a1adc",
   "metadata": {},
   "source": [
    "### cellphone_in_use -  наличие телефона в автомобиле"
   ]
  },
  {
   "cell_type": "code",
   "execution_count": 34,
   "id": "b2098dbf",
   "metadata": {},
   "outputs": [
    {
     "name": "stdout",
     "output_type": "stream",
     "text": [
      "Количество пропусков в столбце cellphone_in_use: 9.33%\n",
      "Линейная связь с целевым признаком: 0.014232154344096283\n",
      "interval columns not set, guessing: ['at_fault', 'cellphone_in_use']\n",
      "Phik: 0.021588278217250626\n"
     ]
    }
   ],
   "source": [
    "# Статистика\n",
    "f_isna('cellphone_in_use')\n",
    "f_corr('cellphone_in_use')\n",
    "f_phik('cellphone_in_use')"
   ]
  },
  {
   "cell_type": "markdown",
   "id": "11dba494",
   "metadata": {},
   "source": [
    "- Связь данного признака с целевым переменным является слабой.\n",
    "- Следует учесть, что в настоящее время большинство людей используют смартфоны, что делает данный признак менее актуальным для исследования. Рекомендуется исключить данный признак из анализа и построения моделей."
   ]
  },
  {
   "cell_type": "code",
   "execution_count": 35,
   "id": "85f1f6c4",
   "metadata": {},
   "outputs": [],
   "source": [
    "df = df.drop('cellphone_in_use', axis=1)"
   ]
  },
  {
   "cell_type": "markdown",
   "id": "aecdbada",
   "metadata": {},
   "source": [
    "- Данный признак не имеет репрезентативной силы.\n",
    "- Было принято решение исключить данный признак из дальнейшего анализа."
   ]
  },
  {
   "cell_type": "markdown",
   "id": "e1222a37",
   "metadata": {},
   "source": [
    "#### vehicle_age - возраст автомобиля (в годах)"
   ]
  },
  {
   "cell_type": "code",
   "execution_count": 36,
   "id": "7747f4b2",
   "metadata": {},
   "outputs": [
    {
     "name": "stdout",
     "output_type": "stream",
     "text": [
      "Количество пропусков в столбце vehicle_age: 2.50%\n"
     ]
    }
   ],
   "source": [
    "# пропуски\n",
    "f_isna('vehicle_age')"
   ]
  },
  {
   "cell_type": "markdown",
   "id": "b9ef67f0",
   "metadata": {},
   "source": [
    "Данные о возрасте автомобилей невозможно восстановить на основе остальных данных, то разумным решением будет исключить записи с пропущенными значениями возраста из анализа."
   ]
  },
  {
   "cell_type": "code",
   "execution_count": 37,
   "id": "c8978d6e",
   "metadata": {},
   "outputs": [],
   "source": [
    "# обработка пропусков\n",
    "df = df.dropna(subset=['vehicle_age'])"
   ]
  },
  {
   "cell_type": "code",
   "execution_count": 38,
   "id": "34063098",
   "metadata": {},
   "outputs": [
    {
     "data": {
      "image/png": "[encoded data removed]",
      "text/plain": [
       "<Figure size 576x216 with 1 Axes>"
      ]
     },
     "metadata": {
      "needs_background": "light"
     },
     "output_type": "display_data"
    }
   ],
   "source": [
    "# boxplot для признака vehicle_age\n",
    "plt.figure(figsize=(8,3))\n",
    "plt.boxplot(df['vehicle_age'], vert=False, boxprops=dict(color='skyblue'), whiskerprops=dict(color='blue'))\n",
    "plt.grid(True)\n",
    "plt.title('Возраст автомобилей')\n",
    "plt.show()"
   ]
  },
  {
   "cell_type": "markdown",
   "id": "aff46e0e",
   "metadata": {},
   "source": [
    "Рекомендуется ограничить максимальный возраст автомобилей, исходя из значений 25-го и 75-го квантилей, чтобы исключить аномальные значения."
   ]
  },
  {
   "cell_type": "code",
   "execution_count": 39,
   "id": "ce113b67",
   "metadata": {},
   "outputs": [
    {
     "name": "stdout",
     "output_type": "stream",
     "text": [
      "Порог аномальных значений: 17 лет\n"
     ]
    }
   ],
   "source": [
    "# рассчет порога аномальных значений\n",
    "q1 = df['vehicle_age'].quantile(0.25)\n",
    "q3 = df['vehicle_age'].quantile(0.75)\n",
    "print(f'Порог аномальных значений: {int(q3+2.5*(q3-q1))} лет')"
   ]
  },
  {
   "cell_type": "code",
   "execution_count": 40,
   "id": "c77ae230",
   "metadata": {},
   "outputs": [],
   "source": [
    "df = df[df['vehicle_age']<=(q3+2.5*(q3-q1))]"
   ]
  },
  {
   "cell_type": "code",
   "execution_count": 41,
   "id": "fb728d2f",
   "metadata": {},
   "outputs": [
    {
     "name": "stdout",
     "output_type": "stream",
     "text": [
      "Линейная связь с целевым признаком: -0.09689381276997727\n",
      "interval columns not set, guessing: ['at_fault', 'vehicle_age']\n",
      "Phik: 0.2231770155269038\n"
     ]
    }
   ],
   "source": [
    "# обновленная статистика\n",
    "f_corr('vehicle_age')\n",
    "f_phik('vehicle_age')"
   ]
  },
  {
   "cell_type": "markdown",
   "id": "35fc070d",
   "metadata": {},
   "source": [
    "- Обработаны пропуски и аномальные значения.\n",
    "- Присутствует связь данного признака с целевым."
   ]
  },
  {
   "cell_type": "markdown",
   "id": "752c436c",
   "metadata": {},
   "source": [
    "### distance - расстояние от главной дороги"
   ]
  },
  {
   "cell_type": "code",
   "execution_count": 42,
   "id": "c0c24b04",
   "metadata": {},
   "outputs": [
    {
     "name": "stdout",
     "output_type": "stream",
     "text": [
      "Количество пропусков в столбце distance: 0.00%\n",
      "Линейная связь с целевым признаком: 0.040474777699834874\n",
      "interval columns not set, guessing: ['at_fault', 'distance']\n",
      "Phik: 0.0008918807795690735\n"
     ]
    }
   ],
   "source": [
    "# статистика\n",
    "f_isna('distance')\n",
    "f_corr('distance')\n",
    "f_phik('distance')"
   ]
  },
  {
   "cell_type": "markdown",
   "id": "04bc93d1",
   "metadata": {},
   "source": [
    "Связь данного признака с целевым переменным является слабой. Рекомендуется исключить данный признак из анализа и построения моделей."
   ]
  },
  {
   "cell_type": "code",
   "execution_count": 43,
   "id": "ee24d313",
   "metadata": {},
   "outputs": [],
   "source": [
    "df = df.drop('distance', axis=1)"
   ]
  },
  {
   "cell_type": "markdown",
   "id": "1c5ad421",
   "metadata": {},
   "source": [
    "- Данный признак не имеет репрезентативной силы.\n",
    "- Было принято решение исключить данный признак из дальнейшего анализа."
   ]
  },
  {
   "cell_type": "markdown",
   "id": "a2f3893b",
   "metadata": {},
   "source": [
    "# Анализ и обработка категориальные признаков\n",
    "    "
   ]
  },
  {
   "cell_type": "code",
   "execution_count": 44,
   "id": "522e1562",
   "metadata": {},
   "outputs": [
    {
     "data": {
      "text/html": [
       "<div>\n",
       "<style scoped>\n",
       "    .dataframe tbody tr th:only-of-type {\n",
       "        vertical-align: middle;\n",
       "    }\n",
       "\n",
       "    .dataframe tbody tr th {\n",
       "        vertical-align: top;\n",
       "    }\n",
       "\n",
       "    .dataframe thead th {\n",
       "        text-align: right;\n",
       "    }\n",
       "</style>\n",
       "<table border=\"1\" class=\"dataframe\">\n",
       "  <thead>\n",
       "    <tr style=\"text-align: right;\">\n",
       "      <th></th>\n",
       "      <th>count</th>\n",
       "      <th>unique</th>\n",
       "      <th>top</th>\n",
       "      <th>freq</th>\n",
       "    </tr>\n",
       "  </thead>\n",
       "  <tbody>\n",
       "    <tr>\n",
       "      <th>party_sobriety</th>\n",
       "      <td>93163</td>\n",
       "      <td>6</td>\n",
       "      <td>had not been drinking</td>\n",
       "      <td>84794</td>\n",
       "    </tr>\n",
       "    <tr>\n",
       "      <th>party_drug_physical</th>\n",
       "      <td>3733</td>\n",
       "      <td>5</td>\n",
       "      <td>G</td>\n",
       "      <td>1469</td>\n",
       "    </tr>\n",
       "    <tr>\n",
       "      <th>vehicle_type</th>\n",
       "      <td>94515</td>\n",
       "      <td>3</td>\n",
       "      <td>coupe</td>\n",
       "      <td>48287</td>\n",
       "    </tr>\n",
       "    <tr>\n",
       "      <th>vehicle_transmission</th>\n",
       "      <td>93184</td>\n",
       "      <td>2</td>\n",
       "      <td>auto</td>\n",
       "      <td>48100</td>\n",
       "    </tr>\n",
       "    <tr>\n",
       "      <th>county_location</th>\n",
       "      <td>94515</td>\n",
       "      <td>58</td>\n",
       "      <td>los angeles</td>\n",
       "      <td>29030</td>\n",
       "    </tr>\n",
       "    <tr>\n",
       "      <th>direction</th>\n",
       "      <td>70147</td>\n",
       "      <td>4</td>\n",
       "      <td>north</td>\n",
       "      <td>19425</td>\n",
       "    </tr>\n",
       "    <tr>\n",
       "      <th>weather_1</th>\n",
       "      <td>94277</td>\n",
       "      <td>7</td>\n",
       "      <td>clear</td>\n",
       "      <td>75338</td>\n",
       "    </tr>\n",
       "    <tr>\n",
       "      <th>location_type</th>\n",
       "      <td>40662</td>\n",
       "      <td>3</td>\n",
       "      <td>highway</td>\n",
       "      <td>33254</td>\n",
       "    </tr>\n",
       "    <tr>\n",
       "      <th>road_surface</th>\n",
       "      <td>93842</td>\n",
       "      <td>4</td>\n",
       "      <td>dry</td>\n",
       "      <td>83989</td>\n",
       "    </tr>\n",
       "    <tr>\n",
       "      <th>road_condition_1</th>\n",
       "      <td>94068</td>\n",
       "      <td>8</td>\n",
       "      <td>normal</td>\n",
       "      <td>91166</td>\n",
       "    </tr>\n",
       "    <tr>\n",
       "      <th>lighting</th>\n",
       "      <td>94248</td>\n",
       "      <td>5</td>\n",
       "      <td>daylight</td>\n",
       "      <td>66531</td>\n",
       "    </tr>\n",
       "    <tr>\n",
       "      <th>control_device</th>\n",
       "      <td>94114</td>\n",
       "      <td>4</td>\n",
       "      <td>none</td>\n",
       "      <td>59297</td>\n",
       "    </tr>\n",
       "    <tr>\n",
       "      <th>collision_date</th>\n",
       "      <td>94515</td>\n",
       "      <td>366</td>\n",
       "      <td>2012-03-17</td>\n",
       "      <td>930</td>\n",
       "    </tr>\n",
       "    <tr>\n",
       "      <th>collision_time</th>\n",
       "      <td>94414</td>\n",
       "      <td>1438</td>\n",
       "      <td>15:00:00</td>\n",
       "      <td>647</td>\n",
       "    </tr>\n",
       "  </tbody>\n",
       "</table>\n",
       "</div>"
      ],
      "text/plain": [
       "                      count unique                    top   freq\n",
       "party_sobriety        93163      6  had not been drinking  84794\n",
       "party_drug_physical    3733      5                      G   1469\n",
       "vehicle_type          94515      3                  coupe  48287\n",
       "vehicle_transmission  93184      2                   auto  48100\n",
       "county_location       94515     58            los angeles  29030\n",
       "direction             70147      4                  north  19425\n",
       "weather_1             94277      7                  clear  75338\n",
       "location_type         40662      3                highway  33254\n",
       "road_surface          93842      4                    dry  83989\n",
       "road_condition_1      94068      8                 normal  91166\n",
       "lighting              94248      5               daylight  66531\n",
       "control_device        94114      4                   none  59297\n",
       "collision_date        94515    366             2012-03-17    930\n",
       "collision_time        94414   1438               15:00:00    647"
      ]
     },
     "metadata": {},
     "output_type": "display_data"
    }
   ],
   "source": [
    "# общая информация \n",
    "display(df.describe(include=[object]).T)"
   ]
  },
  {
   "cell_type": "markdown",
   "id": "bfe91e1a",
   "metadata": {},
   "source": [
    "### party_sobriety; party_drug_physical¶"
   ]
  },
  {
   "cell_type": "markdown",
   "id": "c753d95b",
   "metadata": {},
   "source": [
    "`party_sobriety` - трезвость участника, содержит значения:\n",
    "- A — Had Not Been Drinking (Не пил)\n",
    "- B — Had Been Drinking, Under Influence (Был пьян, под влиянием)\n",
    "- C — Had Been Drinking, Not Under Influence (Был пьян, не под влиянием)\n",
    "- D — Had Been Drinking, Impairment Unknown (Был пьян, ухудшение неизвестно)\n",
    "- G — Impairment Unknown (Неизвестно ухудшение)\n",
    "- H — Not Applicable (Не оценивался)\n",
    "- — Not Stated (Не указано)\n",
    "\n",
    "Данный признак содержит различные градации трезвости, оставим только 4 основных, сгруппированных по стапени воздействия:\n",
    "- 0 - Had Not Been Drinking, Impairment Unknown, Not Applicable, Not Stated\n",
    "- 1 - Had Been Drinking, Not Under Influence\n",
    "- 2 - Had Been Drinking, Impairment Unknown\n",
    "- 3 - Had Been Drinking, Under Influence\n",
    "\n",
    "`party_drug_physical` - состояние участника: физическое или с учётом принятых лекарств, значения:\n",
    "- E — Under Drug Influence (Под воздействием лекарств)\n",
    "- F — Impairment — Physical (Ухудшение состояния)\n",
    "- G — Impairment Unknown (Не известно)\n",
    "- H — Not Applicable (Не оценивался)\n",
    "- I — Sleepy/Fatigued (Сонный/Усталый)\n",
    "- — Not Stated (Не указано)\n",
    "\n",
    "Здеси оставим только 2 категории (стабильное и измененное):\n",
    "- 0 - Impairment Unknown, Not Applicable, Not Stated\n",
    "- 1 - Under Drug Influence, Impairment — Physical, Sleepy/Fatigued"
   ]
  },
  {
   "cell_type": "markdown",
   "id": "c892eefd",
   "metadata": {},
   "source": [
    "### party_sobriety"
   ]
  },
  {
   "cell_type": "code",
   "execution_count": 45,
   "id": "67d7bff3",
   "metadata": {},
   "outputs": [
    {
     "name": "stdout",
     "output_type": "stream",
     "text": [
      "Количество пропусков в столбце party_sobriety: 1.43%\n",
      "interval columns not set, guessing: ['at_fault']\n",
      "Phik: 0.3814403221586203\n"
     ]
    }
   ],
   "source": [
    "# статистика\n",
    "f_isna('party_sobriety')\n",
    "f_phik('party_sobriety')"
   ]
  },
  {
   "cell_type": "code",
   "execution_count": 46,
   "id": "dbee8c44",
   "metadata": {},
   "outputs": [],
   "source": [
    "# заполнение пропусков\n",
    "df['party_sobriety'] = df['party_sobriety'].fillna(0)\n",
    "\n",
    "# измененеие значений\n",
    "def replace_sobriety(x):\n",
    "    if x in ['had not been drinking', 'impairment unknown', 'not applicable']: return 0\n",
    "    elif x == 'had been drinking, not under influence': return 1\n",
    "    elif x == 'had been drinking, impairment unknown' : return 2\n",
    "    else: return 3\n",
    "\n",
    "df['party_sobriety'] = df['party_sobriety'].apply(replace_sobriety)"
   ]
  },
  {
   "cell_type": "code",
   "execution_count": 47,
   "id": "56ee6b74",
   "metadata": {},
   "outputs": [
    {
     "data": {
      "text/plain": [
       "array([0, 3, 1, 2])"
      ]
     },
     "execution_count": 47,
     "metadata": {},
     "output_type": "execute_result"
    }
   ],
   "source": [
    "# обновленные значения\n",
    "df['party_sobriety'].unique()"
   ]
  },
  {
   "cell_type": "code",
   "execution_count": 48,
   "id": "8f4783cd",
   "metadata": {},
   "outputs": [
    {
     "name": "stdout",
     "output_type": "stream",
     "text": [
      "Количество пропусков в столбце party_sobriety: 0.00%\n",
      "interval columns not set, guessing: ['at_fault', 'party_sobriety']\n",
      "Phik: 0.38600729010151164\n"
     ]
    }
   ],
   "source": [
    "# обновленная статистика\n",
    "f_isna('party_sobriety')\n",
    "f_phik('party_sobriety')"
   ]
  },
  {
   "cell_type": "code",
   "execution_count": 49,
   "id": "f30fed0f",
   "metadata": {},
   "outputs": [
    {
     "data": {
      "text/plain": [
       "0    86789\n",
       "3     6685\n",
       "1      745\n",
       "2      296\n",
       "Name: party_sobriety, dtype: int64"
      ]
     },
     "execution_count": 49,
     "metadata": {},
     "output_type": "execute_result"
    }
   ],
   "source": [
    "# распределение значений\n",
    "df['party_sobriety'].value_counts()"
   ]
  },
  {
   "cell_type": "markdown",
   "id": "8852b55d",
   "metadata": {},
   "source": [
    "- Пропуски заподнены.\n",
    "- После объединения в более крупные группы, связь данного признака с целевым усилилась.\n",
    "- Так же, стоит отметить, что в большинстве случает, при наличии акогольного апьянения, водители были под дополнительным воздействием других веществ."
   ]
  },
  {
   "cell_type": "markdown",
   "id": "9811c4c4",
   "metadata": {},
   "source": [
    "### party_drug_physical"
   ]
  },
  {
   "cell_type": "code",
   "execution_count": 50,
   "id": "6d80d7cf",
   "metadata": {},
   "outputs": [
    {
     "name": "stdout",
     "output_type": "stream",
     "text": [
      "Количество пропусков в столбце party_drug_physical: 96.05%\n",
      "interval columns not set, guessing: ['at_fault']\n",
      "Phik: 0.4007735391390954\n"
     ]
    }
   ],
   "source": [
    "# статистика\n",
    "f_isna('party_drug_physical')\n",
    "f_phik('party_drug_physical')"
   ]
  },
  {
   "cell_type": "code",
   "execution_count": 51,
   "id": "2470eda5",
   "metadata": {},
   "outputs": [],
   "source": [
    "# заполнение пропусков\n",
    "df['party_drug_physical'] = df['party_drug_physical'].fillna(0)"
   ]
  },
  {
   "cell_type": "code",
   "execution_count": 52,
   "id": "b5bc307e",
   "metadata": {},
   "outputs": [
    {
     "name": "stdout",
     "output_type": "stream",
     "text": [
      "Количество пропусков в столбце party_drug_physical: 0.00%\n",
      "interval columns not set, guessing: ['at_fault']\n",
      "Phik: 0.2202391063379084\n"
     ]
    }
   ],
   "source": [
    "# обновленная статистика\n",
    "f_isna('party_drug_physical')\n",
    "f_phik('party_drug_physical')"
   ]
  },
  {
   "cell_type": "code",
   "execution_count": 53,
   "id": "9bcb69e6",
   "metadata": {},
   "outputs": [],
   "source": [
    "# измененеие значений\n",
    "def replace_drug_physical(x):\n",
    "    if x in ['under drug influence', 'sleepy/fatigued', 'impairment - physical']: return 1\n",
    "    else: return 0\n",
    "    \n",
    "df['party_drug_physical'] = df['party_drug_physical'].apply(replace_drug_physical)"
   ]
  },
  {
   "cell_type": "code",
   "execution_count": 54,
   "id": "5ca43308",
   "metadata": {},
   "outputs": [
    {
     "name": "stdout",
     "output_type": "stream",
     "text": [
      "interval columns not set, guessing: ['at_fault', 'party_drug_physical']\n",
      "Phik: 0.20660033241474404\n"
     ]
    }
   ],
   "source": [
    "# обновленная статистика\n",
    "f_phik('party_drug_physical')"
   ]
  },
  {
   "cell_type": "markdown",
   "id": "0fee06dd",
   "metadata": {},
   "source": [
    "- Пропуски заполнены, но при этом ужудшилась связь между данным признакои и целевым, что связано с большим количеством пропусков в данных."
   ]
  },
  {
   "cell_type": "markdown",
   "id": "2be542f7",
   "metadata": {},
   "source": [
    "### vehicle_type - тип кузова"
   ]
  },
  {
   "cell_type": "code",
   "execution_count": 55,
   "id": "9734eea3",
   "metadata": {},
   "outputs": [
    {
     "name": "stdout",
     "output_type": "stream",
     "text": [
      "Количество пропусков в столбце vehicle_type: 0.00%\n",
      "interval columns not set, guessing: ['at_fault']\n",
      "Phik: 0.011286464053345305\n"
     ]
    }
   ],
   "source": [
    "# статистика\n",
    "f_isna('vehicle_type')\n",
    "f_phik('vehicle_type')"
   ]
  },
  {
   "cell_type": "markdown",
   "id": "b96be764",
   "metadata": {},
   "source": [
    "Связь данного признака с целевым переменным является слабой. Рекомендуется исключить данный признак из анализа и построения моделей."
   ]
  },
  {
   "cell_type": "code",
   "execution_count": 56,
   "id": "42897c1f",
   "metadata": {},
   "outputs": [],
   "source": [
    "df = df.drop('vehicle_type', axis=1)"
   ]
  },
  {
   "cell_type": "markdown",
   "id": "b88551f8",
   "metadata": {},
   "source": [
    "- Данный признак не имеет репрезентативной силы.\n",
    "- Было принято решение исключить данный признак из дальнейшего анализа."
   ]
  },
  {
   "cell_type": "markdown",
   "id": "c6a42f93",
   "metadata": {},
   "source": [
    "### vehicle_transmission - тип КПП"
   ]
  },
  {
   "cell_type": "code",
   "execution_count": 57,
   "id": "6fbf56e3",
   "metadata": {},
   "outputs": [
    {
     "name": "stdout",
     "output_type": "stream",
     "text": [
      "Количество пропусков в столбце vehicle_transmission: 1.41%\n",
      "interval columns not set, guessing: ['at_fault']\n",
      "Phik: 0.12939117085418084\n"
     ]
    }
   ],
   "source": [
    "# статистика\n",
    "f_isna('vehicle_transmission')\n",
    "f_phik('vehicle_transmission')"
   ]
  },
  {
   "cell_type": "markdown",
   "id": "5b944f42",
   "metadata": {},
   "source": [
    "Связь с целевым признаком можно объяснить, тем, что автоматическая коробка передач позволяет более быстро реагировать в случае аварии. восстановоть данные о КПП восстановить из данных датафрейма невозможно, а так же этот признак доступен при аренде автомобиля, исходя из этого пропуски в данном признаке, подлежат удалению."
   ]
  },
  {
   "cell_type": "code",
   "execution_count": 58,
   "id": "e669fcdc",
   "metadata": {},
   "outputs": [],
   "source": [
    "df = df.dropna(subset=['vehicle_transmission'])"
   ]
  },
  {
   "cell_type": "markdown",
   "id": "46e5d4db",
   "metadata": {},
   "source": [
    "###  county_location - названия географических районов"
   ]
  },
  {
   "cell_type": "code",
   "execution_count": 59,
   "id": "f94ad34b",
   "metadata": {},
   "outputs": [
    {
     "name": "stdout",
     "output_type": "stream",
     "text": [
      "Количество пропусков в столбце county_location: 0.00%\n",
      "interval columns not set, guessing: ['at_fault']\n",
      "Phik: 0.14169073198771379\n"
     ]
    }
   ],
   "source": [
    "# статистика\n",
    "f_isna('county_location')\n",
    "f_phik('county_location')"
   ]
  },
  {
   "cell_type": "code",
   "execution_count": 60,
   "id": "9a7f6d50",
   "metadata": {},
   "outputs": [
    {
     "data": {
      "text/plain": [
       "array(['san joaquin', 'san diego', 'sacramento', 'orange', 'san mateo',\n",
       "       'los angeles', 'alameda', 'ventura', 'riverside', 'lassen',\n",
       "       'san luis obispo', 'san bernardino', 'mendocino', 'kern',\n",
       "       'contra costa', 'fresno', 'imperial', 'tehama', 'tulare',\n",
       "       'monterey', 'santa clara', 'napa', 'merced', 'placer', 'yuba',\n",
       "       'santa cruz', 'san francisco', 'yolo', 'amador', 'butte', 'sonoma',\n",
       "       'stanislaus', 'lake', 'kings', 'madera', 'humboldt', 'san benito',\n",
       "       'marin', 'el dorado', 'solano', 'sutter', 'santa barbara',\n",
       "       'calaveras', 'tuolumne', 'shasta', 'mariposa', 'mono', 'sierra',\n",
       "       'trinity', 'del norte', 'nevada', 'glenn', 'colusa', 'siskiyou',\n",
       "       'inyo', 'modoc', 'plumas', 'alpine'], dtype=object)"
      ]
     },
     "execution_count": 60,
     "metadata": {},
     "output_type": "execute_result"
    }
   ],
   "source": [
    "# уникальные значения\n",
    "df['county_location'].unique()"
   ]
  },
  {
   "cell_type": "markdown",
   "id": "857babad",
   "metadata": {},
   "source": [
    "Есть связь между данным признаким и целевым, но большое количество уникальных значений, может затруднить обучение моделей, сгруппируем районы по составляющим агломерациям:"
   ]
  },
  {
   "cell_type": "code",
   "execution_count": 61,
   "id": "fb96aa42",
   "metadata": {},
   "outputs": [],
   "source": [
    "agglomerations = {\n",
    "    'Southern California': ['los angeles', 'ventura', 'orange', 'riverside', 'san bernardino'],\n",
    "    'San Francisco Bay Area': ['san francisco', 'santa clara', 'alameda', 'contra costa', 'san mateo', 'marin'],\n",
    "    'Central Valley': ['san joaquin', 'merced', 'tulare', 'fresno', 'kern', 'stanislaus'],\n",
    "    'Sacramento Metropolitan Area': ['sacramento', 'placer', 'el dorado'],\n",
    "    'Central Coast': ['santa cruz', 'monterey', 'san luis obispo', 'santa barbara', 'ventura'],\n",
    "    'North Coast': ['napa', 'sonoma', 'mendocino', 'humboldt'],\n",
    "    'Inland Empire': ['riverside', 'san bernardino'],\n",
    "    'San Diego Metropolitan Area': ['san diego'],\n",
    "    'Sierra Nevada': ['nevada', 'calaveras', 'madera', 'tuolumne', 'amador', 'tehama', 'glenn', 'mariposa', 'sierra', 'plumas', 'trinity', 'lassen', 'plumas', 'trinity', 'sierra', 'modoc'],\n",
    "    'Northern California': ['butte', 'sutter', 'yolo', 'lake', 'yuba', 'yolo', 'inyo', 'mono', 'yuba'],\n",
    "    'Far Northern California': ['del norte', 'humoldt', 'siskiyou', 'alpine', 'colusa']\n",
    "}\n",
    "# функция для замены\n",
    "def county_to_agglomeration(county):\n",
    "    for agglomeration, counties in agglomerations.items():\n",
    "        if county.lower() in [c.lower() for c in counties]:\n",
    "            return agglomeration\n",
    "    return county\n",
    "\n",
    "# применяем функцию к столбцу 'county_location'\n",
    "df['county_location'] = df['county_location'].map(county_to_agglomeration)"
   ]
  },
  {
   "cell_type": "code",
   "execution_count": 62,
   "id": "ce7d28d9",
   "metadata": {},
   "outputs": [
    {
     "data": {
      "text/plain": [
       "15"
      ]
     },
     "execution_count": 62,
     "metadata": {},
     "output_type": "execute_result"
    }
   ],
   "source": [
    "# количество уникальных значений\n",
    "len(df['county_location'].unique())"
   ]
  },
  {
   "cell_type": "code",
   "execution_count": 63,
   "id": "d33efafb",
   "metadata": {},
   "outputs": [
    {
     "name": "stdout",
     "output_type": "stream",
     "text": [
      "Количество пропусков в столбце county_location: 0.00%\n",
      "interval columns not set, guessing: ['at_fault']\n",
      "Phik: 0.10309346355604959\n"
     ]
    }
   ],
   "source": [
    "# обновленнная статистика\n",
    "f_isna('county_location')\n",
    "f_phik('county_location')"
   ]
  },
  {
   "cell_type": "markdown",
   "id": "cab40d5e",
   "metadata": {},
   "source": [
    "- Мы снизили количество уникальных значений, с 58 до 15.\n",
    "- Незначительно ослабела связь с целевым признаком"
   ]
  },
  {
   "cell_type": "markdown",
   "id": "0ccddf8a",
   "metadata": {},
   "source": [
    "### direction - направление движения"
   ]
  },
  {
   "cell_type": "code",
   "execution_count": 64,
   "id": "415e54f2",
   "metadata": {},
   "outputs": [
    {
     "name": "stdout",
     "output_type": "stream",
     "text": [
      "Количество пропусков в столбце direction: 25.57%\n",
      "interval columns not set, guessing: ['at_fault']\n",
      "Phik: 0.0\n"
     ]
    }
   ],
   "source": [
    "# статистика\n",
    "f_isna('direction')\n",
    "f_phik('direction')"
   ]
  },
  {
   "cell_type": "markdown",
   "id": "fef9b4cb",
   "metadata": {},
   "source": [
    "Данный признак, не связан с целевым, и может быть исключен из анализа."
   ]
  },
  {
   "cell_type": "code",
   "execution_count": 65,
   "id": "1d0fc4fe",
   "metadata": {},
   "outputs": [],
   "source": [
    "df = df.drop('direction', axis=1)"
   ]
  },
  {
   "cell_type": "markdown",
   "id": "56ba6421",
   "metadata": {},
   "source": [
    "### weather_1 - погода"
   ]
  },
  {
   "cell_type": "code",
   "execution_count": 66,
   "id": "f14131e9",
   "metadata": {},
   "outputs": [
    {
     "name": "stdout",
     "output_type": "stream",
     "text": [
      "Количество пропусков в столбце weather_1: 0.25%\n",
      "interval columns not set, guessing: ['at_fault']\n",
      "Phik: 0.04581915707412272\n"
     ]
    }
   ],
   "source": [
    "# статистика\n",
    "f_isna('weather_1')\n",
    "f_phik('weather_1')"
   ]
  },
  {
   "cell_type": "code",
   "execution_count": 67,
   "id": "6305c080",
   "metadata": {},
   "outputs": [
    {
     "data": {
      "text/plain": [
       "array(['clear', 'cloudy', 'snowing', 'raining', 'fog', 'other', None,\n",
       "       'wind'], dtype=object)"
      ]
     },
     "execution_count": 67,
     "metadata": {},
     "output_type": "execute_result"
    }
   ],
   "source": [
    "# уникальные значения\n",
    "df['weather_1'].unique()"
   ]
  },
  {
   "cell_type": "markdown",
   "id": "26560270",
   "metadata": {},
   "source": [
    "Признак слабо связан с целевым, и большенство аварий происходят в ясную погоду (п. Анализ зависимости вероятности возникновения ДТП от погодных условий.)\n",
    "\n",
    "Данный признакразделим на две группы:\n",
    "0 - 'clear' и пропуски;\n",
    "1 - другие погодные условия"
   ]
  },
  {
   "cell_type": "code",
   "execution_count": 68,
   "id": "bd63c524",
   "metadata": {},
   "outputs": [],
   "source": [
    "# обработка пропусков\n",
    "df['weather_1'] = df['weather_1'].fillna(0)"
   ]
  },
  {
   "cell_type": "code",
   "execution_count": 69,
   "id": "79c4e24b",
   "metadata": {},
   "outputs": [],
   "source": [
    "# замена значений\n",
    "df['weather_1'] = df['weather_1'].apply(lambda x: 0 if x=='clear' else 1)"
   ]
  },
  {
   "cell_type": "code",
   "execution_count": 70,
   "id": "faebc9de",
   "metadata": {},
   "outputs": [
    {
     "name": "stdout",
     "output_type": "stream",
     "text": [
      "Количество пропусков в столбце weather_1: 0.00%\n",
      "interval columns not set, guessing: ['at_fault', 'weather_1']\n",
      "Phik: 0.06597072867188988\n"
     ]
    }
   ],
   "source": [
    "# обновленная статистика \n",
    "f_isna('weather_1')\n",
    "f_phik('weather_1')"
   ]
  },
  {
   "cell_type": "markdown",
   "id": "3926c8a5",
   "metadata": {},
   "source": [
    "- Пропуски заполнены.\n",
    "- Связь с целевым признаком усилилась."
   ]
  },
  {
   "cell_type": "markdown",
   "id": "61f83add",
   "metadata": {},
   "source": [
    "### location_type - тип дороги"
   ]
  },
  {
   "cell_type": "code",
   "execution_count": 71,
   "id": "a963caf1",
   "metadata": {},
   "outputs": [
    {
     "name": "stdout",
     "output_type": "stream",
     "text": [
      "Количество пропусков в столбце location_type: 56.66%\n",
      "interval columns not set, guessing: ['at_fault']\n",
      "Phik: 0.014277690287865394\n"
     ]
    }
   ],
   "source": [
    "# статистика \n",
    "f_isna('location_type')\n",
    "f_phik('location_type')"
   ]
  },
  {
   "cell_type": "markdown",
   "id": "2cd82dad",
   "metadata": {},
   "source": [
    "Данный признак, слабо связан с целевым, и может быть исключен из анализа."
   ]
  },
  {
   "cell_type": "code",
   "execution_count": 72,
   "id": "3760ab9e",
   "metadata": {},
   "outputs": [],
   "source": [
    "df = df.drop('location_type', axis=1)"
   ]
  },
  {
   "cell_type": "markdown",
   "id": "3d93742a",
   "metadata": {},
   "source": [
    "### road_surface - cостояние дороги"
   ]
  },
  {
   "cell_type": "code",
   "execution_count": 73,
   "id": "405ee870",
   "metadata": {},
   "outputs": [
    {
     "name": "stdout",
     "output_type": "stream",
     "text": [
      "Количество пропусков в столбце road_surface: 0.70%\n",
      "interval columns not set, guessing: ['at_fault']\n",
      "Phik: 0.10401450056572477\n"
     ]
    }
   ],
   "source": [
    "# статистика \n",
    "f_isna('road_surface')\n",
    "f_phik('road_surface')"
   ]
  },
  {
   "cell_type": "markdown",
   "id": "cfecf228",
   "metadata": {},
   "source": [
    "- Данный признак связан с целевым.\n",
    "- Пропуски заменим на 0.\n",
    "- Значения разделим на две группы:\n",
    "   - 0 - 'dry' дорога чистая, либо данных нет.\n",
    "   - 1 - на дороге присутствуют факторы которые могут повлечь затруднение движения."
   ]
  },
  {
   "cell_type": "code",
   "execution_count": 74,
   "id": "84efbe0c",
   "metadata": {},
   "outputs": [],
   "source": [
    "# обработка пропусков\n",
    "df['road_surface'] = df['road_surface'].fillna(0)"
   ]
  },
  {
   "cell_type": "code",
   "execution_count": 75,
   "id": "28f9f888",
   "metadata": {},
   "outputs": [],
   "source": [
    "# замена значений\n",
    "df['road_surface'] = df['road_surface'].apply(lambda x: 0 if x=='dry' else 1)"
   ]
  },
  {
   "cell_type": "code",
   "execution_count": 76,
   "id": "b226497d",
   "metadata": {},
   "outputs": [
    {
     "name": "stdout",
     "output_type": "stream",
     "text": [
      "Количество пропусков в столбце road_surface: 0.00%\n",
      "interval columns not set, guessing: ['at_fault', 'road_surface']\n",
      "Phik: 0.09421466836090236\n"
     ]
    }
   ],
   "source": [
    "# обновленная статистика \n",
    "f_isna('road_surface')\n",
    "f_phik('road_surface')"
   ]
  },
  {
   "cell_type": "markdown",
   "id": "84cf87cb",
   "metadata": {},
   "source": [
    "- Пропуски заполнены.\n",
    "- После замены значений, связь с целевым признаком изменилась незначительно."
   ]
  },
  {
   "cell_type": "markdown",
   "id": "24f1fefc",
   "metadata": {},
   "source": [
    "### lighting - освещение"
   ]
  },
  {
   "cell_type": "code",
   "execution_count": 77,
   "id": "d11594d1",
   "metadata": {},
   "outputs": [
    {
     "name": "stdout",
     "output_type": "stream",
     "text": [
      "Количество пропусков в столбце lighting: 0.28%\n",
      "interval columns not set, guessing: ['at_fault']\n",
      "Phik: 0.08652912832105332\n"
     ]
    }
   ],
   "source": [
    "# статистика \n",
    "f_isna('lighting')\n",
    "f_phik('lighting')"
   ]
  },
  {
   "cell_type": "markdown",
   "id": "0cb8be63",
   "metadata": {},
   "source": [
    "- Данный признак связан с целевым.\n",
    "- Пропуски заменим на 0.\n",
    "- Значения разделим на две группы:\n",
    "   - 0 - 'daylight', 'dark with street lights', данных нет - дорога освещенная.\n",
    "   - 1 - присутствуют факторы затрудняющии обзор."
   ]
  },
  {
   "cell_type": "code",
   "execution_count": 78,
   "id": "cc0e50bd",
   "metadata": {},
   "outputs": [],
   "source": [
    "# обработка пропусков\n",
    "df['lighting'] = df['lighting'].fillna(0)"
   ]
  },
  {
   "cell_type": "code",
   "execution_count": 79,
   "id": "98141721",
   "metadata": {},
   "outputs": [],
   "source": [
    "# замена значений\n",
    "df['lighting'] = df['lighting'].apply(lambda x: 0 if x in ['daylight', 'dark with street lights'] else 1)"
   ]
  },
  {
   "cell_type": "code",
   "execution_count": 80,
   "id": "dd9219ca",
   "metadata": {},
   "outputs": [
    {
     "name": "stdout",
     "output_type": "stream",
     "text": [
      "Количество пропусков в столбце lighting: 0.00%\n",
      "interval columns not set, guessing: ['at_fault', 'lighting']\n",
      "Phik: 0.12385317590201145\n"
     ]
    }
   ],
   "source": [
    "# обновленная статистика \n",
    "f_isna('lighting')\n",
    "f_phik('lighting')"
   ]
  },
  {
   "cell_type": "markdown",
   "id": "18ca4050",
   "metadata": {},
   "source": [
    "- Пропуски заполнены.\n",
    "- После замены значений, связь с целевым признаком усилилась."
   ]
  },
  {
   "cell_type": "markdown",
   "id": "5e237f20",
   "metadata": {},
   "source": [
    "### control_device - работоспособность устройств управления"
   ]
  },
  {
   "cell_type": "code",
   "execution_count": 81,
   "id": "5c98a157",
   "metadata": {},
   "outputs": [
    {
     "name": "stdout",
     "output_type": "stream",
     "text": [
      "Количество пропусков в столбце control_device: 0.41%\n",
      "interval columns not set, guessing: ['at_fault']\n",
      "Phik: 0.13772002279641296\n"
     ]
    }
   ],
   "source": [
    "# статистика \n",
    "f_isna('control_device')\n",
    "f_phik('control_device')"
   ]
  },
  {
   "cell_type": "markdown",
   "id": "c638525c",
   "metadata": {},
   "source": [
    "- Заменим пропуски и значение 'none' на 'no_info'"
   ]
  },
  {
   "cell_type": "code",
   "execution_count": 82,
   "id": "1eedebeb",
   "metadata": {},
   "outputs": [],
   "source": [
    "# обработка пропусков\n",
    "df['control_device'] = df['control_device'].fillna('no_info')\n",
    "# замена значений\n",
    "df['control_device'] = df['control_device'].apply(lambda x: 'no_info' if x=='none' else x)"
   ]
  },
  {
   "cell_type": "code",
   "execution_count": 83,
   "id": "f9d49b5c",
   "metadata": {},
   "outputs": [
    {
     "name": "stdout",
     "output_type": "stream",
     "text": [
      "Количество пропусков в столбце control_device: 0.00%\n",
      "interval columns not set, guessing: ['at_fault']\n",
      "Phik: 0.13750264830314898\n"
     ]
    }
   ],
   "source": [
    "# статистика \n",
    "f_isna('control_device')\n",
    "f_phik('control_device')"
   ]
  },
  {
   "cell_type": "markdown",
   "id": "0bcc4759",
   "metadata": {},
   "source": [
    "- Обработаны пропуски.\n",
    "- Призк имеет связь с целевым."
   ]
  },
  {
   "cell_type": "markdown",
   "id": "c35efdf7",
   "metadata": {},
   "source": [
    "### collision_time - время происшествия"
   ]
  },
  {
   "cell_type": "markdown",
   "id": "01bfc072",
   "metadata": {},
   "source": [
    "Обединим признак в категории:\n",
    "- Утро\n",
    "- День\n",
    "- Вечер\n",
    "- Ночь"
   ]
  },
  {
   "cell_type": "code",
   "execution_count": 84,
   "id": "d151ed63",
   "metadata": {},
   "outputs": [
    {
     "name": "stdout",
     "output_type": "stream",
     "text": [
      "Количество пропусков в столбце collision_time: 0.11%\n"
     ]
    }
   ],
   "source": [
    "# количество пропусков\n",
    "f_isna('collision_time')"
   ]
  },
  {
   "cell_type": "markdown",
   "id": "494fd66d",
   "metadata": {},
   "source": [
    "Восстановить данные о времени восстановить или найти логичную замену по остальным данным нет возможносни, будет логично их удалить"
   ]
  },
  {
   "cell_type": "code",
   "execution_count": 85,
   "id": "ffeef371",
   "metadata": {},
   "outputs": [],
   "source": [
    "df = df.dropna(subset=['collision_time'])"
   ]
  },
  {
   "cell_type": "code",
   "execution_count": 86,
   "id": "b4f28e7b",
   "metadata": {},
   "outputs": [],
   "source": [
    "# преобразуем столбец 'collision_time' в формат времени\n",
    "df['collision_time'] = pd.to_datetime(df['collision_time'], format='%H:%M:%S')"
   ]
  },
  {
   "cell_type": "code",
   "execution_count": 87,
   "id": "f43b3bc7",
   "metadata": {},
   "outputs": [],
   "source": [
    "# округляем часы до ближайшего значения\n",
    "df['collision_time'] = df['collision_time'].dt.round('H').dt.hour"
   ]
  },
  {
   "cell_type": "code",
   "execution_count": 88,
   "id": "9577916a",
   "metadata": {},
   "outputs": [],
   "source": [
    "# функция для определения категории времени\n",
    "def get_time_category(hour):\n",
    "    if 0 <= hour < 6:\n",
    "        return 'Ночь'\n",
    "    elif 6 <= hour < 12:\n",
    "        return 'Утро'\n",
    "    elif 12 <= hour < 18:\n",
    "        return 'День'\n",
    "    else:\n",
    "        return 'Вечер'\n",
    "\n",
    "df['collision_time'] = df['collision_time'].apply(get_time_category)"
   ]
  },
  {
   "cell_type": "code",
   "execution_count": 89,
   "id": "164f0b48",
   "metadata": {},
   "outputs": [
    {
     "name": "stdout",
     "output_type": "stream",
     "text": [
      "Количество пропусков в столбце collision_time: 0.00%\n",
      "interval columns not set, guessing: ['at_fault']\n",
      "Phik: 0.2150205076674131\n"
     ]
    }
   ],
   "source": [
    "# обновленная статистика \n",
    "f_isna('collision_time')\n",
    "f_phik('collision_time')"
   ]
  },
  {
   "cell_type": "markdown",
   "id": "9892fe45",
   "metadata": {},
   "source": [
    "- Пропуски обработаны.\n",
    "- Время переведено в категирии.\n",
    "- Присутствует связь между данным признаком и целевым"
   ]
  },
  {
   "cell_type": "markdown",
   "id": "893eb2ad",
   "metadata": {},
   "source": [
    "### collision_date - дата происшествия"
   ]
  },
  {
   "cell_type": "code",
   "execution_count": 90,
   "id": "be6a17f3",
   "metadata": {},
   "outputs": [
    {
     "name": "stdout",
     "output_type": "stream",
     "text": [
      "Количество пропусков в столбце collision_date: 0.00%\n"
     ]
    }
   ],
   "source": [
    "# количество пропусков\n",
    "f_isna('collision_date')"
   ]
  },
  {
   "cell_type": "code",
   "execution_count": 91,
   "id": "94df7b9d",
   "metadata": {},
   "outputs": [],
   "source": [
    "# преобразование столбца 'collision_date' в формат даты\n",
    "df['collision_date'] = pd.to_datetime(df['collision_date'])\n",
    "# извлечение номера месяца\n",
    "df['collision_date'] = df['collision_date'].dt.month"
   ]
  },
  {
   "cell_type": "code",
   "execution_count": 92,
   "id": "83b15fa7",
   "metadata": {},
   "outputs": [
    {
     "name": "stdout",
     "output_type": "stream",
     "text": [
      "interval columns not set, guessing: ['at_fault', 'collision_date']\n",
      "Phik: 0.04972656350936271\n"
     ]
    }
   ],
   "source": [
    "f_phik('collision_date')"
   ]
  },
  {
   "cell_type": "code",
   "execution_count": 93,
   "id": "a6e0ba24",
   "metadata": {},
   "outputs": [],
   "source": [
    "def get_season(month):\n",
    "    if month in [12, 1, 2]:\n",
    "        return 'Зима'\n",
    "    elif month in [3, 4, 5]:\n",
    "        return 'Весна'\n",
    "    elif month in [6, 7, 8]:\n",
    "        return 'Лето'\n",
    "    else:\n",
    "        return 'Осень'\n",
    "    \n",
    "df['collision_date'] = df['collision_date'].apply(get_season)"
   ]
  },
  {
   "cell_type": "code",
   "execution_count": 94,
   "id": "3e52294d",
   "metadata": {},
   "outputs": [
    {
     "name": "stdout",
     "output_type": "stream",
     "text": [
      "interval columns not set, guessing: ['at_fault']\n",
      "Phik: 0.04715764438831261\n"
     ]
    }
   ],
   "source": [
    "f_phik('collision_date')"
   ]
  },
  {
   "cell_type": "markdown",
   "id": "b57c8de1",
   "metadata": {},
   "source": [
    "- Пропуски отсутствуют.\n",
    "- Связь  с целевым признакомпосле пребразования в сезоны года изменилась не сильно, но осталась достаточно слабой"
   ]
  },
  {
   "cell_type": "markdown",
   "id": "a984d65d",
   "metadata": {},
   "source": [
    "### road_condition_1 -  дорожное состояние"
   ]
  },
  {
   "cell_type": "code",
   "execution_count": 95,
   "id": "dd5458f3",
   "metadata": {},
   "outputs": [
    {
     "name": "stdout",
     "output_type": "stream",
     "text": [
      "Количество пропусков в столбце road_condition_1: 0.46%\n",
      "interval columns not set, guessing: ['at_fault']\n",
      "Phik: 0.04201014161235274\n"
     ]
    }
   ],
   "source": [
    "# статистика \n",
    "f_isna('road_condition_1')\n",
    "f_phik('road_condition_1')"
   ]
  },
  {
   "cell_type": "markdown",
   "id": "bd035039",
   "metadata": {},
   "source": [
    "Данный признак, слабо связан с целевым, и может быть исключен из анализа."
   ]
  },
  {
   "cell_type": "code",
   "execution_count": 96,
   "id": "d0065718",
   "metadata": {},
   "outputs": [],
   "source": [
    "df = df.drop('road_condition_1', axis=1).copy()"
   ]
  },
  {
   "cell_type": "markdown",
   "id": "c1b85e12",
   "metadata": {},
   "source": [
    "# Итоговый датасет"
   ]
  },
  {
   "cell_type": "code",
   "execution_count": 97,
   "id": "3ca825fd",
   "metadata": {},
   "outputs": [
    {
     "data": {
      "text/html": [
       "<div>\n",
       "<style scoped>\n",
       "    .dataframe tbody tr th:only-of-type {\n",
       "        vertical-align: middle;\n",
       "    }\n",
       "\n",
       "    .dataframe tbody tr th {\n",
       "        vertical-align: top;\n",
       "    }\n",
       "\n",
       "    .dataframe thead th {\n",
       "        text-align: right;\n",
       "    }\n",
       "</style>\n",
       "<table border=\"1\" class=\"dataframe\">\n",
       "  <thead>\n",
       "    <tr style=\"text-align: right;\">\n",
       "      <th></th>\n",
       "      <th>at_fault</th>\n",
       "      <th>insurance_premium</th>\n",
       "      <th>party_sobriety</th>\n",
       "      <th>party_drug_physical</th>\n",
       "      <th>vehicle_transmission</th>\n",
       "      <th>vehicle_age</th>\n",
       "      <th>county_location</th>\n",
       "      <th>weather_1</th>\n",
       "      <th>road_surface</th>\n",
       "      <th>lighting</th>\n",
       "      <th>control_device</th>\n",
       "      <th>collision_date</th>\n",
       "      <th>collision_time</th>\n",
       "    </tr>\n",
       "  </thead>\n",
       "  <tbody>\n",
       "    <tr>\n",
       "      <th>0</th>\n",
       "      <td>0</td>\n",
       "      <td>43.0</td>\n",
       "      <td>0</td>\n",
       "      <td>0</td>\n",
       "      <td>auto</td>\n",
       "      <td>2.0</td>\n",
       "      <td>Central Valley</td>\n",
       "      <td>0</td>\n",
       "      <td>0</td>\n",
       "      <td>0</td>\n",
       "      <td>no_info</td>\n",
       "      <td>Весна</td>\n",
       "      <td>День</td>\n",
       "    </tr>\n",
       "    <tr>\n",
       "      <th>1</th>\n",
       "      <td>0</td>\n",
       "      <td>35.0</td>\n",
       "      <td>0</td>\n",
       "      <td>0</td>\n",
       "      <td>auto</td>\n",
       "      <td>1.0</td>\n",
       "      <td>San Diego Metropolitan Area</td>\n",
       "      <td>0</td>\n",
       "      <td>0</td>\n",
       "      <td>0</td>\n",
       "      <td>no_info</td>\n",
       "      <td>Зима</td>\n",
       "      <td>День</td>\n",
       "    </tr>\n",
       "    <tr>\n",
       "      <th>2</th>\n",
       "      <td>0</td>\n",
       "      <td>46.0</td>\n",
       "      <td>0</td>\n",
       "      <td>0</td>\n",
       "      <td>auto</td>\n",
       "      <td>7.0</td>\n",
       "      <td>Sacramento Metropolitan Area</td>\n",
       "      <td>0</td>\n",
       "      <td>0</td>\n",
       "      <td>0</td>\n",
       "      <td>functioning</td>\n",
       "      <td>Зима</td>\n",
       "      <td>День</td>\n",
       "    </tr>\n",
       "    <tr>\n",
       "      <th>3</th>\n",
       "      <td>0</td>\n",
       "      <td>39.0</td>\n",
       "      <td>0</td>\n",
       "      <td>0</td>\n",
       "      <td>auto</td>\n",
       "      <td>2.0</td>\n",
       "      <td>Southern California</td>\n",
       "      <td>0</td>\n",
       "      <td>0</td>\n",
       "      <td>0</td>\n",
       "      <td>functioning</td>\n",
       "      <td>Зима</td>\n",
       "      <td>Вечер</td>\n",
       "    </tr>\n",
       "    <tr>\n",
       "      <th>4</th>\n",
       "      <td>1</td>\n",
       "      <td>21.0</td>\n",
       "      <td>3</td>\n",
       "      <td>0</td>\n",
       "      <td>manual</td>\n",
       "      <td>3.0</td>\n",
       "      <td>Southern California</td>\n",
       "      <td>0</td>\n",
       "      <td>0</td>\n",
       "      <td>0</td>\n",
       "      <td>no_info</td>\n",
       "      <td>Зима</td>\n",
       "      <td>Вечер</td>\n",
       "    </tr>\n",
       "  </tbody>\n",
       "</table>\n",
       "</div>"
      ],
      "text/plain": [
       "   at_fault  insurance_premium  party_sobriety  party_drug_physical  \\\n",
       "0         0               43.0               0                    0   \n",
       "1         0               35.0               0                    0   \n",
       "2         0               46.0               0                    0   \n",
       "3         0               39.0               0                    0   \n",
       "4         1               21.0               3                    0   \n",
       "\n",
       "  vehicle_transmission  vehicle_age               county_location  weather_1  \\\n",
       "0                 auto          2.0                Central Valley          0   \n",
       "1                 auto          1.0   San Diego Metropolitan Area          0   \n",
       "2                 auto          7.0  Sacramento Metropolitan Area          0   \n",
       "3                 auto          2.0           Southern California          0   \n",
       "4               manual          3.0           Southern California          0   \n",
       "\n",
       "   road_surface  lighting control_device collision_date collision_time  \n",
       "0             0         0        no_info          Весна           День  \n",
       "1             0         0        no_info           Зима           День  \n",
       "2             0         0    functioning           Зима           День  \n",
       "3             0         0    functioning           Зима          Вечер  \n",
       "4             0         0        no_info           Зима          Вечер  "
      ]
     },
     "metadata": {},
     "output_type": "display_data"
    }
   ],
   "source": [
    "display(df.head())"
   ]
  },
  {
   "cell_type": "code",
   "execution_count": 98,
   "id": "d6c24e75",
   "metadata": {},
   "outputs": [
    {
     "name": "stdout",
     "output_type": "stream",
     "text": [
      "<class 'pandas.core.frame.DataFrame'>\n",
      "Int64Index: 93085 entries, 0 to 102372\n",
      "Data columns (total 13 columns):\n",
      " #   Column                Non-Null Count  Dtype  \n",
      "---  ------                --------------  -----  \n",
      " 0   at_fault              93085 non-null  int64  \n",
      " 1   insurance_premium     93085 non-null  float64\n",
      " 2   party_sobriety        93085 non-null  int64  \n",
      " 3   party_drug_physical   93085 non-null  int64  \n",
      " 4   vehicle_transmission  93085 non-null  object \n",
      " 5   vehicle_age           93085 non-null  float64\n",
      " 6   county_location       93085 non-null  object \n",
      " 7   weather_1             93085 non-null  int64  \n",
      " 8   road_surface          93085 non-null  int64  \n",
      " 9   lighting              93085 non-null  int64  \n",
      " 10  control_device        93085 non-null  object \n",
      " 11  collision_date        93085 non-null  object \n",
      " 12  collision_time        93085 non-null  object \n",
      "dtypes: float64(2), int64(6), object(5)\n",
      "memory usage: 9.9+ MB\n"
     ]
    },
    {
     "data": {
      "text/plain": [
       "None"
      ]
     },
     "metadata": {},
     "output_type": "display_data"
    }
   ],
   "source": [
    "display(df.info())"
   ]
  },
  {
   "cell_type": "markdown",
   "id": "8fb7943d",
   "metadata": {},
   "source": [
    "\n",
    "- Обработаты пропуски.\n",
    "- Отобраны наиболее значимые признаки\n",
    "- Проведена проверка и исключены аномалии.\n",
    "\n"
   ]
  },
  {
   "cell_type": "markdown",
   "id": "c044d25c",
   "metadata": {},
   "source": [
    "## Создайте модель для оценки водительского риска"
   ]
  },
  {
   "cell_type": "markdown",
   "id": "6bf878d6",
   "metadata": {},
   "source": [
    "Проведем сравнительный анализ трех моделей, обученных на следующих алгоритмах:\n",
    "\n",
    "- LogisticRegression\n",
    "- CatBoost\n",
    "- RandomForestclassifier\n",
    "     \n",
    "Метрики качества для оценки модели:\n",
    "\n",
    "- accuracy — Основная метрика. Поскольку у нас сбалансированный целевой признак с равным количеством обоих классов, метрика является репрезентативной и подходит для обучения моделей и подбора оптимальных значений. Важно отметить, что метрика recall (полнота) нменее подходит для этой задачи, так как модели будут стремиться предсказывать положительный класс для всех записей, что приведет к максимальной метрике recall, но может быть неадекватным решением, например, если статическая модель всегда предсказывает положительный класс для всех записей.\n",
    "- recal — Оценочная метрика. Доля положительных объектов, которую нашла модель, из всех положительных объектов. Максимизируя recall мы хотим минимизировать количество ложноотрицательных ответов модели: клиентов, которые попали в аварию, хотя модель определила, что не попадут. Исходя из задачи, эта метрика является второй по важности, после accuracy при выборе лучшей модели.\n",
    "- precision - Дополнительная метрика.  Показывает, какая доля объектов, которую модель определила как положительные, действительно положительные. То есть, максимизируя метрику precision, мы пытаемся минимизировать количество ложноположительных ответов: клиентов, которые могут попасть в аварию, при аренде автомобилей."
   ]
  },
  {
   "cell_type": "markdown",
   "id": "a09038d4",
   "metadata": {},
   "source": [
    "## Выделение обучающей и тестовой выборок"
   ]
  },
  {
   "cell_type": "code",
   "execution_count": 99,
   "id": "d8682a5d",
   "metadata": {},
   "outputs": [],
   "source": [
    "# категориальные признаки\n",
    "categorical_columns = ['party_drug_physical', 'vehicle_transmission', 'county_location',\n",
    "                       'weather_1', 'road_surface', 'lighting', 'collision_time',\n",
    "                       'collision_date', 'control_device']\n",
    "\n",
    "# числовые признаки\n",
    "numeric_columns = ['insurance_premium', 'vehicle_age', 'party_sobriety']\n",
    "\n",
    "\n",
    "# признаки\n",
    "X = df[categorical_columns + numeric_columns]\n",
    "# целевой признак\n",
    "y = df['at_fault']"
   ]
  },
  {
   "cell_type": "code",
   "execution_count": 100,
   "id": "a117d0d2",
   "metadata": {},
   "outputs": [],
   "source": [
    "X_train, X_test, y_train, y_test = train_test_split(X, y, test_size=0.25, stratify=y, random_state=RANDOM_SEED)"
   ]
  },
  {
   "cell_type": "code",
   "execution_count": 101,
   "id": "361fc859",
   "metadata": {},
   "outputs": [
    {
     "name": "stdout",
     "output_type": "stream",
     "text": [
      "Баланс классов целевого признака:\n",
      "y_train:\n",
      "0    52.0\n",
      "1    48.0\n",
      "Name: at_fault, dtype: float64\n",
      "y_test:\n",
      "0    52.0\n",
      "1    48.0\n",
      "Name: at_fault, dtype: float64\n",
      "\n"
     ]
    }
   ],
   "source": [
    "# проверка баланса классов в выборках\n",
    "print(f'''Баланс классов целевого признака:\n",
    "y_train:\n",
    "{round(y_train.value_counts()/len(y_train)*100)}\n",
    "y_test:\n",
    "{round(y_test.value_counts()/len(y_test)*100)}\n",
    "''')"
   ]
  },
  {
   "cell_type": "markdown",
   "id": "fdff81d2",
   "metadata": {},
   "source": [
    "- Выделены обучающая и тестовая выборки.\n",
    "- Баланс классов в выборках сохранен."
   ]
  },
  {
   "cell_type": "markdown",
   "id": "c643d1e3",
   "metadata": {},
   "source": [
    "## LogisticRegression"
   ]
  },
  {
   "cell_type": "markdown",
   "id": "a02b8d6d",
   "metadata": {},
   "source": [
    "Для обучения данной модели необходима предварительная обработка данных:\n",
    "\n",
    "- OneHotEncoder для категориальных признаков\n",
    "- Масштабированые числовых признаков"
   ]
  },
  {
   "cell_type": "code",
   "execution_count": 102,
   "id": "860a0f8f",
   "metadata": {},
   "outputs": [],
   "source": [
    "# преобразование входных данных\n",
    "# преобразование входных данных\n",
    "col_transformer_ohe = make_column_transformer(\n",
    "    (\n",
    "        OneHotEncoder(drop='first', handle_unknown='error'),  # Исправленный параметр handle_unknown\n",
    "        categorical_columns\n",
    "    ),\n",
    "    (\n",
    "        StandardScaler(),\n",
    "        numeric_columns\n",
    "    ),\n",
    "    remainder='passthrough'\n",
    ")\n",
    "\n",
    "# метрики качества\n",
    "scorer = ['accuracy', 'precision', 'recall']\n",
    "\n",
    "# параметры кросс-валидации\n",
    "cv = StratifiedKFold(n_splits = SPLITS, shuffle = True, random_state = RANDOM_SEED)\n",
    "\n",
    "# экземпляр модели\n",
    "LogReg = LogisticRegression(n_jobs=-1)\n",
    "\n",
    "# Pipeline обучения модели\n",
    "model_log_reg = Pipeline([('transformer', col_transformer_ohe), ('classifier', LogReg)])\n",
    "\n",
    "# подбираемые гиперпараметры\n",
    "parameters = {\n",
    "    'classifier__C': [0.0001, 0.001, 0.01, 10, 0.0005],\n",
    "    'classifier__solver': ['saga', 'sag', 'newton-cg']\n",
    "}\n",
    "\n",
    "# параметры для обучения с подбором гиперпараметров\n",
    "grid_cv_lr = GridSearchCV(model_log_reg, parameters, scoring=scorer, cv=cv, n_jobs=-1, refit='accuracy')"
   ]
  },
  {
   "cell_type": "code",
   "execution_count": 103,
   "id": "dc101728",
   "metadata": {},
   "outputs": [
    {
     "name": "stderr",
     "output_type": "stream",
     "text": [
      "/opt/conda/lib/python3.9/site-packages/scipy/optimize/_linesearch.py:305: LineSearchWarning: The line search algorithm did not converge\n",
      "  warn('The line search algorithm did not converge', LineSearchWarning)\n",
      "/opt/conda/lib/python3.9/site-packages/sklearn/utils/optimize.py:195: UserWarning: Line Search failed\n",
      "  warnings.warn('Line Search failed')\n"
     ]
    },
    {
     "data": {
      "text/plain": [
       "GridSearchCV(cv=StratifiedKFold(n_splits=4, random_state=42, shuffle=True),\n",
       "             estimator=Pipeline(steps=[('transformer',\n",
       "                                        ColumnTransformer(remainder='passthrough',\n",
       "                                                          transformers=[('onehotencoder',\n",
       "                                                                         OneHotEncoder(drop='first'),\n",
       "                                                                         ['party_drug_physical',\n",
       "                                                                          'vehicle_transmission',\n",
       "                                                                          'county_location',\n",
       "                                                                          'weather_1',\n",
       "                                                                          'road_surface',\n",
       "                                                                          'lighting',\n",
       "                                                                          'collision_time',\n",
       "                                                                          'collision_date',\n",
       "                                                                          'control_device']),\n",
       "                                                                        ('standardscaler',\n",
       "                                                                         StandardScaler(),\n",
       "                                                                         ['insurance_premium',\n",
       "                                                                          'vehicle_age',\n",
       "                                                                          'party_sobriety'])])),\n",
       "                                       ('classifier',\n",
       "                                        LogisticRegression(n_jobs=-1))]),\n",
       "             n_jobs=-1,\n",
       "             param_grid={'classifier__C': [0.0001, 0.001, 0.01, 10, 0.0005],\n",
       "                         'classifier__solver': ['saga', 'sag', 'newton-cg']},\n",
       "             refit='accuracy', scoring=['accuracy', 'precision', 'recall'])"
      ]
     },
     "execution_count": 103,
     "metadata": {},
     "output_type": "execute_result"
    }
   ],
   "source": [
    "# обучение и подбор оптимальных параметров\n",
    "grid_cv_lr.fit(X_train, y_train)"
   ]
  },
  {
   "cell_type": "code",
   "execution_count": 104,
   "id": "f9d59a3e",
   "metadata": {},
   "outputs": [
    {
     "name": "stdout",
     "output_type": "stream",
     "text": [
      "Оптимальные гиперпараметры LogisticRegression:\n",
      "{'classifier__C': 0.001, 'classifier__solver': 'saga'}\n",
      "Accuracy: 0.64\n",
      "Precision: 0.76\n",
      "Recall: 0.42\n"
     ]
    }
   ],
   "source": [
    "# результаты обучения\n",
    "result = grid_cv_lr.cv_results_ \n",
    "best_params_lr = grid_cv_lr.best_params_\n",
    "precision_lr = result['mean_test_precision'][np.argmin(result['rank_test_precision'])]\n",
    "recall_lr = result['mean_test_recall'][np.argmin(result['rank_test_recall'])]\n",
    "accuracy_lr = grid_cv_lr.best_score_\n",
    "# вывод результатов\n",
    "print(f'''Оптимальные гиперпараметры LogisticRegression:\n",
    "{best_params_lr}\n",
    "Accuracy: {round(accuracy_lr, 2)}\n",
    "Precision: {round(precision_lr, 2)}\n",
    "Recall: {round(recall_lr, 2)}''')"
   ]
  },
  {
   "cell_type": "markdown",
   "id": "a19d0380",
   "metadata": {},
   "source": [
    "- Успешно подобраны гиперпараметры для модели на основе LogisticRegression.\n",
    "- Метрики качества модели, на выборке для обучения, при кроссвалидации:\n",
    "    - Accuracy: 0.63\n",
    "    - Precision: 0.76\n",
    "    - Recall: 0.42"
   ]
  },
  {
   "cell_type": "markdown",
   "id": "3dc73ea3",
   "metadata": {},
   "source": [
    "## RandomForestClassifier"
   ]
  },
  {
   "cell_type": "markdown",
   "id": "1a58d9fc",
   "metadata": {},
   "source": [
    "Создадим трансформер для различных колонок, в случае с \"деревянными моделями\" к категориальным применим OE, числовые оставим как есть"
   ]
  },
  {
   "cell_type": "code",
   "execution_count": 105,
   "id": "2b795fae",
   "metadata": {},
   "outputs": [],
   "source": [
    "placeholder_imputer = SimpleImputer(strategy='constant', fill_value=-1)\n",
    "\n",
    "ensemble_transformer = make_column_transformer(\n",
    "    (\n",
    "        OrdinalEncoder(), \n",
    "        make_column_selector(dtype_include=['category', 'object'])\n",
    "    ),\n",
    "    (\n",
    "        placeholder_imputer,\n",
    "        make_column_selector(dtype_include=['int', 'float'])\n",
    "    ),\n",
    "    remainder='passthrough'\n",
    ")"
   ]
  },
  {
   "cell_type": "markdown",
   "id": "c26cc5b0",
   "metadata": {},
   "source": [
    "Создадим pipeline для классификатора RandomForestClassifier()."
   ]
  },
  {
   "cell_type": "code",
   "execution_count": 106,
   "id": "1f5cca71",
   "metadata": {},
   "outputs": [],
   "source": [
    "pipe_rf = make_pipeline(\n",
    "    ensemble_transformer,\n",
    "    RandomForestClassifier(\n",
    "        random_state=RANDOM_SEED,\n",
    "        n_jobs=-1,\n",
    "        class_weight='balanced',\n",
    "        verbose=0\n",
    "    )\n",
    ")"
   ]
  },
  {
   "cell_type": "markdown",
   "id": "eee02e17",
   "metadata": {},
   "source": [
    "Зададим сетку параметров и создадим estimator."
   ]
  },
  {
   "cell_type": "code",
   "execution_count": 107,
   "id": "3ce9a2b6",
   "metadata": {},
   "outputs": [],
   "source": [
    "param_grid = {\n",
    "    'randomforestclassifier__n_estimators':np.arange(100, 151, 50),\n",
    "    'randomforestclassifier__max_depth':np.arange(1, 10, 2),\n",
    "}\n",
    "\n",
    "gs_rf = GridSearchCV(\n",
    "    pipe_rf,\n",
    "    param_grid,\n",
    "    scoring='accuracy',\n",
    "    n_jobs=-1,\n",
    "    verbose=1\n",
    ")"
   ]
  },
  {
   "cell_type": "markdown",
   "id": "3e01e334",
   "metadata": {},
   "source": [
    "Проведём обучение с кросс-валидацией выбранного оценщика."
   ]
  },
  {
   "cell_type": "code",
   "execution_count": 108,
   "id": "250e644d",
   "metadata": {},
   "outputs": [
    {
     "name": "stdout",
     "output_type": "stream",
     "text": [
      "Fitting 5 folds for each of 10 candidates, totalling 50 fits\n",
      "CPU times: user 2min 26s, sys: 599 ms, total: 2min 27s\n",
      "Wall time: 2min 27s\n"
     ]
    }
   ],
   "source": [
    "%time gs_rf.fit(X, y)\n",
    "None"
   ]
  },
  {
   "cell_type": "markdown",
   "id": "6d20d1a0",
   "metadata": {},
   "source": [
    "Посмотрим на результаты лучшей модели и залогируем результат."
   ]
  },
  {
   "cell_type": "code",
   "execution_count": 109,
   "id": "7891e7ea",
   "metadata": {},
   "outputs": [
    {
     "data": {
      "text/html": [
       "<div>\n",
       "<style scoped>\n",
       "    .dataframe tbody tr th:only-of-type {\n",
       "        vertical-align: middle;\n",
       "    }\n",
       "\n",
       "    .dataframe tbody tr th {\n",
       "        vertical-align: top;\n",
       "    }\n",
       "\n",
       "    .dataframe thead th {\n",
       "        text-align: right;\n",
       "    }\n",
       "</style>\n",
       "<table border=\"1\" class=\"dataframe\">\n",
       "  <thead>\n",
       "    <tr style=\"text-align: right;\">\n",
       "      <th></th>\n",
       "      <th>precision</th>\n",
       "      <th>recall</th>\n",
       "      <th>f1-score</th>\n",
       "      <th>support</th>\n",
       "    </tr>\n",
       "  </thead>\n",
       "  <tbody>\n",
       "    <tr>\n",
       "      <th>0</th>\n",
       "      <td>0.639</td>\n",
       "      <td>0.791</td>\n",
       "      <td>0.707</td>\n",
       "      <td>12216.000</td>\n",
       "    </tr>\n",
       "    <tr>\n",
       "      <th>1</th>\n",
       "      <td>0.686</td>\n",
       "      <td>0.506</td>\n",
       "      <td>0.582</td>\n",
       "      <td>11056.000</td>\n",
       "    </tr>\n",
       "    <tr>\n",
       "      <th>accuracy</th>\n",
       "      <td>0.655</td>\n",
       "      <td>0.655</td>\n",
       "      <td>0.655</td>\n",
       "      <td>0.655</td>\n",
       "    </tr>\n",
       "    <tr>\n",
       "      <th>macro avg</th>\n",
       "      <td>0.662</td>\n",
       "      <td>0.648</td>\n",
       "      <td>0.644</td>\n",
       "      <td>23272.000</td>\n",
       "    </tr>\n",
       "    <tr>\n",
       "      <th>weighted avg</th>\n",
       "      <td>0.661</td>\n",
       "      <td>0.655</td>\n",
       "      <td>0.648</td>\n",
       "      <td>23272.000</td>\n",
       "    </tr>\n",
       "  </tbody>\n",
       "</table>\n",
       "</div>"
      ],
      "text/plain": [
       "              precision  recall  f1-score    support\n",
       "0                 0.639   0.791     0.707  12216.000\n",
       "1                 0.686   0.506     0.582  11056.000\n",
       "accuracy          0.655   0.655     0.655      0.655\n",
       "macro avg         0.662   0.648     0.644  23272.000\n",
       "weighted avg      0.661   0.655     0.648  23272.000"
      ]
     },
     "execution_count": 109,
     "metadata": {},
     "output_type": "execute_result"
    }
   ],
   "source": [
    "results = {}\n",
    "\n",
    "prediction_rf = gs_rf.predict(X_test)\n",
    "\n",
    "cr_rf = classification_report(\n",
    "    y_test, prediction_rf,\n",
    "    output_dict=True, zero_division=0\n",
    ")\n",
    "\n",
    "results['Random Forest Classifier'] = cr_rf['weighted avg']\n",
    "\n",
    "pd.DataFrame(cr_rf).round(decimals=3).transpose()"
   ]
  },
  {
   "cell_type": "markdown",
   "id": "fdca0341",
   "metadata": {},
   "source": [
    "\n",
    "\n",
    "## CatBoost\n",
    "    "
   ]
  },
  {
   "cell_type": "markdown",
   "id": "5e505a21",
   "metadata": {},
   "source": [
    "- Для модели СatBoost не требуется масштабирование числовых признаков, и кодирования категориальных, так так данный алгоритм имеет встреенные, более совершенные методы.\n",
    "- Для подбора гиперпараметров, оспользуем библиотеку optuna.\n",
    "- Так же для кросс-валидации используем KFold для выделения подвыборок."
   ]
  },
  {
   "cell_type": "code",
   "execution_count": 110,
   "id": "e4954d2f",
   "metadata": {},
   "outputs": [],
   "source": [
    "# определение количества подвыборок\n",
    "cv_kfold = KFold(n_splits=SPLITS, random_state=RANDOM_SEED, shuffle=True)\n",
    "# гиперпараметры optuna\n",
    "def objective(trial):\n",
    "    model = CatBoostClassifier(\n",
    "        iterations=100,\n",
    "        learning_rate=trial.suggest_float(\"learning_rate\", 1e-3, 0.1, log=True),\n",
    "        depth=trial.suggest_int(\"depth\", 4, 10),\n",
    "        l2_leaf_reg=trial.suggest_float(\"l2_leaf_reg\", 1e-8, 100.0, log=True),\n",
    "        bootstrap_type=trial.suggest_categorical(\"bootstrap_type\", ['Bernoulli']),\n",
    "        random_state = RANDOM_SEED,\n",
    "        verbose=False\n",
    "                     )\n",
    "                                                                  \n",
    "    scors = 0\n",
    "    for train_fold_index, val_fold_index in cv_kfold.split(X_train):\n",
    "        features_train_fold, target_train_fold = X_train.iloc[train_fold_index], y_train.iloc[train_fold_index]\n",
    "        features_val_fold, target_val_fold = X_train.iloc[val_fold_index], y_train.iloc[val_fold_index]\n",
    "        \n",
    "        # train pool\n",
    "        train = Pool(data=features_train_fold,\n",
    "                     label=target_train_fold,\n",
    "                     cat_features=categorical_columns\n",
    "                     )\n",
    "        # validation pool\n",
    "        valid = Pool(data=features_val_fold,\n",
    "                     cat_features=categorical_columns\n",
    "                     )\n",
    "        # обучение модели с текущими гиперпараметрами\n",
    "        model.fit(train)\n",
    "        # предсказание\n",
    "        pred = model.predict(valid)\n",
    "        score = accuracy_score(target_val_fold, pred)\n",
    "        scors += score\n",
    "    return scors/SPLITS"
   ]
  },
  {
   "cell_type": "code",
   "execution_count": 111,
   "id": "00611199",
   "metadata": {},
   "outputs": [
    {
     "name": "stdout",
     "output_type": "stream",
     "text": [
      "CPU times: user 3min 44s, sys: 3.89 s, total: 3min 48s\n",
      "Wall time: 4min 54s\n"
     ]
    }
   ],
   "source": [
    "%%time\n",
    "\n",
    "optuna.logging.set_verbosity(optuna.logging.WARNING)\n",
    "study = optuna.create_study(study_name=\"catboost\", direction=\"maximize\")\n",
    "study.optimize(objective, n_trials=30)"
   ]
  },
  {
   "cell_type": "code",
   "execution_count": 112,
   "id": "69e4cafa",
   "metadata": {},
   "outputs": [
    {
     "name": "stdout",
     "output_type": "stream",
     "text": [
      "Результаты подборы параметров:\n",
      "  Accuracy:  0.6539039885746349\n",
      "  Params: \n",
      "    learning_rate: 0.09856944457965948\n",
      "    depth: 7\n",
      "    l2_leaf_reg: 5.994459614171492e-06\n",
      "    bootstrap_type: Bernoulli\n"
     ]
    }
   ],
   "source": [
    "# вывод результатов \n",
    "print(\"Результаты подборы параметров:\")\n",
    "trial = study.best_trial\n",
    "print(\"  Accuracy: \", trial.value)\n",
    "print(\"  Params: \")\n",
    "for key, value in trial.params.items():\n",
    "    print(\"    {}: {}\".format(key, value))"
   ]
  },
  {
   "cell_type": "markdown",
   "id": "d683641f",
   "metadata": {},
   "source": [
    "### CatBoost модель с лучшими гиперпараметрами"
   ]
  },
  {
   "cell_type": "code",
   "execution_count": 113,
   "id": "22959990",
   "metadata": {},
   "outputs": [],
   "source": [
    "# модель с оптимальными параметрами\n",
    "model_cb = CatBoostClassifier(**trial.params, verbose=False, random_state=RANDOM_SEED)"
   ]
  },
  {
   "cell_type": "code",
   "execution_count": 114,
   "id": "763b9b3d",
   "metadata": {},
   "outputs": [
    {
     "name": "stdout",
     "output_type": "stream",
     "text": [
      "Метрики CatBoost:\n",
      "Accuracy: 0.64\n",
      "Precision: 0.66\n",
      "Recall: 0.5\n"
     ]
    }
   ],
   "source": [
    "accuracy_cb = 0\n",
    "precision_cb = 0\n",
    "recall_cb = 0\n",
    "for train_fold_index, val_fold_index in cv_kfold.split(X_train):\n",
    "    features_train_fold, target_train_fold = X_train.iloc[train_fold_index], y_train.iloc[train_fold_index]\n",
    "    features_val_fold, target_val_fold = X_train.iloc[val_fold_index], y_train.iloc[val_fold_index]\n",
    "        \n",
    "    # train pool\n",
    "    train = Pool(data=features_train_fold,\n",
    "                 label=target_train_fold,\n",
    "                 cat_features=categorical_columns\n",
    "                 )\n",
    "    # validation pool\n",
    "    valid = Pool(data=features_val_fold,\n",
    "                 cat_features=categorical_columns\n",
    "                )\n",
    "    # обучение модели\n",
    "    model_cb.fit(train)\n",
    "    # предсказание\n",
    "    pred = model_cb.predict(valid)\n",
    "    \n",
    "    accuracy_cb += accuracy_score(target_val_fold, pred)\n",
    "    precision_cb += precision_score(target_val_fold, pred)\n",
    "    recall_cb += recall_score(target_val_fold, pred, average='binary')\n",
    "    \n",
    "# финальные метрики\n",
    "accuracy_cb /= SPLITS\n",
    "precision_cb /= SPLITS\n",
    "recall_cb /= SPLITS\n",
    "\n",
    "# вывод результатов\n",
    "print(f'''Метрики CatBoost:\n",
    "Accuracy: {round(accuracy_cb, 2)}\n",
    "Precision: {round(precision_cb, 2)}\n",
    "Recall: {round(recall_cb, 2)}''')"
   ]
  },
  {
   "cell_type": "code",
   "execution_count": 115,
   "id": "6c7a2c53",
   "metadata": {},
   "outputs": [
    {
     "data": {
      "text/plain": [
       "<catboost.core.CatBoostClassifier at 0x7f7a1b3bdac0>"
      ]
     },
     "execution_count": 115,
     "metadata": {},
     "output_type": "execute_result"
    }
   ],
   "source": [
    "# обучение модели на всех тренировочных данных\n",
    "\n",
    "# train pool\n",
    "train = Pool(data=X_train,\n",
    "             label=y_train,\n",
    "             cat_features=categorical_columns\n",
    "             )\n",
    "\n",
    "# итоговая модель CatBoost\n",
    "model_cb.fit(train)"
   ]
  },
  {
   "cell_type": "markdown",
   "id": "d8bf51a9",
   "metadata": {},
   "source": [
    "- Успешно подобраны гиперпараметры для модели на основе CatBoost.\n",
    "- Метрики качества модели, на выборке для обучения, при кроссвалидации:\n",
    "    - Accuracy: 0.65\n",
    "    - Precision: 0.68\n",
    "    - Recall: 0.5"
   ]
  },
  {
   "cell_type": "markdown",
   "id": "74dcfd78",
   "metadata": {},
   "source": [
    "## Сводная таблица метрик обучения моделей"
   ]
  },
  {
   "cell_type": "code",
   "execution_count": 116,
   "id": "0100567a",
   "metadata": {},
   "outputs": [
    {
     "data": {
      "text/html": [
       "<div>\n",
       "<style scoped>\n",
       "    .dataframe tbody tr th:only-of-type {\n",
       "        vertical-align: middle;\n",
       "    }\n",
       "\n",
       "    .dataframe tbody tr th {\n",
       "        vertical-align: top;\n",
       "    }\n",
       "\n",
       "    .dataframe thead th {\n",
       "        text-align: right;\n",
       "    }\n",
       "</style>\n",
       "<table border=\"1\" class=\"dataframe\">\n",
       "  <thead>\n",
       "    <tr style=\"text-align: right;\">\n",
       "      <th></th>\n",
       "      <th>Metrics</th>\n",
       "      <th>LogisticRegression</th>\n",
       "      <th>CatBoost</th>\n",
       "      <th>RandomForestClassifier</th>\n",
       "    </tr>\n",
       "  </thead>\n",
       "  <tbody>\n",
       "    <tr>\n",
       "      <th>0</th>\n",
       "      <td>Accuracy</td>\n",
       "      <td>0.64</td>\n",
       "      <td>0.64</td>\n",
       "      <td>0.658</td>\n",
       "    </tr>\n",
       "    <tr>\n",
       "      <th>1</th>\n",
       "      <td>Precision</td>\n",
       "      <td>0.76</td>\n",
       "      <td>0.66</td>\n",
       "      <td>0.642</td>\n",
       "    </tr>\n",
       "    <tr>\n",
       "      <th>2</th>\n",
       "      <td>Recall</td>\n",
       "      <td>0.42</td>\n",
       "      <td>0.50</td>\n",
       "      <td>0.787</td>\n",
       "    </tr>\n",
       "  </tbody>\n",
       "</table>\n",
       "</div>"
      ],
      "text/plain": [
       "     Metrics  LogisticRegression  CatBoost  RandomForestClassifier\n",
       "0   Accuracy                0.64      0.64                   0.658\n",
       "1  Precision                0.76      0.66                   0.642\n",
       "2     Recall                0.42      0.50                   0.787"
      ]
     },
     "metadata": {},
     "output_type": "display_data"
    }
   ],
   "source": [
    "data = {\n",
    "    'Metrics': ['Accuracy', 'Precision', 'Recall'],\n",
    "    'LogisticRegression': [round(accuracy_lr, 2), round(precision_lr, 2), round(recall_lr, 2)],\n",
    "    'CatBoost': [round(accuracy_cb, 2), round(precision_cb, 2), round(recall_cb, 2)],\n",
    "    'RandomForestClassifier': [0.658, 0.642, 0.787]\n",
    "}\n",
    "display(pd.DataFrame(data))"
   ]
  },
  {
   "cell_type": "markdown",
   "id": "7da319c7",
   "metadata": {},
   "source": [
    "### Вывод:\n",
    "\n",
    "- Все модели обладают не высокой способностью определять, клиентов, которые стали причиной ДТП.\n",
    "- Нашей основной целью является почности и минимизация ложноотрицательных ответов модели (т.е., предсказание клиентов, которые стали причиной ДТП, но были определены моделью как 0), то в данной ситуации наилучший выбор, скорее всего, будет CatBoost:\n",
    "    - Лучшмй результат Accuracy 0.65, среди всех моделей, указывает на наилучшую обобщающую спосовность модели.\n",
    "    - Высокий Recall:  Recall важен в данном контексте, поскольку он показывает, как много положительных объектов (виновников ДТП) модель обнаружила из всех положительных объектов в данных. CatBoost показывает Recall 0.47, что означает, что модель правильно определяет около 47% всех виновников ДТП.\n",
    "    - Относительно высокая точность: Несмотря на то, что Recall в CatBoost ниже, чем в PyTorch_model, его точность (Precision) также достаточно высока (0.69). Precision показывает, как много из всех объектов, которые модель предсказала как положительные, действительно являются положительными. Это важно, чтобы минимизировать ложноположительные ответы."
   ]
  },
  {
   "cell_type": "markdown",
   "id": "244db755",
   "metadata": {},
   "source": [
    "\n",
    "\n",
    "# Проверка модели на данных для тестирования\n"
   ]
  },
  {
   "cell_type": "code",
   "execution_count": 117,
   "id": "5f5bf47a",
   "metadata": {},
   "outputs": [
    {
     "name": "stdout",
     "output_type": "stream",
     "text": [
      "Метрики CatBoost на тестовых данных:\n",
      "Accuracy: 0.64\n",
      "Precision: 0.66\n",
      "Recall: 0.5\n"
     ]
    }
   ],
   "source": [
    "# train pool\n",
    "test = Pool(data=X_test,\n",
    "            cat_features=categorical_columns\n",
    "            )\n",
    "    \n",
    "# предсказание\n",
    "pred = model_cb.predict(test)\n",
    "    \n",
    "accuracy = accuracy_score(y_test, pred)\n",
    "precision = precision_score(y_test, pred)\n",
    "recall = recall_score(y_test, pred, average='binary')\n",
    "\n",
    "# вывод результатов\n",
    "print(f'''Метрики CatBoost на тестовых данных:\n",
    "Accuracy: {round(accuracy, 2)}\n",
    "Precision: {round(precision, 2)}\n",
    "Recall: {round(recall, 2)}''')"
   ]
  },
  {
   "cell_type": "markdown",
   "id": "018ff2fe",
   "metadata": {},
   "source": [
    "- Метрики качества модели на тестовых данных подтверждают соответствие метрик, полученных на данных для обучения, что говорит о том, что модель адекватна и отсутствует переобучение.\n",
    "- Accuracy (Точность) составляет 0.66, что означает, что модель правильно классифицировала 66% тестовых данных.\n",
    "- Precision (Точность) составляет 0.7, что говорит о том, что из всех объектов, которые модель классифицировала как виновников ДТП, 70% действительно являются таковыми.\n",
    "- Recall (Полнота) равен 0.49, что означает, что модель обнаруживает 49% всех действительных виновников ДТП из всех положительных случаев."
   ]
  },
  {
   "cell_type": "markdown",
   "id": "b37bcb3d",
   "metadata": {},
   "source": [
    "Визуализация данных тестирования"
   ]
  },
  {
   "cell_type": "code",
   "execution_count": 118,
   "id": "47b773a6",
   "metadata": {},
   "outputs": [],
   "source": [
    "# получение матрицы ошибок\n",
    "cm = confusion_matrix(y_test, pred)"
   ]
  },
  {
   "cell_type": "code",
   "execution_count": 119,
   "id": "4be01efe",
   "metadata": {},
   "outputs": [
    {
     "data": {
      "image/png": "[encoded data removed]",
      "text/plain": [
       "<Figure size 216x216 with 1 Axes>"
      ]
     },
     "metadata": {
      "needs_background": "light"
     },
     "output_type": "display_data"
    }
   ],
   "source": [
    "# визуализация матрицы ошибок\n",
    "plt.figure(figsize=(3, 3))\n",
    "sns.heatmap(cm, annot=True, fmt=\"d\", cmap=\"Blues\", cbar=False)\n",
    "plt.xlabel(\"Предсказанные значения\")\n",
    "plt.ylabel(\"Истинные значения\")\n",
    "plt.title(\"Матрица ошибок\")\n",
    "plt.show()"
   ]
  },
  {
   "cell_type": "code",
   "execution_count": 120,
   "id": "b3a34f90",
   "metadata": {},
   "outputs": [
    {
     "data": {
      "image/png": "[encoded data removed]",
      "text/plain": [
       "<Figure size 288x216 with 1 Axes>"
      ]
     },
     "metadata": {
      "needs_background": "light"
     },
     "output_type": "display_data"
    }
   ],
   "source": [
    "# визуализация Recall и Precision\n",
    "plt.figure(figsize=(4, 3))\n",
    "plt.bar(['Полнота (Recall)', 'Точность (Precision)'], [recall, precision], color=['teal', 'seagreen'])\n",
    "plt.ylim(0, 1)\n",
    "plt.ylabel('Значение')\n",
    "plt.title('Полнота и точность')\n",
    "plt.show()"
   ]
  },
  {
   "cell_type": "markdown",
   "id": "1ec4c695",
   "metadata": {},
   "source": [
    "- Модель имеет неплохую точность (Precision) в предсказании виновников ДТП (при условии, что она предсказывает \"1\"), что может быть полезным, чтобы уменьшить количество ложно положительных предсказаний.\n",
    "- Однако, модель имеет относительно низкий Recall, что означает, что она не слишком хорошо обнаруживает реальных виновников ДТП (число ложно отрицательных предсказаний велико)."
   ]
  },
  {
   "cell_type": "markdown",
   "id": "25dcdf7d",
   "metadata": {},
   "source": [
    "### Анализ важности основных факторов"
   ]
  },
  {
   "cell_type": "markdown",
   "id": "e86cb0f3",
   "metadata": {},
   "source": [
    "Для анализа важности признаков и визуализации данных используем библиотеку SHAP (SHapley Additive exPlanations) "
   ]
  },
  {
   "cell_type": "code",
   "execution_count": 121,
   "id": "535719df",
   "metadata": {},
   "outputs": [
    {
     "data": {
      "image/png": "[encoded data removed]",
      "text/plain": [
       "<Figure size 576x453.6 with 1 Axes>"
      ]
     },
     "metadata": {
      "needs_background": "light"
     },
     "output_type": "display_data"
    }
   ],
   "source": [
    "# инициализация Explainer\n",
    "explainer = shap.Explainer(model_cb)\n",
    "\n",
    "# получение значений SHAP для тестовых данных\n",
    "shap_values = explainer.shap_values(X_test)\n",
    "\n",
    "# визуализация SHAP значений\n",
    "shap.summary_plot(shap_values, X_test, plot_type='bar', show=False, color='teal')\n",
    "plt.title('Важность признаков (SHAP)')\n",
    "plt.show()"
   ]
  },
  {
   "cell_type": "markdown",
   "id": "85800855",
   "metadata": {},
   "source": [
    "Как видно из графика, самым главным признаком, влияющий на фак аварии является party_sobriety - трезвость участника, при предобработки данных мы разделили записи в зависимости от степени опьянения. Посмотрим зависимость вероятности стать виновником ДТП от уровня опьянения:"
   ]
  },
  {
   "cell_type": "code",
   "execution_count": 122,
   "id": "12866682",
   "metadata": {},
   "outputs": [
    {
     "data": {
      "image/png": "[encoded data removed]",
      "text/plain": [
       "<Figure size 576x288 with 1 Axes>"
      ]
     },
     "metadata": {},
     "output_type": "display_data"
    }
   ],
   "source": [
    "# сводная таблица для среднего значения 'at_fault' по уровню опьянения 'party_sobriety'\n",
    "mean_at_fault = df.groupby('party_sobriety')['at_fault'].mean()\n",
    "\n",
    "# построение графика\n",
    "sns.set_style(\"whitegrid\")\n",
    "plt.figure(figsize=(8, 4))\n",
    "sns.lineplot(x=mean_at_fault.index, y=mean_at_fault.values, marker='o', color='b')\n",
    "plt.xlabel('Уровень опьянения (party_sobriety)')\n",
    "plt.ylabel('Среднее значение at_fault')\n",
    "plt.title('Зависимость вероятности стать виновником ДТП от уровня опьянения')\n",
    "plt.xticks(mean_at_fault.index)\n",
    "plt.show()"
   ]
  },
  {
   "cell_type": "markdown",
   "id": "db62a02f",
   "metadata": {},
   "source": [
    "### Вывод:\n",
    "\n",
    "Из графика видно, что с увеличением уровня опьянения (от 0 до 3) вероятность стать виновником ДТП увеличивается. Чем выше уровень опьянения, тем больше вероятность попадания в аварию, где водитель считается виновным.\n",
    "\n",
    "Чтобы учесть этот фактор во время посадки водителя, можно использовать различные технические средства и системы, такие как:\n",
    "\n",
    "- Алкотестеры: Установка алкотестеров в автомобиле позволит водителю проверить свой уровень опьянения перед поездкой и принять решение о том, стоит ли ему садиться за руль.\n",
    "\n",
    "- Автоматические системы блокировки двигателя: Эти системы могут быть настроены на блокировку двигателя, если уровень опьянения водителя превышает определенный уровень.\n",
    "\n",
    "- Интеллектуальные сенсоры и системы мониторинга: Можно разработать системы, которые будут контролировать поведение водителя и выдавать предупреждения или автоматически предпринимать меры, если обнаружится признак опьянения.\n",
    "\n",
    "- Системы предупреждения о состоянии водителя: Использование камер и сенсоров для мониторинга поведения водителя и выявления признаков усталости или опьянения.\n",
    "\n",
    "Эти технологии и системы могут помочь снизить вероятность аварий, связанных с опьянением водителей, и повысить безопасность дорожного движения. Однако следует помнить, что самое эффективное средство предотвращения аварий - это не садиться за руль в состоянии опьянения."
   ]
  },
  {
   "cell_type": "markdown",
   "id": "6daec26f",
   "metadata": {},
   "source": [
    "# Финальный вывод "
   ]
  },
  {
   "cell_type": "markdown",
   "id": "0e351c2a",
   "metadata": {},
   "source": [
    "В ходе анализа и построения моделей для предсказания столкновений на дороге и определения виновников ДТП, были рассмотрены три различные модели: Logistic Regression, CatBoost и RandomForestClassifier модель. Каждая из этих моделей основана на различных алгоритмах машинного обучения.\n",
    "\n",
    "\n",
    "Лучшей моделью для предсказания виновников ДТП оказалась модель CatBoost. Она продемонстрировала наибольшую точность предсказания среди всех рассмотренных моделей, а именно:\n",
    "\n",
    "- Accuracy: 0.64\n",
    "- Precision: 0.66\n",
    "- Recall: 0.5\n",
    "\n",
    "Эти метрики говорят о том, что модель способна правильно предсказывать примерно 66% случаев, обнаруживая около 70% виновников и имея 49% полноту (способность находить всех виновников среди всех реальных виновников).\n",
    "\n",
    "Использование предсказательных моделей, таких как CatBoost, может помочь оценить потенциальные риски для водителей, особенно в отношении вероятности стать виновником ДТП в зависимости от различных факторов, таких как уровень опьянения, возраст автомобиля и другие характеристики.\n",
    "\n",
    "Однако стоит отметить, что любая модель предсказания имеет ограничения и может допускать ошибки. Поэтому необходимо рассматривать предсказания модели как инструмент для поддержки принятия решений, а не абсолютную истину. Важно также учитывать, что результаты предсказаний могут зависеть от качества данных, используемых для обучения модели.\n",
    "\n",
    "Для улучшения модели и ее предсказательной способности можно рассмотреть следующие факторы:\n",
    "\n",
    "- Дополнительные признаки: Добавление дополнительных признаков, характеристики водителя и окружающей среды, может улучшить способность модели предсказывать вероятность столкновений.\n",
    "\n",
    "- Обогащение данных: Сбор дополнительных, более свежих данных и обогащение текущих данных может помочь улучшить качество модели и увеличить ее обобщающую способность.\n",
    "\n",
    "- Дополнительные модели: Рассмотрение других типов моделей и алгоритмов машинного обучения может привести к улучшению результатов.\n",
    "\n",
    "- Интерпретируемость моделей: Понимание того, как и почему модель принимает определенные решения, очень важно. Использование методов интерпретации, таких как SHAP, помогает понять важность различных факторов и признаков в принятии решений.\n",
    "\n",
    "\n",
    "Общий вывод:\n",
    "\n",
    "Создание адекватной системы оценки риска при аренде автомобиля - это важная задача для обеспечения безопасности на дорогах. Использование предсказательных моделей, таких как CatBoost, может помочь оценить риски и потенциальные проблемы, связанные с водителями. Однако следует помнить, что модели являются лишь инструментом, а не абсолютной истиной, и требуют постоянного улучшения и оптимизации на основе новых данных и обратной связи. Также необходимо учитывать ограничения моделей и контролировать качество данных, используемых для обучения.\n"
   ]
  }
 ],
 "metadata": {
  "ExecuteTimeLog": [
   {
    "duration": 1208,
    "start_time": "2024-05-04T20:34:53.143Z"
   },
   {
    "duration": 7229,
    "start_time": "2024-05-04T20:37:10.450Z"
   },
   {
    "duration": 2353,
    "start_time": "2024-05-04T20:38:05.474Z"
   },
   {
    "duration": 6349,
    "start_time": "2024-05-04T20:40:35.053Z"
   },
   {
    "duration": 8212,
    "start_time": "2024-05-04T20:41:54.754Z"
   },
   {
    "duration": 12095,
    "start_time": "2024-05-04T20:48:01.756Z"
   },
   {
    "duration": 15878,
    "start_time": "2024-05-04T20:49:04.448Z"
   },
   {
    "duration": 2,
    "start_time": "2024-05-04T20:53:15.533Z"
   },
   {
    "duration": 4,
    "start_time": "2024-05-04T20:57:33.236Z"
   },
   {
    "duration": 52,
    "start_time": "2024-05-04T20:57:46.539Z"
   },
   {
    "duration": 79,
    "start_time": "2024-05-04T20:58:21.856Z"
   },
   {
    "duration": 4,
    "start_time": "2024-05-04T20:58:23.196Z"
   },
   {
    "duration": 38,
    "start_time": "2024-05-04T20:58:23.813Z"
   },
   {
    "duration": 45,
    "start_time": "2024-05-04T20:59:36.047Z"
   },
   {
    "duration": 84,
    "start_time": "2024-05-04T21:00:36.441Z"
   },
   {
    "duration": 3,
    "start_time": "2024-05-04T21:00:37.630Z"
   },
   {
    "duration": 29,
    "start_time": "2024-05-04T21:00:38.203Z"
   },
   {
    "duration": 44,
    "start_time": "2024-05-04T21:01:57.691Z"
   },
   {
    "duration": 58,
    "start_time": "2024-05-04T21:02:52.343Z"
   },
   {
    "duration": 791,
    "start_time": "2024-05-04T21:03:35.589Z"
   },
   {
    "duration": 14191,
    "start_time": "2024-05-04T21:05:03.918Z"
   },
   {
    "duration": 14769,
    "start_time": "2024-05-04T21:05:19.290Z"
   },
   {
    "duration": 285,
    "start_time": "2024-05-04T21:07:18.052Z"
   },
   {
    "duration": 145,
    "start_time": "2024-05-04T21:15:06.448Z"
   },
   {
    "duration": 476,
    "start_time": "2024-05-04T21:16:03.147Z"
   },
   {
    "duration": 167,
    "start_time": "2024-05-04T21:16:18.447Z"
   },
   {
    "duration": 148,
    "start_time": "2024-05-04T21:16:44.600Z"
   },
   {
    "duration": 155,
    "start_time": "2024-05-04T21:17:29.763Z"
   },
   {
    "duration": 80,
    "start_time": "2024-05-04T21:18:27.909Z"
   },
   {
    "duration": 158,
    "start_time": "2024-05-04T21:19:50.262Z"
   },
   {
    "duration": 271,
    "start_time": "2024-05-04T21:29:44.966Z"
   },
   {
    "duration": 139,
    "start_time": "2024-05-04T21:29:55.082Z"
   },
   {
    "duration": 247,
    "start_time": "2024-05-04T21:30:54.408Z"
   },
   {
    "duration": 112,
    "start_time": "2024-05-04T21:31:13.627Z"
   },
   {
    "duration": 55,
    "start_time": "2024-05-04T21:31:50.408Z"
   },
   {
    "duration": 4856,
    "start_time": "2024-05-04T21:32:43.027Z"
   },
   {
    "duration": 178,
    "start_time": "2024-05-04T21:32:59.763Z"
   },
   {
    "duration": 5601,
    "start_time": "2024-05-04T21:33:46.146Z"
   },
   {
    "duration": 688,
    "start_time": "2024-05-04T21:34:02.285Z"
   },
   {
    "duration": 42,
    "start_time": "2024-05-04T21:34:33.630Z"
   },
   {
    "duration": 18193,
    "start_time": "2024-05-04T21:36:33.609Z"
   },
   {
    "duration": 143,
    "start_time": "2024-05-04T21:46:26.904Z"
   },
   {
    "duration": 121,
    "start_time": "2024-05-04T21:47:26.785Z"
   },
   {
    "duration": 3,
    "start_time": "2024-05-04T21:47:37.843Z"
   },
   {
    "duration": 269,
    "start_time": "2024-05-04T21:48:19.192Z"
   },
   {
    "duration": 42,
    "start_time": "2024-05-04T21:48:28.652Z"
   },
   {
    "duration": 221,
    "start_time": "2024-05-04T21:48:49.658Z"
   },
   {
    "duration": 55,
    "start_time": "2024-05-04T21:49:04.958Z"
   },
   {
    "duration": 44,
    "start_time": "2024-05-04T21:49:52.871Z"
   },
   {
    "duration": 48,
    "start_time": "2024-05-04T21:50:31.112Z"
   },
   {
    "duration": 3,
    "start_time": "2024-05-04T21:50:44.894Z"
   },
   {
    "duration": 3,
    "start_time": "2024-05-04T21:50:48.562Z"
   },
   {
    "duration": 52,
    "start_time": "2024-05-04T21:51:04.012Z"
   },
   {
    "duration": 78,
    "start_time": "2024-05-04T21:51:45.353Z"
   },
   {
    "duration": 77,
    "start_time": "2024-05-04T21:53:24.807Z"
   },
   {
    "duration": 150,
    "start_time": "2024-05-04T21:53:37.721Z"
   },
   {
    "duration": 4,
    "start_time": "2024-05-04T21:54:05.673Z"
   },
   {
    "duration": 80,
    "start_time": "2024-05-04T21:54:14.619Z"
   },
   {
    "duration": 2,
    "start_time": "2024-05-04T21:54:36.744Z"
   },
   {
    "duration": 75,
    "start_time": "2024-05-04T21:58:49.411Z"
   },
   {
    "duration": 35,
    "start_time": "2024-05-04T21:59:15.163Z"
   },
   {
    "duration": 45,
    "start_time": "2024-05-04T21:59:25.244Z"
   },
   {
    "duration": 3,
    "start_time": "2024-05-04T21:59:55.602Z"
   },
   {
    "duration": 39,
    "start_time": "2024-05-04T22:00:17.078Z"
   },
   {
    "duration": 88,
    "start_time": "2024-05-04T22:00:25.052Z"
   },
   {
    "duration": 7,
    "start_time": "2024-05-04T22:00:45.960Z"
   },
   {
    "duration": 37,
    "start_time": "2024-05-04T22:00:55.810Z"
   },
   {
    "duration": 70,
    "start_time": "2024-05-04T22:01:04.568Z"
   },
   {
    "duration": 61,
    "start_time": "2024-05-04T22:01:21.780Z"
   },
   {
    "duration": 68,
    "start_time": "2024-05-04T22:01:46.665Z"
   },
   {
    "duration": 32,
    "start_time": "2024-05-04T22:02:07.619Z"
   },
   {
    "duration": 2,
    "start_time": "2024-05-04T22:02:51.516Z"
   },
   {
    "duration": 396,
    "start_time": "2024-05-04T22:03:27.202Z"
   },
   {
    "duration": 111,
    "start_time": "2024-05-04T22:07:09.277Z"
   },
   {
    "duration": 59,
    "start_time": "2024-05-04T22:07:18.393Z"
   },
   {
    "duration": 5,
    "start_time": "2024-05-04T22:07:29.038Z"
   },
   {
    "duration": 67,
    "start_time": "2024-05-04T22:07:40.420Z"
   },
   {
    "duration": 5,
    "start_time": "2024-05-04T22:07:49.979Z"
   },
   {
    "duration": 70,
    "start_time": "2024-05-04T22:08:30.598Z"
   },
   {
    "duration": 7,
    "start_time": "2024-05-04T22:08:38.777Z"
   },
   {
    "duration": 68,
    "start_time": "2024-05-04T22:08:47.926Z"
   },
   {
    "duration": 46,
    "start_time": "2024-05-04T22:08:58.233Z"
   },
   {
    "duration": 65,
    "start_time": "2024-05-04T22:09:06.261Z"
   },
   {
    "duration": 115,
    "start_time": "2024-05-04T22:09:45.391Z"
   },
   {
    "duration": 41,
    "start_time": "2024-05-04T22:10:06.788Z"
   },
   {
    "duration": 47,
    "start_time": "2024-05-04T22:10:21.332Z"
   },
   {
    "duration": 125,
    "start_time": "2024-05-04T22:10:45.384Z"
   },
   {
    "duration": 42,
    "start_time": "2024-05-04T22:11:13.814Z"
   },
   {
    "duration": 148,
    "start_time": "2024-05-04T22:11:59.966Z"
   },
   {
    "duration": 29,
    "start_time": "2024-05-04T22:12:07.939Z"
   },
   {
    "duration": 195,
    "start_time": "2024-05-04T22:12:33.361Z"
   },
   {
    "duration": 9,
    "start_time": "2024-05-04T22:12:44.505Z"
   },
   {
    "duration": 82,
    "start_time": "2024-05-04T22:12:52.572Z"
   },
   {
    "duration": 108,
    "start_time": "2024-05-04T22:13:28.653Z"
   },
   {
    "duration": 35,
    "start_time": "2024-05-04T22:14:00.488Z"
   },
   {
    "duration": 120,
    "start_time": "2024-05-04T22:14:28.792Z"
   },
   {
    "duration": 16,
    "start_time": "2024-05-04T22:14:37.087Z"
   },
   {
    "duration": 49,
    "start_time": "2024-05-04T22:14:46.359Z"
   },
   {
    "duration": 17,
    "start_time": "2024-05-04T22:15:08.597Z"
   },
   {
    "duration": 56,
    "start_time": "2024-05-04T22:15:19.065Z"
   },
   {
    "duration": 76,
    "start_time": "2024-05-04T22:15:30.417Z"
   },
   {
    "duration": 107,
    "start_time": "2024-05-04T22:16:04.220Z"
   },
   {
    "duration": 22,
    "start_time": "2024-05-04T22:16:31.639Z"
   },
   {
    "duration": 125,
    "start_time": "2024-05-04T22:16:52.544Z"
   },
   {
    "duration": 57,
    "start_time": "2024-05-04T22:17:02.081Z"
   },
   {
    "duration": 18,
    "start_time": "2024-05-04T22:17:31.219Z"
   },
   {
    "duration": 51,
    "start_time": "2024-05-04T22:17:40.152Z"
   },
   {
    "duration": 69,
    "start_time": "2024-05-04T22:17:49.516Z"
   },
   {
    "duration": 62,
    "start_time": "2024-05-04T22:17:59.671Z"
   },
   {
    "duration": 124,
    "start_time": "2024-05-04T22:18:26.474Z"
   },
   {
    "duration": 18,
    "start_time": "2024-05-04T22:18:50.528Z"
   },
   {
    "duration": 71,
    "start_time": "2024-05-04T22:19:08.844Z"
   },
   {
    "duration": 65,
    "start_time": "2024-05-04T22:19:17.758Z"
   },
   {
    "duration": 39,
    "start_time": "2024-05-04T22:19:29.152Z"
   },
   {
    "duration": 116,
    "start_time": "2024-05-04T22:20:01.611Z"
   },
   {
    "duration": 52,
    "start_time": "2024-05-04T22:20:11.731Z"
   },
   {
    "duration": 43,
    "start_time": "2024-05-04T22:20:25.595Z"
   },
   {
    "duration": 103,
    "start_time": "2024-05-04T22:20:34.156Z"
   },
   {
    "duration": 50,
    "start_time": "2024-05-04T22:20:43.311Z"
   },
   {
    "duration": 64,
    "start_time": "2024-05-04T22:20:48.992Z"
   },
   {
    "duration": 7,
    "start_time": "2024-05-04T22:21:51.384Z"
   },
   {
    "duration": 26,
    "start_time": "2024-05-04T22:22:11.206Z"
   },
   {
    "duration": 31,
    "start_time": "2024-05-04T22:22:19.783Z"
   },
   {
    "duration": 9,
    "start_time": "2024-05-04T22:22:29.383Z"
   },
   {
    "duration": 21,
    "start_time": "2024-05-04T22:22:41.540Z"
   },
   {
    "duration": 93,
    "start_time": "2024-05-04T22:22:50.022Z"
   },
   {
    "duration": 29,
    "start_time": "2024-05-04T22:23:30.196Z"
   },
   {
    "duration": 64,
    "start_time": "2024-05-04T22:23:37.967Z"
   },
   {
    "duration": 17,
    "start_time": "2024-05-04T22:23:45.494Z"
   },
   {
    "duration": 13,
    "start_time": "2024-05-04T22:23:54.047Z"
   },
   {
    "duration": 14705,
    "start_time": "2024-05-04T22:25:04.994Z"
   },
   {
    "duration": 17,
    "start_time": "2024-05-04T22:25:19.701Z"
   },
   {
    "duration": 136,
    "start_time": "2024-05-04T22:46:48.227Z"
   },
   {
    "duration": 53,
    "start_time": "2024-05-04T22:46:59.762Z"
   },
   {
    "duration": 122,
    "start_time": "2024-05-04T22:47:26.215Z"
   },
   {
    "duration": 23,
    "start_time": "2024-05-04T22:47:49.333Z"
   },
   {
    "duration": 11,
    "start_time": "2024-05-04T22:48:25.096Z"
   },
   {
    "duration": 41,
    "start_time": "2024-05-04T22:48:34.496Z"
   },
   {
    "duration": 35,
    "start_time": "2024-05-04T22:48:49.150Z"
   },
   {
    "duration": 9,
    "start_time": "2024-05-04T22:52:21.063Z"
   },
   {
    "duration": 45,
    "start_time": "2024-05-04T22:52:30.865Z"
   },
   {
    "duration": 6,
    "start_time": "2024-05-04T22:52:40.264Z"
   },
   {
    "duration": 52,
    "start_time": "2024-05-04T22:53:23.353Z"
   },
   {
    "duration": 11,
    "start_time": "2024-05-04T22:53:58.710Z"
   },
   {
    "duration": 4,
    "start_time": "2024-05-04T22:56:09.385Z"
   },
   {
    "duration": 955,
    "start_time": "2024-05-04T22:56:25.948Z"
   },
   {
    "duration": 4,
    "start_time": "2024-05-04T22:58:29.213Z"
   },
   {
    "duration": 23361,
    "start_time": "2024-05-04T22:58:37.498Z"
   },
   {
    "duration": 4,
    "start_time": "2024-05-04T22:59:36.495Z"
   },
   {
    "duration": 64,
    "start_time": "2024-05-04T22:59:51.734Z"
   },
   {
    "duration": 56,
    "start_time": "2024-05-04T23:00:03.514Z"
   },
   {
    "duration": 5,
    "start_time": "2024-05-04T23:01:02.334Z"
   },
   {
    "duration": 1048472,
    "start_time": "2024-05-04T23:01:11.116Z"
   },
   {
    "duration": 0,
    "start_time": "2024-05-04T23:18:39.589Z"
   },
   {
    "duration": 20895,
    "start_time": "2024-05-04T23:18:57.646Z"
   },
   {
    "duration": 76,
    "start_time": "2024-05-04T23:19:18.543Z"
   },
   {
    "duration": 3,
    "start_time": "2024-05-04T23:19:18.621Z"
   },
   {
    "duration": 42,
    "start_time": "2024-05-04T23:19:18.626Z"
   },
   {
    "duration": 749,
    "start_time": "2024-05-04T23:19:18.670Z"
   },
   {
    "duration": 280,
    "start_time": "2024-05-04T23:19:19.421Z"
   },
   {
    "duration": 140,
    "start_time": "2024-05-04T23:19:19.702Z"
   },
   {
    "duration": 493,
    "start_time": "2024-05-04T23:19:19.843Z"
   },
   {
    "duration": 163,
    "start_time": "2024-05-04T23:19:20.338Z"
   },
   {
    "duration": 257,
    "start_time": "2024-05-04T23:19:20.504Z"
   },
   {
    "duration": 145,
    "start_time": "2024-05-04T23:19:20.762Z"
   },
   {
    "duration": 248,
    "start_time": "2024-05-04T23:19:20.909Z"
   },
   {
    "duration": 122,
    "start_time": "2024-05-04T23:19:21.158Z"
   },
   {
    "duration": 4850,
    "start_time": "2024-05-04T23:19:21.281Z"
   },
   {
    "duration": 187,
    "start_time": "2024-05-04T23:19:26.132Z"
   },
   {
    "duration": 5493,
    "start_time": "2024-05-04T23:19:26.321Z"
   },
   {
    "duration": 580,
    "start_time": "2024-05-04T23:19:31.815Z"
   },
   {
    "duration": 17984,
    "start_time": "2024-05-04T23:19:32.397Z"
   },
   {
    "duration": 202,
    "start_time": "2024-05-04T23:19:50.383Z"
   },
   {
    "duration": 135,
    "start_time": "2024-05-04T23:19:50.586Z"
   },
   {
    "duration": 21,
    "start_time": "2024-05-04T23:19:50.722Z"
   },
   {
    "duration": 210,
    "start_time": "2024-05-04T23:19:50.744Z"
   },
   {
    "duration": 211,
    "start_time": "2024-05-04T23:19:50.955Z"
   },
   {
    "duration": 43,
    "start_time": "2024-05-04T23:19:51.167Z"
   },
   {
    "duration": 3,
    "start_time": "2024-05-04T23:19:51.211Z"
   },
   {
    "duration": 57,
    "start_time": "2024-05-04T23:19:51.215Z"
   },
   {
    "duration": 85,
    "start_time": "2024-05-04T23:19:51.273Z"
   },
   {
    "duration": 77,
    "start_time": "2024-05-04T23:19:51.362Z"
   },
   {
    "duration": 140,
    "start_time": "2024-05-04T23:19:51.441Z"
   },
   {
    "duration": 4,
    "start_time": "2024-05-04T23:19:51.582Z"
   },
   {
    "duration": 86,
    "start_time": "2024-05-04T23:19:51.587Z"
   },
   {
    "duration": 79,
    "start_time": "2024-05-04T23:19:51.675Z"
   },
   {
    "duration": 33,
    "start_time": "2024-05-04T23:19:51.756Z"
   },
   {
    "duration": 13,
    "start_time": "2024-05-04T23:19:51.790Z"
   },
   {
    "duration": 64,
    "start_time": "2024-05-04T23:19:51.805Z"
   },
   {
    "duration": 92,
    "start_time": "2024-05-04T23:19:51.870Z"
   },
   {
    "duration": 10,
    "start_time": "2024-05-04T23:19:51.963Z"
   },
   {
    "duration": 57,
    "start_time": "2024-05-04T23:19:51.975Z"
   },
   {
    "duration": 80,
    "start_time": "2024-05-04T23:19:52.033Z"
   },
   {
    "duration": 69,
    "start_time": "2024-05-04T23:19:52.114Z"
   },
   {
    "duration": 43,
    "start_time": "2024-05-04T23:19:52.184Z"
   },
   {
    "duration": 327,
    "start_time": "2024-05-04T23:19:52.228Z"
   },
   {
    "duration": 116,
    "start_time": "2024-05-04T23:19:52.557Z"
   },
   {
    "duration": 62,
    "start_time": "2024-05-04T23:19:52.674Z"
   },
   {
    "duration": 4,
    "start_time": "2024-05-04T23:19:52.738Z"
   },
   {
    "duration": 75,
    "start_time": "2024-05-04T23:19:52.743Z"
   },
   {
    "duration": 4,
    "start_time": "2024-05-04T23:19:52.820Z"
   },
   {
    "duration": 67,
    "start_time": "2024-05-04T23:19:52.825Z"
   },
   {
    "duration": 6,
    "start_time": "2024-05-04T23:19:52.901Z"
   },
   {
    "duration": 80,
    "start_time": "2024-05-04T23:19:52.908Z"
   },
   {
    "duration": 49,
    "start_time": "2024-05-04T23:19:52.989Z"
   },
   {
    "duration": 69,
    "start_time": "2024-05-04T23:19:53.039Z"
   },
   {
    "duration": 143,
    "start_time": "2024-05-04T23:19:53.110Z"
   },
   {
    "duration": 47,
    "start_time": "2024-05-04T23:19:53.255Z"
   },
   {
    "duration": 159,
    "start_time": "2024-05-04T23:19:53.303Z"
   },
   {
    "duration": 44,
    "start_time": "2024-05-04T23:19:53.463Z"
   },
   {
    "duration": 139,
    "start_time": "2024-05-04T23:19:53.509Z"
   },
   {
    "duration": 12,
    "start_time": "2024-05-04T23:19:53.649Z"
   },
   {
    "duration": 197,
    "start_time": "2024-05-04T23:19:53.662Z"
   },
   {
    "duration": 8,
    "start_time": "2024-05-04T23:19:53.860Z"
   },
   {
    "duration": 94,
    "start_time": "2024-05-04T23:19:53.870Z"
   },
   {
    "duration": 118,
    "start_time": "2024-05-04T23:19:53.965Z"
   },
   {
    "duration": 33,
    "start_time": "2024-05-04T23:19:54.084Z"
   },
   {
    "duration": 124,
    "start_time": "2024-05-04T23:19:54.118Z"
   },
   {
    "duration": 12,
    "start_time": "2024-05-04T23:19:54.243Z"
   },
   {
    "duration": 39,
    "start_time": "2024-05-04T23:19:54.256Z"
   },
   {
    "duration": 65,
    "start_time": "2024-05-04T23:19:54.296Z"
   },
   {
    "duration": 64,
    "start_time": "2024-05-04T23:19:54.363Z"
   },
   {
    "duration": 102,
    "start_time": "2024-05-04T23:19:54.429Z"
   },
   {
    "duration": 20,
    "start_time": "2024-05-04T23:19:54.532Z"
   },
   {
    "duration": 139,
    "start_time": "2024-05-04T23:19:54.553Z"
   },
   {
    "duration": 22,
    "start_time": "2024-05-04T23:19:54.694Z"
   },
   {
    "duration": 91,
    "start_time": "2024-05-04T23:19:54.718Z"
   },
   {
    "duration": 70,
    "start_time": "2024-05-04T23:19:54.810Z"
   },
   {
    "duration": 155,
    "start_time": "2024-05-04T23:19:54.881Z"
   },
   {
    "duration": 11,
    "start_time": "2024-05-04T23:19:55.037Z"
   },
   {
    "duration": 93,
    "start_time": "2024-05-04T23:19:55.049Z"
   },
   {
    "duration": 80,
    "start_time": "2024-05-04T23:19:55.144Z"
   },
   {
    "duration": 136,
    "start_time": "2024-05-04T23:19:55.226Z"
   },
   {
    "duration": 40,
    "start_time": "2024-05-04T23:19:55.363Z"
   },
   {
    "duration": 102,
    "start_time": "2024-05-04T23:19:55.404Z"
   },
   {
    "duration": 6,
    "start_time": "2024-05-04T23:19:55.512Z"
   },
   {
    "duration": 32,
    "start_time": "2024-05-04T23:19:55.520Z"
   },
   {
    "duration": 29,
    "start_time": "2024-05-04T23:19:55.554Z"
   },
   {
    "duration": 19,
    "start_time": "2024-05-04T23:19:55.584Z"
   },
   {
    "duration": 20,
    "start_time": "2024-05-04T23:19:55.604Z"
   },
   {
    "duration": 101,
    "start_time": "2024-05-04T23:19:55.626Z"
   },
   {
    "duration": 7,
    "start_time": "2024-05-04T23:19:55.728Z"
   },
   {
    "duration": 51,
    "start_time": "2024-05-04T23:19:55.736Z"
   },
   {
    "duration": 67,
    "start_time": "2024-05-04T23:19:55.788Z"
   },
   {
    "duration": 17,
    "start_time": "2024-05-04T23:19:55.857Z"
   },
   {
    "duration": 114,
    "start_time": "2024-05-04T23:19:55.875Z"
   },
   {
    "duration": 126,
    "start_time": "2024-05-04T23:19:55.991Z"
   },
   {
    "duration": 16,
    "start_time": "2024-05-04T23:19:56.118Z"
   },
   {
    "duration": 15,
    "start_time": "2024-05-04T23:19:56.136Z"
   },
   {
    "duration": 62,
    "start_time": "2024-05-04T23:19:56.153Z"
   },
   {
    "duration": 11,
    "start_time": "2024-05-04T23:19:56.216Z"
   },
   {
    "duration": 36,
    "start_time": "2024-05-04T23:19:56.228Z"
   },
   {
    "duration": 5,
    "start_time": "2024-05-04T23:19:56.265Z"
   },
   {
    "duration": 11,
    "start_time": "2024-05-04T23:19:56.272Z"
   },
   {
    "duration": 24710,
    "start_time": "2024-05-04T23:19:56.284Z"
   },
   {
    "duration": 8,
    "start_time": "2024-05-04T23:20:20.995Z"
   },
   {
    "duration": 106,
    "start_time": "2024-05-04T23:20:21.004Z"
   },
   {
    "duration": 327887,
    "start_time": "2024-05-04T23:20:21.111Z"
   },
   {
    "duration": 0,
    "start_time": "2024-05-04T23:25:48.999Z"
   },
   {
    "duration": 0,
    "start_time": "2024-05-04T23:25:49.000Z"
   },
   {
    "duration": 0,
    "start_time": "2024-05-04T23:25:49.001Z"
   },
   {
    "duration": 0,
    "start_time": "2024-05-04T23:25:49.001Z"
   },
   {
    "duration": 0,
    "start_time": "2024-05-04T23:25:49.002Z"
   },
   {
    "duration": 0,
    "start_time": "2024-05-04T23:25:49.004Z"
   },
   {
    "duration": 0,
    "start_time": "2024-05-04T23:25:49.005Z"
   },
   {
    "duration": 0,
    "start_time": "2024-05-04T23:25:49.005Z"
   },
   {
    "duration": 0,
    "start_time": "2024-05-04T23:25:49.007Z"
   },
   {
    "duration": 0,
    "start_time": "2024-05-04T23:25:49.008Z"
   },
   {
    "duration": 0,
    "start_time": "2024-05-04T23:25:49.009Z"
   },
   {
    "duration": 0,
    "start_time": "2024-05-04T23:25:49.009Z"
   },
   {
    "duration": 0,
    "start_time": "2024-05-04T23:25:49.011Z"
   },
   {
    "duration": 0,
    "start_time": "2024-05-04T23:25:49.011Z"
   },
   {
    "duration": 0,
    "start_time": "2024-05-04T23:25:49.012Z"
   },
   {
    "duration": 0,
    "start_time": "2024-05-04T23:25:49.014Z"
   },
   {
    "duration": 0,
    "start_time": "2024-05-04T23:25:49.014Z"
   },
   {
    "duration": 0,
    "start_time": "2024-05-04T23:25:49.015Z"
   },
   {
    "duration": 0,
    "start_time": "2024-05-04T23:25:49.016Z"
   },
   {
    "duration": 0,
    "start_time": "2024-05-04T23:25:49.017Z"
   },
   {
    "duration": 0,
    "start_time": "2024-05-04T23:25:49.018Z"
   },
   {
    "duration": 0,
    "start_time": "2024-05-04T23:25:49.019Z"
   },
   {
    "duration": 0,
    "start_time": "2024-05-04T23:25:49.020Z"
   },
   {
    "duration": 0,
    "start_time": "2024-05-04T23:25:49.021Z"
   },
   {
    "duration": 0,
    "start_time": "2024-05-04T23:25:49.022Z"
   },
   {
    "duration": 0,
    "start_time": "2024-05-04T23:25:49.023Z"
   },
   {
    "duration": 0,
    "start_time": "2024-05-04T23:25:49.024Z"
   },
   {
    "duration": 0,
    "start_time": "2024-05-04T23:25:49.025Z"
   },
   {
    "duration": 0,
    "start_time": "2024-05-04T23:25:49.026Z"
   },
   {
    "duration": 0,
    "start_time": "2024-05-04T23:25:49.027Z"
   },
   {
    "duration": 4,
    "start_time": "2024-05-04T23:25:52.736Z"
   },
   {
    "duration": 1883443,
    "start_time": "2024-05-04T23:27:56.441Z"
   },
   {
    "duration": 5,
    "start_time": "2024-05-04T23:59:19.885Z"
   },
   {
    "duration": 5,
    "start_time": "2024-05-04T23:59:26.430Z"
   },
   {
    "duration": 153620,
    "start_time": "2024-05-04T23:59:30.262Z"
   },
   {
    "duration": 11,
    "start_time": "2024-05-05T00:02:10.214Z"
   },
   {
    "duration": 413797,
    "start_time": "2024-05-05T00:02:11.669Z"
   },
   {
    "duration": 55,
    "start_time": "2024-05-05T00:09:26.416Z"
   },
   {
    "duration": 65,
    "start_time": "2024-05-05T00:10:06.460Z"
   },
   {
    "duration": 7,
    "start_time": "2024-05-05T00:11:50.595Z"
   },
   {
    "duration": 11857,
    "start_time": "2024-05-05T00:11:53.253Z"
   },
   {
    "duration": 5,
    "start_time": "2024-05-05T00:12:15.492Z"
   },
   {
    "duration": 258769,
    "start_time": "2024-05-05T00:12:19.727Z"
   },
   {
    "duration": 4,
    "start_time": "2024-05-05T00:16:38.497Z"
   },
   {
    "duration": 2,
    "start_time": "2024-05-05T00:20:21.218Z"
   },
   {
    "duration": 163074,
    "start_time": "2024-05-05T00:20:22.510Z"
   },
   {
    "duration": 54340,
    "start_time": "2024-05-05T00:23:05.585Z"
   },
   {
    "duration": 243,
    "start_time": "2024-05-05T00:26:58.144Z"
   },
   {
    "duration": 4,
    "start_time": "2024-05-05T00:27:01.241Z"
   },
   {
    "duration": 3,
    "start_time": "2024-05-05T00:27:02.120Z"
   },
   {
    "duration": 11,
    "start_time": "2024-05-05T00:27:03.806Z"
   },
   {
    "duration": 4,
    "start_time": "2024-05-05T00:27:05.381Z"
   },
   {
    "duration": 4,
    "start_time": "2024-05-05T00:27:06.335Z"
   },
   {
    "duration": 4,
    "start_time": "2024-05-05T00:27:09.564Z"
   },
   {
    "duration": 51,
    "start_time": "2024-05-05T00:27:10.023Z"
   },
   {
    "duration": 9,
    "start_time": "2024-05-05T00:27:10.677Z"
   },
   {
    "duration": 116186,
    "start_time": "2024-05-05T00:27:16.027Z"
   },
   {
    "duration": 254,
    "start_time": "2024-05-05T00:30:45.815Z"
   },
   {
    "duration": 9,
    "start_time": "2024-05-05T00:31:41.127Z"
   },
   {
    "duration": 21457,
    "start_time": "2024-05-05T00:47:17.132Z"
   },
   {
    "duration": 85,
    "start_time": "2024-05-05T00:47:38.591Z"
   },
   {
    "duration": 3,
    "start_time": "2024-05-05T00:47:38.678Z"
   },
   {
    "duration": 46,
    "start_time": "2024-05-05T00:47:38.683Z"
   },
   {
    "duration": 758,
    "start_time": "2024-05-05T00:47:38.730Z"
   },
   {
    "duration": 289,
    "start_time": "2024-05-05T00:47:39.489Z"
   },
   {
    "duration": 140,
    "start_time": "2024-05-05T00:47:39.779Z"
   },
   {
    "duration": 487,
    "start_time": "2024-05-05T00:47:39.920Z"
   },
   {
    "duration": 150,
    "start_time": "2024-05-05T00:47:40.408Z"
   },
   {
    "duration": 255,
    "start_time": "2024-05-05T00:47:40.560Z"
   },
   {
    "duration": 136,
    "start_time": "2024-05-05T00:47:40.816Z"
   },
   {
    "duration": 251,
    "start_time": "2024-05-05T00:47:40.953Z"
   },
   {
    "duration": 122,
    "start_time": "2024-05-05T00:47:41.206Z"
   },
   {
    "duration": 4854,
    "start_time": "2024-05-05T00:47:41.330Z"
   },
   {
    "duration": 180,
    "start_time": "2024-05-05T00:47:46.185Z"
   },
   {
    "duration": 5083,
    "start_time": "2024-05-05T00:47:46.366Z"
   },
   {
    "duration": 522,
    "start_time": "2024-05-05T00:47:51.451Z"
   },
   {
    "duration": 18761,
    "start_time": "2024-05-05T00:47:51.974Z"
   },
   {
    "duration": 165,
    "start_time": "2024-05-05T00:48:10.736Z"
   },
   {
    "duration": 117,
    "start_time": "2024-05-05T00:48:10.903Z"
   },
   {
    "duration": 3,
    "start_time": "2024-05-05T00:48:11.021Z"
   },
   {
    "duration": 237,
    "start_time": "2024-05-05T00:48:11.026Z"
   },
   {
    "duration": 223,
    "start_time": "2024-05-05T00:48:11.265Z"
   },
   {
    "duration": 35,
    "start_time": "2024-05-05T00:48:11.490Z"
   },
   {
    "duration": 3,
    "start_time": "2024-05-05T00:48:11.527Z"
   },
   {
    "duration": 70,
    "start_time": "2024-05-05T00:48:11.531Z"
   },
   {
    "duration": 80,
    "start_time": "2024-05-05T00:48:11.603Z"
   },
   {
    "duration": 80,
    "start_time": "2024-05-05T00:48:11.686Z"
   },
   {
    "duration": 144,
    "start_time": "2024-05-05T00:48:11.767Z"
   },
   {
    "duration": 3,
    "start_time": "2024-05-05T00:48:11.912Z"
   },
   {
    "duration": 69,
    "start_time": "2024-05-05T00:48:11.916Z"
   },
   {
    "duration": 84,
    "start_time": "2024-05-05T00:48:11.986Z"
   },
   {
    "duration": 42,
    "start_time": "2024-05-05T00:48:12.071Z"
   },
   {
    "duration": 3,
    "start_time": "2024-05-05T00:48:12.115Z"
   },
   {
    "duration": 66,
    "start_time": "2024-05-05T00:48:12.119Z"
   },
   {
    "duration": 87,
    "start_time": "2024-05-05T00:48:12.186Z"
   },
   {
    "duration": 7,
    "start_time": "2024-05-05T00:48:12.275Z"
   },
   {
    "duration": 48,
    "start_time": "2024-05-05T00:48:12.283Z"
   },
   {
    "duration": 69,
    "start_time": "2024-05-05T00:48:12.332Z"
   },
   {
    "duration": 68,
    "start_time": "2024-05-05T00:48:12.402Z"
   },
   {
    "duration": 41,
    "start_time": "2024-05-05T00:48:12.472Z"
   },
   {
    "duration": 362,
    "start_time": "2024-05-05T00:48:12.515Z"
   },
   {
    "duration": 137,
    "start_time": "2024-05-05T00:48:12.878Z"
   },
   {
    "duration": 63,
    "start_time": "2024-05-05T00:48:13.017Z"
   },
   {
    "duration": 4,
    "start_time": "2024-05-05T00:48:13.081Z"
   },
   {
    "duration": 104,
    "start_time": "2024-05-05T00:48:13.086Z"
   },
   {
    "duration": 4,
    "start_time": "2024-05-05T00:48:13.191Z"
   },
   {
    "duration": 84,
    "start_time": "2024-05-05T00:48:13.197Z"
   },
   {
    "duration": 7,
    "start_time": "2024-05-05T00:48:13.282Z"
   },
   {
    "duration": 82,
    "start_time": "2024-05-05T00:48:13.290Z"
   },
   {
    "duration": 54,
    "start_time": "2024-05-05T00:48:13.374Z"
   },
   {
    "duration": 64,
    "start_time": "2024-05-05T00:48:13.429Z"
   },
   {
    "duration": 151,
    "start_time": "2024-05-05T00:48:13.501Z"
   },
   {
    "duration": 30,
    "start_time": "2024-05-05T00:48:13.653Z"
   },
   {
    "duration": 139,
    "start_time": "2024-05-05T00:48:13.684Z"
   },
   {
    "duration": 38,
    "start_time": "2024-05-05T00:48:13.825Z"
   },
   {
    "duration": 165,
    "start_time": "2024-05-05T00:48:13.865Z"
   },
   {
    "duration": 14,
    "start_time": "2024-05-05T00:48:14.031Z"
   },
   {
    "duration": 212,
    "start_time": "2024-05-05T00:48:14.047Z"
   },
   {
    "duration": 9,
    "start_time": "2024-05-05T00:48:14.261Z"
   },
   {
    "duration": 91,
    "start_time": "2024-05-05T00:48:14.271Z"
   },
   {
    "duration": 128,
    "start_time": "2024-05-05T00:48:14.364Z"
   },
   {
    "duration": 32,
    "start_time": "2024-05-05T00:48:14.494Z"
   },
   {
    "duration": 156,
    "start_time": "2024-05-05T00:48:14.528Z"
   },
   {
    "duration": 28,
    "start_time": "2024-05-05T00:48:14.685Z"
   },
   {
    "duration": 23,
    "start_time": "2024-05-05T00:48:14.714Z"
   },
   {
    "duration": 55,
    "start_time": "2024-05-05T00:48:14.739Z"
   },
   {
    "duration": 65,
    "start_time": "2024-05-05T00:48:14.795Z"
   },
   {
    "duration": 107,
    "start_time": "2024-05-05T00:48:14.861Z"
   },
   {
    "duration": 21,
    "start_time": "2024-05-05T00:48:14.969Z"
   },
   {
    "duration": 161,
    "start_time": "2024-05-05T00:48:14.992Z"
   },
   {
    "duration": 12,
    "start_time": "2024-05-05T00:48:15.154Z"
   },
   {
    "duration": 66,
    "start_time": "2024-05-05T00:48:15.168Z"
   },
   {
    "duration": 77,
    "start_time": "2024-05-05T00:48:15.236Z"
   },
   {
    "duration": 179,
    "start_time": "2024-05-05T00:48:15.315Z"
   },
   {
    "duration": 17,
    "start_time": "2024-05-05T00:48:15.502Z"
   },
   {
    "duration": 54,
    "start_time": "2024-05-05T00:48:15.520Z"
   },
   {
    "duration": 76,
    "start_time": "2024-05-05T00:48:15.575Z"
   },
   {
    "duration": 182,
    "start_time": "2024-05-05T00:48:15.652Z"
   },
   {
    "duration": 37,
    "start_time": "2024-05-05T00:48:15.836Z"
   },
   {
    "duration": 119,
    "start_time": "2024-05-05T00:48:15.874Z"
   },
   {
    "duration": 7,
    "start_time": "2024-05-05T00:48:16.001Z"
   },
   {
    "duration": 34,
    "start_time": "2024-05-05T00:48:16.009Z"
   },
   {
    "duration": 36,
    "start_time": "2024-05-05T00:48:16.044Z"
   },
   {
    "duration": 23,
    "start_time": "2024-05-05T00:48:16.082Z"
   },
   {
    "duration": 28,
    "start_time": "2024-05-05T00:48:16.106Z"
   },
   {
    "duration": 94,
    "start_time": "2024-05-05T00:48:16.135Z"
   },
   {
    "duration": 7,
    "start_time": "2024-05-05T00:48:16.230Z"
   },
   {
    "duration": 62,
    "start_time": "2024-05-05T00:48:16.239Z"
   },
   {
    "duration": 66,
    "start_time": "2024-05-05T00:48:16.303Z"
   },
   {
    "duration": 16,
    "start_time": "2024-05-05T00:48:16.370Z"
   },
   {
    "duration": 103,
    "start_time": "2024-05-05T00:48:16.388Z"
   },
   {
    "duration": 165,
    "start_time": "2024-05-05T00:48:16.492Z"
   },
   {
    "duration": 17,
    "start_time": "2024-05-05T00:48:16.658Z"
   },
   {
    "duration": 10,
    "start_time": "2024-05-05T00:48:16.676Z"
   },
   {
    "duration": 48,
    "start_time": "2024-05-05T00:48:16.687Z"
   },
   {
    "duration": 8,
    "start_time": "2024-05-05T00:48:16.736Z"
   },
   {
    "duration": 33,
    "start_time": "2024-05-05T00:48:16.745Z"
   },
   {
    "duration": 6,
    "start_time": "2024-05-05T00:48:16.779Z"
   },
   {
    "duration": 4,
    "start_time": "2024-05-05T00:48:16.801Z"
   },
   {
    "duration": 23298,
    "start_time": "2024-05-05T00:48:16.807Z"
   },
   {
    "duration": 160,
    "start_time": "2024-05-05T00:48:40.107Z"
   },
   {
    "duration": 0,
    "start_time": "2024-05-05T00:48:40.269Z"
   },
   {
    "duration": 0,
    "start_time": "2024-05-05T00:48:40.270Z"
   },
   {
    "duration": 0,
    "start_time": "2024-05-05T00:48:40.271Z"
   },
   {
    "duration": 0,
    "start_time": "2024-05-05T00:48:40.273Z"
   },
   {
    "duration": 0,
    "start_time": "2024-05-05T00:48:40.274Z"
   },
   {
    "duration": 0,
    "start_time": "2024-05-05T00:48:40.275Z"
   },
   {
    "duration": 0,
    "start_time": "2024-05-05T00:48:40.276Z"
   },
   {
    "duration": 0,
    "start_time": "2024-05-05T00:48:40.277Z"
   },
   {
    "duration": 1,
    "start_time": "2024-05-05T00:48:40.277Z"
   },
   {
    "duration": 1,
    "start_time": "2024-05-05T00:48:40.278Z"
   },
   {
    "duration": 0,
    "start_time": "2024-05-05T00:48:40.279Z"
   },
   {
    "duration": 0,
    "start_time": "2024-05-05T00:48:40.302Z"
   },
   {
    "duration": 0,
    "start_time": "2024-05-05T00:48:40.303Z"
   },
   {
    "duration": 0,
    "start_time": "2024-05-05T00:48:40.304Z"
   },
   {
    "duration": 0,
    "start_time": "2024-05-05T00:48:40.304Z"
   },
   {
    "duration": 0,
    "start_time": "2024-05-05T00:48:40.305Z"
   },
   {
    "duration": 0,
    "start_time": "2024-05-05T00:48:40.307Z"
   },
   {
    "duration": 0,
    "start_time": "2024-05-05T00:48:40.307Z"
   },
   {
    "duration": 0,
    "start_time": "2024-05-05T00:48:40.308Z"
   },
   {
    "duration": 0,
    "start_time": "2024-05-05T00:48:40.309Z"
   },
   {
    "duration": 0,
    "start_time": "2024-05-05T00:48:40.310Z"
   },
   {
    "duration": 0,
    "start_time": "2024-05-05T00:48:40.311Z"
   },
   {
    "duration": 0,
    "start_time": "2024-05-05T00:48:40.313Z"
   },
   {
    "duration": 0,
    "start_time": "2024-05-05T00:48:40.314Z"
   },
   {
    "duration": 0,
    "start_time": "2024-05-05T00:48:40.314Z"
   },
   {
    "duration": 0,
    "start_time": "2024-05-05T00:48:40.315Z"
   },
   {
    "duration": 0,
    "start_time": "2024-05-05T00:48:40.316Z"
   },
   {
    "duration": 0,
    "start_time": "2024-05-05T00:48:40.317Z"
   },
   {
    "duration": 0,
    "start_time": "2024-05-05T00:48:40.318Z"
   },
   {
    "duration": 0,
    "start_time": "2024-05-05T00:48:40.319Z"
   },
   {
    "duration": 0,
    "start_time": "2024-05-05T00:48:40.320Z"
   },
   {
    "duration": 10,
    "start_time": "2024-05-05T00:49:05.941Z"
   },
   {
    "duration": 4,
    "start_time": "2024-05-05T00:49:35.847Z"
   },
   {
    "duration": 5,
    "start_time": "2024-05-05T00:49:42.750Z"
   },
   {
    "duration": 287752,
    "start_time": "2024-05-05T00:49:43.248Z"
   },
   {
    "duration": 4,
    "start_time": "2024-05-05T00:54:31.001Z"
   },
   {
    "duration": 239,
    "start_time": "2024-05-05T00:54:31.007Z"
   },
   {
    "duration": 320372,
    "start_time": "2024-05-05T00:55:26.334Z"
   },
   {
    "duration": 100679,
    "start_time": "2024-05-05T01:00:46.708Z"
   },
   {
    "duration": 237,
    "start_time": "2024-05-05T01:03:31.714Z"
   },
   {
    "duration": 3,
    "start_time": "2024-05-05T01:03:35.542Z"
   },
   {
    "duration": 3,
    "start_time": "2024-05-05T01:03:36.537Z"
   },
   {
    "duration": 6,
    "start_time": "2024-05-05T01:03:38.183Z"
   },
   {
    "duration": 4,
    "start_time": "2024-05-05T01:03:39.945Z"
   },
   {
    "duration": 4,
    "start_time": "2024-05-05T01:03:41.133Z"
   },
   {
    "duration": 4,
    "start_time": "2024-05-05T01:03:47.541Z"
   },
   {
    "duration": 11,
    "start_time": "2024-05-05T01:03:48.534Z"
   },
   {
    "duration": 150412,
    "start_time": "2024-05-05T01:03:50.909Z"
   },
   {
    "duration": 206,
    "start_time": "2024-05-05T01:06:54.954Z"
   },
   {
    "duration": 9,
    "start_time": "2024-05-05T01:07:00.200Z"
   },
   {
    "duration": 20786,
    "start_time": "2024-05-05T01:35:44.347Z"
   },
   {
    "duration": 85,
    "start_time": "2024-05-05T01:36:05.134Z"
   },
   {
    "duration": 3,
    "start_time": "2024-05-05T01:36:05.220Z"
   },
   {
    "duration": 46,
    "start_time": "2024-05-05T01:36:05.224Z"
   },
   {
    "duration": 754,
    "start_time": "2024-05-05T01:36:05.271Z"
   },
   {
    "duration": 291,
    "start_time": "2024-05-05T01:36:06.027Z"
   },
   {
    "duration": 140,
    "start_time": "2024-05-05T01:36:06.319Z"
   },
   {
    "duration": 483,
    "start_time": "2024-05-05T01:36:06.460Z"
   },
   {
    "duration": 150,
    "start_time": "2024-05-05T01:36:06.944Z"
   },
   {
    "duration": 263,
    "start_time": "2024-05-05T01:36:07.096Z"
   },
   {
    "duration": 143,
    "start_time": "2024-05-05T01:36:07.361Z"
   },
   {
    "duration": 252,
    "start_time": "2024-05-05T01:36:07.506Z"
   },
   {
    "duration": 123,
    "start_time": "2024-05-05T01:36:07.759Z"
   },
   {
    "duration": 5629,
    "start_time": "2024-05-05T01:36:07.884Z"
   },
   {
    "duration": 176,
    "start_time": "2024-05-05T01:36:13.514Z"
   },
   {
    "duration": 5095,
    "start_time": "2024-05-05T01:36:13.691Z"
   },
   {
    "duration": 589,
    "start_time": "2024-05-05T01:36:18.788Z"
   },
   {
    "duration": 18475,
    "start_time": "2024-05-05T01:36:19.378Z"
   },
   {
    "duration": 182,
    "start_time": "2024-05-05T01:36:37.854Z"
   },
   {
    "duration": 128,
    "start_time": "2024-05-05T01:36:38.038Z"
   },
   {
    "duration": 3,
    "start_time": "2024-05-05T01:36:38.167Z"
   },
   {
    "duration": 257,
    "start_time": "2024-05-05T01:36:38.171Z"
   },
   {
    "duration": 235,
    "start_time": "2024-05-05T01:36:38.429Z"
   },
   {
    "duration": 39,
    "start_time": "2024-05-05T01:36:38.665Z"
   },
   {
    "duration": 3,
    "start_time": "2024-05-05T01:36:38.705Z"
   },
   {
    "duration": 53,
    "start_time": "2024-05-05T01:36:38.709Z"
   },
   {
    "duration": 86,
    "start_time": "2024-05-05T01:36:38.763Z"
   },
   {
    "duration": 75,
    "start_time": "2024-05-05T01:36:38.853Z"
   },
   {
    "duration": 148,
    "start_time": "2024-05-05T01:36:38.929Z"
   },
   {
    "duration": 3,
    "start_time": "2024-05-05T01:36:39.079Z"
   },
   {
    "duration": 90,
    "start_time": "2024-05-05T01:36:39.083Z"
   },
   {
    "duration": 98,
    "start_time": "2024-05-05T01:36:39.174Z"
   },
   {
    "duration": 47,
    "start_time": "2024-05-05T01:36:39.274Z"
   },
   {
    "duration": 4,
    "start_time": "2024-05-05T01:36:39.322Z"
   },
   {
    "duration": 55,
    "start_time": "2024-05-05T01:36:39.328Z"
   },
   {
    "duration": 85,
    "start_time": "2024-05-05T01:36:39.385Z"
   },
   {
    "duration": 7,
    "start_time": "2024-05-05T01:36:39.472Z"
   },
   {
    "duration": 51,
    "start_time": "2024-05-05T01:36:39.480Z"
   },
   {
    "duration": 74,
    "start_time": "2024-05-05T01:36:39.532Z"
   },
   {
    "duration": 66,
    "start_time": "2024-05-05T01:36:39.608Z"
   },
   {
    "duration": 42,
    "start_time": "2024-05-05T01:36:39.676Z"
   },
   {
    "duration": 360,
    "start_time": "2024-05-05T01:36:39.720Z"
   },
   {
    "duration": 121,
    "start_time": "2024-05-05T01:36:40.081Z"
   },
   {
    "duration": 64,
    "start_time": "2024-05-05T01:36:40.204Z"
   },
   {
    "duration": 6,
    "start_time": "2024-05-05T01:36:40.270Z"
   },
   {
    "duration": 96,
    "start_time": "2024-05-05T01:36:40.277Z"
   },
   {
    "duration": 6,
    "start_time": "2024-05-05T01:36:40.375Z"
   },
   {
    "duration": 143,
    "start_time": "2024-05-05T01:36:40.382Z"
   },
   {
    "duration": 7,
    "start_time": "2024-05-05T01:36:40.526Z"
   },
   {
    "duration": 92,
    "start_time": "2024-05-05T01:36:40.534Z"
   },
   {
    "duration": 61,
    "start_time": "2024-05-05T01:36:40.627Z"
   },
   {
    "duration": 66,
    "start_time": "2024-05-05T01:36:40.690Z"
   },
   {
    "duration": 169,
    "start_time": "2024-05-05T01:36:40.757Z"
   },
   {
    "duration": 32,
    "start_time": "2024-05-05T01:36:40.927Z"
   },
   {
    "duration": 179,
    "start_time": "2024-05-05T01:36:40.960Z"
   },
   {
    "duration": 42,
    "start_time": "2024-05-05T01:36:41.141Z"
   },
   {
    "duration": 159,
    "start_time": "2024-05-05T01:36:41.184Z"
   },
   {
    "duration": 13,
    "start_time": "2024-05-05T01:36:41.344Z"
   },
   {
    "duration": 202,
    "start_time": "2024-05-05T01:36:41.358Z"
   },
   {
    "duration": 9,
    "start_time": "2024-05-05T01:36:41.561Z"
   },
   {
    "duration": 88,
    "start_time": "2024-05-05T01:36:41.571Z"
   },
   {
    "duration": 141,
    "start_time": "2024-05-05T01:36:41.660Z"
   },
   {
    "duration": 26,
    "start_time": "2024-05-05T01:36:41.803Z"
   },
   {
    "duration": 142,
    "start_time": "2024-05-05T01:36:41.831Z"
   },
   {
    "duration": 15,
    "start_time": "2024-05-05T01:36:41.975Z"
   },
   {
    "duration": 16,
    "start_time": "2024-05-05T01:36:42.001Z"
   },
   {
    "duration": 61,
    "start_time": "2024-05-05T01:36:42.018Z"
   },
   {
    "duration": 68,
    "start_time": "2024-05-05T01:36:42.080Z"
   },
   {
    "duration": 101,
    "start_time": "2024-05-05T01:36:42.149Z"
   },
   {
    "duration": 21,
    "start_time": "2024-05-05T01:36:42.251Z"
   },
   {
    "duration": 144,
    "start_time": "2024-05-05T01:36:42.274Z"
   },
   {
    "duration": 9,
    "start_time": "2024-05-05T01:36:42.419Z"
   },
   {
    "duration": 43,
    "start_time": "2024-05-05T01:36:42.430Z"
   },
   {
    "duration": 79,
    "start_time": "2024-05-05T01:36:42.474Z"
   },
   {
    "duration": 125,
    "start_time": "2024-05-05T01:36:42.554Z"
   },
   {
    "duration": 9,
    "start_time": "2024-05-05T01:36:42.680Z"
   },
   {
    "duration": 50,
    "start_time": "2024-05-05T01:36:42.690Z"
   },
   {
    "duration": 72,
    "start_time": "2024-05-05T01:36:42.742Z"
   },
   {
    "duration": 128,
    "start_time": "2024-05-05T01:36:42.815Z"
   },
   {
    "duration": 26,
    "start_time": "2024-05-05T01:36:42.945Z"
   },
   {
    "duration": 104,
    "start_time": "2024-05-05T01:36:42.973Z"
   },
   {
    "duration": 7,
    "start_time": "2024-05-05T01:36:43.083Z"
   },
   {
    "duration": 37,
    "start_time": "2024-05-05T01:36:43.102Z"
   },
   {
    "duration": 29,
    "start_time": "2024-05-05T01:36:43.140Z"
   },
   {
    "duration": 9,
    "start_time": "2024-05-05T01:36:43.170Z"
   },
   {
    "duration": 36,
    "start_time": "2024-05-05T01:36:43.181Z"
   },
   {
    "duration": 99,
    "start_time": "2024-05-05T01:36:43.218Z"
   },
   {
    "duration": 7,
    "start_time": "2024-05-05T01:36:43.319Z"
   },
   {
    "duration": 36,
    "start_time": "2024-05-05T01:36:43.327Z"
   },
   {
    "duration": 85,
    "start_time": "2024-05-05T01:36:43.364Z"
   },
   {
    "duration": 23,
    "start_time": "2024-05-05T01:36:43.451Z"
   },
   {
    "duration": 99,
    "start_time": "2024-05-05T01:36:43.475Z"
   },
   {
    "duration": 146,
    "start_time": "2024-05-05T01:36:43.575Z"
   },
   {
    "duration": 16,
    "start_time": "2024-05-05T01:36:43.722Z"
   },
   {
    "duration": 10,
    "start_time": "2024-05-05T01:36:43.740Z"
   },
   {
    "duration": 53,
    "start_time": "2024-05-05T01:36:43.751Z"
   },
   {
    "duration": 8,
    "start_time": "2024-05-05T01:36:43.806Z"
   },
   {
    "duration": 37,
    "start_time": "2024-05-05T01:36:43.815Z"
   },
   {
    "duration": 6,
    "start_time": "2024-05-05T01:36:43.853Z"
   },
   {
    "duration": 14,
    "start_time": "2024-05-05T01:36:43.860Z"
   },
   {
    "duration": 23281,
    "start_time": "2024-05-05T01:36:43.875Z"
   },
   {
    "duration": 4,
    "start_time": "2024-05-05T01:37:07.157Z"
   },
   {
    "duration": 50,
    "start_time": "2024-05-05T01:37:07.162Z"
   },
   {
    "duration": 257246,
    "start_time": "2024-05-05T01:37:07.213Z"
   },
   {
    "duration": 4,
    "start_time": "2024-05-05T01:41:24.460Z"
   },
   {
    "duration": 20,
    "start_time": "2024-05-05T01:41:24.465Z"
   },
   {
    "duration": 256182,
    "start_time": "2024-05-05T01:41:24.486Z"
   },
   {
    "duration": 83479,
    "start_time": "2024-05-05T01:45:40.669Z"
   },
   {
    "duration": 232,
    "start_time": "2024-05-05T01:47:04.150Z"
   },
   {
    "duration": 3,
    "start_time": "2024-05-05T01:47:04.401Z"
   },
   {
    "duration": 17,
    "start_time": "2024-05-05T01:47:04.405Z"
   },
   {
    "duration": 10,
    "start_time": "2024-05-05T01:47:04.423Z"
   },
   {
    "duration": 7,
    "start_time": "2024-05-05T01:47:04.435Z"
   },
   {
    "duration": 9,
    "start_time": "2024-05-05T01:47:04.443Z"
   },
   {
    "duration": 14,
    "start_time": "2024-05-05T01:47:04.453Z"
   },
   {
    "duration": 16,
    "start_time": "2024-05-05T01:47:04.468Z"
   },
   {
    "duration": 140934,
    "start_time": "2024-05-05T01:47:04.485Z"
   },
   {
    "duration": 352,
    "start_time": "2024-05-05T01:49:25.420Z"
   },
   {
    "duration": 10,
    "start_time": "2024-05-05T01:49:25.774Z"
   },
   {
    "duration": 20929,
    "start_time": "2024-05-05T01:53:07.875Z"
   },
   {
    "duration": 81,
    "start_time": "2024-05-05T01:53:28.806Z"
   },
   {
    "duration": 4,
    "start_time": "2024-05-05T01:53:28.888Z"
   },
   {
    "duration": 59,
    "start_time": "2024-05-05T01:53:28.894Z"
   },
   {
    "duration": 777,
    "start_time": "2024-05-05T01:53:28.955Z"
   },
   {
    "duration": 294,
    "start_time": "2024-05-05T01:53:29.733Z"
   },
   {
    "duration": 149,
    "start_time": "2024-05-05T01:53:30.028Z"
   },
   {
    "duration": 494,
    "start_time": "2024-05-05T01:53:30.179Z"
   },
   {
    "duration": 154,
    "start_time": "2024-05-05T01:53:30.674Z"
   },
   {
    "duration": 263,
    "start_time": "2024-05-05T01:53:30.831Z"
   },
   {
    "duration": 153,
    "start_time": "2024-05-05T01:53:31.096Z"
   },
   {
    "duration": 251,
    "start_time": "2024-05-05T01:53:31.250Z"
   },
   {
    "duration": 138,
    "start_time": "2024-05-05T01:53:31.502Z"
   },
   {
    "duration": 4840,
    "start_time": "2024-05-05T01:53:31.641Z"
   },
   {
    "duration": 206,
    "start_time": "2024-05-05T01:53:36.483Z"
   },
   {
    "duration": 5131,
    "start_time": "2024-05-05T01:53:36.691Z"
   },
   {
    "duration": 556,
    "start_time": "2024-05-05T01:53:41.823Z"
   },
   {
    "duration": 18927,
    "start_time": "2024-05-05T01:53:42.380Z"
   },
   {
    "duration": 176,
    "start_time": "2024-05-05T01:54:01.308Z"
   },
   {
    "duration": 127,
    "start_time": "2024-05-05T01:54:01.485Z"
   },
   {
    "duration": 4,
    "start_time": "2024-05-05T01:54:01.613Z"
   },
   {
    "duration": 252,
    "start_time": "2024-05-05T01:54:01.618Z"
   },
   {
    "duration": 217,
    "start_time": "2024-05-05T01:54:01.871Z"
   },
   {
    "duration": 40,
    "start_time": "2024-05-05T01:54:02.090Z"
   },
   {
    "duration": 3,
    "start_time": "2024-05-05T01:54:02.131Z"
   },
   {
    "duration": 67,
    "start_time": "2024-05-05T01:54:02.136Z"
   },
   {
    "duration": 72,
    "start_time": "2024-05-05T01:54:02.205Z"
   },
   {
    "duration": 84,
    "start_time": "2024-05-05T01:54:02.281Z"
   },
   {
    "duration": 193,
    "start_time": "2024-05-05T01:54:02.366Z"
   },
   {
    "duration": 3,
    "start_time": "2024-05-05T01:54:02.560Z"
   },
   {
    "duration": 77,
    "start_time": "2024-05-05T01:54:02.564Z"
   },
   {
    "duration": 79,
    "start_time": "2024-05-05T01:54:02.642Z"
   },
   {
    "duration": 33,
    "start_time": "2024-05-05T01:54:02.722Z"
   },
   {
    "duration": 3,
    "start_time": "2024-05-05T01:54:02.756Z"
   },
   {
    "duration": 60,
    "start_time": "2024-05-05T01:54:02.761Z"
   },
   {
    "duration": 92,
    "start_time": "2024-05-05T01:54:02.822Z"
   },
   {
    "duration": 6,
    "start_time": "2024-05-05T01:54:02.915Z"
   },
   {
    "duration": 38,
    "start_time": "2024-05-05T01:54:02.923Z"
   },
   {
    "duration": 81,
    "start_time": "2024-05-05T01:54:02.962Z"
   },
   {
    "duration": 78,
    "start_time": "2024-05-05T01:54:03.045Z"
   },
   {
    "duration": 32,
    "start_time": "2024-05-05T01:54:03.124Z"
   },
   {
    "duration": 369,
    "start_time": "2024-05-05T01:54:03.158Z"
   },
   {
    "duration": 134,
    "start_time": "2024-05-05T01:54:03.528Z"
   },
   {
    "duration": 76,
    "start_time": "2024-05-05T01:54:03.663Z"
   },
   {
    "duration": 6,
    "start_time": "2024-05-05T01:54:03.740Z"
   },
   {
    "duration": 76,
    "start_time": "2024-05-05T01:54:03.747Z"
   },
   {
    "duration": 5,
    "start_time": "2024-05-05T01:54:03.825Z"
   },
   {
    "duration": 77,
    "start_time": "2024-05-05T01:54:03.832Z"
   },
   {
    "duration": 9,
    "start_time": "2024-05-05T01:54:03.910Z"
   },
   {
    "duration": 81,
    "start_time": "2024-05-05T01:54:03.920Z"
   },
   {
    "duration": 45,
    "start_time": "2024-05-05T01:54:04.003Z"
   },
   {
    "duration": 74,
    "start_time": "2024-05-05T01:54:04.050Z"
   },
   {
    "duration": 137,
    "start_time": "2024-05-05T01:54:04.125Z"
   },
   {
    "duration": 38,
    "start_time": "2024-05-05T01:54:04.263Z"
   },
   {
    "duration": 135,
    "start_time": "2024-05-05T01:54:04.303Z"
   },
   {
    "duration": 44,
    "start_time": "2024-05-05T01:54:04.440Z"
   },
   {
    "duration": 138,
    "start_time": "2024-05-05T01:54:04.485Z"
   },
   {
    "duration": 14,
    "start_time": "2024-05-05T01:54:04.625Z"
   },
   {
    "duration": 248,
    "start_time": "2024-05-05T01:54:04.640Z"
   },
   {
    "duration": 10,
    "start_time": "2024-05-05T01:54:04.889Z"
   },
   {
    "duration": 86,
    "start_time": "2024-05-05T01:54:04.900Z"
   },
   {
    "duration": 142,
    "start_time": "2024-05-05T01:54:04.987Z"
   },
   {
    "duration": 26,
    "start_time": "2024-05-05T01:54:05.130Z"
   },
   {
    "duration": 181,
    "start_time": "2024-05-05T01:54:05.158Z"
   },
   {
    "duration": 11,
    "start_time": "2024-05-05T01:54:05.341Z"
   },
   {
    "duration": 17,
    "start_time": "2024-05-05T01:54:05.354Z"
   },
   {
    "duration": 52,
    "start_time": "2024-05-05T01:54:05.373Z"
   },
   {
    "duration": 64,
    "start_time": "2024-05-05T01:54:05.427Z"
   },
   {
    "duration": 106,
    "start_time": "2024-05-05T01:54:05.502Z"
   },
   {
    "duration": 22,
    "start_time": "2024-05-05T01:54:05.609Z"
   },
   {
    "duration": 127,
    "start_time": "2024-05-05T01:54:05.632Z"
   },
   {
    "duration": 10,
    "start_time": "2024-05-05T01:54:05.760Z"
   },
   {
    "duration": 70,
    "start_time": "2024-05-05T01:54:05.771Z"
   },
   {
    "duration": 67,
    "start_time": "2024-05-05T01:54:05.842Z"
   },
   {
    "duration": 140,
    "start_time": "2024-05-05T01:54:05.910Z"
   },
   {
    "duration": 10,
    "start_time": "2024-05-05T01:54:06.052Z"
   },
   {
    "duration": 52,
    "start_time": "2024-05-05T01:54:06.064Z"
   },
   {
    "duration": 64,
    "start_time": "2024-05-05T01:54:06.117Z"
   },
   {
    "duration": 137,
    "start_time": "2024-05-05T01:54:06.182Z"
   },
   {
    "duration": 45,
    "start_time": "2024-05-05T01:54:06.320Z"
   },
   {
    "duration": 108,
    "start_time": "2024-05-05T01:54:06.366Z"
   },
   {
    "duration": 7,
    "start_time": "2024-05-05T01:54:06.481Z"
   },
   {
    "duration": 35,
    "start_time": "2024-05-05T01:54:06.489Z"
   },
   {
    "duration": 29,
    "start_time": "2024-05-05T01:54:06.525Z"
   },
   {
    "duration": 16,
    "start_time": "2024-05-05T01:54:06.556Z"
   },
   {
    "duration": 28,
    "start_time": "2024-05-05T01:54:06.574Z"
   },
   {
    "duration": 155,
    "start_time": "2024-05-05T01:54:06.603Z"
   },
   {
    "duration": 8,
    "start_time": "2024-05-05T01:54:06.759Z"
   },
   {
    "duration": 74,
    "start_time": "2024-05-05T01:54:06.768Z"
   },
   {
    "duration": 102,
    "start_time": "2024-05-05T01:54:06.843Z"
   },
   {
    "duration": 29,
    "start_time": "2024-05-05T01:54:06.947Z"
   },
   {
    "duration": 93,
    "start_time": "2024-05-05T01:54:06.978Z"
   },
   {
    "duration": 156,
    "start_time": "2024-05-05T01:54:07.072Z"
   },
   {
    "duration": 25,
    "start_time": "2024-05-05T01:54:07.230Z"
   },
   {
    "duration": 10,
    "start_time": "2024-05-05T01:54:07.257Z"
   },
   {
    "duration": 54,
    "start_time": "2024-05-05T01:54:07.269Z"
   },
   {
    "duration": 9,
    "start_time": "2024-05-05T01:54:07.325Z"
   },
   {
    "duration": 43,
    "start_time": "2024-05-05T01:54:07.335Z"
   },
   {
    "duration": 5,
    "start_time": "2024-05-05T01:54:07.380Z"
   },
   {
    "duration": 15,
    "start_time": "2024-05-05T01:54:07.387Z"
   },
   {
    "duration": 24265,
    "start_time": "2024-05-05T01:54:07.403Z"
   },
   {
    "duration": 4,
    "start_time": "2024-05-05T01:54:31.670Z"
   },
   {
    "duration": 25,
    "start_time": "2024-05-05T01:54:31.676Z"
   },
   {
    "duration": 271006,
    "start_time": "2024-05-05T01:54:31.702Z"
   },
   {
    "duration": 4,
    "start_time": "2024-05-05T01:59:02.709Z"
   },
   {
    "duration": 22,
    "start_time": "2024-05-05T01:59:02.714Z"
   },
   {
    "duration": 219313,
    "start_time": "2024-05-05T01:59:02.737Z"
   },
   {
    "duration": 72950,
    "start_time": "2024-05-05T02:02:42.052Z"
   },
   {
    "duration": 258,
    "start_time": "2024-05-05T02:03:55.004Z"
   },
   {
    "duration": 3,
    "start_time": "2024-05-05T02:03:55.264Z"
   },
   {
    "duration": 33,
    "start_time": "2024-05-05T02:03:55.268Z"
   },
   {
    "duration": 6,
    "start_time": "2024-05-05T02:03:55.303Z"
   },
   {
    "duration": 7,
    "start_time": "2024-05-05T02:03:55.310Z"
   },
   {
    "duration": 20,
    "start_time": "2024-05-05T02:03:55.318Z"
   },
   {
    "duration": 31,
    "start_time": "2024-05-05T02:03:55.339Z"
   },
   {
    "duration": 11,
    "start_time": "2024-05-05T02:03:55.371Z"
   },
   {
    "duration": 141637,
    "start_time": "2024-05-05T02:03:55.383Z"
   },
   {
    "duration": 351,
    "start_time": "2024-05-05T02:06:17.021Z"
   },
   {
    "duration": 10,
    "start_time": "2024-05-05T02:06:17.374Z"
   },
   {
    "duration": 21251,
    "start_time": "2024-05-05T02:25:52.941Z"
   },
   {
    "duration": 71,
    "start_time": "2024-05-05T02:26:25.614Z"
   },
   {
    "duration": 4,
    "start_time": "2024-05-05T02:26:27.797Z"
   },
   {
    "duration": 37,
    "start_time": "2024-05-05T02:26:28.446Z"
   },
   {
    "duration": 759,
    "start_time": "2024-05-05T02:26:30.742Z"
   },
   {
    "duration": 289,
    "start_time": "2024-05-05T02:26:32.541Z"
   },
   {
    "duration": 139,
    "start_time": "2024-05-05T02:26:35.028Z"
   },
   {
    "duration": 494,
    "start_time": "2024-05-05T02:26:36.635Z"
   },
   {
    "duration": 160,
    "start_time": "2024-05-05T02:26:37.130Z"
   },
   {
    "duration": 251,
    "start_time": "2024-05-05T02:26:38.127Z"
   },
   {
    "duration": 137,
    "start_time": "2024-05-05T02:26:38.380Z"
   },
   {
    "duration": 249,
    "start_time": "2024-05-05T02:26:38.663Z"
   },
   {
    "duration": 113,
    "start_time": "2024-05-05T02:26:38.914Z"
   },
   {
    "duration": 5024,
    "start_time": "2024-05-05T02:26:39.504Z"
   },
   {
    "duration": 195,
    "start_time": "2024-05-05T02:26:44.530Z"
   },
   {
    "duration": 5149,
    "start_time": "2024-05-05T02:26:44.727Z"
   },
   {
    "duration": 612,
    "start_time": "2024-05-05T02:26:49.878Z"
   },
   {
    "duration": 19145,
    "start_time": "2024-05-05T02:26:50.491Z"
   },
   {
    "duration": 179,
    "start_time": "2024-05-05T02:27:09.637Z"
   },
   {
    "duration": 127,
    "start_time": "2024-05-05T02:27:09.818Z"
   },
   {
    "duration": 3,
    "start_time": "2024-05-05T02:27:09.947Z"
   },
   {
    "duration": 246,
    "start_time": "2024-05-05T02:27:09.951Z"
   },
   {
    "duration": 232,
    "start_time": "2024-05-05T02:27:10.201Z"
   },
   {
    "duration": 36,
    "start_time": "2024-05-05T02:27:10.435Z"
   },
   {
    "duration": 3,
    "start_time": "2024-05-05T02:27:10.472Z"
   },
   {
    "duration": 72,
    "start_time": "2024-05-05T02:27:10.476Z"
   },
   {
    "duration": 172,
    "start_time": "2024-05-05T02:28:42.994Z"
   },
   {
    "duration": 694,
    "start_time": "2024-05-05T02:28:44.450Z"
   },
   {
    "duration": 17,
    "start_time": "2024-05-05T02:29:04.749Z"
   },
   {
    "duration": 20942,
    "start_time": "2024-05-05T02:29:16.852Z"
   },
   {
    "duration": 74,
    "start_time": "2024-05-05T02:29:37.796Z"
   },
   {
    "duration": 3,
    "start_time": "2024-05-05T02:29:37.871Z"
   },
   {
    "duration": 40,
    "start_time": "2024-05-05T02:29:37.875Z"
   },
   {
    "duration": 751,
    "start_time": "2024-05-05T02:29:37.917Z"
   },
   {
    "duration": 284,
    "start_time": "2024-05-05T02:29:38.669Z"
   },
   {
    "duration": 139,
    "start_time": "2024-05-05T02:29:38.954Z"
   },
   {
    "duration": 487,
    "start_time": "2024-05-05T02:29:39.094Z"
   },
   {
    "duration": 154,
    "start_time": "2024-05-05T02:29:39.582Z"
   },
   {
    "duration": 262,
    "start_time": "2024-05-05T02:29:39.737Z"
   },
   {
    "duration": 139,
    "start_time": "2024-05-05T02:29:40.000Z"
   },
   {
    "duration": 245,
    "start_time": "2024-05-05T02:29:40.141Z"
   },
   {
    "duration": 111,
    "start_time": "2024-05-05T02:29:40.387Z"
   },
   {
    "duration": 4826,
    "start_time": "2024-05-05T02:29:40.501Z"
   },
   {
    "duration": 177,
    "start_time": "2024-05-05T02:29:45.329Z"
   },
   {
    "duration": 5110,
    "start_time": "2024-05-05T02:29:45.507Z"
   },
   {
    "duration": 559,
    "start_time": "2024-05-05T02:29:50.619Z"
   },
   {
    "duration": 18582,
    "start_time": "2024-05-05T02:29:51.179Z"
   },
   {
    "duration": 191,
    "start_time": "2024-05-05T02:30:09.762Z"
   },
   {
    "duration": 134,
    "start_time": "2024-05-05T02:30:09.954Z"
   },
   {
    "duration": 3,
    "start_time": "2024-05-05T02:30:10.090Z"
   },
   {
    "duration": 277,
    "start_time": "2024-05-05T02:30:10.101Z"
   },
   {
    "duration": 257,
    "start_time": "2024-05-05T02:30:10.380Z"
   },
   {
    "duration": 36,
    "start_time": "2024-05-05T02:30:10.639Z"
   },
   {
    "duration": 3,
    "start_time": "2024-05-05T02:30:10.677Z"
   },
   {
    "duration": 68,
    "start_time": "2024-05-05T02:30:10.681Z"
   },
   {
    "duration": 75,
    "start_time": "2024-05-05T02:30:10.750Z"
   },
   {
    "duration": 82,
    "start_time": "2024-05-05T02:30:10.826Z"
   },
   {
    "duration": 147,
    "start_time": "2024-05-05T02:30:10.910Z"
   },
   {
    "duration": 3,
    "start_time": "2024-05-05T02:30:11.059Z"
   },
   {
    "duration": 84,
    "start_time": "2024-05-05T02:30:11.064Z"
   },
   {
    "duration": 86,
    "start_time": "2024-05-05T02:30:11.150Z"
   },
   {
    "duration": 43,
    "start_time": "2024-05-05T02:30:11.238Z"
   },
   {
    "duration": 6,
    "start_time": "2024-05-05T02:30:11.283Z"
   },
   {
    "duration": 47,
    "start_time": "2024-05-05T02:30:11.302Z"
   },
   {
    "duration": 90,
    "start_time": "2024-05-05T02:30:11.350Z"
   },
   {
    "duration": 8,
    "start_time": "2024-05-05T02:30:11.441Z"
   },
   {
    "duration": 57,
    "start_time": "2024-05-05T02:30:11.450Z"
   },
   {
    "duration": 68,
    "start_time": "2024-05-05T02:30:11.509Z"
   },
   {
    "duration": 81,
    "start_time": "2024-05-05T02:30:11.579Z"
   },
   {
    "duration": 43,
    "start_time": "2024-05-05T02:30:11.666Z"
   },
   {
    "duration": 346,
    "start_time": "2024-05-05T02:30:11.711Z"
   },
   {
    "duration": 119,
    "start_time": "2024-05-05T02:30:12.059Z"
   },
   {
    "duration": 62,
    "start_time": "2024-05-05T02:30:12.179Z"
   },
   {
    "duration": 4,
    "start_time": "2024-05-05T02:30:12.242Z"
   },
   {
    "duration": 75,
    "start_time": "2024-05-05T02:30:12.247Z"
   },
   {
    "duration": 4,
    "start_time": "2024-05-05T02:30:12.324Z"
   },
   {
    "duration": 80,
    "start_time": "2024-05-05T02:30:12.329Z"
   },
   {
    "duration": 7,
    "start_time": "2024-05-05T02:30:12.410Z"
   },
   {
    "duration": 79,
    "start_time": "2024-05-05T02:30:12.418Z"
   },
   {
    "duration": 46,
    "start_time": "2024-05-05T02:30:12.498Z"
   },
   {
    "duration": 73,
    "start_time": "2024-05-05T02:30:12.546Z"
   },
   {
    "duration": 139,
    "start_time": "2024-05-05T02:30:12.620Z"
   },
   {
    "duration": 30,
    "start_time": "2024-05-05T02:30:12.760Z"
   },
   {
    "duration": 133,
    "start_time": "2024-05-05T02:30:12.791Z"
   },
   {
    "duration": 38,
    "start_time": "2024-05-05T02:30:12.925Z"
   },
   {
    "duration": 156,
    "start_time": "2024-05-05T02:30:12.965Z"
   },
   {
    "duration": 15,
    "start_time": "2024-05-05T02:30:13.122Z"
   },
   {
    "duration": 207,
    "start_time": "2024-05-05T02:30:13.138Z"
   },
   {
    "duration": 8,
    "start_time": "2024-05-05T02:30:13.346Z"
   },
   {
    "duration": 92,
    "start_time": "2024-05-05T02:30:13.356Z"
   },
   {
    "duration": 109,
    "start_time": "2024-05-05T02:30:13.450Z"
   },
   {
    "duration": 25,
    "start_time": "2024-05-05T02:30:13.561Z"
   },
   {
    "duration": 161,
    "start_time": "2024-05-05T02:30:13.587Z"
   },
   {
    "duration": 19,
    "start_time": "2024-05-05T02:30:13.750Z"
   },
   {
    "duration": 22,
    "start_time": "2024-05-05T02:30:13.771Z"
   },
   {
    "duration": 56,
    "start_time": "2024-05-05T02:30:13.795Z"
   },
   {
    "duration": 66,
    "start_time": "2024-05-05T02:30:13.853Z"
   },
   {
    "duration": 103,
    "start_time": "2024-05-05T02:30:13.920Z"
   },
   {
    "duration": 20,
    "start_time": "2024-05-05T02:30:14.024Z"
   },
   {
    "duration": 127,
    "start_time": "2024-05-05T02:30:14.046Z"
   },
   {
    "duration": 9,
    "start_time": "2024-05-05T02:30:14.174Z"
   },
   {
    "duration": 64,
    "start_time": "2024-05-05T02:30:14.184Z"
   },
   {
    "duration": 65,
    "start_time": "2024-05-05T02:30:14.249Z"
   },
   {
    "duration": 134,
    "start_time": "2024-05-05T02:30:14.316Z"
   },
   {
    "duration": 10,
    "start_time": "2024-05-05T02:30:14.451Z"
   },
   {
    "duration": 57,
    "start_time": "2024-05-05T02:30:14.462Z"
   },
   {
    "duration": 63,
    "start_time": "2024-05-05T02:30:14.520Z"
   },
   {
    "duration": 149,
    "start_time": "2024-05-05T02:30:14.584Z"
   },
   {
    "duration": 28,
    "start_time": "2024-05-05T02:30:14.735Z"
   },
   {
    "duration": 110,
    "start_time": "2024-05-05T02:30:14.765Z"
   },
   {
    "duration": 6,
    "start_time": "2024-05-05T02:30:14.877Z"
   },
   {
    "duration": 33,
    "start_time": "2024-05-05T02:30:14.884Z"
   },
   {
    "duration": 29,
    "start_time": "2024-05-05T02:30:14.918Z"
   },
   {
    "duration": 9,
    "start_time": "2024-05-05T02:30:14.948Z"
   },
   {
    "duration": 21,
    "start_time": "2024-05-05T02:30:14.958Z"
   },
   {
    "duration": 111,
    "start_time": "2024-05-05T02:30:14.980Z"
   },
   {
    "duration": 7,
    "start_time": "2024-05-05T02:30:15.101Z"
   },
   {
    "duration": 54,
    "start_time": "2024-05-05T02:30:15.109Z"
   },
   {
    "duration": 65,
    "start_time": "2024-05-05T02:30:15.165Z"
   },
   {
    "duration": 19,
    "start_time": "2024-05-05T02:30:15.232Z"
   },
   {
    "duration": 111,
    "start_time": "2024-05-05T02:30:15.252Z"
   },
   {
    "duration": 144,
    "start_time": "2024-05-05T02:30:15.364Z"
   },
   {
    "duration": 18,
    "start_time": "2024-05-05T02:30:15.510Z"
   },
   {
    "duration": 11,
    "start_time": "2024-05-05T02:30:15.529Z"
   },
   {
    "duration": 36,
    "start_time": "2024-05-05T02:30:15.542Z"
   },
   {
    "duration": 27,
    "start_time": "2024-05-05T02:30:15.579Z"
   },
   {
    "duration": 38,
    "start_time": "2024-05-05T02:30:15.608Z"
   },
   {
    "duration": 5,
    "start_time": "2024-05-05T02:30:15.648Z"
   },
   {
    "duration": 5,
    "start_time": "2024-05-05T02:30:15.654Z"
   },
   {
    "duration": 23104,
    "start_time": "2024-05-05T02:30:15.660Z"
   },
   {
    "duration": 4,
    "start_time": "2024-05-05T02:30:38.765Z"
   },
   {
    "duration": 9,
    "start_time": "2024-05-05T02:30:38.770Z"
   },
   {
    "duration": 266226,
    "start_time": "2024-05-05T02:30:38.780Z"
   },
   {
    "duration": 5,
    "start_time": "2024-05-05T02:35:05.007Z"
   },
   {
    "duration": 31,
    "start_time": "2024-05-05T02:35:05.014Z"
   },
   {
    "duration": 311203,
    "start_time": "2024-05-05T02:35:05.046Z"
   },
   {
    "duration": 98270,
    "start_time": "2024-05-05T02:40:16.250Z"
   },
   {
    "duration": 248,
    "start_time": "2024-05-05T02:41:54.521Z"
   },
   {
    "duration": 3,
    "start_time": "2024-05-05T02:41:54.770Z"
   },
   {
    "duration": 30,
    "start_time": "2024-05-05T02:41:54.774Z"
   },
   {
    "duration": 20,
    "start_time": "2024-05-05T02:41:54.805Z"
   },
   {
    "duration": 20,
    "start_time": "2024-05-05T02:41:54.826Z"
   },
   {
    "duration": 12,
    "start_time": "2024-05-05T02:41:54.847Z"
   },
   {
    "duration": 11,
    "start_time": "2024-05-05T02:41:54.860Z"
   },
   {
    "duration": 13,
    "start_time": "2024-05-05T02:41:54.872Z"
   },
   {
    "duration": 251224,
    "start_time": "2024-05-05T02:41:54.886Z"
   },
   {
    "duration": 282,
    "start_time": "2024-05-05T02:46:06.112Z"
   },
   {
    "duration": 10,
    "start_time": "2024-05-05T02:46:06.401Z"
   },
   {
    "duration": 20793,
    "start_time": "2024-05-05T02:56:24.230Z"
   },
   {
    "duration": 81,
    "start_time": "2024-05-05T02:56:45.024Z"
   },
   {
    "duration": 3,
    "start_time": "2024-05-05T02:56:45.107Z"
   },
   {
    "duration": 46,
    "start_time": "2024-05-05T02:56:45.112Z"
   },
   {
    "duration": 719,
    "start_time": "2024-05-05T02:56:45.159Z"
   },
   {
    "duration": 285,
    "start_time": "2024-05-05T02:56:45.879Z"
   },
   {
    "duration": 141,
    "start_time": "2024-05-05T02:56:46.165Z"
   },
   {
    "duration": 482,
    "start_time": "2024-05-05T02:56:46.308Z"
   },
   {
    "duration": 152,
    "start_time": "2024-05-05T02:56:46.791Z"
   },
   {
    "duration": 254,
    "start_time": "2024-05-05T02:56:46.945Z"
   },
   {
    "duration": 151,
    "start_time": "2024-05-05T02:56:47.200Z"
   },
   {
    "duration": 249,
    "start_time": "2024-05-05T02:56:47.352Z"
   },
   {
    "duration": 136,
    "start_time": "2024-05-05T02:56:47.603Z"
   },
   {
    "duration": 4997,
    "start_time": "2024-05-05T02:56:47.741Z"
   },
   {
    "duration": 175,
    "start_time": "2024-05-05T02:56:52.740Z"
   },
   {
    "duration": 5046,
    "start_time": "2024-05-05T02:56:52.917Z"
   },
   {
    "duration": 555,
    "start_time": "2024-05-05T02:56:57.964Z"
   },
   {
    "duration": 18535,
    "start_time": "2024-05-05T02:56:58.520Z"
   },
   {
    "duration": 178,
    "start_time": "2024-05-05T02:57:17.056Z"
   },
   {
    "duration": 113,
    "start_time": "2024-05-05T02:57:17.235Z"
   },
   {
    "duration": 4,
    "start_time": "2024-05-05T02:57:17.349Z"
   },
   {
    "duration": 213,
    "start_time": "2024-05-05T02:57:17.354Z"
   },
   {
    "duration": 198,
    "start_time": "2024-05-05T02:57:17.568Z"
   },
   {
    "duration": 42,
    "start_time": "2024-05-05T02:57:17.767Z"
   },
   {
    "duration": 3,
    "start_time": "2024-05-05T02:57:17.811Z"
   },
   {
    "duration": 64,
    "start_time": "2024-05-05T02:57:17.815Z"
   },
   {
    "duration": 88,
    "start_time": "2024-05-05T02:57:17.881Z"
   },
   {
    "duration": 78,
    "start_time": "2024-05-05T02:57:17.973Z"
   },
   {
    "duration": 150,
    "start_time": "2024-05-05T02:57:18.053Z"
   },
   {
    "duration": 4,
    "start_time": "2024-05-05T02:57:18.204Z"
   },
   {
    "duration": 73,
    "start_time": "2024-05-05T02:57:18.209Z"
   },
   {
    "duration": 75,
    "start_time": "2024-05-05T02:57:18.301Z"
   },
   {
    "duration": 39,
    "start_time": "2024-05-05T02:57:18.377Z"
   },
   {
    "duration": 4,
    "start_time": "2024-05-05T02:57:18.417Z"
   },
   {
    "duration": 42,
    "start_time": "2024-05-05T02:57:18.422Z"
   },
   {
    "duration": 104,
    "start_time": "2024-05-05T02:57:18.465Z"
   },
   {
    "duration": 6,
    "start_time": "2024-05-05T02:57:18.571Z"
   },
   {
    "duration": 49,
    "start_time": "2024-05-05T02:57:18.578Z"
   },
   {
    "duration": 73,
    "start_time": "2024-05-05T02:57:18.628Z"
   },
   {
    "duration": 70,
    "start_time": "2024-05-05T02:57:18.703Z"
   },
   {
    "duration": 47,
    "start_time": "2024-05-05T02:57:18.774Z"
   },
   {
    "duration": 322,
    "start_time": "2024-05-05T02:57:18.823Z"
   },
   {
    "duration": 142,
    "start_time": "2024-05-05T02:57:19.146Z"
   },
   {
    "duration": 62,
    "start_time": "2024-05-05T02:57:19.289Z"
   },
   {
    "duration": 4,
    "start_time": "2024-05-05T02:57:19.352Z"
   },
   {
    "duration": 83,
    "start_time": "2024-05-05T02:57:19.357Z"
   },
   {
    "duration": 6,
    "start_time": "2024-05-05T02:57:19.441Z"
   },
   {
    "duration": 71,
    "start_time": "2024-05-05T02:57:19.448Z"
   },
   {
    "duration": 8,
    "start_time": "2024-05-05T02:57:19.520Z"
   },
   {
    "duration": 89,
    "start_time": "2024-05-05T02:57:19.529Z"
   },
   {
    "duration": 49,
    "start_time": "2024-05-05T02:57:19.620Z"
   },
   {
    "duration": 80,
    "start_time": "2024-05-05T02:57:19.670Z"
   },
   {
    "duration": 125,
    "start_time": "2024-05-05T02:57:19.752Z"
   },
   {
    "duration": 36,
    "start_time": "2024-05-05T02:57:19.878Z"
   },
   {
    "duration": 127,
    "start_time": "2024-05-05T02:57:19.915Z"
   },
   {
    "duration": 37,
    "start_time": "2024-05-05T02:57:20.043Z"
   },
   {
    "duration": 144,
    "start_time": "2024-05-05T02:57:20.081Z"
   },
   {
    "duration": 13,
    "start_time": "2024-05-05T02:57:20.226Z"
   },
   {
    "duration": 239,
    "start_time": "2024-05-05T02:57:20.240Z"
   },
   {
    "duration": 9,
    "start_time": "2024-05-05T02:57:20.480Z"
   },
   {
    "duration": 96,
    "start_time": "2024-05-05T02:57:20.490Z"
   },
   {
    "duration": 136,
    "start_time": "2024-05-05T02:57:20.587Z"
   },
   {
    "duration": 26,
    "start_time": "2024-05-05T02:57:20.724Z"
   },
   {
    "duration": 133,
    "start_time": "2024-05-05T02:57:20.751Z"
   },
   {
    "duration": 19,
    "start_time": "2024-05-05T02:57:20.886Z"
   },
   {
    "duration": 28,
    "start_time": "2024-05-05T02:57:20.906Z"
   },
   {
    "duration": 67,
    "start_time": "2024-05-05T02:57:20.936Z"
   },
   {
    "duration": 66,
    "start_time": "2024-05-05T02:57:21.004Z"
   },
   {
    "duration": 115,
    "start_time": "2024-05-05T02:57:21.072Z"
   },
   {
    "duration": 30,
    "start_time": "2024-05-05T02:57:21.188Z"
   },
   {
    "duration": 135,
    "start_time": "2024-05-05T02:57:21.220Z"
   },
   {
    "duration": 9,
    "start_time": "2024-05-05T02:57:21.357Z"
   },
   {
    "duration": 51,
    "start_time": "2024-05-05T02:57:21.367Z"
   },
   {
    "duration": 64,
    "start_time": "2024-05-05T02:57:21.420Z"
   },
   {
    "duration": 137,
    "start_time": "2024-05-05T02:57:21.486Z"
   },
   {
    "duration": 9,
    "start_time": "2024-05-05T02:57:21.625Z"
   },
   {
    "duration": 48,
    "start_time": "2024-05-05T02:57:21.635Z"
   },
   {
    "duration": 69,
    "start_time": "2024-05-05T02:57:21.684Z"
   },
   {
    "duration": 124,
    "start_time": "2024-05-05T02:57:21.755Z"
   },
   {
    "duration": 37,
    "start_time": "2024-05-05T02:57:21.881Z"
   },
   {
    "duration": 101,
    "start_time": "2024-05-05T02:57:21.919Z"
   },
   {
    "duration": 7,
    "start_time": "2024-05-05T02:57:22.025Z"
   },
   {
    "duration": 32,
    "start_time": "2024-05-05T02:57:22.033Z"
   },
   {
    "duration": 35,
    "start_time": "2024-05-05T02:57:22.066Z"
   },
   {
    "duration": 16,
    "start_time": "2024-05-05T02:57:22.103Z"
   },
   {
    "duration": 32,
    "start_time": "2024-05-05T02:57:22.121Z"
   },
   {
    "duration": 103,
    "start_time": "2024-05-05T02:57:22.154Z"
   },
   {
    "duration": 10,
    "start_time": "2024-05-05T02:57:22.258Z"
   },
   {
    "duration": 60,
    "start_time": "2024-05-05T02:57:22.269Z"
   },
   {
    "duration": 78,
    "start_time": "2024-05-05T02:57:22.331Z"
   },
   {
    "duration": 17,
    "start_time": "2024-05-05T02:57:22.410Z"
   },
   {
    "duration": 93,
    "start_time": "2024-05-05T02:57:22.429Z"
   },
   {
    "duration": 124,
    "start_time": "2024-05-05T02:57:22.524Z"
   },
   {
    "duration": 16,
    "start_time": "2024-05-05T02:57:22.649Z"
   },
   {
    "duration": 10,
    "start_time": "2024-05-05T02:57:22.666Z"
   },
   {
    "duration": 39,
    "start_time": "2024-05-05T02:57:22.677Z"
   },
   {
    "duration": 8,
    "start_time": "2024-05-05T02:57:22.718Z"
   },
   {
    "duration": 37,
    "start_time": "2024-05-05T02:57:22.727Z"
   },
   {
    "duration": 5,
    "start_time": "2024-05-05T02:57:22.765Z"
   },
   {
    "duration": 14,
    "start_time": "2024-05-05T02:57:22.771Z"
   },
   {
    "duration": 24322,
    "start_time": "2024-05-05T02:57:22.786Z"
   },
   {
    "duration": 3,
    "start_time": "2024-05-05T02:57:47.110Z"
   },
   {
    "duration": 10,
    "start_time": "2024-05-05T02:57:47.114Z"
   },
   {
    "duration": 71908,
    "start_time": "2024-05-05T02:57:47.125Z"
   },
   {
    "duration": 5,
    "start_time": "2024-05-05T02:58:59.034Z"
   },
   {
    "duration": 25,
    "start_time": "2024-05-05T02:58:59.040Z"
   },
   {
    "duration": 327106,
    "start_time": "2024-05-05T02:58:59.067Z"
   },
   {
    "duration": 101940,
    "start_time": "2024-05-05T03:04:26.175Z"
   },
   {
    "duration": 2,
    "start_time": "2024-05-05T03:06:08.117Z"
   },
   {
    "duration": 21,
    "start_time": "2024-05-05T03:06:08.120Z"
   },
   {
    "duration": 0,
    "start_time": "2024-05-05T03:06:08.143Z"
   },
   {
    "duration": 0,
    "start_time": "2024-05-05T03:06:08.144Z"
   },
   {
    "duration": 0,
    "start_time": "2024-05-05T03:06:08.145Z"
   },
   {
    "duration": 0,
    "start_time": "2024-05-05T03:06:08.146Z"
   },
   {
    "duration": 0,
    "start_time": "2024-05-05T03:06:08.147Z"
   },
   {
    "duration": 0,
    "start_time": "2024-05-05T03:06:08.148Z"
   },
   {
    "duration": 0,
    "start_time": "2024-05-05T03:06:08.149Z"
   },
   {
    "duration": 0,
    "start_time": "2024-05-05T03:06:08.151Z"
   },
   {
    "duration": 22171,
    "start_time": "2024-05-05T03:09:40.810Z"
   },
   {
    "duration": 81,
    "start_time": "2024-05-05T03:10:02.983Z"
   },
   {
    "duration": 3,
    "start_time": "2024-05-05T03:10:03.066Z"
   },
   {
    "duration": 43,
    "start_time": "2024-05-05T03:10:03.070Z"
   },
   {
    "duration": 761,
    "start_time": "2024-05-05T03:10:03.114Z"
   },
   {
    "duration": 285,
    "start_time": "2024-05-05T03:10:03.876Z"
   },
   {
    "duration": 147,
    "start_time": "2024-05-05T03:10:04.162Z"
   },
   {
    "duration": 495,
    "start_time": "2024-05-05T03:10:04.310Z"
   },
   {
    "duration": 178,
    "start_time": "2024-05-05T03:10:04.806Z"
   },
   {
    "duration": 272,
    "start_time": "2024-05-05T03:10:04.986Z"
   },
   {
    "duration": 153,
    "start_time": "2024-05-05T03:10:05.259Z"
   },
   {
    "duration": 251,
    "start_time": "2024-05-05T03:10:05.414Z"
   },
   {
    "duration": 110,
    "start_time": "2024-05-05T03:10:05.667Z"
   },
   {
    "duration": 5062,
    "start_time": "2024-05-05T03:10:05.779Z"
   },
   {
    "duration": 188,
    "start_time": "2024-05-05T03:10:10.842Z"
   },
   {
    "duration": 5668,
    "start_time": "2024-05-05T03:10:11.032Z"
   },
   {
    "duration": 574,
    "start_time": "2024-05-05T03:10:16.701Z"
   },
   {
    "duration": 18339,
    "start_time": "2024-05-05T03:10:17.276Z"
   },
   {
    "duration": 188,
    "start_time": "2024-05-05T03:10:35.616Z"
   },
   {
    "duration": 156,
    "start_time": "2024-05-05T03:10:35.805Z"
   },
   {
    "duration": 4,
    "start_time": "2024-05-05T03:10:35.963Z"
   },
   {
    "duration": 301,
    "start_time": "2024-05-05T03:10:35.968Z"
   },
   {
    "duration": 256,
    "start_time": "2024-05-05T03:10:36.270Z"
   },
   {
    "duration": 36,
    "start_time": "2024-05-05T03:10:36.528Z"
   },
   {
    "duration": 3,
    "start_time": "2024-05-05T03:10:36.565Z"
   },
   {
    "duration": 67,
    "start_time": "2024-05-05T03:10:36.569Z"
   },
   {
    "duration": 98,
    "start_time": "2024-05-05T03:10:36.638Z"
   },
   {
    "duration": 73,
    "start_time": "2024-05-05T03:10:36.739Z"
   },
   {
    "duration": 136,
    "start_time": "2024-05-05T03:10:36.813Z"
   },
   {
    "duration": 3,
    "start_time": "2024-05-05T03:10:36.950Z"
   },
   {
    "duration": 79,
    "start_time": "2024-05-05T03:10:36.954Z"
   },
   {
    "duration": 79,
    "start_time": "2024-05-05T03:10:37.035Z"
   },
   {
    "duration": 32,
    "start_time": "2024-05-05T03:10:37.115Z"
   },
   {
    "duration": 3,
    "start_time": "2024-05-05T03:10:37.149Z"
   },
   {
    "duration": 65,
    "start_time": "2024-05-05T03:10:37.154Z"
   },
   {
    "duration": 92,
    "start_time": "2024-05-05T03:10:37.220Z"
   },
   {
    "duration": 7,
    "start_time": "2024-05-05T03:10:37.313Z"
   },
   {
    "duration": 37,
    "start_time": "2024-05-05T03:10:37.321Z"
   },
   {
    "duration": 86,
    "start_time": "2024-05-05T03:10:37.360Z"
   },
   {
    "duration": 74,
    "start_time": "2024-05-05T03:10:37.447Z"
   },
   {
    "duration": 32,
    "start_time": "2024-05-05T03:10:37.522Z"
   },
   {
    "duration": 393,
    "start_time": "2024-05-05T03:10:37.555Z"
   },
   {
    "duration": 113,
    "start_time": "2024-05-05T03:10:37.949Z"
   },
   {
    "duration": 57,
    "start_time": "2024-05-05T03:10:38.063Z"
   },
   {
    "duration": 3,
    "start_time": "2024-05-05T03:10:38.122Z"
   },
   {
    "duration": 75,
    "start_time": "2024-05-05T03:10:38.126Z"
   },
   {
    "duration": 4,
    "start_time": "2024-05-05T03:10:38.203Z"
   },
   {
    "duration": 65,
    "start_time": "2024-05-05T03:10:38.208Z"
   },
   {
    "duration": 7,
    "start_time": "2024-05-05T03:10:38.274Z"
   },
   {
    "duration": 86,
    "start_time": "2024-05-05T03:10:38.283Z"
   },
   {
    "duration": 53,
    "start_time": "2024-05-05T03:10:38.370Z"
   },
   {
    "duration": 66,
    "start_time": "2024-05-05T03:10:38.424Z"
   },
   {
    "duration": 154,
    "start_time": "2024-05-05T03:10:38.501Z"
   },
   {
    "duration": 30,
    "start_time": "2024-05-05T03:10:38.656Z"
   },
   {
    "duration": 145,
    "start_time": "2024-05-05T03:10:38.688Z"
   },
   {
    "duration": 36,
    "start_time": "2024-05-05T03:10:38.835Z"
   },
   {
    "duration": 143,
    "start_time": "2024-05-05T03:10:38.872Z"
   },
   {
    "duration": 14,
    "start_time": "2024-05-05T03:10:39.016Z"
   },
   {
    "duration": 201,
    "start_time": "2024-05-05T03:10:39.032Z"
   },
   {
    "duration": 10,
    "start_time": "2024-05-05T03:10:39.234Z"
   },
   {
    "duration": 96,
    "start_time": "2024-05-05T03:10:39.245Z"
   },
   {
    "duration": 120,
    "start_time": "2024-05-05T03:10:39.342Z"
   },
   {
    "duration": 25,
    "start_time": "2024-05-05T03:10:39.463Z"
   },
   {
    "duration": 124,
    "start_time": "2024-05-05T03:10:39.490Z"
   },
   {
    "duration": 10,
    "start_time": "2024-05-05T03:10:39.616Z"
   },
   {
    "duration": 12,
    "start_time": "2024-05-05T03:10:39.627Z"
   },
   {
    "duration": 44,
    "start_time": "2024-05-05T03:10:39.640Z"
   },
   {
    "duration": 76,
    "start_time": "2024-05-05T03:10:39.685Z"
   },
   {
    "duration": 114,
    "start_time": "2024-05-05T03:10:39.762Z"
   },
   {
    "duration": 32,
    "start_time": "2024-05-05T03:10:39.877Z"
   },
   {
    "duration": 134,
    "start_time": "2024-05-05T03:10:39.911Z"
   },
   {
    "duration": 11,
    "start_time": "2024-05-05T03:10:40.047Z"
   },
   {
    "duration": 78,
    "start_time": "2024-05-05T03:10:40.059Z"
   },
   {
    "duration": 82,
    "start_time": "2024-05-05T03:10:40.138Z"
   },
   {
    "duration": 161,
    "start_time": "2024-05-05T03:10:40.222Z"
   },
   {
    "duration": 21,
    "start_time": "2024-05-05T03:10:40.384Z"
   },
   {
    "duration": 44,
    "start_time": "2024-05-05T03:10:40.407Z"
   },
   {
    "duration": 75,
    "start_time": "2024-05-05T03:10:40.452Z"
   },
   {
    "duration": 124,
    "start_time": "2024-05-05T03:10:40.528Z"
   },
   {
    "duration": 29,
    "start_time": "2024-05-05T03:10:40.653Z"
   },
   {
    "duration": 106,
    "start_time": "2024-05-05T03:10:40.684Z"
   },
   {
    "duration": 7,
    "start_time": "2024-05-05T03:10:40.802Z"
   },
   {
    "duration": 22,
    "start_time": "2024-05-05T03:10:40.810Z"
   },
   {
    "duration": 28,
    "start_time": "2024-05-05T03:10:40.834Z"
   },
   {
    "duration": 9,
    "start_time": "2024-05-05T03:10:40.863Z"
   },
   {
    "duration": 42,
    "start_time": "2024-05-05T03:10:40.874Z"
   },
   {
    "duration": 95,
    "start_time": "2024-05-05T03:10:40.917Z"
   },
   {
    "duration": 7,
    "start_time": "2024-05-05T03:10:41.013Z"
   },
   {
    "duration": 27,
    "start_time": "2024-05-05T03:10:41.022Z"
   },
   {
    "duration": 84,
    "start_time": "2024-05-05T03:10:41.050Z"
   },
   {
    "duration": 17,
    "start_time": "2024-05-05T03:10:41.136Z"
   },
   {
    "duration": 111,
    "start_time": "2024-05-05T03:10:41.154Z"
   },
   {
    "duration": 124,
    "start_time": "2024-05-05T03:10:41.266Z"
   },
   {
    "duration": 23,
    "start_time": "2024-05-05T03:10:41.391Z"
   },
   {
    "duration": 10,
    "start_time": "2024-05-05T03:10:41.416Z"
   },
   {
    "duration": 29,
    "start_time": "2024-05-05T03:10:41.427Z"
   },
   {
    "duration": 7,
    "start_time": "2024-05-05T03:10:41.457Z"
   },
   {
    "duration": 62,
    "start_time": "2024-05-05T03:10:41.466Z"
   },
   {
    "duration": 6,
    "start_time": "2024-05-05T03:10:41.530Z"
   },
   {
    "duration": 6,
    "start_time": "2024-05-05T03:10:41.538Z"
   },
   {
    "duration": 23988,
    "start_time": "2024-05-05T03:10:41.546Z"
   },
   {
    "duration": 4,
    "start_time": "2024-05-05T03:11:05.535Z"
   },
   {
    "duration": 32,
    "start_time": "2024-05-05T03:11:05.540Z"
   },
   {
    "duration": 294067,
    "start_time": "2024-05-05T03:11:05.573Z"
   },
   {
    "duration": 4,
    "start_time": "2024-05-05T03:15:59.641Z"
   },
   {
    "duration": 7,
    "start_time": "2024-05-05T03:15:59.646Z"
   },
   {
    "duration": 430146,
    "start_time": "2024-05-05T03:15:59.654Z"
   },
   {
    "duration": 0,
    "start_time": "2024-05-05T03:23:09.802Z"
   },
   {
    "duration": 0,
    "start_time": "2024-05-05T03:23:09.803Z"
   },
   {
    "duration": 0,
    "start_time": "2024-05-05T03:23:09.804Z"
   },
   {
    "duration": 0,
    "start_time": "2024-05-05T03:23:09.804Z"
   },
   {
    "duration": 0,
    "start_time": "2024-05-05T03:23:09.805Z"
   },
   {
    "duration": 0,
    "start_time": "2024-05-05T03:23:09.806Z"
   },
   {
    "duration": 0,
    "start_time": "2024-05-05T03:23:09.807Z"
   },
   {
    "duration": 0,
    "start_time": "2024-05-05T03:23:09.808Z"
   },
   {
    "duration": 0,
    "start_time": "2024-05-05T03:23:09.809Z"
   },
   {
    "duration": 0,
    "start_time": "2024-05-05T03:23:09.810Z"
   },
   {
    "duration": 14719,
    "start_time": "2024-05-05T03:26:33.309Z"
   },
   {
    "duration": 20982,
    "start_time": "2024-05-05T03:37:26.879Z"
   },
   {
    "duration": 71,
    "start_time": "2024-05-05T03:37:47.863Z"
   },
   {
    "duration": 3,
    "start_time": "2024-05-05T03:37:47.935Z"
   },
   {
    "duration": 36,
    "start_time": "2024-05-05T03:37:47.940Z"
   },
   {
    "duration": 748,
    "start_time": "2024-05-05T03:37:47.978Z"
   },
   {
    "duration": 283,
    "start_time": "2024-05-05T03:37:48.728Z"
   },
   {
    "duration": 145,
    "start_time": "2024-05-05T03:37:49.012Z"
   },
   {
    "duration": 490,
    "start_time": "2024-05-05T03:37:49.158Z"
   },
   {
    "duration": 149,
    "start_time": "2024-05-05T03:37:49.650Z"
   },
   {
    "duration": 265,
    "start_time": "2024-05-05T03:37:49.801Z"
   },
   {
    "duration": 138,
    "start_time": "2024-05-05T03:37:50.067Z"
   },
   {
    "duration": 251,
    "start_time": "2024-05-05T03:37:50.207Z"
   },
   {
    "duration": 113,
    "start_time": "2024-05-05T03:37:50.459Z"
   },
   {
    "duration": 4866,
    "start_time": "2024-05-05T03:37:50.573Z"
   },
   {
    "duration": 181,
    "start_time": "2024-05-05T03:37:55.440Z"
   },
   {
    "duration": 5051,
    "start_time": "2024-05-05T03:37:55.622Z"
   },
   {
    "duration": 690,
    "start_time": "2024-05-05T03:38:00.675Z"
   },
   {
    "duration": 18745,
    "start_time": "2024-05-05T03:38:01.367Z"
   },
   {
    "duration": 159,
    "start_time": "2024-05-05T03:38:20.113Z"
   },
   {
    "duration": 138,
    "start_time": "2024-05-05T03:38:20.274Z"
   },
   {
    "duration": 9,
    "start_time": "2024-05-05T03:38:20.414Z"
   },
   {
    "duration": 236,
    "start_time": "2024-05-05T03:38:20.424Z"
   },
   {
    "duration": 279,
    "start_time": "2024-05-05T03:38:20.662Z"
   },
   {
    "duration": 39,
    "start_time": "2024-05-05T03:38:20.943Z"
   },
   {
    "duration": 4,
    "start_time": "2024-05-05T03:38:20.984Z"
   },
   {
    "duration": 68,
    "start_time": "2024-05-05T03:38:20.989Z"
   },
   {
    "duration": 81,
    "start_time": "2024-05-05T03:38:21.058Z"
   },
   {
    "duration": 79,
    "start_time": "2024-05-05T03:38:21.143Z"
   },
   {
    "duration": 141,
    "start_time": "2024-05-05T03:38:21.223Z"
   },
   {
    "duration": 3,
    "start_time": "2024-05-05T03:38:21.365Z"
   },
   {
    "duration": 83,
    "start_time": "2024-05-05T03:38:21.369Z"
   },
   {
    "duration": 80,
    "start_time": "2024-05-05T03:38:21.453Z"
   },
   {
    "duration": 33,
    "start_time": "2024-05-05T03:38:21.534Z"
   },
   {
    "duration": 3,
    "start_time": "2024-05-05T03:38:21.568Z"
   },
   {
    "duration": 52,
    "start_time": "2024-05-05T03:38:21.572Z"
   },
   {
    "duration": 90,
    "start_time": "2024-05-05T03:38:21.626Z"
   },
   {
    "duration": 6,
    "start_time": "2024-05-05T03:38:21.718Z"
   },
   {
    "duration": 40,
    "start_time": "2024-05-05T03:38:21.725Z"
   },
   {
    "duration": 82,
    "start_time": "2024-05-05T03:38:21.767Z"
   },
   {
    "duration": 74,
    "start_time": "2024-05-05T03:38:21.850Z"
   },
   {
    "duration": 32,
    "start_time": "2024-05-05T03:38:21.925Z"
   },
   {
    "duration": 335,
    "start_time": "2024-05-05T03:38:21.959Z"
   },
   {
    "duration": 127,
    "start_time": "2024-05-05T03:38:22.295Z"
   },
   {
    "duration": 57,
    "start_time": "2024-05-05T03:38:22.423Z"
   },
   {
    "duration": 4,
    "start_time": "2024-05-05T03:38:22.481Z"
   },
   {
    "duration": 81,
    "start_time": "2024-05-05T03:38:22.486Z"
   },
   {
    "duration": 4,
    "start_time": "2024-05-05T03:38:22.569Z"
   },
   {
    "duration": 76,
    "start_time": "2024-05-05T03:38:22.574Z"
   },
   {
    "duration": 6,
    "start_time": "2024-05-05T03:38:22.651Z"
   },
   {
    "duration": 77,
    "start_time": "2024-05-05T03:38:22.658Z"
   },
   {
    "duration": 48,
    "start_time": "2024-05-05T03:38:22.736Z"
   },
   {
    "duration": 76,
    "start_time": "2024-05-05T03:38:22.785Z"
   },
   {
    "duration": 131,
    "start_time": "2024-05-05T03:38:22.862Z"
   },
   {
    "duration": 31,
    "start_time": "2024-05-05T03:38:22.994Z"
   },
   {
    "duration": 139,
    "start_time": "2024-05-05T03:38:23.027Z"
   },
   {
    "duration": 51,
    "start_time": "2024-05-05T03:38:23.168Z"
   },
   {
    "duration": 160,
    "start_time": "2024-05-05T03:38:23.220Z"
   },
   {
    "duration": 25,
    "start_time": "2024-05-05T03:38:23.381Z"
   },
   {
    "duration": 207,
    "start_time": "2024-05-05T03:38:23.408Z"
   },
   {
    "duration": 9,
    "start_time": "2024-05-05T03:38:23.616Z"
   },
   {
    "duration": 109,
    "start_time": "2024-05-05T03:38:23.626Z"
   },
   {
    "duration": 141,
    "start_time": "2024-05-05T03:38:23.736Z"
   },
   {
    "duration": 36,
    "start_time": "2024-05-05T03:38:23.879Z"
   },
   {
    "duration": 123,
    "start_time": "2024-05-05T03:38:23.916Z"
   },
   {
    "duration": 12,
    "start_time": "2024-05-05T03:38:24.040Z"
   },
   {
    "duration": 20,
    "start_time": "2024-05-05T03:38:24.053Z"
   },
   {
    "duration": 62,
    "start_time": "2024-05-05T03:38:24.074Z"
   },
   {
    "duration": 76,
    "start_time": "2024-05-05T03:38:24.137Z"
   },
   {
    "duration": 123,
    "start_time": "2024-05-05T03:38:24.214Z"
   },
   {
    "duration": 21,
    "start_time": "2024-05-05T03:38:24.338Z"
   },
   {
    "duration": 161,
    "start_time": "2024-05-05T03:38:24.360Z"
   },
   {
    "duration": 10,
    "start_time": "2024-05-05T03:38:24.523Z"
   },
   {
    "duration": 51,
    "start_time": "2024-05-05T03:38:24.534Z"
   },
   {
    "duration": 75,
    "start_time": "2024-05-05T03:38:24.586Z"
   },
   {
    "duration": 162,
    "start_time": "2024-05-05T03:38:24.662Z"
   },
   {
    "duration": 11,
    "start_time": "2024-05-05T03:38:24.825Z"
   },
   {
    "duration": 68,
    "start_time": "2024-05-05T03:38:24.837Z"
   },
   {
    "duration": 70,
    "start_time": "2024-05-05T03:38:24.906Z"
   },
   {
    "duration": 186,
    "start_time": "2024-05-05T03:38:24.977Z"
   },
   {
    "duration": 51,
    "start_time": "2024-05-05T03:38:25.164Z"
   },
   {
    "duration": 109,
    "start_time": "2024-05-05T03:38:25.217Z"
   },
   {
    "duration": 7,
    "start_time": "2024-05-05T03:38:25.331Z"
   },
   {
    "duration": 38,
    "start_time": "2024-05-05T03:38:25.339Z"
   },
   {
    "duration": 33,
    "start_time": "2024-05-05T03:38:25.378Z"
   },
   {
    "duration": 10,
    "start_time": "2024-05-05T03:38:25.412Z"
   },
   {
    "duration": 32,
    "start_time": "2024-05-05T03:38:25.423Z"
   },
   {
    "duration": 98,
    "start_time": "2024-05-05T03:38:25.456Z"
   },
   {
    "duration": 7,
    "start_time": "2024-05-05T03:38:25.555Z"
   },
   {
    "duration": 38,
    "start_time": "2024-05-05T03:38:25.563Z"
   },
   {
    "duration": 68,
    "start_time": "2024-05-05T03:38:25.603Z"
   },
   {
    "duration": 28,
    "start_time": "2024-05-05T03:38:25.673Z"
   },
   {
    "duration": 87,
    "start_time": "2024-05-05T03:38:25.703Z"
   },
   {
    "duration": 135,
    "start_time": "2024-05-05T03:38:25.802Z"
   },
   {
    "duration": 16,
    "start_time": "2024-05-05T03:38:25.939Z"
   },
   {
    "duration": 10,
    "start_time": "2024-05-05T03:38:25.956Z"
   },
   {
    "duration": 49,
    "start_time": "2024-05-05T03:38:25.968Z"
   },
   {
    "duration": 8,
    "start_time": "2024-05-05T03:38:26.018Z"
   },
   {
    "duration": 37,
    "start_time": "2024-05-05T03:38:26.027Z"
   },
   {
    "duration": 6,
    "start_time": "2024-05-05T03:38:26.065Z"
   },
   {
    "duration": 6,
    "start_time": "2024-05-05T03:38:26.072Z"
   },
   {
    "duration": 23942,
    "start_time": "2024-05-05T03:38:26.080Z"
   },
   {
    "duration": 6,
    "start_time": "2024-05-05T03:38:50.023Z"
   },
   {
    "duration": 20946,
    "start_time": "2024-05-05T03:38:50.030Z"
   },
   {
    "duration": 0,
    "start_time": "2024-05-05T03:39:10.977Z"
   },
   {
    "duration": 0,
    "start_time": "2024-05-05T03:39:10.978Z"
   },
   {
    "duration": 0,
    "start_time": "2024-05-05T03:39:10.979Z"
   },
   {
    "duration": 0,
    "start_time": "2024-05-05T03:39:10.980Z"
   },
   {
    "duration": 0,
    "start_time": "2024-05-05T03:39:10.981Z"
   },
   {
    "duration": 0,
    "start_time": "2024-05-05T03:39:10.982Z"
   },
   {
    "duration": 0,
    "start_time": "2024-05-05T03:39:10.982Z"
   },
   {
    "duration": 0,
    "start_time": "2024-05-05T03:39:10.983Z"
   },
   {
    "duration": 0,
    "start_time": "2024-05-05T03:39:10.984Z"
   },
   {
    "duration": 0,
    "start_time": "2024-05-05T03:39:10.985Z"
   },
   {
    "duration": 0,
    "start_time": "2024-05-05T03:39:10.985Z"
   },
   {
    "duration": 0,
    "start_time": "2024-05-05T03:39:11.002Z"
   },
   {
    "duration": 1,
    "start_time": "2024-05-05T03:39:11.002Z"
   },
   {
    "duration": 0,
    "start_time": "2024-05-05T03:39:11.003Z"
   },
   {
    "duration": 0,
    "start_time": "2024-05-05T03:39:11.004Z"
   },
   {
    "duration": 577463,
    "start_time": "2024-05-05T03:41:52.753Z"
   },
   {
    "duration": 9,
    "start_time": "2024-05-05T03:52:09.321Z"
   },
   {
    "duration": 10,
    "start_time": "2024-05-05T04:02:16.401Z"
   },
   {
    "duration": 15282,
    "start_time": "2024-05-05T04:02:54.124Z"
   },
   {
    "duration": 11,
    "start_time": "2024-05-05T04:03:29.888Z"
   },
   {
    "duration": 20662,
    "start_time": "2024-05-05T04:03:37.038Z"
   },
   {
    "duration": 76,
    "start_time": "2024-05-05T04:03:57.702Z"
   },
   {
    "duration": 4,
    "start_time": "2024-05-05T04:03:57.780Z"
   },
   {
    "duration": 56,
    "start_time": "2024-05-05T04:03:57.785Z"
   },
   {
    "duration": 764,
    "start_time": "2024-05-05T04:03:57.842Z"
   },
   {
    "duration": 290,
    "start_time": "2024-05-05T04:03:58.607Z"
   },
   {
    "duration": 145,
    "start_time": "2024-05-05T04:03:58.898Z"
   },
   {
    "duration": 499,
    "start_time": "2024-05-05T04:03:59.045Z"
   },
   {
    "duration": 165,
    "start_time": "2024-05-05T04:03:59.545Z"
   },
   {
    "duration": 259,
    "start_time": "2024-05-05T04:03:59.713Z"
   },
   {
    "duration": 210,
    "start_time": "2024-05-05T04:03:59.973Z"
   },
   {
    "duration": 259,
    "start_time": "2024-05-05T04:04:00.184Z"
   },
   {
    "duration": 118,
    "start_time": "2024-05-05T04:04:00.445Z"
   },
   {
    "duration": 4929,
    "start_time": "2024-05-05T04:04:00.565Z"
   },
   {
    "duration": 200,
    "start_time": "2024-05-05T04:04:05.496Z"
   },
   {
    "duration": 5205,
    "start_time": "2024-05-05T04:04:05.698Z"
   },
   {
    "duration": 575,
    "start_time": "2024-05-05T04:04:10.904Z"
   },
   {
    "duration": 18563,
    "start_time": "2024-05-05T04:04:11.481Z"
   },
   {
    "duration": 187,
    "start_time": "2024-05-05T04:04:30.047Z"
   },
   {
    "duration": 172,
    "start_time": "2024-05-05T04:04:30.235Z"
   },
   {
    "duration": 44,
    "start_time": "2024-05-05T04:04:30.409Z"
   },
   {
    "duration": 407,
    "start_time": "2024-05-05T04:04:30.455Z"
   },
   {
    "duration": 316,
    "start_time": "2024-05-05T04:04:30.864Z"
   },
   {
    "duration": 46,
    "start_time": "2024-05-05T04:04:31.182Z"
   },
   {
    "duration": 4,
    "start_time": "2024-05-05T04:04:31.230Z"
   },
   {
    "duration": 70,
    "start_time": "2024-05-05T04:04:31.235Z"
   },
   {
    "duration": 101,
    "start_time": "2024-05-05T04:04:31.306Z"
   },
   {
    "duration": 96,
    "start_time": "2024-05-05T04:04:31.411Z"
   },
   {
    "duration": 166,
    "start_time": "2024-05-05T04:04:31.508Z"
   },
   {
    "duration": 4,
    "start_time": "2024-05-05T04:04:31.675Z"
   },
   {
    "duration": 110,
    "start_time": "2024-05-05T04:04:31.681Z"
   },
   {
    "duration": 81,
    "start_time": "2024-05-05T04:04:31.792Z"
   },
   {
    "duration": 41,
    "start_time": "2024-05-05T04:04:31.874Z"
   },
   {
    "duration": 3,
    "start_time": "2024-05-05T04:04:31.917Z"
   },
   {
    "duration": 89,
    "start_time": "2024-05-05T04:04:31.921Z"
   },
   {
    "duration": 94,
    "start_time": "2024-05-05T04:04:32.011Z"
   },
   {
    "duration": 13,
    "start_time": "2024-05-05T04:04:32.106Z"
   },
   {
    "duration": 140,
    "start_time": "2024-05-05T04:04:32.120Z"
   },
   {
    "duration": 76,
    "start_time": "2024-05-05T04:04:32.262Z"
   },
   {
    "duration": 78,
    "start_time": "2024-05-05T04:04:32.340Z"
   },
   {
    "duration": 33,
    "start_time": "2024-05-05T04:04:32.420Z"
   },
   {
    "duration": 525,
    "start_time": "2024-05-05T04:04:32.454Z"
   },
   {
    "duration": 153,
    "start_time": "2024-05-05T04:04:32.980Z"
   },
   {
    "duration": 96,
    "start_time": "2024-05-05T04:04:33.134Z"
   },
   {
    "duration": 5,
    "start_time": "2024-05-05T04:04:33.231Z"
   },
   {
    "duration": 143,
    "start_time": "2024-05-05T04:04:33.237Z"
   },
   {
    "duration": 13,
    "start_time": "2024-05-05T04:04:33.382Z"
   },
   {
    "duration": 85,
    "start_time": "2024-05-05T04:04:33.397Z"
   },
   {
    "duration": 7,
    "start_time": "2024-05-05T04:04:33.483Z"
   },
   {
    "duration": 73,
    "start_time": "2024-05-05T04:04:33.501Z"
   },
   {
    "duration": 56,
    "start_time": "2024-05-05T04:04:33.575Z"
   },
   {
    "duration": 76,
    "start_time": "2024-05-05T04:04:33.633Z"
   },
   {
    "duration": 178,
    "start_time": "2024-05-05T04:04:33.710Z"
   },
   {
    "duration": 37,
    "start_time": "2024-05-05T04:04:33.889Z"
   },
   {
    "duration": 154,
    "start_time": "2024-05-05T04:04:33.928Z"
   },
   {
    "duration": 41,
    "start_time": "2024-05-05T04:04:34.083Z"
   },
   {
    "duration": 145,
    "start_time": "2024-05-05T04:04:34.126Z"
   },
   {
    "duration": 14,
    "start_time": "2024-05-05T04:04:34.272Z"
   },
   {
    "duration": 192,
    "start_time": "2024-05-05T04:04:34.287Z"
   },
   {
    "duration": 9,
    "start_time": "2024-05-05T04:04:34.480Z"
   },
   {
    "duration": 119,
    "start_time": "2024-05-05T04:04:34.491Z"
   },
   {
    "duration": 151,
    "start_time": "2024-05-05T04:04:34.612Z"
   },
   {
    "duration": 28,
    "start_time": "2024-05-05T04:04:34.765Z"
   },
   {
    "duration": 178,
    "start_time": "2024-05-05T04:04:34.802Z"
   },
   {
    "duration": 12,
    "start_time": "2024-05-05T04:04:34.981Z"
   },
   {
    "duration": 21,
    "start_time": "2024-05-05T04:04:35.001Z"
   },
   {
    "duration": 52,
    "start_time": "2024-05-05T04:04:35.023Z"
   },
   {
    "duration": 77,
    "start_time": "2024-05-05T04:04:35.077Z"
   },
   {
    "duration": 121,
    "start_time": "2024-05-05T04:04:35.155Z"
   },
   {
    "duration": 28,
    "start_time": "2024-05-05T04:04:35.277Z"
   },
   {
    "duration": 139,
    "start_time": "2024-05-05T04:04:35.306Z"
   },
   {
    "duration": 10,
    "start_time": "2024-05-05T04:04:35.446Z"
   },
   {
    "duration": 60,
    "start_time": "2024-05-05T04:04:35.458Z"
   },
   {
    "duration": 67,
    "start_time": "2024-05-05T04:04:35.519Z"
   },
   {
    "duration": 168,
    "start_time": "2024-05-05T04:04:35.587Z"
   },
   {
    "duration": 10,
    "start_time": "2024-05-05T04:04:35.756Z"
   },
   {
    "duration": 56,
    "start_time": "2024-05-05T04:04:35.768Z"
   },
   {
    "duration": 66,
    "start_time": "2024-05-05T04:04:35.825Z"
   },
   {
    "duration": 154,
    "start_time": "2024-05-05T04:04:35.901Z"
   },
   {
    "duration": 38,
    "start_time": "2024-05-05T04:04:36.058Z"
   },
   {
    "duration": 123,
    "start_time": "2024-05-05T04:04:36.102Z"
   },
   {
    "duration": 7,
    "start_time": "2024-05-05T04:04:36.230Z"
   },
   {
    "duration": 33,
    "start_time": "2024-05-05T04:04:36.238Z"
   },
   {
    "duration": 54,
    "start_time": "2024-05-05T04:04:36.272Z"
   },
   {
    "duration": 24,
    "start_time": "2024-05-05T04:04:36.328Z"
   },
   {
    "duration": 21,
    "start_time": "2024-05-05T04:04:36.354Z"
   },
   {
    "duration": 95,
    "start_time": "2024-05-05T04:04:36.376Z"
   },
   {
    "duration": 7,
    "start_time": "2024-05-05T04:04:36.472Z"
   },
   {
    "duration": 43,
    "start_time": "2024-05-05T04:04:36.480Z"
   },
   {
    "duration": 78,
    "start_time": "2024-05-05T04:04:36.524Z"
   },
   {
    "duration": 18,
    "start_time": "2024-05-05T04:04:36.603Z"
   },
   {
    "duration": 104,
    "start_time": "2024-05-05T04:04:36.622Z"
   },
   {
    "duration": 149,
    "start_time": "2024-05-05T04:04:36.727Z"
   },
   {
    "duration": 28,
    "start_time": "2024-05-05T04:04:36.877Z"
   },
   {
    "duration": 11,
    "start_time": "2024-05-05T04:04:36.906Z"
   },
   {
    "duration": 37,
    "start_time": "2024-05-05T04:04:36.918Z"
   },
   {
    "duration": 8,
    "start_time": "2024-05-05T04:04:36.957Z"
   },
   {
    "duration": 13,
    "start_time": "2024-05-05T04:04:36.966Z"
   },
   {
    "duration": 0,
    "start_time": "2024-05-05T04:04:36.980Z"
   },
   {
    "duration": 0,
    "start_time": "2024-05-05T04:04:36.981Z"
   },
   {
    "duration": 0,
    "start_time": "2024-05-05T04:04:36.982Z"
   },
   {
    "duration": 0,
    "start_time": "2024-05-05T04:04:36.983Z"
   },
   {
    "duration": 0,
    "start_time": "2024-05-05T04:04:37.002Z"
   },
   {
    "duration": 0,
    "start_time": "2024-05-05T04:04:37.003Z"
   },
   {
    "duration": 0,
    "start_time": "2024-05-05T04:04:37.004Z"
   },
   {
    "duration": 0,
    "start_time": "2024-05-05T04:04:37.005Z"
   },
   {
    "duration": 0,
    "start_time": "2024-05-05T04:04:37.005Z"
   },
   {
    "duration": 0,
    "start_time": "2024-05-05T04:04:37.006Z"
   },
   {
    "duration": 0,
    "start_time": "2024-05-05T04:04:37.007Z"
   },
   {
    "duration": 0,
    "start_time": "2024-05-05T04:04:37.008Z"
   },
   {
    "duration": 0,
    "start_time": "2024-05-05T04:04:37.009Z"
   },
   {
    "duration": 0,
    "start_time": "2024-05-05T04:04:37.011Z"
   },
   {
    "duration": 0,
    "start_time": "2024-05-05T04:04:37.012Z"
   },
   {
    "duration": 0,
    "start_time": "2024-05-05T04:04:37.014Z"
   },
   {
    "duration": 0,
    "start_time": "2024-05-05T04:04:37.015Z"
   },
   {
    "duration": 0,
    "start_time": "2024-05-05T04:04:37.016Z"
   },
   {
    "duration": 8,
    "start_time": "2024-05-05T04:04:58.350Z"
   },
   {
    "duration": 18408,
    "start_time": "2024-05-05T04:07:39.020Z"
   },
   {
    "duration": 91,
    "start_time": "2024-05-05T04:08:20.620Z"
   },
   {
    "duration": 7,
    "start_time": "2024-05-05T04:08:21.808Z"
   },
   {
    "duration": 4,
    "start_time": "2024-05-05T04:08:24.257Z"
   },
   {
    "duration": 23848,
    "start_time": "2024-05-05T04:08:25.177Z"
   },
   {
    "duration": 4,
    "start_time": "2024-05-05T04:08:49.026Z"
   },
   {
    "duration": 73,
    "start_time": "2024-05-05T04:11:10.245Z"
   },
   {
    "duration": 17398,
    "start_time": "2024-05-05T04:12:16.590Z"
   },
   {
    "duration": 20,
    "start_time": "2024-05-05T04:12:54.407Z"
   },
   {
    "duration": 11,
    "start_time": "2024-05-05T04:13:44.465Z"
   },
   {
    "duration": 17379,
    "start_time": "2024-05-05T04:13:55.028Z"
   },
   {
    "duration": 20,
    "start_time": "2024-05-05T04:14:20.809Z"
   },
   {
    "duration": 17052,
    "start_time": "2024-05-05T04:15:06.587Z"
   },
   {
    "duration": 4,
    "start_time": "2024-05-05T04:15:42.135Z"
   },
   {
    "duration": 19,
    "start_time": "2024-05-05T04:16:23.498Z"
   },
   {
    "duration": 17465,
    "start_time": "2024-05-05T04:17:26.987Z"
   },
   {
    "duration": 19,
    "start_time": "2024-05-05T04:18:01.741Z"
   },
   {
    "duration": 2,
    "start_time": "2024-05-05T04:18:44.617Z"
   },
   {
    "duration": 3,
    "start_time": "2024-05-05T04:19:11.520Z"
   },
   {
    "duration": 71233,
    "start_time": "2024-05-05T04:19:42.583Z"
   },
   {
    "duration": 3,
    "start_time": "2024-05-05T04:21:16.820Z"
   },
   {
    "duration": 126193,
    "start_time": "2024-05-05T04:21:20.492Z"
   },
   {
    "duration": 342,
    "start_time": "2024-05-05T04:23:57.338Z"
   },
   {
    "duration": 17133,
    "start_time": "2024-05-05T04:24:55.078Z"
   },
   {
    "duration": 413,
    "start_time": "2024-05-05T04:26:02.394Z"
   },
   {
    "duration": 365,
    "start_time": "2024-05-05T04:29:41.719Z"
   },
   {
    "duration": 336,
    "start_time": "2024-05-05T04:42:45.683Z"
   },
   {
    "duration": 389,
    "start_time": "2024-05-05T04:57:53.203Z"
   },
   {
    "duration": 377,
    "start_time": "2024-05-05T05:01:51.746Z"
   },
   {
    "duration": 5,
    "start_time": "2024-05-05T05:01:59.633Z"
   },
   {
    "duration": 267745,
    "start_time": "2024-05-05T05:02:00.285Z"
   },
   {
    "duration": 4,
    "start_time": "2024-05-05T05:06:28.032Z"
   },
   {
    "duration": 15,
    "start_time": "2024-05-05T05:06:28.038Z"
   },
   {
    "duration": 222903,
    "start_time": "2024-05-05T05:06:28.055Z"
   },
   {
    "duration": 72233,
    "start_time": "2024-05-05T05:10:10.960Z"
   },
   {
    "duration": 15,
    "start_time": "2024-05-05T05:11:56.610Z"
   },
   {
    "duration": 171820,
    "start_time": "2024-05-05T05:14:47.003Z"
   },
   {
    "duration": 23294,
    "start_time": "2024-05-05T05:23:32.267Z"
   },
   {
    "duration": 82,
    "start_time": "2024-05-05T05:23:55.562Z"
   },
   {
    "duration": 4,
    "start_time": "2024-05-05T05:23:55.645Z"
   },
   {
    "duration": 53,
    "start_time": "2024-05-05T05:23:55.651Z"
   },
   {
    "duration": 720,
    "start_time": "2024-05-05T05:23:55.706Z"
   },
   {
    "duration": 292,
    "start_time": "2024-05-05T05:23:56.427Z"
   },
   {
    "duration": 149,
    "start_time": "2024-05-05T05:23:56.720Z"
   },
   {
    "duration": 497,
    "start_time": "2024-05-05T05:23:56.871Z"
   },
   {
    "duration": 150,
    "start_time": "2024-05-05T05:23:57.370Z"
   },
   {
    "duration": 263,
    "start_time": "2024-05-05T05:23:57.522Z"
   },
   {
    "duration": 139,
    "start_time": "2024-05-05T05:23:57.786Z"
   },
   {
    "duration": 255,
    "start_time": "2024-05-05T05:23:57.927Z"
   },
   {
    "duration": 113,
    "start_time": "2024-05-05T05:23:58.184Z"
   },
   {
    "duration": 4839,
    "start_time": "2024-05-05T05:23:58.303Z"
   },
   {
    "duration": 188,
    "start_time": "2024-05-05T05:24:03.143Z"
   },
   {
    "duration": 5121,
    "start_time": "2024-05-05T05:24:03.333Z"
   },
   {
    "duration": 631,
    "start_time": "2024-05-05T05:24:08.456Z"
   },
   {
    "duration": 18801,
    "start_time": "2024-05-05T05:24:09.089Z"
   },
   {
    "duration": 150,
    "start_time": "2024-05-05T05:24:27.892Z"
   },
   {
    "duration": 125,
    "start_time": "2024-05-05T05:24:28.043Z"
   },
   {
    "duration": 3,
    "start_time": "2024-05-05T05:24:28.169Z"
   },
   {
    "duration": 238,
    "start_time": "2024-05-05T05:24:28.174Z"
   },
   {
    "duration": 225,
    "start_time": "2024-05-05T05:24:28.414Z"
   },
   {
    "duration": 40,
    "start_time": "2024-05-05T05:24:28.641Z"
   },
   {
    "duration": 6,
    "start_time": "2024-05-05T05:24:28.682Z"
   },
   {
    "duration": 51,
    "start_time": "2024-05-05T05:24:28.701Z"
   },
   {
    "duration": 82,
    "start_time": "2024-05-05T05:24:28.753Z"
   },
   {
    "duration": 74,
    "start_time": "2024-05-05T05:24:28.836Z"
   },
   {
    "duration": 136,
    "start_time": "2024-05-05T05:24:28.912Z"
   },
   {
    "duration": 3,
    "start_time": "2024-05-05T05:24:29.050Z"
   },
   {
    "duration": 82,
    "start_time": "2024-05-05T05:24:29.054Z"
   },
   {
    "duration": 79,
    "start_time": "2024-05-05T05:24:29.137Z"
   },
   {
    "duration": 34,
    "start_time": "2024-05-05T05:24:29.218Z"
   },
   {
    "duration": 3,
    "start_time": "2024-05-05T05:24:29.254Z"
   },
   {
    "duration": 57,
    "start_time": "2024-05-05T05:24:29.258Z"
   },
   {
    "duration": 92,
    "start_time": "2024-05-05T05:24:29.317Z"
   },
   {
    "duration": 7,
    "start_time": "2024-05-05T05:24:29.410Z"
   },
   {
    "duration": 37,
    "start_time": "2024-05-05T05:24:29.418Z"
   },
   {
    "duration": 81,
    "start_time": "2024-05-05T05:24:29.456Z"
   },
   {
    "duration": 74,
    "start_time": "2024-05-05T05:24:29.539Z"
   },
   {
    "duration": 31,
    "start_time": "2024-05-05T05:24:29.619Z"
   },
   {
    "duration": 341,
    "start_time": "2024-05-05T05:24:29.652Z"
   },
   {
    "duration": 137,
    "start_time": "2024-05-05T05:24:29.994Z"
   },
   {
    "duration": 60,
    "start_time": "2024-05-05T05:24:30.132Z"
   },
   {
    "duration": 9,
    "start_time": "2024-05-05T05:24:30.194Z"
   },
   {
    "duration": 168,
    "start_time": "2024-05-05T05:24:30.204Z"
   },
   {
    "duration": 5,
    "start_time": "2024-05-05T05:24:30.373Z"
   },
   {
    "duration": 110,
    "start_time": "2024-05-05T05:24:30.379Z"
   },
   {
    "duration": 7,
    "start_time": "2024-05-05T05:24:30.490Z"
   },
   {
    "duration": 118,
    "start_time": "2024-05-05T05:24:30.498Z"
   },
   {
    "duration": 47,
    "start_time": "2024-05-05T05:24:30.618Z"
   },
   {
    "duration": 144,
    "start_time": "2024-05-05T05:24:30.666Z"
   },
   {
    "duration": 133,
    "start_time": "2024-05-05T05:24:30.812Z"
   },
   {
    "duration": 31,
    "start_time": "2024-05-05T05:24:30.947Z"
   },
   {
    "duration": 179,
    "start_time": "2024-05-05T05:24:30.979Z"
   },
   {
    "duration": 56,
    "start_time": "2024-05-05T05:24:31.159Z"
   },
   {
    "duration": 156,
    "start_time": "2024-05-05T05:24:31.216Z"
   },
   {
    "duration": 16,
    "start_time": "2024-05-05T05:24:31.374Z"
   },
   {
    "duration": 272,
    "start_time": "2024-05-05T05:24:31.391Z"
   },
   {
    "duration": 10,
    "start_time": "2024-05-05T05:24:31.664Z"
   },
   {
    "duration": 101,
    "start_time": "2024-05-05T05:24:31.675Z"
   },
   {
    "duration": 128,
    "start_time": "2024-05-05T05:24:31.778Z"
   },
   {
    "duration": 28,
    "start_time": "2024-05-05T05:24:31.907Z"
   },
   {
    "duration": 151,
    "start_time": "2024-05-05T05:24:31.936Z"
   },
   {
    "duration": 14,
    "start_time": "2024-05-05T05:24:32.089Z"
   },
   {
    "duration": 29,
    "start_time": "2024-05-05T05:24:32.104Z"
   },
   {
    "duration": 95,
    "start_time": "2024-05-05T05:24:32.135Z"
   },
   {
    "duration": 66,
    "start_time": "2024-05-05T05:24:32.231Z"
   },
   {
    "duration": 111,
    "start_time": "2024-05-05T05:24:32.298Z"
   },
   {
    "duration": 21,
    "start_time": "2024-05-05T05:24:32.411Z"
   },
   {
    "duration": 198,
    "start_time": "2024-05-05T05:24:32.433Z"
   },
   {
    "duration": 17,
    "start_time": "2024-05-05T05:24:32.633Z"
   },
   {
    "duration": 59,
    "start_time": "2024-05-05T05:24:32.651Z"
   },
   {
    "duration": 67,
    "start_time": "2024-05-05T05:24:32.712Z"
   },
   {
    "duration": 192,
    "start_time": "2024-05-05T05:24:32.780Z"
   },
   {
    "duration": 14,
    "start_time": "2024-05-05T05:24:32.973Z"
   },
   {
    "duration": 58,
    "start_time": "2024-05-05T05:24:32.988Z"
   },
   {
    "duration": 68,
    "start_time": "2024-05-05T05:24:33.048Z"
   },
   {
    "duration": 170,
    "start_time": "2024-05-05T05:24:33.117Z"
   },
   {
    "duration": 38,
    "start_time": "2024-05-05T05:24:33.288Z"
   },
   {
    "duration": 108,
    "start_time": "2024-05-05T05:24:33.327Z"
   },
   {
    "duration": 7,
    "start_time": "2024-05-05T05:24:33.436Z"
   },
   {
    "duration": 44,
    "start_time": "2024-05-05T05:24:33.444Z"
   },
   {
    "duration": 32,
    "start_time": "2024-05-05T05:24:33.489Z"
   },
   {
    "duration": 10,
    "start_time": "2024-05-05T05:24:33.522Z"
   },
   {
    "duration": 23,
    "start_time": "2024-05-05T05:24:33.533Z"
   },
   {
    "duration": 103,
    "start_time": "2024-05-05T05:24:33.557Z"
   },
   {
    "duration": 7,
    "start_time": "2024-05-05T05:24:33.662Z"
   },
   {
    "duration": 46,
    "start_time": "2024-05-05T05:24:33.671Z"
   },
   {
    "duration": 67,
    "start_time": "2024-05-05T05:24:33.718Z"
   },
   {
    "duration": 28,
    "start_time": "2024-05-05T05:24:33.786Z"
   },
   {
    "duration": 93,
    "start_time": "2024-05-05T05:24:33.815Z"
   },
   {
    "duration": 170,
    "start_time": "2024-05-05T05:24:33.910Z"
   },
   {
    "duration": 25,
    "start_time": "2024-05-05T05:24:34.081Z"
   },
   {
    "duration": 11,
    "start_time": "2024-05-05T05:24:34.108Z"
   },
   {
    "duration": 50,
    "start_time": "2024-05-05T05:24:34.120Z"
   },
   {
    "duration": 9,
    "start_time": "2024-05-05T05:24:34.172Z"
   },
   {
    "duration": 52,
    "start_time": "2024-05-05T05:24:34.182Z"
   },
   {
    "duration": 7,
    "start_time": "2024-05-05T05:24:34.235Z"
   },
   {
    "duration": 17,
    "start_time": "2024-05-05T05:24:34.243Z"
   },
   {
    "duration": 23519,
    "start_time": "2024-05-05T05:24:34.262Z"
   },
   {
    "duration": 4,
    "start_time": "2024-05-05T05:24:57.782Z"
   },
   {
    "duration": 15,
    "start_time": "2024-05-05T05:24:57.787Z"
   },
   {
    "duration": 17,
    "start_time": "2024-05-05T05:24:57.803Z"
   },
   {
    "duration": 19,
    "start_time": "2024-05-05T05:24:57.821Z"
   },
   {
    "duration": 124427,
    "start_time": "2024-05-05T05:24:57.841Z"
   },
   {
    "duration": 268,
    "start_time": "2024-05-05T05:27:02.270Z"
   },
   {
    "duration": 3,
    "start_time": "2024-05-05T05:27:02.539Z"
   },
   {
    "duration": 11,
    "start_time": "2024-05-05T05:27:02.544Z"
   },
   {
    "duration": 76305,
    "start_time": "2024-05-05T05:27:02.556Z"
   },
   {
    "duration": 4,
    "start_time": "2024-05-05T05:28:18.862Z"
   },
   {
    "duration": 15,
    "start_time": "2024-05-05T05:28:18.867Z"
   },
   {
    "duration": 23996,
    "start_time": "2024-05-05T05:29:55.241Z"
   },
   {
    "duration": 76,
    "start_time": "2024-05-05T05:30:19.239Z"
   },
   {
    "duration": 3,
    "start_time": "2024-05-05T05:30:19.316Z"
   },
   {
    "duration": 51,
    "start_time": "2024-05-05T05:30:19.320Z"
   },
   {
    "duration": 742,
    "start_time": "2024-05-05T05:30:19.373Z"
   },
   {
    "duration": 285,
    "start_time": "2024-05-05T05:30:20.116Z"
   },
   {
    "duration": 142,
    "start_time": "2024-05-05T05:30:20.402Z"
   },
   {
    "duration": 484,
    "start_time": "2024-05-05T05:30:20.546Z"
   },
   {
    "duration": 171,
    "start_time": "2024-05-05T05:30:21.031Z"
   },
   {
    "duration": 253,
    "start_time": "2024-05-05T05:30:21.203Z"
   },
   {
    "duration": 136,
    "start_time": "2024-05-05T05:30:21.457Z"
   },
   {
    "duration": 243,
    "start_time": "2024-05-05T05:30:21.595Z"
   },
   {
    "duration": 110,
    "start_time": "2024-05-05T05:30:21.839Z"
   },
   {
    "duration": 5299,
    "start_time": "2024-05-05T05:30:21.952Z"
   },
   {
    "duration": 185,
    "start_time": "2024-05-05T05:30:27.253Z"
   },
   {
    "duration": 5004,
    "start_time": "2024-05-05T05:30:27.440Z"
   },
   {
    "duration": 621,
    "start_time": "2024-05-05T05:30:32.445Z"
   },
   {
    "duration": 17845,
    "start_time": "2024-05-05T05:30:33.068Z"
   },
   {
    "duration": 153,
    "start_time": "2024-05-05T05:30:50.914Z"
   },
   {
    "duration": 122,
    "start_time": "2024-05-05T05:30:51.068Z"
   },
   {
    "duration": 10,
    "start_time": "2024-05-05T05:30:51.192Z"
   },
   {
    "duration": 242,
    "start_time": "2024-05-05T05:30:51.203Z"
   },
   {
    "duration": 204,
    "start_time": "2024-05-05T05:30:51.447Z"
   },
   {
    "duration": 35,
    "start_time": "2024-05-05T05:30:51.653Z"
   },
   {
    "duration": 3,
    "start_time": "2024-05-05T05:30:51.689Z"
   },
   {
    "duration": 50,
    "start_time": "2024-05-05T05:30:51.702Z"
   },
   {
    "duration": 100,
    "start_time": "2024-05-05T05:30:51.754Z"
   },
   {
    "duration": 72,
    "start_time": "2024-05-05T05:30:51.855Z"
   },
   {
    "duration": 143,
    "start_time": "2024-05-05T05:30:51.928Z"
   },
   {
    "duration": 3,
    "start_time": "2024-05-05T05:30:52.072Z"
   },
   {
    "duration": 91,
    "start_time": "2024-05-05T05:30:52.076Z"
   },
   {
    "duration": 78,
    "start_time": "2024-05-05T05:30:52.168Z"
   },
   {
    "duration": 32,
    "start_time": "2024-05-05T05:30:52.247Z"
   },
   {
    "duration": 3,
    "start_time": "2024-05-05T05:30:52.281Z"
   },
   {
    "duration": 74,
    "start_time": "2024-05-05T05:30:52.285Z"
   },
   {
    "duration": 87,
    "start_time": "2024-05-05T05:30:52.360Z"
   },
   {
    "duration": 8,
    "start_time": "2024-05-05T05:30:52.448Z"
   },
   {
    "duration": 45,
    "start_time": "2024-05-05T05:30:52.457Z"
   },
   {
    "duration": 68,
    "start_time": "2024-05-05T05:30:52.503Z"
   },
   {
    "duration": 83,
    "start_time": "2024-05-05T05:30:52.572Z"
   },
   {
    "duration": 46,
    "start_time": "2024-05-05T05:30:52.661Z"
   },
   {
    "duration": 362,
    "start_time": "2024-05-05T05:30:52.709Z"
   },
   {
    "duration": 114,
    "start_time": "2024-05-05T05:30:53.072Z"
   },
   {
    "duration": 66,
    "start_time": "2024-05-05T05:30:53.188Z"
   },
   {
    "duration": 5,
    "start_time": "2024-05-05T05:30:53.255Z"
   },
   {
    "duration": 75,
    "start_time": "2024-05-05T05:30:53.261Z"
   },
   {
    "duration": 5,
    "start_time": "2024-05-05T05:30:53.337Z"
   },
   {
    "duration": 72,
    "start_time": "2024-05-05T05:30:53.344Z"
   },
   {
    "duration": 8,
    "start_time": "2024-05-05T05:30:53.417Z"
   },
   {
    "duration": 83,
    "start_time": "2024-05-05T05:30:53.426Z"
   },
   {
    "duration": 47,
    "start_time": "2024-05-05T05:30:53.510Z"
   },
   {
    "duration": 73,
    "start_time": "2024-05-05T05:30:53.559Z"
   },
   {
    "duration": 125,
    "start_time": "2024-05-05T05:30:53.634Z"
   },
   {
    "duration": 30,
    "start_time": "2024-05-05T05:30:53.761Z"
   },
   {
    "duration": 146,
    "start_time": "2024-05-05T05:30:53.792Z"
   },
   {
    "duration": 41,
    "start_time": "2024-05-05T05:30:53.939Z"
   },
   {
    "duration": 156,
    "start_time": "2024-05-05T05:30:53.982Z"
   },
   {
    "duration": 14,
    "start_time": "2024-05-05T05:30:54.139Z"
   },
   {
    "duration": 202,
    "start_time": "2024-05-05T05:30:54.155Z"
   },
   {
    "duration": 9,
    "start_time": "2024-05-05T05:30:54.358Z"
   },
   {
    "duration": 89,
    "start_time": "2024-05-05T05:30:54.368Z"
   },
   {
    "duration": 116,
    "start_time": "2024-05-05T05:30:54.458Z"
   },
   {
    "duration": 32,
    "start_time": "2024-05-05T05:30:54.575Z"
   },
   {
    "duration": 125,
    "start_time": "2024-05-05T05:30:54.608Z"
   },
   {
    "duration": 10,
    "start_time": "2024-05-05T05:30:54.734Z"
   },
   {
    "duration": 15,
    "start_time": "2024-05-05T05:30:54.745Z"
   },
   {
    "duration": 53,
    "start_time": "2024-05-05T05:30:54.761Z"
   },
   {
    "duration": 66,
    "start_time": "2024-05-05T05:30:54.815Z"
   },
   {
    "duration": 107,
    "start_time": "2024-05-05T05:30:54.883Z"
   },
   {
    "duration": 29,
    "start_time": "2024-05-05T05:30:54.991Z"
   },
   {
    "duration": 133,
    "start_time": "2024-05-05T05:30:55.022Z"
   },
   {
    "duration": 10,
    "start_time": "2024-05-05T05:30:55.156Z"
   },
   {
    "duration": 58,
    "start_time": "2024-05-05T05:30:55.167Z"
   },
   {
    "duration": 75,
    "start_time": "2024-05-05T05:30:55.226Z"
   },
   {
    "duration": 146,
    "start_time": "2024-05-05T05:30:55.303Z"
   },
   {
    "duration": 11,
    "start_time": "2024-05-05T05:30:55.450Z"
   },
   {
    "duration": 58,
    "start_time": "2024-05-05T05:30:55.462Z"
   },
   {
    "duration": 80,
    "start_time": "2024-05-05T05:30:55.521Z"
   },
   {
    "duration": 129,
    "start_time": "2024-05-05T05:30:55.603Z"
   },
   {
    "duration": 27,
    "start_time": "2024-05-05T05:30:55.734Z"
   },
   {
    "duration": 102,
    "start_time": "2024-05-05T05:30:55.762Z"
   },
   {
    "duration": 6,
    "start_time": "2024-05-05T05:30:55.866Z"
   },
   {
    "duration": 41,
    "start_time": "2024-05-05T05:30:55.873Z"
   },
   {
    "duration": 34,
    "start_time": "2024-05-05T05:30:55.915Z"
   },
   {
    "duration": 91,
    "start_time": "2024-05-05T05:30:55.950Z"
   },
   {
    "duration": 37,
    "start_time": "2024-05-05T05:30:56.043Z"
   },
   {
    "duration": 96,
    "start_time": "2024-05-05T05:30:56.081Z"
   },
   {
    "duration": 7,
    "start_time": "2024-05-05T05:30:56.178Z"
   },
   {
    "duration": 38,
    "start_time": "2024-05-05T05:30:56.186Z"
   },
   {
    "duration": 65,
    "start_time": "2024-05-05T05:30:56.225Z"
   },
   {
    "duration": 26,
    "start_time": "2024-05-05T05:30:56.291Z"
   },
   {
    "duration": 91,
    "start_time": "2024-05-05T05:30:56.318Z"
   },
   {
    "duration": 129,
    "start_time": "2024-05-05T05:30:56.411Z"
   },
   {
    "duration": 16,
    "start_time": "2024-05-05T05:30:56.541Z"
   },
   {
    "duration": 10,
    "start_time": "2024-05-05T05:30:56.558Z"
   },
   {
    "duration": 45,
    "start_time": "2024-05-05T05:30:56.569Z"
   },
   {
    "duration": 8,
    "start_time": "2024-05-05T05:30:56.616Z"
   },
   {
    "duration": 31,
    "start_time": "2024-05-05T05:30:56.626Z"
   },
   {
    "duration": 7,
    "start_time": "2024-05-05T05:30:56.658Z"
   },
   {
    "duration": 8,
    "start_time": "2024-05-05T05:30:56.666Z"
   },
   {
    "duration": 23746,
    "start_time": "2024-05-05T05:30:56.675Z"
   },
   {
    "duration": 4,
    "start_time": "2024-05-05T05:31:20.423Z"
   },
   {
    "duration": 7,
    "start_time": "2024-05-05T05:31:20.429Z"
   },
   {
    "duration": 22,
    "start_time": "2024-05-05T05:31:20.437Z"
   },
   {
    "duration": 24,
    "start_time": "2024-05-05T05:31:20.460Z"
   },
   {
    "duration": 126804,
    "start_time": "2024-05-05T05:31:20.485Z"
   },
   {
    "duration": 368,
    "start_time": "2024-05-05T05:33:27.290Z"
   },
   {
    "duration": 5,
    "start_time": "2024-05-05T05:33:27.659Z"
   },
   {
    "duration": 395952,
    "start_time": "2024-05-05T05:33:27.666Z"
   },
   {
    "duration": 23619,
    "start_time": "2024-05-05T05:42:18.586Z"
   },
   {
    "duration": 69,
    "start_time": "2024-05-05T05:42:42.206Z"
   },
   {
    "duration": 4,
    "start_time": "2024-05-05T05:42:42.277Z"
   },
   {
    "duration": 40,
    "start_time": "2024-05-05T05:42:42.282Z"
   },
   {
    "duration": 765,
    "start_time": "2024-05-05T05:42:42.324Z"
   },
   {
    "duration": 280,
    "start_time": "2024-05-05T05:42:43.090Z"
   },
   {
    "duration": 144,
    "start_time": "2024-05-05T05:42:43.372Z"
   },
   {
    "duration": 472,
    "start_time": "2024-05-05T05:42:43.518Z"
   },
   {
    "duration": 157,
    "start_time": "2024-05-05T05:42:43.991Z"
   },
   {
    "duration": 254,
    "start_time": "2024-05-05T05:42:44.150Z"
   },
   {
    "duration": 146,
    "start_time": "2024-05-05T05:42:44.406Z"
   },
   {
    "duration": 243,
    "start_time": "2024-05-05T05:42:44.554Z"
   },
   {
    "duration": 115,
    "start_time": "2024-05-05T05:42:44.798Z"
   },
   {
    "duration": 4867,
    "start_time": "2024-05-05T05:42:44.914Z"
   },
   {
    "duration": 193,
    "start_time": "2024-05-05T05:42:49.782Z"
   },
   {
    "duration": 5118,
    "start_time": "2024-05-05T05:42:49.977Z"
   },
   {
    "duration": 679,
    "start_time": "2024-05-05T05:42:55.097Z"
   },
   {
    "duration": 19637,
    "start_time": "2024-05-05T05:42:55.777Z"
   },
   {
    "duration": 156,
    "start_time": "2024-05-05T05:43:15.415Z"
   },
   {
    "duration": 133,
    "start_time": "2024-05-05T05:43:15.572Z"
   },
   {
    "duration": 4,
    "start_time": "2024-05-05T05:43:15.706Z"
   },
   {
    "duration": 266,
    "start_time": "2024-05-05T05:43:15.711Z"
   },
   {
    "duration": 238,
    "start_time": "2024-05-05T05:43:15.978Z"
   },
   {
    "duration": 37,
    "start_time": "2024-05-05T05:43:16.217Z"
   },
   {
    "duration": 43,
    "start_time": "2024-05-05T05:43:16.256Z"
   },
   {
    "duration": 158,
    "start_time": "2024-05-05T05:43:16.300Z"
   },
   {
    "duration": 77,
    "start_time": "2024-05-05T05:43:16.459Z"
   },
   {
    "duration": 78,
    "start_time": "2024-05-05T05:43:16.540Z"
   },
   {
    "duration": 148,
    "start_time": "2024-05-05T05:43:16.619Z"
   },
   {
    "duration": 3,
    "start_time": "2024-05-05T05:43:16.768Z"
   },
   {
    "duration": 85,
    "start_time": "2024-05-05T05:43:16.772Z"
   },
   {
    "duration": 75,
    "start_time": "2024-05-05T05:43:16.858Z"
   },
   {
    "duration": 32,
    "start_time": "2024-05-05T05:43:16.935Z"
   },
   {
    "duration": 3,
    "start_time": "2024-05-05T05:43:16.969Z"
   },
   {
    "duration": 53,
    "start_time": "2024-05-05T05:43:16.973Z"
   },
   {
    "duration": 104,
    "start_time": "2024-05-05T05:43:17.028Z"
   },
   {
    "duration": 7,
    "start_time": "2024-05-05T05:43:17.134Z"
   },
   {
    "duration": 38,
    "start_time": "2024-05-05T05:43:17.143Z"
   },
   {
    "duration": 128,
    "start_time": "2024-05-05T05:43:17.183Z"
   },
   {
    "duration": 70,
    "start_time": "2024-05-05T05:43:17.312Z"
   },
   {
    "duration": 44,
    "start_time": "2024-05-05T05:43:17.383Z"
   },
   {
    "duration": 394,
    "start_time": "2024-05-05T05:43:17.429Z"
   },
   {
    "duration": 119,
    "start_time": "2024-05-05T05:43:17.824Z"
   },
   {
    "duration": 64,
    "start_time": "2024-05-05T05:43:17.944Z"
   },
   {
    "duration": 4,
    "start_time": "2024-05-05T05:43:18.009Z"
   },
   {
    "duration": 79,
    "start_time": "2024-05-05T05:43:18.014Z"
   },
   {
    "duration": 10,
    "start_time": "2024-05-05T05:43:18.094Z"
   },
   {
    "duration": 65,
    "start_time": "2024-05-05T05:43:18.105Z"
   },
   {
    "duration": 6,
    "start_time": "2024-05-05T05:43:18.171Z"
   },
   {
    "duration": 84,
    "start_time": "2024-05-05T05:43:18.179Z"
   },
   {
    "duration": 54,
    "start_time": "2024-05-05T05:43:18.264Z"
   },
   {
    "duration": 65,
    "start_time": "2024-05-05T05:43:18.319Z"
   },
   {
    "duration": 152,
    "start_time": "2024-05-05T05:43:18.385Z"
   },
   {
    "duration": 31,
    "start_time": "2024-05-05T05:43:18.539Z"
   },
   {
    "duration": 158,
    "start_time": "2024-05-05T05:43:18.572Z"
   },
   {
    "duration": 40,
    "start_time": "2024-05-05T05:43:18.732Z"
   },
   {
    "duration": 178,
    "start_time": "2024-05-05T05:43:18.774Z"
   },
   {
    "duration": 15,
    "start_time": "2024-05-05T05:43:18.953Z"
   },
   {
    "duration": 203,
    "start_time": "2024-05-05T05:43:18.970Z"
   },
   {
    "duration": 8,
    "start_time": "2024-05-05T05:43:19.175Z"
   },
   {
    "duration": 98,
    "start_time": "2024-05-05T05:43:19.185Z"
   },
   {
    "duration": 137,
    "start_time": "2024-05-05T05:43:19.284Z"
   },
   {
    "duration": 26,
    "start_time": "2024-05-05T05:43:19.423Z"
   },
   {
    "duration": 152,
    "start_time": "2024-05-05T05:43:19.450Z"
   },
   {
    "duration": 14,
    "start_time": "2024-05-05T05:43:19.603Z"
   },
   {
    "duration": 23,
    "start_time": "2024-05-05T05:43:19.619Z"
   },
   {
    "duration": 62,
    "start_time": "2024-05-05T05:43:19.643Z"
   },
   {
    "duration": 67,
    "start_time": "2024-05-05T05:43:19.706Z"
   },
   {
    "duration": 134,
    "start_time": "2024-05-05T05:43:19.775Z"
   },
   {
    "duration": 29,
    "start_time": "2024-05-05T05:43:19.911Z"
   },
   {
    "duration": 166,
    "start_time": "2024-05-05T05:43:19.942Z"
   },
   {
    "duration": 14,
    "start_time": "2024-05-05T05:43:20.110Z"
   },
   {
    "duration": 57,
    "start_time": "2024-05-05T05:43:20.126Z"
   },
   {
    "duration": 72,
    "start_time": "2024-05-05T05:43:20.185Z"
   },
   {
    "duration": 198,
    "start_time": "2024-05-05T05:43:20.259Z"
   },
   {
    "duration": 11,
    "start_time": "2024-05-05T05:43:20.458Z"
   },
   {
    "duration": 60,
    "start_time": "2024-05-05T05:43:20.470Z"
   },
   {
    "duration": 70,
    "start_time": "2024-05-05T05:43:20.532Z"
   },
   {
    "duration": 149,
    "start_time": "2024-05-05T05:43:20.603Z"
   },
   {
    "duration": 32,
    "start_time": "2024-05-05T05:43:20.753Z"
   },
   {
    "duration": 115,
    "start_time": "2024-05-05T05:43:20.786Z"
   },
   {
    "duration": 7,
    "start_time": "2024-05-05T05:43:20.907Z"
   },
   {
    "duration": 28,
    "start_time": "2024-05-05T05:43:20.916Z"
   },
   {
    "duration": 32,
    "start_time": "2024-05-05T05:43:20.945Z"
   },
   {
    "duration": 25,
    "start_time": "2024-05-05T05:43:20.978Z"
   },
   {
    "duration": 26,
    "start_time": "2024-05-05T05:43:21.004Z"
   },
   {
    "duration": 104,
    "start_time": "2024-05-05T05:43:21.031Z"
   },
   {
    "duration": 8,
    "start_time": "2024-05-05T05:43:21.136Z"
   },
   {
    "duration": 43,
    "start_time": "2024-05-05T05:43:21.146Z"
   },
   {
    "duration": 66,
    "start_time": "2024-05-05T05:43:21.191Z"
   },
   {
    "duration": 17,
    "start_time": "2024-05-05T05:43:21.258Z"
   },
   {
    "duration": 98,
    "start_time": "2024-05-05T05:43:21.276Z"
   },
   {
    "duration": 147,
    "start_time": "2024-05-05T05:43:21.375Z"
   },
   {
    "duration": 18,
    "start_time": "2024-05-05T05:43:21.524Z"
   },
   {
    "duration": 9,
    "start_time": "2024-05-05T05:43:21.543Z"
   },
   {
    "duration": 64,
    "start_time": "2024-05-05T05:43:21.553Z"
   },
   {
    "duration": 9,
    "start_time": "2024-05-05T05:43:21.618Z"
   },
   {
    "duration": 44,
    "start_time": "2024-05-05T05:43:21.628Z"
   },
   {
    "duration": 5,
    "start_time": "2024-05-05T05:43:21.673Z"
   },
   {
    "duration": 5,
    "start_time": "2024-05-05T05:43:21.679Z"
   },
   {
    "duration": 24289,
    "start_time": "2024-05-05T05:43:21.685Z"
   },
   {
    "duration": 4,
    "start_time": "2024-05-05T05:43:45.975Z"
   },
   {
    "duration": 22,
    "start_time": "2024-05-05T05:43:45.981Z"
   },
   {
    "duration": 3,
    "start_time": "2024-05-05T05:43:46.004Z"
   },
   {
    "duration": 3,
    "start_time": "2024-05-05T05:43:46.009Z"
   },
   {
    "duration": 126519,
    "start_time": "2024-05-05T05:43:46.013Z"
   },
   {
    "duration": 365,
    "start_time": "2024-05-05T05:45:52.533Z"
   },
   {
    "duration": 4,
    "start_time": "2024-05-05T05:45:52.900Z"
   },
   {
    "duration": 262440,
    "start_time": "2024-05-05T05:45:52.905Z"
   },
   {
    "duration": 5,
    "start_time": "2024-05-05T05:50:15.346Z"
   },
   {
    "duration": 55,
    "start_time": "2024-05-05T05:50:15.352Z"
   },
   {
    "duration": 322013,
    "start_time": "2024-05-05T05:50:15.408Z"
   },
   {
    "duration": 102034,
    "start_time": "2024-05-05T05:55:37.422Z"
   },
   {
    "duration": 9,
    "start_time": "2024-05-05T05:57:19.457Z"
   },
   {
    "duration": 241,
    "start_time": "2024-05-05T05:57:19.467Z"
   },
   {
    "duration": 15,
    "start_time": "2024-05-05T05:57:19.709Z"
   },
   {
    "duration": 177,
    "start_time": "2024-05-05T05:57:19.725Z"
   },
   {
    "duration": 70,
    "start_time": "2024-05-05T05:57:19.903Z"
   },
   {
    "duration": 118979,
    "start_time": "2024-05-05T05:57:19.975Z"
   },
   {
    "duration": 248,
    "start_time": "2024-05-05T05:59:18.955Z"
   },
   {
    "duration": 46,
    "start_time": "2024-05-05T19:37:46.280Z"
   },
   {
    "duration": 32588,
    "start_time": "2024-05-05T19:37:59.650Z"
   },
   {
    "duration": 29,
    "start_time": "2024-05-05T19:38:32.240Z"
   },
   {
    "duration": 5,
    "start_time": "2024-05-05T19:38:32.271Z"
   },
   {
    "duration": 39,
    "start_time": "2024-05-05T19:38:32.277Z"
   },
   {
    "duration": 108,
    "start_time": "2024-05-05T19:38:32.318Z"
   },
   {
    "duration": 251,
    "start_time": "2024-05-05T19:38:32.427Z"
   },
   {
    "duration": 131,
    "start_time": "2024-05-05T19:38:32.680Z"
   },
   {
    "duration": 493,
    "start_time": "2024-05-05T19:38:32.813Z"
   },
   {
    "duration": 187,
    "start_time": "2024-05-05T19:38:33.308Z"
   },
   {
    "duration": 4,
    "start_time": "2024-05-05T19:38:33.497Z"
   },
   {
    "duration": 249,
    "start_time": "2024-05-05T19:38:33.503Z"
   },
   {
    "duration": 180,
    "start_time": "2024-05-05T19:38:33.754Z"
   },
   {
    "duration": 249,
    "start_time": "2024-05-05T19:38:33.935Z"
   },
   {
    "duration": 170,
    "start_time": "2024-05-05T19:38:34.189Z"
   },
   {
    "duration": 5112,
    "start_time": "2024-05-05T19:38:34.361Z"
   },
   {
    "duration": 227,
    "start_time": "2024-05-05T19:38:39.474Z"
   },
   {
    "duration": 5241,
    "start_time": "2024-05-05T19:38:39.703Z"
   },
   {
    "duration": 790,
    "start_time": "2024-05-05T19:38:44.945Z"
   },
   {
    "duration": 21293,
    "start_time": "2024-05-05T19:38:45.736Z"
   },
   {
    "duration": 252,
    "start_time": "2024-05-05T19:39:07.031Z"
   },
   {
    "duration": 171,
    "start_time": "2024-05-05T19:39:07.284Z"
   },
   {
    "duration": 4,
    "start_time": "2024-05-05T19:39:07.457Z"
   },
   {
    "duration": 349,
    "start_time": "2024-05-05T19:39:07.462Z"
   },
   {
    "duration": 356,
    "start_time": "2024-05-05T19:39:07.813Z"
   },
   {
    "duration": 50,
    "start_time": "2024-05-05T19:39:08.171Z"
   },
   {
    "duration": 3,
    "start_time": "2024-05-05T19:39:08.222Z"
   },
   {
    "duration": 77,
    "start_time": "2024-05-05T19:39:08.227Z"
   },
   {
    "duration": 103,
    "start_time": "2024-05-05T19:39:08.306Z"
   },
   {
    "duration": 106,
    "start_time": "2024-05-05T19:39:08.410Z"
   },
   {
    "duration": 192,
    "start_time": "2024-05-05T19:39:08.518Z"
   },
   {
    "duration": 5,
    "start_time": "2024-05-05T19:39:08.712Z"
   },
   {
    "duration": 116,
    "start_time": "2024-05-05T19:39:08.718Z"
   },
   {
    "duration": 97,
    "start_time": "2024-05-05T19:39:08.836Z"
   },
   {
    "duration": 58,
    "start_time": "2024-05-05T19:39:08.935Z"
   },
   {
    "duration": 5,
    "start_time": "2024-05-05T19:39:08.994Z"
   },
   {
    "duration": 77,
    "start_time": "2024-05-05T19:39:09.000Z"
   },
   {
    "duration": 117,
    "start_time": "2024-05-05T19:39:09.079Z"
   },
   {
    "duration": 8,
    "start_time": "2024-05-05T19:39:09.198Z"
   },
   {
    "duration": 63,
    "start_time": "2024-05-05T19:39:09.208Z"
   },
   {
    "duration": 103,
    "start_time": "2024-05-05T19:39:09.272Z"
   },
   {
    "duration": 97,
    "start_time": "2024-05-05T19:39:09.381Z"
   },
   {
    "duration": 73,
    "start_time": "2024-05-05T19:39:09.480Z"
   },
   {
    "duration": 588,
    "start_time": "2024-05-05T19:39:09.555Z"
   },
   {
    "duration": 208,
    "start_time": "2024-05-05T19:39:10.145Z"
   },
   {
    "duration": 112,
    "start_time": "2024-05-05T19:39:10.356Z"
   },
   {
    "duration": 7,
    "start_time": "2024-05-05T19:39:10.470Z"
   },
   {
    "duration": 113,
    "start_time": "2024-05-05T19:39:10.479Z"
   },
   {
    "duration": 6,
    "start_time": "2024-05-05T19:39:10.594Z"
   },
   {
    "duration": 103,
    "start_time": "2024-05-05T19:39:10.601Z"
   },
   {
    "duration": 8,
    "start_time": "2024-05-05T19:39:10.705Z"
   },
   {
    "duration": 116,
    "start_time": "2024-05-05T19:39:10.715Z"
   },
   {
    "duration": 91,
    "start_time": "2024-05-05T19:39:10.833Z"
   },
   {
    "duration": 93,
    "start_time": "2024-05-05T19:39:10.926Z"
   },
   {
    "duration": 265,
    "start_time": "2024-05-05T19:39:11.020Z"
   },
   {
    "duration": 52,
    "start_time": "2024-05-05T19:39:11.291Z"
   },
   {
    "duration": 261,
    "start_time": "2024-05-05T19:39:11.344Z"
   },
   {
    "duration": 72,
    "start_time": "2024-05-05T19:39:11.608Z"
   },
   {
    "duration": 299,
    "start_time": "2024-05-05T19:39:11.682Z"
   },
   {
    "duration": 36,
    "start_time": "2024-05-05T19:39:11.983Z"
   },
   {
    "duration": 249,
    "start_time": "2024-05-05T19:39:12.020Z"
   },
   {
    "duration": 10,
    "start_time": "2024-05-05T19:39:12.271Z"
   },
   {
    "duration": 122,
    "start_time": "2024-05-05T19:39:12.282Z"
   },
   {
    "duration": 203,
    "start_time": "2024-05-05T19:39:12.406Z"
   },
   {
    "duration": 41,
    "start_time": "2024-05-05T19:39:12.611Z"
   },
   {
    "duration": 228,
    "start_time": "2024-05-05T19:39:12.654Z"
   },
   {
    "duration": 27,
    "start_time": "2024-05-05T19:39:12.884Z"
   },
   {
    "duration": 41,
    "start_time": "2024-05-05T19:39:12.912Z"
   },
   {
    "duration": 80,
    "start_time": "2024-05-05T19:39:12.955Z"
   },
   {
    "duration": 102,
    "start_time": "2024-05-05T19:39:13.037Z"
   },
   {
    "duration": 186,
    "start_time": "2024-05-05T19:39:13.142Z"
   },
   {
    "duration": 33,
    "start_time": "2024-05-05T19:39:13.330Z"
   },
   {
    "duration": 244,
    "start_time": "2024-05-05T19:39:13.365Z"
   },
   {
    "duration": 22,
    "start_time": "2024-05-05T19:39:13.611Z"
   },
   {
    "duration": 95,
    "start_time": "2024-05-05T19:39:13.635Z"
   },
   {
    "duration": 111,
    "start_time": "2024-05-05T19:39:13.732Z"
   },
   {
    "duration": 307,
    "start_time": "2024-05-05T19:39:13.845Z"
   },
   {
    "duration": 20,
    "start_time": "2024-05-05T19:39:14.153Z"
   },
   {
    "duration": 84,
    "start_time": "2024-05-05T19:39:14.175Z"
   },
   {
    "duration": 114,
    "start_time": "2024-05-05T19:39:14.260Z"
   },
   {
    "duration": 252,
    "start_time": "2024-05-05T19:39:14.377Z"
   },
   {
    "duration": 75,
    "start_time": "2024-05-05T19:39:14.631Z"
   },
   {
    "duration": 191,
    "start_time": "2024-05-05T19:39:14.708Z"
   },
   {
    "duration": 11,
    "start_time": "2024-05-05T19:39:14.901Z"
   },
   {
    "duration": 40,
    "start_time": "2024-05-05T19:39:14.913Z"
   },
   {
    "duration": 62,
    "start_time": "2024-05-05T19:39:14.954Z"
   },
   {
    "duration": 15,
    "start_time": "2024-05-05T19:39:15.018Z"
   },
   {
    "duration": 77,
    "start_time": "2024-05-05T19:39:15.035Z"
   },
   {
    "duration": 123,
    "start_time": "2024-05-05T19:39:15.114Z"
   },
   {
    "duration": 10,
    "start_time": "2024-05-05T19:39:15.239Z"
   },
   {
    "duration": 86,
    "start_time": "2024-05-05T19:39:15.251Z"
   },
   {
    "duration": 93,
    "start_time": "2024-05-05T19:39:15.339Z"
   },
   {
    "duration": 20,
    "start_time": "2024-05-05T19:39:15.434Z"
   },
   {
    "duration": 171,
    "start_time": "2024-05-05T19:39:15.456Z"
   },
   {
    "duration": 217,
    "start_time": "2024-05-05T19:39:15.629Z"
   },
   {
    "duration": 26,
    "start_time": "2024-05-05T19:39:15.848Z"
   },
   {
    "duration": 28,
    "start_time": "2024-05-05T19:39:15.876Z"
   },
   {
    "duration": 54,
    "start_time": "2024-05-05T19:39:15.906Z"
   },
   {
    "duration": 11,
    "start_time": "2024-05-05T19:39:15.961Z"
   },
   {
    "duration": 69,
    "start_time": "2024-05-05T19:39:15.974Z"
   },
   {
    "duration": 9,
    "start_time": "2024-05-05T19:39:16.045Z"
   },
   {
    "duration": 8,
    "start_time": "2024-05-05T19:39:16.056Z"
   },
   {
    "duration": 32007,
    "start_time": "2024-05-05T19:39:16.066Z"
   },
   {
    "duration": 4,
    "start_time": "2024-05-05T19:39:48.075Z"
   },
   {
    "duration": 6,
    "start_time": "2024-05-05T19:39:48.081Z"
   },
   {
    "duration": 3,
    "start_time": "2024-05-05T19:39:48.092Z"
   },
   {
    "duration": 5,
    "start_time": "2024-05-05T19:39:48.096Z"
   },
   {
    "duration": 147963,
    "start_time": "2024-05-05T19:39:48.102Z"
   },
   {
    "duration": 428,
    "start_time": "2024-05-05T19:42:16.067Z"
   },
   {
    "duration": 5,
    "start_time": "2024-05-05T19:42:16.497Z"
   },
   {
    "duration": 26940,
    "start_time": "2024-05-05T19:46:13.062Z"
   },
   {
    "duration": 35,
    "start_time": "2024-05-05T19:46:40.004Z"
   },
   {
    "duration": 18,
    "start_time": "2024-05-05T19:46:40.041Z"
   },
   {
    "duration": 21,
    "start_time": "2024-05-05T19:46:40.061Z"
   },
   {
    "duration": 102,
    "start_time": "2024-05-05T19:46:40.084Z"
   },
   {
    "duration": 246,
    "start_time": "2024-05-05T19:46:40.187Z"
   },
   {
    "duration": 136,
    "start_time": "2024-05-05T19:46:40.435Z"
   },
   {
    "duration": 484,
    "start_time": "2024-05-05T19:46:40.572Z"
   },
   {
    "duration": 207,
    "start_time": "2024-05-05T19:46:41.057Z"
   },
   {
    "duration": 4,
    "start_time": "2024-05-05T19:46:41.266Z"
   },
   {
    "duration": 256,
    "start_time": "2024-05-05T19:46:41.272Z"
   },
   {
    "duration": 170,
    "start_time": "2024-05-05T19:46:41.529Z"
   },
   {
    "duration": 244,
    "start_time": "2024-05-05T19:46:41.700Z"
   },
   {
    "duration": 135,
    "start_time": "2024-05-05T19:46:41.947Z"
   },
   {
    "duration": 5286,
    "start_time": "2024-05-05T19:46:42.083Z"
   },
   {
    "duration": 224,
    "start_time": "2024-05-05T19:46:47.371Z"
   },
   {
    "duration": 5009,
    "start_time": "2024-05-05T19:46:47.597Z"
   },
   {
    "duration": 806,
    "start_time": "2024-05-05T19:46:52.608Z"
   },
   {
    "duration": 3,
    "start_time": "2024-05-05T19:46:53.416Z"
   },
   {
    "duration": 66,
    "start_time": "2024-05-05T19:46:53.420Z"
   },
   {
    "duration": 0,
    "start_time": "2024-05-05T19:46:53.490Z"
   },
   {
    "duration": 0,
    "start_time": "2024-05-05T19:46:53.491Z"
   },
   {
    "duration": 0,
    "start_time": "2024-05-05T19:46:53.493Z"
   },
   {
    "duration": 0,
    "start_time": "2024-05-05T19:46:53.494Z"
   },
   {
    "duration": 0,
    "start_time": "2024-05-05T19:46:53.495Z"
   },
   {
    "duration": 0,
    "start_time": "2024-05-05T19:46:53.496Z"
   },
   {
    "duration": 0,
    "start_time": "2024-05-05T19:46:53.497Z"
   },
   {
    "duration": 0,
    "start_time": "2024-05-05T19:46:53.498Z"
   },
   {
    "duration": 0,
    "start_time": "2024-05-05T19:46:53.499Z"
   },
   {
    "duration": 0,
    "start_time": "2024-05-05T19:46:53.501Z"
   },
   {
    "duration": 0,
    "start_time": "2024-05-05T19:46:53.503Z"
   },
   {
    "duration": 0,
    "start_time": "2024-05-05T19:46:53.504Z"
   },
   {
    "duration": 0,
    "start_time": "2024-05-05T19:46:53.506Z"
   },
   {
    "duration": 0,
    "start_time": "2024-05-05T19:46:53.507Z"
   },
   {
    "duration": 0,
    "start_time": "2024-05-05T19:46:53.509Z"
   },
   {
    "duration": 0,
    "start_time": "2024-05-05T19:46:53.511Z"
   },
   {
    "duration": 0,
    "start_time": "2024-05-05T19:46:53.512Z"
   },
   {
    "duration": 0,
    "start_time": "2024-05-05T19:46:53.514Z"
   },
   {
    "duration": 0,
    "start_time": "2024-05-05T19:46:53.516Z"
   },
   {
    "duration": 0,
    "start_time": "2024-05-05T19:46:53.517Z"
   },
   {
    "duration": 0,
    "start_time": "2024-05-05T19:46:53.519Z"
   },
   {
    "duration": 0,
    "start_time": "2024-05-05T19:46:53.520Z"
   },
   {
    "duration": 0,
    "start_time": "2024-05-05T19:46:53.522Z"
   },
   {
    "duration": 0,
    "start_time": "2024-05-05T19:46:53.523Z"
   },
   {
    "duration": 0,
    "start_time": "2024-05-05T19:46:53.524Z"
   },
   {
    "duration": 0,
    "start_time": "2024-05-05T19:46:53.526Z"
   },
   {
    "duration": 0,
    "start_time": "2024-05-05T19:46:53.527Z"
   },
   {
    "duration": 0,
    "start_time": "2024-05-05T19:46:53.529Z"
   },
   {
    "duration": 0,
    "start_time": "2024-05-05T19:46:53.530Z"
   },
   {
    "duration": 0,
    "start_time": "2024-05-05T19:46:53.531Z"
   },
   {
    "duration": 0,
    "start_time": "2024-05-05T19:46:53.533Z"
   },
   {
    "duration": 0,
    "start_time": "2024-05-05T19:46:53.592Z"
   },
   {
    "duration": 0,
    "start_time": "2024-05-05T19:46:53.593Z"
   },
   {
    "duration": 0,
    "start_time": "2024-05-05T19:46:53.595Z"
   },
   {
    "duration": 0,
    "start_time": "2024-05-05T19:46:53.596Z"
   },
   {
    "duration": 0,
    "start_time": "2024-05-05T19:46:53.597Z"
   },
   {
    "duration": 0,
    "start_time": "2024-05-05T19:46:53.599Z"
   },
   {
    "duration": 0,
    "start_time": "2024-05-05T19:46:53.600Z"
   },
   {
    "duration": 0,
    "start_time": "2024-05-05T19:46:53.602Z"
   },
   {
    "duration": 0,
    "start_time": "2024-05-05T19:46:53.603Z"
   },
   {
    "duration": 1,
    "start_time": "2024-05-05T19:46:53.604Z"
   },
   {
    "duration": 0,
    "start_time": "2024-05-05T19:46:53.606Z"
   },
   {
    "duration": 0,
    "start_time": "2024-05-05T19:46:53.607Z"
   },
   {
    "duration": 0,
    "start_time": "2024-05-05T19:46:53.609Z"
   },
   {
    "duration": 0,
    "start_time": "2024-05-05T19:46:53.610Z"
   },
   {
    "duration": 0,
    "start_time": "2024-05-05T19:46:53.612Z"
   },
   {
    "duration": 0,
    "start_time": "2024-05-05T19:46:53.613Z"
   },
   {
    "duration": 0,
    "start_time": "2024-05-05T19:46:53.615Z"
   },
   {
    "duration": 0,
    "start_time": "2024-05-05T19:46:53.616Z"
   },
   {
    "duration": 0,
    "start_time": "2024-05-05T19:46:53.617Z"
   },
   {
    "duration": 0,
    "start_time": "2024-05-05T19:46:53.619Z"
   },
   {
    "duration": 0,
    "start_time": "2024-05-05T19:46:53.620Z"
   },
   {
    "duration": 0,
    "start_time": "2024-05-05T19:46:53.622Z"
   },
   {
    "duration": 0,
    "start_time": "2024-05-05T19:46:53.623Z"
   },
   {
    "duration": 0,
    "start_time": "2024-05-05T19:46:53.625Z"
   },
   {
    "duration": 0,
    "start_time": "2024-05-05T19:46:53.626Z"
   },
   {
    "duration": 0,
    "start_time": "2024-05-05T19:46:53.628Z"
   },
   {
    "duration": 0,
    "start_time": "2024-05-05T19:46:53.692Z"
   },
   {
    "duration": 0,
    "start_time": "2024-05-05T19:46:53.694Z"
   },
   {
    "duration": 0,
    "start_time": "2024-05-05T19:46:53.695Z"
   },
   {
    "duration": 0,
    "start_time": "2024-05-05T19:46:53.697Z"
   },
   {
    "duration": 0,
    "start_time": "2024-05-05T19:46:53.698Z"
   },
   {
    "duration": 0,
    "start_time": "2024-05-05T19:46:53.700Z"
   },
   {
    "duration": 0,
    "start_time": "2024-05-05T19:46:53.701Z"
   },
   {
    "duration": 0,
    "start_time": "2024-05-05T19:46:53.702Z"
   },
   {
    "duration": 0,
    "start_time": "2024-05-05T19:46:53.704Z"
   },
   {
    "duration": 1,
    "start_time": "2024-05-05T19:46:53.705Z"
   },
   {
    "duration": 0,
    "start_time": "2024-05-05T19:46:53.707Z"
   },
   {
    "duration": 0,
    "start_time": "2024-05-05T19:46:53.708Z"
   },
   {
    "duration": 0,
    "start_time": "2024-05-05T19:46:53.709Z"
   },
   {
    "duration": 0,
    "start_time": "2024-05-05T19:46:53.711Z"
   },
   {
    "duration": 0,
    "start_time": "2024-05-05T19:46:53.712Z"
   },
   {
    "duration": 0,
    "start_time": "2024-05-05T19:46:53.714Z"
   },
   {
    "duration": 0,
    "start_time": "2024-05-05T19:46:53.715Z"
   },
   {
    "duration": 0,
    "start_time": "2024-05-05T19:46:53.717Z"
   },
   {
    "duration": 0,
    "start_time": "2024-05-05T19:46:53.718Z"
   },
   {
    "duration": 0,
    "start_time": "2024-05-05T19:46:53.719Z"
   },
   {
    "duration": 1,
    "start_time": "2024-05-05T19:46:53.720Z"
   },
   {
    "duration": 0,
    "start_time": "2024-05-05T19:46:53.722Z"
   },
   {
    "duration": 0,
    "start_time": "2024-05-05T19:46:53.723Z"
   },
   {
    "duration": 0,
    "start_time": "2024-05-05T19:46:53.725Z"
   },
   {
    "duration": 0,
    "start_time": "2024-05-05T19:46:53.726Z"
   },
   {
    "duration": 0,
    "start_time": "2024-05-05T19:46:53.728Z"
   },
   {
    "duration": 0,
    "start_time": "2024-05-05T19:46:53.729Z"
   },
   {
    "duration": 0,
    "start_time": "2024-05-05T19:46:53.792Z"
   },
   {
    "duration": 0,
    "start_time": "2024-05-05T19:46:53.793Z"
   },
   {
    "duration": 0,
    "start_time": "2024-05-05T19:46:53.795Z"
   },
   {
    "duration": 0,
    "start_time": "2024-05-05T19:46:53.796Z"
   },
   {
    "duration": 0,
    "start_time": "2024-05-05T19:46:53.797Z"
   },
   {
    "duration": 0,
    "start_time": "2024-05-05T19:46:53.798Z"
   },
   {
    "duration": 0,
    "start_time": "2024-05-05T19:46:53.799Z"
   },
   {
    "duration": 0,
    "start_time": "2024-05-05T19:46:53.800Z"
   },
   {
    "duration": 0,
    "start_time": "2024-05-05T19:46:53.801Z"
   },
   {
    "duration": 0,
    "start_time": "2024-05-05T19:46:53.802Z"
   },
   {
    "duration": 0,
    "start_time": "2024-05-05T19:46:53.803Z"
   },
   {
    "duration": 0,
    "start_time": "2024-05-05T19:46:53.804Z"
   },
   {
    "duration": 0,
    "start_time": "2024-05-05T19:46:53.806Z"
   },
   {
    "duration": 0,
    "start_time": "2024-05-05T19:46:53.807Z"
   },
   {
    "duration": 0,
    "start_time": "2024-05-05T19:46:53.808Z"
   },
   {
    "duration": 0,
    "start_time": "2024-05-05T19:46:53.809Z"
   },
   {
    "duration": 0,
    "start_time": "2024-05-05T19:46:53.810Z"
   },
   {
    "duration": 0,
    "start_time": "2024-05-05T19:46:53.811Z"
   },
   {
    "duration": 68,
    "start_time": "2024-05-05T19:49:51.562Z"
   },
   {
    "duration": 64,
    "start_time": "2024-05-05T19:51:07.033Z"
   },
   {
    "duration": 4,
    "start_time": "2024-05-05T19:52:02.564Z"
   },
   {
    "duration": 1258,
    "start_time": "2024-05-05T19:52:07.313Z"
   },
   {
    "duration": 27232,
    "start_time": "2024-05-05T19:52:25.899Z"
   },
   {
    "duration": 36,
    "start_time": "2024-05-05T19:52:53.133Z"
   },
   {
    "duration": 5,
    "start_time": "2024-05-05T19:52:53.171Z"
   },
   {
    "duration": 25,
    "start_time": "2024-05-05T19:52:53.177Z"
   },
   {
    "duration": 101,
    "start_time": "2024-05-05T19:52:53.204Z"
   },
   {
    "duration": 236,
    "start_time": "2024-05-05T19:52:53.307Z"
   },
   {
    "duration": 128,
    "start_time": "2024-05-05T19:52:53.545Z"
   },
   {
    "duration": 476,
    "start_time": "2024-05-05T19:52:53.675Z"
   },
   {
    "duration": 178,
    "start_time": "2024-05-05T19:52:54.153Z"
   },
   {
    "duration": 6,
    "start_time": "2024-05-05T19:52:54.333Z"
   },
   {
    "duration": 254,
    "start_time": "2024-05-05T19:52:54.340Z"
   },
   {
    "duration": 170,
    "start_time": "2024-05-05T19:52:54.596Z"
   },
   {
    "duration": 253,
    "start_time": "2024-05-05T19:52:54.768Z"
   },
   {
    "duration": 140,
    "start_time": "2024-05-05T19:52:55.024Z"
   },
   {
    "duration": 5088,
    "start_time": "2024-05-05T19:52:55.165Z"
   },
   {
    "duration": 236,
    "start_time": "2024-05-05T19:53:00.255Z"
   },
   {
    "duration": 5073,
    "start_time": "2024-05-05T19:53:00.493Z"
   },
   {
    "duration": 772,
    "start_time": "2024-05-05T19:53:05.567Z"
   },
   {
    "duration": 2,
    "start_time": "2024-05-05T19:53:06.341Z"
   },
   {
    "duration": 11,
    "start_time": "2024-05-05T19:53:06.344Z"
   },
   {
    "duration": 1269,
    "start_time": "2024-05-05T19:53:06.356Z"
   },
   {
    "duration": 0,
    "start_time": "2024-05-05T19:53:07.629Z"
   },
   {
    "duration": 0,
    "start_time": "2024-05-05T19:53:07.630Z"
   },
   {
    "duration": 0,
    "start_time": "2024-05-05T19:53:07.631Z"
   },
   {
    "duration": 0,
    "start_time": "2024-05-05T19:53:07.633Z"
   },
   {
    "duration": 0,
    "start_time": "2024-05-05T19:53:07.634Z"
   },
   {
    "duration": 0,
    "start_time": "2024-05-05T19:53:07.635Z"
   },
   {
    "duration": 0,
    "start_time": "2024-05-05T19:53:07.636Z"
   },
   {
    "duration": 0,
    "start_time": "2024-05-05T19:53:07.637Z"
   },
   {
    "duration": 0,
    "start_time": "2024-05-05T19:53:07.638Z"
   },
   {
    "duration": 0,
    "start_time": "2024-05-05T19:53:07.639Z"
   },
   {
    "duration": 0,
    "start_time": "2024-05-05T19:53:07.640Z"
   },
   {
    "duration": 0,
    "start_time": "2024-05-05T19:53:07.641Z"
   },
   {
    "duration": 0,
    "start_time": "2024-05-05T19:53:07.642Z"
   },
   {
    "duration": 0,
    "start_time": "2024-05-05T19:53:07.643Z"
   },
   {
    "duration": 0,
    "start_time": "2024-05-05T19:53:07.644Z"
   },
   {
    "duration": 0,
    "start_time": "2024-05-05T19:53:07.645Z"
   },
   {
    "duration": 0,
    "start_time": "2024-05-05T19:53:07.646Z"
   },
   {
    "duration": 0,
    "start_time": "2024-05-05T19:53:07.647Z"
   },
   {
    "duration": 0,
    "start_time": "2024-05-05T19:53:07.649Z"
   },
   {
    "duration": 1,
    "start_time": "2024-05-05T19:53:07.649Z"
   },
   {
    "duration": 0,
    "start_time": "2024-05-05T19:53:07.650Z"
   },
   {
    "duration": 0,
    "start_time": "2024-05-05T19:53:07.651Z"
   },
   {
    "duration": 0,
    "start_time": "2024-05-05T19:53:07.652Z"
   },
   {
    "duration": 0,
    "start_time": "2024-05-05T19:53:07.653Z"
   },
   {
    "duration": 0,
    "start_time": "2024-05-05T19:53:07.654Z"
   },
   {
    "duration": 0,
    "start_time": "2024-05-05T19:53:07.655Z"
   },
   {
    "duration": 0,
    "start_time": "2024-05-05T19:53:07.656Z"
   },
   {
    "duration": 0,
    "start_time": "2024-05-05T19:53:07.658Z"
   },
   {
    "duration": 1,
    "start_time": "2024-05-05T19:53:07.658Z"
   },
   {
    "duration": 0,
    "start_time": "2024-05-05T19:53:07.659Z"
   },
   {
    "duration": 0,
    "start_time": "2024-05-05T19:53:07.661Z"
   },
   {
    "duration": 0,
    "start_time": "2024-05-05T19:53:07.662Z"
   },
   {
    "duration": 0,
    "start_time": "2024-05-05T19:53:07.663Z"
   },
   {
    "duration": 0,
    "start_time": "2024-05-05T19:53:07.664Z"
   },
   {
    "duration": 0,
    "start_time": "2024-05-05T19:53:07.665Z"
   },
   {
    "duration": 1,
    "start_time": "2024-05-05T19:53:07.691Z"
   },
   {
    "duration": 0,
    "start_time": "2024-05-05T19:53:07.693Z"
   },
   {
    "duration": 0,
    "start_time": "2024-05-05T19:53:07.694Z"
   },
   {
    "duration": 0,
    "start_time": "2024-05-05T19:53:07.695Z"
   },
   {
    "duration": 0,
    "start_time": "2024-05-05T19:53:07.696Z"
   },
   {
    "duration": 0,
    "start_time": "2024-05-05T19:53:07.697Z"
   },
   {
    "duration": 0,
    "start_time": "2024-05-05T19:53:07.699Z"
   },
   {
    "duration": 0,
    "start_time": "2024-05-05T19:53:07.700Z"
   },
   {
    "duration": 0,
    "start_time": "2024-05-05T19:53:07.701Z"
   },
   {
    "duration": 0,
    "start_time": "2024-05-05T19:53:07.702Z"
   },
   {
    "duration": 0,
    "start_time": "2024-05-05T19:53:07.703Z"
   },
   {
    "duration": 0,
    "start_time": "2024-05-05T19:53:07.704Z"
   },
   {
    "duration": 0,
    "start_time": "2024-05-05T19:53:07.705Z"
   },
   {
    "duration": 0,
    "start_time": "2024-05-05T19:53:07.706Z"
   },
   {
    "duration": 0,
    "start_time": "2024-05-05T19:53:07.707Z"
   },
   {
    "duration": 0,
    "start_time": "2024-05-05T19:53:07.708Z"
   },
   {
    "duration": 0,
    "start_time": "2024-05-05T19:53:07.709Z"
   },
   {
    "duration": 0,
    "start_time": "2024-05-05T19:53:07.710Z"
   },
   {
    "duration": 0,
    "start_time": "2024-05-05T19:53:07.712Z"
   },
   {
    "duration": 0,
    "start_time": "2024-05-05T19:53:07.712Z"
   },
   {
    "duration": 0,
    "start_time": "2024-05-05T19:53:07.714Z"
   },
   {
    "duration": 0,
    "start_time": "2024-05-05T19:53:07.716Z"
   },
   {
    "duration": 0,
    "start_time": "2024-05-05T19:53:07.717Z"
   },
   {
    "duration": 0,
    "start_time": "2024-05-05T19:53:07.718Z"
   },
   {
    "duration": 0,
    "start_time": "2024-05-05T19:53:07.720Z"
   },
   {
    "duration": 0,
    "start_time": "2024-05-05T19:53:07.721Z"
   },
   {
    "duration": 1,
    "start_time": "2024-05-05T19:53:07.722Z"
   },
   {
    "duration": 0,
    "start_time": "2024-05-05T19:53:07.724Z"
   },
   {
    "duration": 0,
    "start_time": "2024-05-05T19:53:07.725Z"
   },
   {
    "duration": 0,
    "start_time": "2024-05-05T19:53:07.727Z"
   },
   {
    "duration": 0,
    "start_time": "2024-05-05T19:53:07.728Z"
   },
   {
    "duration": 0,
    "start_time": "2024-05-05T19:53:07.729Z"
   },
   {
    "duration": 0,
    "start_time": "2024-05-05T19:53:07.730Z"
   },
   {
    "duration": 0,
    "start_time": "2024-05-05T19:53:07.792Z"
   },
   {
    "duration": 0,
    "start_time": "2024-05-05T19:53:07.794Z"
   },
   {
    "duration": 0,
    "start_time": "2024-05-05T19:53:07.795Z"
   },
   {
    "duration": 0,
    "start_time": "2024-05-05T19:53:07.796Z"
   },
   {
    "duration": 0,
    "start_time": "2024-05-05T19:53:07.798Z"
   },
   {
    "duration": 0,
    "start_time": "2024-05-05T19:53:07.799Z"
   },
   {
    "duration": 0,
    "start_time": "2024-05-05T19:53:07.800Z"
   },
   {
    "duration": 0,
    "start_time": "2024-05-05T19:53:07.802Z"
   },
   {
    "duration": 0,
    "start_time": "2024-05-05T19:53:07.803Z"
   },
   {
    "duration": 0,
    "start_time": "2024-05-05T19:53:07.804Z"
   },
   {
    "duration": 0,
    "start_time": "2024-05-05T19:53:07.805Z"
   },
   {
    "duration": 0,
    "start_time": "2024-05-05T19:53:07.806Z"
   },
   {
    "duration": 0,
    "start_time": "2024-05-05T19:53:07.807Z"
   },
   {
    "duration": 0,
    "start_time": "2024-05-05T19:53:07.808Z"
   },
   {
    "duration": 0,
    "start_time": "2024-05-05T19:53:07.809Z"
   },
   {
    "duration": 0,
    "start_time": "2024-05-05T19:53:07.811Z"
   },
   {
    "duration": 0,
    "start_time": "2024-05-05T19:53:07.812Z"
   },
   {
    "duration": 0,
    "start_time": "2024-05-05T19:53:07.812Z"
   },
   {
    "duration": 0,
    "start_time": "2024-05-05T19:53:07.813Z"
   },
   {
    "duration": 0,
    "start_time": "2024-05-05T19:53:07.814Z"
   },
   {
    "duration": 0,
    "start_time": "2024-05-05T19:53:07.815Z"
   },
   {
    "duration": 0,
    "start_time": "2024-05-05T19:53:07.816Z"
   },
   {
    "duration": 0,
    "start_time": "2024-05-05T19:53:07.817Z"
   },
   {
    "duration": 0,
    "start_time": "2024-05-05T19:53:07.818Z"
   },
   {
    "duration": 0,
    "start_time": "2024-05-05T19:53:07.819Z"
   },
   {
    "duration": 0,
    "start_time": "2024-05-05T19:53:07.820Z"
   },
   {
    "duration": 0,
    "start_time": "2024-05-05T19:53:07.822Z"
   },
   {
    "duration": 0,
    "start_time": "2024-05-05T19:53:07.823Z"
   },
   {
    "duration": 0,
    "start_time": "2024-05-05T19:53:07.824Z"
   },
   {
    "duration": 0,
    "start_time": "2024-05-05T19:53:07.825Z"
   },
   {
    "duration": 0,
    "start_time": "2024-05-05T19:53:07.826Z"
   },
   {
    "duration": 0,
    "start_time": "2024-05-05T19:53:07.827Z"
   },
   {
    "duration": 0,
    "start_time": "2024-05-05T19:53:07.892Z"
   },
   {
    "duration": 27015,
    "start_time": "2024-05-05T19:55:23.611Z"
   },
   {
    "duration": 30,
    "start_time": "2024-05-05T19:55:50.628Z"
   },
   {
    "duration": 5,
    "start_time": "2024-05-05T19:55:50.660Z"
   },
   {
    "duration": 48,
    "start_time": "2024-05-05T19:55:50.666Z"
   },
   {
    "duration": 93,
    "start_time": "2024-05-05T19:55:50.716Z"
   },
   {
    "duration": 243,
    "start_time": "2024-05-05T19:55:50.810Z"
   },
   {
    "duration": 133,
    "start_time": "2024-05-05T19:55:51.055Z"
   },
   {
    "duration": 493,
    "start_time": "2024-05-05T19:55:51.190Z"
   },
   {
    "duration": 182,
    "start_time": "2024-05-05T19:55:51.685Z"
   },
   {
    "duration": 4,
    "start_time": "2024-05-05T19:55:51.869Z"
   },
   {
    "duration": 269,
    "start_time": "2024-05-05T19:55:51.875Z"
   },
   {
    "duration": 165,
    "start_time": "2024-05-05T19:55:52.146Z"
   },
   {
    "duration": 240,
    "start_time": "2024-05-05T19:55:52.313Z"
   },
   {
    "duration": 134,
    "start_time": "2024-05-05T19:55:52.556Z"
   },
   {
    "duration": 5081,
    "start_time": "2024-05-05T19:55:52.692Z"
   },
   {
    "duration": 218,
    "start_time": "2024-05-05T19:55:57.774Z"
   },
   {
    "duration": 5086,
    "start_time": "2024-05-05T19:55:57.994Z"
   },
   {
    "duration": 769,
    "start_time": "2024-05-05T19:56:03.082Z"
   },
   {
    "duration": 3,
    "start_time": "2024-05-05T19:56:03.852Z"
   },
   {
    "duration": 19,
    "start_time": "2024-05-05T19:56:03.857Z"
   },
   {
    "duration": 1349,
    "start_time": "2024-05-05T19:56:03.878Z"
   },
   {
    "duration": 0,
    "start_time": "2024-05-05T19:56:05.232Z"
   },
   {
    "duration": 0,
    "start_time": "2024-05-05T19:56:05.233Z"
   },
   {
    "duration": 0,
    "start_time": "2024-05-05T19:56:05.235Z"
   },
   {
    "duration": 0,
    "start_time": "2024-05-05T19:56:05.236Z"
   },
   {
    "duration": 0,
    "start_time": "2024-05-05T19:56:05.236Z"
   },
   {
    "duration": 0,
    "start_time": "2024-05-05T19:56:05.237Z"
   },
   {
    "duration": 0,
    "start_time": "2024-05-05T19:56:05.238Z"
   },
   {
    "duration": 0,
    "start_time": "2024-05-05T19:56:05.240Z"
   },
   {
    "duration": 0,
    "start_time": "2024-05-05T19:56:05.240Z"
   },
   {
    "duration": 0,
    "start_time": "2024-05-05T19:56:05.241Z"
   },
   {
    "duration": 0,
    "start_time": "2024-05-05T19:56:05.242Z"
   },
   {
    "duration": 0,
    "start_time": "2024-05-05T19:56:05.243Z"
   },
   {
    "duration": 0,
    "start_time": "2024-05-05T19:56:05.245Z"
   },
   {
    "duration": 0,
    "start_time": "2024-05-05T19:56:05.246Z"
   },
   {
    "duration": 0,
    "start_time": "2024-05-05T19:56:05.247Z"
   },
   {
    "duration": 0,
    "start_time": "2024-05-05T19:56:05.248Z"
   },
   {
    "duration": 0,
    "start_time": "2024-05-05T19:56:05.249Z"
   },
   {
    "duration": 0,
    "start_time": "2024-05-05T19:56:05.250Z"
   },
   {
    "duration": 0,
    "start_time": "2024-05-05T19:56:05.251Z"
   },
   {
    "duration": 0,
    "start_time": "2024-05-05T19:56:05.252Z"
   },
   {
    "duration": 0,
    "start_time": "2024-05-05T19:56:05.253Z"
   },
   {
    "duration": 0,
    "start_time": "2024-05-05T19:56:05.254Z"
   },
   {
    "duration": 0,
    "start_time": "2024-05-05T19:56:05.255Z"
   },
   {
    "duration": 0,
    "start_time": "2024-05-05T19:56:05.256Z"
   },
   {
    "duration": 0,
    "start_time": "2024-05-05T19:56:05.256Z"
   },
   {
    "duration": 0,
    "start_time": "2024-05-05T19:56:05.257Z"
   },
   {
    "duration": 0,
    "start_time": "2024-05-05T19:56:05.258Z"
   },
   {
    "duration": 0,
    "start_time": "2024-05-05T19:56:05.259Z"
   },
   {
    "duration": 0,
    "start_time": "2024-05-05T19:56:05.260Z"
   },
   {
    "duration": 0,
    "start_time": "2024-05-05T19:56:05.261Z"
   },
   {
    "duration": 0,
    "start_time": "2024-05-05T19:56:05.262Z"
   },
   {
    "duration": 0,
    "start_time": "2024-05-05T19:56:05.263Z"
   },
   {
    "duration": 0,
    "start_time": "2024-05-05T19:56:05.264Z"
   },
   {
    "duration": 0,
    "start_time": "2024-05-05T19:56:05.265Z"
   },
   {
    "duration": 0,
    "start_time": "2024-05-05T19:56:05.266Z"
   },
   {
    "duration": 0,
    "start_time": "2024-05-05T19:56:05.267Z"
   },
   {
    "duration": 0,
    "start_time": "2024-05-05T19:56:05.292Z"
   },
   {
    "duration": 0,
    "start_time": "2024-05-05T19:56:05.293Z"
   },
   {
    "duration": 0,
    "start_time": "2024-05-05T19:56:05.294Z"
   },
   {
    "duration": 0,
    "start_time": "2024-05-05T19:56:05.296Z"
   },
   {
    "duration": 0,
    "start_time": "2024-05-05T19:56:05.296Z"
   },
   {
    "duration": 0,
    "start_time": "2024-05-05T19:56:05.297Z"
   },
   {
    "duration": 0,
    "start_time": "2024-05-05T19:56:05.298Z"
   },
   {
    "duration": 0,
    "start_time": "2024-05-05T19:56:05.299Z"
   },
   {
    "duration": 0,
    "start_time": "2024-05-05T19:56:05.300Z"
   },
   {
    "duration": 0,
    "start_time": "2024-05-05T19:56:05.302Z"
   },
   {
    "duration": 0,
    "start_time": "2024-05-05T19:56:05.303Z"
   },
   {
    "duration": 0,
    "start_time": "2024-05-05T19:56:05.305Z"
   },
   {
    "duration": 0,
    "start_time": "2024-05-05T19:56:05.307Z"
   },
   {
    "duration": 0,
    "start_time": "2024-05-05T19:56:05.308Z"
   },
   {
    "duration": 0,
    "start_time": "2024-05-05T19:56:05.309Z"
   },
   {
    "duration": 0,
    "start_time": "2024-05-05T19:56:05.310Z"
   },
   {
    "duration": 0,
    "start_time": "2024-05-05T19:56:05.312Z"
   },
   {
    "duration": 0,
    "start_time": "2024-05-05T19:56:05.313Z"
   },
   {
    "duration": 0,
    "start_time": "2024-05-05T19:56:05.315Z"
   },
   {
    "duration": 0,
    "start_time": "2024-05-05T19:56:05.316Z"
   },
   {
    "duration": 0,
    "start_time": "2024-05-05T19:56:05.317Z"
   },
   {
    "duration": 0,
    "start_time": "2024-05-05T19:56:05.318Z"
   },
   {
    "duration": 0,
    "start_time": "2024-05-05T19:56:05.319Z"
   },
   {
    "duration": 0,
    "start_time": "2024-05-05T19:56:05.320Z"
   },
   {
    "duration": 0,
    "start_time": "2024-05-05T19:56:05.322Z"
   },
   {
    "duration": 0,
    "start_time": "2024-05-05T19:56:05.323Z"
   },
   {
    "duration": 0,
    "start_time": "2024-05-05T19:56:05.324Z"
   },
   {
    "duration": 0,
    "start_time": "2024-05-05T19:56:05.325Z"
   },
   {
    "duration": 0,
    "start_time": "2024-05-05T19:56:05.326Z"
   },
   {
    "duration": 0,
    "start_time": "2024-05-05T19:56:05.327Z"
   },
   {
    "duration": 0,
    "start_time": "2024-05-05T19:56:05.328Z"
   },
   {
    "duration": 0,
    "start_time": "2024-05-05T19:56:05.329Z"
   },
   {
    "duration": 0,
    "start_time": "2024-05-05T19:56:05.391Z"
   },
   {
    "duration": 0,
    "start_time": "2024-05-05T19:56:05.393Z"
   },
   {
    "duration": 0,
    "start_time": "2024-05-05T19:56:05.394Z"
   },
   {
    "duration": 0,
    "start_time": "2024-05-05T19:56:05.395Z"
   },
   {
    "duration": 0,
    "start_time": "2024-05-05T19:56:05.396Z"
   },
   {
    "duration": 0,
    "start_time": "2024-05-05T19:56:05.397Z"
   },
   {
    "duration": 0,
    "start_time": "2024-05-05T19:56:05.398Z"
   },
   {
    "duration": 0,
    "start_time": "2024-05-05T19:56:05.399Z"
   },
   {
    "duration": 0,
    "start_time": "2024-05-05T19:56:05.400Z"
   },
   {
    "duration": 0,
    "start_time": "2024-05-05T19:56:05.401Z"
   },
   {
    "duration": 0,
    "start_time": "2024-05-05T19:56:05.402Z"
   },
   {
    "duration": 0,
    "start_time": "2024-05-05T19:56:05.403Z"
   },
   {
    "duration": 0,
    "start_time": "2024-05-05T19:56:05.404Z"
   },
   {
    "duration": 0,
    "start_time": "2024-05-05T19:56:05.405Z"
   },
   {
    "duration": 0,
    "start_time": "2024-05-05T19:56:05.406Z"
   },
   {
    "duration": 0,
    "start_time": "2024-05-05T19:56:05.407Z"
   },
   {
    "duration": 0,
    "start_time": "2024-05-05T19:56:05.408Z"
   },
   {
    "duration": 0,
    "start_time": "2024-05-05T19:56:05.409Z"
   },
   {
    "duration": 0,
    "start_time": "2024-05-05T19:56:05.410Z"
   },
   {
    "duration": 0,
    "start_time": "2024-05-05T19:56:05.411Z"
   },
   {
    "duration": 0,
    "start_time": "2024-05-05T19:56:05.412Z"
   },
   {
    "duration": 0,
    "start_time": "2024-05-05T19:56:05.413Z"
   },
   {
    "duration": 0,
    "start_time": "2024-05-05T19:56:05.414Z"
   },
   {
    "duration": 0,
    "start_time": "2024-05-05T19:56:05.415Z"
   },
   {
    "duration": 0,
    "start_time": "2024-05-05T19:56:05.416Z"
   },
   {
    "duration": 0,
    "start_time": "2024-05-05T19:56:05.417Z"
   },
   {
    "duration": 0,
    "start_time": "2024-05-05T19:56:05.419Z"
   },
   {
    "duration": 0,
    "start_time": "2024-05-05T19:56:05.421Z"
   },
   {
    "duration": 0,
    "start_time": "2024-05-05T19:56:05.422Z"
   },
   {
    "duration": 0,
    "start_time": "2024-05-05T19:56:05.423Z"
   },
   {
    "duration": 0,
    "start_time": "2024-05-05T19:56:05.425Z"
   },
   {
    "duration": 0,
    "start_time": "2024-05-05T19:56:05.426Z"
   },
   {
    "duration": 0,
    "start_time": "2024-05-05T19:56:05.491Z"
   },
   {
    "duration": 3,
    "start_time": "2024-05-05T19:59:50.716Z"
   },
   {
    "duration": 1196,
    "start_time": "2024-05-05T20:00:00.468Z"
   },
   {
    "duration": 93,
    "start_time": "2024-05-05T20:02:16.593Z"
   },
   {
    "duration": 26456,
    "start_time": "2024-05-05T20:02:48.938Z"
   },
   {
    "duration": 35,
    "start_time": "2024-05-05T20:03:15.396Z"
   },
   {
    "duration": 4,
    "start_time": "2024-05-05T20:03:15.433Z"
   },
   {
    "duration": 21,
    "start_time": "2024-05-05T20:03:15.439Z"
   },
   {
    "duration": 96,
    "start_time": "2024-05-05T20:03:15.462Z"
   },
   {
    "duration": 242,
    "start_time": "2024-05-05T20:03:15.559Z"
   },
   {
    "duration": 135,
    "start_time": "2024-05-05T20:03:15.803Z"
   },
   {
    "duration": 479,
    "start_time": "2024-05-05T20:03:15.940Z"
   },
   {
    "duration": 182,
    "start_time": "2024-05-05T20:03:16.421Z"
   },
   {
    "duration": 5,
    "start_time": "2024-05-05T20:03:16.604Z"
   },
   {
    "duration": 253,
    "start_time": "2024-05-05T20:03:16.611Z"
   },
   {
    "duration": 193,
    "start_time": "2024-05-05T20:03:16.866Z"
   },
   {
    "duration": 236,
    "start_time": "2024-05-05T20:03:17.062Z"
   },
   {
    "duration": 145,
    "start_time": "2024-05-05T20:03:17.300Z"
   },
   {
    "duration": 5051,
    "start_time": "2024-05-05T20:03:17.447Z"
   },
   {
    "duration": 231,
    "start_time": "2024-05-05T20:03:22.500Z"
   },
   {
    "duration": 5087,
    "start_time": "2024-05-05T20:03:22.733Z"
   },
   {
    "duration": 812,
    "start_time": "2024-05-05T20:03:27.821Z"
   },
   {
    "duration": 3,
    "start_time": "2024-05-05T20:03:28.635Z"
   },
   {
    "duration": 20047,
    "start_time": "2024-05-05T20:03:28.640Z"
   },
   {
    "duration": 252,
    "start_time": "2024-05-05T20:03:48.689Z"
   },
   {
    "duration": 174,
    "start_time": "2024-05-05T20:03:48.943Z"
   },
   {
    "duration": 5,
    "start_time": "2024-05-05T20:03:49.118Z"
   },
   {
    "duration": 394,
    "start_time": "2024-05-05T20:03:49.124Z"
   },
   {
    "duration": 398,
    "start_time": "2024-05-05T20:03:49.520Z"
   },
   {
    "duration": 45,
    "start_time": "2024-05-05T20:03:49.919Z"
   },
   {
    "duration": 4,
    "start_time": "2024-05-05T20:03:49.966Z"
   },
   {
    "duration": 91,
    "start_time": "2024-05-05T20:03:49.971Z"
   },
   {
    "duration": 118,
    "start_time": "2024-05-05T20:03:50.063Z"
   },
   {
    "duration": 117,
    "start_time": "2024-05-05T20:03:50.183Z"
   },
   {
    "duration": 189,
    "start_time": "2024-05-05T20:03:50.302Z"
   },
   {
    "duration": 5,
    "start_time": "2024-05-05T20:03:50.493Z"
   },
   {
    "duration": 109,
    "start_time": "2024-05-05T20:03:50.501Z"
   },
   {
    "duration": 100,
    "start_time": "2024-05-05T20:03:50.611Z"
   },
   {
    "duration": 56,
    "start_time": "2024-05-05T20:03:50.712Z"
   },
   {
    "duration": 3,
    "start_time": "2024-05-05T20:03:50.770Z"
   },
   {
    "duration": 94,
    "start_time": "2024-05-05T20:03:50.775Z"
   },
   {
    "duration": 104,
    "start_time": "2024-05-05T20:03:50.871Z"
   },
   {
    "duration": 20,
    "start_time": "2024-05-05T20:03:50.976Z"
   },
   {
    "duration": 63,
    "start_time": "2024-05-05T20:03:50.997Z"
   },
   {
    "duration": 94,
    "start_time": "2024-05-05T20:03:51.066Z"
   },
   {
    "duration": 124,
    "start_time": "2024-05-05T20:03:51.162Z"
   },
   {
    "duration": 54,
    "start_time": "2024-05-05T20:03:51.291Z"
   },
   {
    "duration": 574,
    "start_time": "2024-05-05T20:03:51.347Z"
   },
   {
    "duration": 234,
    "start_time": "2024-05-05T20:03:51.923Z"
   },
   {
    "duration": 112,
    "start_time": "2024-05-05T20:03:52.158Z"
   },
   {
    "duration": 4,
    "start_time": "2024-05-05T20:03:52.271Z"
   },
   {
    "duration": 93,
    "start_time": "2024-05-05T20:03:52.277Z"
   },
   {
    "duration": 20,
    "start_time": "2024-05-05T20:03:52.372Z"
   },
   {
    "duration": 80,
    "start_time": "2024-05-05T20:03:52.393Z"
   },
   {
    "duration": 20,
    "start_time": "2024-05-05T20:03:52.475Z"
   },
   {
    "duration": 113,
    "start_time": "2024-05-05T20:03:52.497Z"
   },
   {
    "duration": 80,
    "start_time": "2024-05-05T20:03:52.612Z"
   },
   {
    "duration": 98,
    "start_time": "2024-05-05T20:03:52.693Z"
   },
   {
    "duration": 301,
    "start_time": "2024-05-05T20:03:52.793Z"
   },
   {
    "duration": 72,
    "start_time": "2024-05-05T20:03:53.096Z"
   },
   {
    "duration": 277,
    "start_time": "2024-05-05T20:03:53.170Z"
   },
   {
    "duration": 83,
    "start_time": "2024-05-05T20:03:53.449Z"
   },
   {
    "duration": 255,
    "start_time": "2024-05-05T20:03:53.533Z"
   },
   {
    "duration": 29,
    "start_time": "2024-05-05T20:03:53.792Z"
   },
   {
    "duration": 257,
    "start_time": "2024-05-05T20:03:53.822Z"
   },
   {
    "duration": 11,
    "start_time": "2024-05-05T20:03:54.081Z"
   },
   {
    "duration": 134,
    "start_time": "2024-05-05T20:03:54.095Z"
   },
   {
    "duration": 206,
    "start_time": "2024-05-05T20:03:54.231Z"
   },
   {
    "duration": 44,
    "start_time": "2024-05-05T20:03:54.439Z"
   },
   {
    "duration": 246,
    "start_time": "2024-05-05T20:03:54.492Z"
   },
   {
    "duration": 24,
    "start_time": "2024-05-05T20:03:54.739Z"
   },
   {
    "duration": 41,
    "start_time": "2024-05-05T20:03:54.765Z"
   },
   {
    "duration": 115,
    "start_time": "2024-05-05T20:03:54.808Z"
   },
   {
    "duration": 93,
    "start_time": "2024-05-05T20:03:54.924Z"
   },
   {
    "duration": 150,
    "start_time": "2024-05-05T20:03:55.019Z"
   },
   {
    "duration": 48,
    "start_time": "2024-05-05T20:03:55.171Z"
   },
   {
    "duration": 225,
    "start_time": "2024-05-05T20:03:55.221Z"
   },
   {
    "duration": 18,
    "start_time": "2024-05-05T20:03:55.448Z"
   },
   {
    "duration": 83,
    "start_time": "2024-05-05T20:03:55.468Z"
   },
   {
    "duration": 89,
    "start_time": "2024-05-05T20:03:55.553Z"
   },
   {
    "duration": 266,
    "start_time": "2024-05-05T20:03:55.643Z"
   },
   {
    "duration": 22,
    "start_time": "2024-05-05T20:03:55.911Z"
   },
   {
    "duration": 87,
    "start_time": "2024-05-05T20:03:55.934Z"
   },
   {
    "duration": 103,
    "start_time": "2024-05-05T20:03:56.023Z"
   },
   {
    "duration": 279,
    "start_time": "2024-05-05T20:03:56.128Z"
   },
   {
    "duration": 56,
    "start_time": "2024-05-05T20:03:56.409Z"
   },
   {
    "duration": 142,
    "start_time": "2024-05-05T20:03:56.467Z"
   },
   {
    "duration": 10,
    "start_time": "2024-05-05T20:03:56.611Z"
   },
   {
    "duration": 48,
    "start_time": "2024-05-05T20:03:56.623Z"
   },
   {
    "duration": 57,
    "start_time": "2024-05-05T20:03:56.673Z"
   },
   {
    "duration": 16,
    "start_time": "2024-05-05T20:03:56.732Z"
   },
   {
    "duration": 34,
    "start_time": "2024-05-05T20:03:56.750Z"
   },
   {
    "duration": 133,
    "start_time": "2024-05-05T20:03:56.785Z"
   },
   {
    "duration": 11,
    "start_time": "2024-05-05T20:03:56.919Z"
   },
   {
    "duration": 50,
    "start_time": "2024-05-05T20:03:56.932Z"
   },
   {
    "duration": 82,
    "start_time": "2024-05-05T20:03:56.992Z"
   },
   {
    "duration": 35,
    "start_time": "2024-05-05T20:03:57.076Z"
   },
   {
    "duration": 127,
    "start_time": "2024-05-05T20:03:57.113Z"
   },
   {
    "duration": 255,
    "start_time": "2024-05-05T20:03:57.242Z"
   },
   {
    "duration": 26,
    "start_time": "2024-05-05T20:03:57.498Z"
   },
   {
    "duration": 13,
    "start_time": "2024-05-05T20:03:57.525Z"
   },
   {
    "duration": 78,
    "start_time": "2024-05-05T20:03:57.539Z"
   },
   {
    "duration": 11,
    "start_time": "2024-05-05T20:03:57.619Z"
   },
   {
    "duration": 54,
    "start_time": "2024-05-05T20:03:57.632Z"
   },
   {
    "duration": 9,
    "start_time": "2024-05-05T20:03:57.688Z"
   },
   {
    "duration": 13,
    "start_time": "2024-05-05T20:03:57.698Z"
   },
   {
    "duration": 30782,
    "start_time": "2024-05-05T20:03:57.713Z"
   },
   {
    "duration": 5,
    "start_time": "2024-05-05T20:04:28.497Z"
   },
   {
    "duration": 41,
    "start_time": "2024-05-05T20:04:28.503Z"
   },
   {
    "duration": 19,
    "start_time": "2024-05-05T20:04:28.545Z"
   },
   {
    "duration": 16,
    "start_time": "2024-05-05T20:04:28.566Z"
   },
   {
    "duration": 147621,
    "start_time": "2024-05-05T20:04:28.584Z"
   },
   {
    "duration": 399,
    "start_time": "2024-05-05T20:06:56.207Z"
   },
   {
    "duration": 6,
    "start_time": "2024-05-05T20:06:56.607Z"
   },
   {
    "duration": 294871,
    "start_time": "2024-05-05T20:06:56.614Z"
   },
   {
    "duration": 4,
    "start_time": "2024-05-05T20:11:51.486Z"
   },
   {
    "duration": 10,
    "start_time": "2024-05-05T20:11:51.492Z"
   },
   {
    "duration": 250907,
    "start_time": "2024-05-05T20:11:51.503Z"
   },
   {
    "duration": 82008,
    "start_time": "2024-05-05T20:16:02.412Z"
   },
   {
    "duration": 10,
    "start_time": "2024-05-05T20:17:24.422Z"
   },
   {
    "duration": 191,
    "start_time": "2024-05-05T20:17:24.433Z"
   },
   {
    "duration": 16,
    "start_time": "2024-05-05T20:17:24.625Z"
   },
   {
    "duration": 170,
    "start_time": "2024-05-05T20:17:24.642Z"
   },
   {
    "duration": 119,
    "start_time": "2024-05-05T20:17:24.814Z"
   },
   {
    "duration": 14514,
    "start_time": "2024-05-05T20:17:24.934Z"
   },
   {
    "duration": 161,
    "start_time": "2024-05-05T20:17:39.455Z"
   }
  ],
  "kernelspec": {
   "display_name": "Python 3 (ipykernel)",
   "language": "python",
   "name": "python3"
  },
  "language_info": {
   "codemirror_mode": {
    "name": "ipython",
    "version": 3
   },
   "file_extension": ".py",
   "mimetype": "text/x-python",
   "name": "python",
   "nbconvert_exporter": "python",
   "pygments_lexer": "ipython3",
   "version": "3.9.15"
  },
  "toc": {
   "base_numbering": 1,
   "nav_menu": {},
   "number_sections": false,
   "sideBar": true,
   "skip_h1_title": false,
   "title_cell": "Table of Contents",
   "title_sidebar": "Contents",
   "toc_cell": false,
   "toc_position": {},
   "toc_section_display": true,
   "toc_window_display": false
  },
  "varInspector": {
   "cols": {
    "lenName": 16,
    "lenType": 16,
    "lenVar": 40
   },
   "kernels_config": {
    "python": {
     "delete_cmd_postfix": "",
     "delete_cmd_prefix": "del ",
     "library": "var_list.py",
     "varRefreshCmd": "print(var_dic_list())"
    },
    "r": {
     "delete_cmd_postfix": ") ",
     "delete_cmd_prefix": "rm(",
     "library": "var_list.r",
     "varRefreshCmd": "cat(var_dic_list()) "
    }
   },
   "types_to_exclude": [
    "module",
    "function",
    "builtin_function_or_method",
    "instance",
    "_Feature"
   ],
   "window_display": false
  }
 },
 "nbformat": 4,
 "nbformat_minor": 5
}
